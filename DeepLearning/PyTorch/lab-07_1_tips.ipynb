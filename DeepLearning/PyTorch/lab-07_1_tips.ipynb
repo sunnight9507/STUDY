{
 "cells": [
  {
   "cell_type": "markdown",
   "metadata": {},
   "source": [
    "# Lab 7-1: Tips\n",
    "\n",
    "### Imports"
   ]
  },
  {
   "cell_type": "code",
   "execution_count": 1,
   "metadata": {},
   "outputs": [
    {
     "data": {
      "text/plain": [
       "<torch._C.Generator at 0x266b441f190>"
      ]
     },
     "execution_count": 1,
     "metadata": {},
     "output_type": "execute_result"
    }
   ],
   "source": [
    "import torch\n",
    "import torch.nn as nn\n",
    "import torch.nn.functional as F\n",
    "import torch.optim as optim\n",
    "\n",
    "torch.manual_seed(1)"
   ]
  },
  {
   "cell_type": "markdown",
   "metadata": {},
   "source": [
    "### Training and Test Datasets"
   ]
  },
  {
   "cell_type": "code",
   "execution_count": 2,
   "metadata": {},
   "outputs": [],
   "source": [
    "x_train = torch.FloatTensor([[1, 2, 1],\n",
    "                             [1, 3, 2],\n",
    "                             [1, 3, 4],\n",
    "                             [1, 5, 5],\n",
    "                             [1, 7, 5],\n",
    "                             [1, 2, 5],\n",
    "                             [1, 6, 6],\n",
    "                             [1, 7, 7]\n",
    "                            ])\n",
    "y_train = torch.LongTensor([2, 2, 2, 1, 1, 1, 0, 0])\n",
    "\n",
    "x_test = torch.FloatTensor([[2, 1, 1], [3, 1, 2], [3, 3, 4]])\n",
    "y_test = torch.LongTensor([2, 2, 2])"
   ]
  },
  {
   "cell_type": "markdown",
   "metadata": {},
   "source": [
    "### Model"
   ]
  },
  {
   "cell_type": "code",
   "execution_count": 5,
   "metadata": {},
   "outputs": [],
   "source": [
    "class SoftmaxClassifierModel(nn.Module):\n",
    "    def __init__(self):\n",
    "        super().__init__()\n",
    "        self.linear = nn.Linear(3, 3)\n",
    "    \n",
    "    def forward(self, x):\n",
    "        return self.linear(x)\n",
    "    \n",
    "model = SoftmaxClassifierModel()\n",
    "\n",
    "# optimizer\n",
    "optimizer = optim.SGD(model.parameters(), lr=0.1)"
   ]
  },
  {
   "cell_type": "code",
   "execution_count": 6,
   "metadata": {},
   "outputs": [],
   "source": [
    "def train(model, optimizer, x_train, y_train):\n",
    "    nb_epochs = 20\n",
    "    for epoch in range(nb_epochs):\n",
    "        # H(x)\n",
    "        hypothesis = model(x_train)\n",
    "        \n",
    "        # cost\n",
    "        cost = F.cross_entropy(hypothesis, y_train)\n",
    "        \n",
    "        # cost로 F(x) 개선\n",
    "        optimizer.zero_grad()\n",
    "        cost.backward()\n",
    "        optimizer.step()\n",
    "        \n",
    "        print('Epoch {:4d}/{} Cost: {:.6f}'.format(\n",
    "            epoch, nb_epochs, cost.item()\n",
    "        ))"
   ]
  },
  {
   "cell_type": "code",
   "execution_count": 13,
   "metadata": {},
   "outputs": [],
   "source": [
    "def test(model, optimizer, x_test, y_test):\n",
    "    prediction = model(x_test)\n",
    "    predicted_classes = prediction.max(1)[1]\n",
    "    correct_count = (predicted_classes == y_test).sum().item()\n",
    "    cost = F.cross_entropy(prediction, y_test)\n",
    "    \n",
    "    print('Accuracy: {}% Cost: {:.6f}'.format(\n",
    "         correct_count / len(y_test) * 100, cost.item()\n",
    "    ))"
   ]
  },
  {
   "cell_type": "code",
   "execution_count": 14,
   "metadata": {},
   "outputs": [
    {
     "name": "stdout",
     "output_type": "stream",
     "text": [
      "Epoch    0/20 Cost: 1.280268\n",
      "Epoch    1/20 Cost: 1.007498\n",
      "Epoch    2/20 Cost: 0.999968\n",
      "Epoch    3/20 Cost: 0.992704\n",
      "Epoch    4/20 Cost: 0.985657\n",
      "Epoch    5/20 Cost: 0.978815\n",
      "Epoch    6/20 Cost: 0.972169\n",
      "Epoch    7/20 Cost: 0.965709\n",
      "Epoch    8/20 Cost: 0.959425\n",
      "Epoch    9/20 Cost: 0.953312\n",
      "Epoch   10/20 Cost: 0.947360\n",
      "Epoch   11/20 Cost: 0.941562\n",
      "Epoch   12/20 Cost: 0.935913\n",
      "Epoch   13/20 Cost: 0.930405\n",
      "Epoch   14/20 Cost: 0.925033\n",
      "Epoch   15/20 Cost: 0.919792\n",
      "Epoch   16/20 Cost: 0.914675\n",
      "Epoch   17/20 Cost: 0.909678\n",
      "Epoch   18/20 Cost: 0.904796\n",
      "Epoch   19/20 Cost: 0.900025\n"
     ]
    }
   ],
   "source": [
    "train(model, optimizer, x_train, y_train)"
   ]
  },
  {
   "cell_type": "code",
   "execution_count": 15,
   "metadata": {},
   "outputs": [
    {
     "name": "stdout",
     "output_type": "stream",
     "text": [
      "Accuracy: 100.0% Cost: 0.390032\n"
     ]
    }
   ],
   "source": [
    "test(model, optimizer, x_test, y_test)"
   ]
  },
  {
   "cell_type": "markdown",
   "metadata": {},
   "source": [
    "### Data Preprocessing"
   ]
  },
  {
   "cell_type": "code",
   "execution_count": 16,
   "metadata": {},
   "outputs": [],
   "source": [
    "x_train = torch.FloatTensor([[73, 80, 75],\n",
    "                             [93, 88, 93],\n",
    "                             [89, 91, 90],\n",
    "                             [96, 98, 100],\n",
    "                             [73, 66, 70]])\n",
    "y_train = torch.FloatTensor([[152], [185], [180], [196], [142]])"
   ]
  },
  {
   "cell_type": "markdown",
   "metadata": {},
   "source": [
    "> - $ x_j = \\frac{x_j - \\mu_j}{\\sigma_j} $\n",
    "- $\\sigma$ : standard deviation\n",
    "- $\\mu$ : 평균값"
   ]
  },
  {
   "cell_type": "code",
   "execution_count": 25,
   "metadata": {},
   "outputs": [
    {
     "data": {
      "text/plain": [
       "tensor([[-1.0674, -0.3758, -0.8398],\n",
       "        [ 0.7418,  0.2778,  0.5863],\n",
       "        [ 0.3799,  0.5229,  0.3486],\n",
       "        [ 1.0132,  1.0948,  1.1409],\n",
       "        [-1.0674, -1.5197, -1.2360]])"
      ]
     },
     "execution_count": 25,
     "metadata": {},
     "output_type": "execute_result"
    }
   ],
   "source": [
    "mu = x_train.mean(dim = 0)\n",
    "sigma = x_train.std(dim = 0)\n",
    "norm_x_train = (x_train - mu) / sigma\n",
    "norm_x_train"
   ]
  },
  {
   "cell_type": "code",
   "execution_count": 26,
   "metadata": {},
   "outputs": [],
   "source": [
    "class MultivariateLinearRegressionModel(nn.Module):\n",
    "    def __init__(self):\n",
    "        super().__init__()\n",
    "        self.linear = nn.Linear(3,1)\n",
    "        \n",
    "    def forward(self, x):\n",
    "        return self.linear(x)\n",
    "    \n",
    "model = MultivariateLinearRegressionModel()\n",
    "\n",
    "optimizer = optim.SGD(model.parameters(), lr=1e-1)"
   ]
  },
  {
   "cell_type": "code",
   "execution_count": 27,
   "metadata": {},
   "outputs": [
    {
     "name": "stdout",
     "output_type": "stream",
     "text": [
      "Epoch    0/20 Cost: 29729.949219\n",
      "Epoch    1/20 Cost: 18889.082031\n",
      "Epoch    2/20 Cost: 12048.978516\n",
      "Epoch    3/20 Cost: 7699.844727\n",
      "Epoch    4/20 Cost: 4924.700195\n",
      "Epoch    5/20 Cost: 3151.020264\n",
      "Epoch    6/20 Cost: 2016.562866\n",
      "Epoch    7/20 Cost: 1290.709229\n",
      "Epoch    8/20 Cost: 826.216003\n",
      "Epoch    9/20 Cost: 528.952271\n",
      "Epoch   10/20 Cost: 338.703308\n",
      "Epoch   11/20 Cost: 216.940033\n",
      "Epoch   12/20 Cost: 139.007050\n",
      "Epoch   13/20 Cost: 89.125130\n",
      "Epoch   14/20 Cost: 57.196125\n",
      "Epoch   15/20 Cost: 36.757317\n",
      "Epoch   16/20 Cost: 23.672049\n",
      "Epoch   17/20 Cost: 15.293401\n",
      "Epoch   18/20 Cost: 9.927165\n",
      "Epoch   19/20 Cost: 6.488902\n"
     ]
    }
   ],
   "source": [
    "def train(model, optimizer, x_train, y_train):\n",
    "    nb_epochs = 20\n",
    "    for epoch in range(nb_epochs):\n",
    "        # H(x)\n",
    "        hypothesis = model(x_train)\n",
    "        \n",
    "        # cost\n",
    "        cost = F.mse_loss(hypothesis, y_train)\n",
    "        \n",
    "        # cost로 H(x) 개선\n",
    "        optimizer.zero_grad()\n",
    "        cost.backward()\n",
    "        optimizer.step()\n",
    "\n",
    "        print('Epoch {:4d}/{} Cost: {:.6f}'.format(\n",
    "            epoch, nb_epochs, cost.item()\n",
    "        ))\n",
    "        \n",
    "train(model, optimizer, norm_x_train, y_train)"
   ]
  },
  {
   "cell_type": "markdown",
   "metadata": {},
   "source": [
    "### Overfitting\n",
    "\n",
    "> - 많은 양의 학습 데이터\n",
    "- 간단한 layer\n",
    "- **Regularization**"
   ]
  },
  {
   "cell_type": "code",
   "execution_count": 29,
   "metadata": {},
   "outputs": [
    {
     "name": "stdout",
     "output_type": "stream",
     "text": [
      "Epoch    1/20 Cost: 29632.869141\n",
      "Epoch    2/20 Cost: 18897.533203\n",
      "Epoch    3/20 Cost: 12122.802734\n",
      "Epoch    4/20 Cost: 7814.004395\n",
      "Epoch    5/20 Cost: 5064.236816\n",
      "Epoch    6/20 Cost: 3306.669922\n",
      "Epoch    7/20 Cost: 2182.488525\n",
      "Epoch    8/20 Cost: 1463.201782\n",
      "Epoch    9/20 Cost: 1002.911377\n",
      "Epoch   10/20 Cost: 708.338318\n",
      "Epoch   11/20 Cost: 519.812378\n",
      "Epoch   12/20 Cost: 399.154022\n",
      "Epoch   13/20 Cost: 321.930054\n",
      "Epoch   14/20 Cost: 272.503662\n",
      "Epoch   15/20 Cost: 240.868011\n",
      "Epoch   16/20 Cost: 220.618408\n",
      "Epoch   17/20 Cost: 207.656235\n",
      "Epoch   18/20 Cost: 199.357986\n",
      "Epoch   19/20 Cost: 194.044785\n",
      "Epoch   20/20 Cost: 190.642242\n"
     ]
    }
   ],
   "source": [
    "def train_with_regularization(model, optimizer, x_train, y_train):\n",
    "    nb_epochs = 20\n",
    "    for epoch in range(nb_epochs):\n",
    "        # H(x)\n",
    "        prediction = model(x_train)\n",
    "        \n",
    "        # cost\n",
    "        cost = F.mse_loss(prediction, y_train)\n",
    "        \n",
    "        # l2 norm\n",
    "        l2_reg = 0\n",
    "        for param in model.parameters():\n",
    "            l2_reg += torch.norm(param)\n",
    "            \n",
    "        cost += l2_reg\n",
    "        \n",
    "        # cost로 H(x) 개선\n",
    "        optimizer.zero_grad()\n",
    "        cost.backward()\n",
    "        optimizer.step()\n",
    "\n",
    "        print('Epoch {:4d}/{} Cost: {:.6f}'.format(\n",
    "            epoch+1, nb_epochs, cost.item()\n",
    "        ))\n",
    "        \n",
    "model = MultivariateLinearRegressionModel()\n",
    "optimizer = optim.SGD(model.parameters(), lr=1e-1)\n",
    "train_with_regularization(model, optimizer, norm_x_train, y_train)"
   ]
  }
 ],
 "metadata": {
  "kernelspec": {
   "display_name": "Python 3",
   "language": "python",
   "name": "python3"
  },
  "language_info": {
   "codemirror_mode": {
    "name": "ipython",
    "version": 3
   },
   "file_extension": ".py",
   "mimetype": "text/x-python",
   "name": "python",
   "nbconvert_exporter": "python",
   "pygments_lexer": "ipython3",
   "version": "3.8.3"
  }
 },
 "nbformat": 4,
 "nbformat_minor": 4
}
