{
 "cells": [
  {
   "cell_type": "code",
   "execution_count": 21,
   "metadata": {},
   "outputs": [
    {
     "data": {
      "text/plain": [
       "<torch._C.Generator at 0x1b4f3a4f0d0>"
      ]
     },
     "execution_count": 21,
     "metadata": {},
     "output_type": "execute_result"
    }
   ],
   "source": [
    "import torch\n",
    "import torch.optim as optim\n",
    "import numpy as np\n",
    "\n",
    "torch.manual_seed(0)"
   ]
  },
  {
   "cell_type": "code",
   "execution_count": 22,
   "metadata": {},
   "outputs": [],
   "source": [
    "sample = ' if you want you'"
   ]
  },
  {
   "cell_type": "code",
   "execution_count": 23,
   "metadata": {},
   "outputs": [
    {
     "name": "stdout",
     "output_type": "stream",
     "text": [
      "{'f': 0, 'y': 1, 'w': 2, 'o': 3, 'n': 4, 'i': 5, ' ': 6, 'a': 7, 't': 8, 'u': 9}\n"
     ]
    }
   ],
   "source": [
    "# make dictionary\n",
    "char_set = list(set(sample))\n",
    "char_dic = {c : i for i, c in enumerate(char_set)}\n",
    "print(char_dic)"
   ]
  },
  {
   "cell_type": "code",
   "execution_count": 24,
   "metadata": {},
   "outputs": [],
   "source": [
    "# hyper parameters\n",
    "dic_size = len(char_dic)\n",
    "hidden_size = len(char_dic)\n",
    "learning_rate = 0.1"
   ]
  },
  {
   "cell_type": "code",
   "execution_count": 25,
   "metadata": {},
   "outputs": [],
   "source": [
    "# data setting\n",
    "sample_idx = [char_dic[c] for c in sample]\n",
    "x_data = [sample_idx[:-1]]\n",
    "x_one_hot = [np.eye(dic_size)[x] for x in x_data]\n",
    "y_data = [sample_idx[1:]]"
   ]
  },
  {
   "cell_type": "code",
   "execution_count": 26,
   "metadata": {},
   "outputs": [],
   "source": [
    "# transform as torch tensor variable\n",
    "X = torch.FloatTensor(x_one_hot)\n",
    "Y = torch.LongTensor(y_data)"
   ]
  },
  {
   "cell_type": "code",
   "execution_count": 27,
   "metadata": {},
   "outputs": [],
   "source": [
    "# declare RNN\n",
    "rnn = torch.nn.RNN(dic_size, hidden_size, batch_first=True)\n",
    "# batch_first=True : output의 값 중 Batch_size가 첫번째로 설정"
   ]
  },
  {
   "cell_type": "code",
   "execution_count": 28,
   "metadata": {},
   "outputs": [],
   "source": [
    "# loss & optimizer setting\n",
    "criterion = torch.nn.CrossEntropyLoss()\n",
    "optimizer = optim.Adam(rnn.parameters(), learning_rate)"
   ]
  },
  {
   "cell_type": "code",
   "execution_count": 29,
   "metadata": {},
   "outputs": [
    {
     "name": "stdout",
     "output_type": "stream",
     "text": [
      "00 loss : 2.2234 prediction str:  iaftta itfaaita\n",
      "01 loss : 1.8820 prediction str:  yayyau yayi yau\n",
      "02 loss : 1.6725 prediction str:  ya yauowaui you\n",
      "03 loss : 1.5490 prediction str:  yf you waut you\n",
      "04 loss : 1.4632 prediction str:  yf you waut iou\n",
      "05 loss : 1.4019 prediction str:  yf you waut iou\n",
      "06 loss : 1.3304 prediction str:  if you want iou\n",
      "07 loss : 1.2551 prediction str:  if you want iou\n",
      "08 loss : 1.1858 prediction str:  if you yant you\n",
      "09 loss : 1.1199 prediction str:  if you yant you\n",
      "10 loss : 1.0658 prediction str:  if you yant you\n",
      "11 loss : 1.0259 prediction str:  if you yant you\n",
      "12 loss : 0.9955 prediction str:  if you yant you\n",
      "13 loss : 0.9800 prediction str:  if you want you\n",
      "14 loss : 0.9666 prediction str:  if you want you\n",
      "15 loss : 0.9481 prediction str:  if you yant you\n",
      "16 loss : 0.9365 prediction str:  if you yant you\n",
      "17 loss : 0.9251 prediction str:  if you yant you\n",
      "18 loss : 0.9148 prediction str:  if you yant you\n",
      "19 loss : 0.9078 prediction str:  if you yant you\n",
      "20 loss : 0.8987 prediction str:  if you yant you\n",
      "21 loss : 0.8930 prediction str:  if you yant you\n",
      "22 loss : 0.8876 prediction str:  if you yant you\n",
      "23 loss : 0.8828 prediction str:  if you yant you\n",
      "24 loss : 0.8793 prediction str:  if you yant you\n",
      "25 loss : 0.8751 prediction str:  if you yant you\n",
      "26 loss : 0.8711 prediction str:  if you yant you\n",
      "27 loss : 0.8679 prediction str:  if you yant you\n",
      "28 loss : 0.8644 prediction str:  if you yant you\n",
      "29 loss : 0.8610 prediction str:  if you yant you\n",
      "30 loss : 0.8584 prediction str:  if you yant you\n",
      "31 loss : 0.8560 prediction str:  if you yant you\n",
      "32 loss : 0.8538 prediction str:  if you yant you\n",
      "33 loss : 0.8519 prediction str:  if you yant you\n",
      "34 loss : 0.8499 prediction str:  if you yant you\n",
      "35 loss : 0.8482 prediction str:  if you yant you\n",
      "36 loss : 0.8467 prediction str:  if you yant you\n",
      "37 loss : 0.8452 prediction str:  if you yant you\n",
      "38 loss : 0.8438 prediction str:  if you yant you\n",
      "39 loss : 0.8427 prediction str:  if you yant you\n",
      "40 loss : 0.8415 prediction str:  if you yant you\n",
      "41 loss : 0.8405 prediction str:  if you yant you\n",
      "42 loss : 0.8396 prediction str:  if you yant you\n",
      "43 loss : 0.8388 prediction str:  if you yant you\n",
      "44 loss : 0.8380 prediction str:  if you yant you\n",
      "45 loss : 0.8374 prediction str:  if you yant you\n",
      "46 loss : 0.8368 prediction str:  if you yant you\n",
      "47 loss : 0.8362 prediction str:  if you yant you\n",
      "48 loss : 0.8357 prediction str:  if you yant you\n",
      "49 loss : 0.8352 prediction str:  if you yant you\n"
     ]
    }
   ],
   "source": [
    "# start training\n",
    "for i in range(50):\n",
    "    optimizer.zero_grad()\n",
    "    outputs, _status = rnn(X)\n",
    "    loss = criterion(outputs[0], Y[0])\n",
    "    loss.backward(retain_graph=True)\n",
    "    optimizer.step()\n",
    "    \n",
    "    result = outputs.data.numpy().argmax(2)\n",
    "    result_str = ''.join([char_set[c] for c in np.squeeze(result)])\n",
    "    print('%02d' %i, \"loss : {:.4f}\".format(loss.item()), \"prediction str: \", result_str)"
   ]
  }
 ],
 "metadata": {
  "kernelspec": {
   "display_name": "Python 3",
   "language": "python",
   "name": "python3"
  },
  "language_info": {
   "codemirror_mode": {
    "name": "ipython",
    "version": 3
   },
   "file_extension": ".py",
   "mimetype": "text/x-python",
   "name": "python",
   "nbconvert_exporter": "python",
   "pygments_lexer": "ipython3",
   "version": "3.8.5"
  }
 },
 "nbformat": 4,
 "nbformat_minor": 4
}
