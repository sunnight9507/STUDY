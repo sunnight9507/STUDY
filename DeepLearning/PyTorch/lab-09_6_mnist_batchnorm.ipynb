{
 "cells": [
  {
   "cell_type": "code",
   "execution_count": 14,
   "metadata": {},
   "outputs": [
    {
     "data": {
      "text/plain": [
       "<torch._C.Generator at 0x14acd01dcd0>"
      ]
     },
     "execution_count": 14,
     "metadata": {},
     "output_type": "execute_result"
    }
   ],
   "source": [
    "import torch\n",
    "import torchvision.datasets as dsets\n",
    "import torchvision.transforms as transforms\n",
    "import matplotlib.pylab as plt\n",
    "\n",
    "random.seed(777)\n",
    "torch.manual_seed(777)"
   ]
  },
  {
   "cell_type": "code",
   "execution_count": 4,
   "metadata": {},
   "outputs": [],
   "source": [
    "# parameters\n",
    "learning_rate = 0.001\n",
    "training_epochs = 15\n",
    "batch_size = 100"
   ]
  },
  {
   "cell_type": "code",
   "execution_count": 5,
   "metadata": {},
   "outputs": [],
   "source": [
    "# MNIST dataset\n",
    "mnist_train = dsets.MNIST(root = 'data/',\n",
    "                          train = True,\n",
    "                          transform = transforms.ToTensor(),\n",
    "                          download = True)\n",
    "\n",
    "mnist_test = dsets.MNIST(root = 'data/',\n",
    "                         train = False,\n",
    "                         transform = transforms.ToTensor(),\n",
    "                         download = True)"
   ]
  },
  {
   "cell_type": "code",
   "execution_count": 6,
   "metadata": {},
   "outputs": [],
   "source": [
    "# dataset loader\n",
    "train_loader = torch.utils.data.DataLoader(dataset = mnist_train,\n",
    "                                           batch_size = batch_size,\n",
    "                                           shuffle = True,\n",
    "                                           drop_last = True)\n",
    "\n",
    "# dataset loader\n",
    "test_loader = torch.utils.data.DataLoader(dataset = mnist_test,\n",
    "                                          batch_size = batch_size,\n",
    "                                          shuffle = False,\n",
    "                                          drop_last = True)"
   ]
  },
  {
   "cell_type": "code",
   "execution_count": 9,
   "metadata": {},
   "outputs": [],
   "source": [
    "# nn layer\n",
    "# batch\n",
    "linear1 = torch.nn.Linear(784, 32, bias = True)\n",
    "linear2 = torch.nn.Linear(32, 32, bias = True)\n",
    "linear3 = torch.nn.Linear(32, 10, bias = True)\n",
    "relu = torch.nn.ReLU()\n",
    "bn1 = torch.nn.BatchNorm1d(32)\n",
    "bn2 = torch.nn.BatchNorm1d(32)\n",
    "\n",
    "# not batch\n",
    "nn_linear1 = torch.nn.Linear(784, 32, bias=True)\n",
    "nn_linear2 = torch.nn.Linear(32, 32, bias=True)\n",
    "nn_linear3 = torch.nn.Linear(32, 10, bias=True)"
   ]
  },
  {
   "cell_type": "code",
   "execution_count": 10,
   "metadata": {},
   "outputs": [],
   "source": [
    "# model\n",
    "bn_model = torch.nn.Sequential(linear1, bn1, relu,\n",
    "                               linear2, bn2, relu,\n",
    "                               linear3)\n",
    "\n",
    "nn_model = torch.nn.Sequential(nn_linear1, relu,\n",
    "                               nn_linear2, relu,\n",
    "                               nn_linear3)"
   ]
  },
  {
   "cell_type": "code",
   "execution_count": 11,
   "metadata": {},
   "outputs": [],
   "source": [
    "# define cost/loss & optimizer\n",
    "criterion = torch.nn.CrossEntropyLoss()\n",
    "bn_optimizer = torch.optim.Adam(bn_model.parameters(), lr=learning_rate)\n",
    "nn_optimizer = torch.optim.Adam(nn_model.parameters(), lr=learning_rate)"
   ]
  },
  {
   "cell_type": "code",
   "execution_count": 13,
   "metadata": {},
   "outputs": [
    {
     "name": "stdout",
     "output_type": "stream",
     "text": [
      "[Epoch 1-TRAIN] Batchnorm Loss(Acc): bn_loss:0.10558(bn_acc:0.97) vs No Batchnorm Loss(Acc): nn_loss:0.21697(nn_acc:0.94)\n",
      "[Epoch 1-VALID] Batchnorm Loss(Acc): bn_loss:0.12438(bn_acc:0.97) vs No Batchnorm Loss(Acc): nn_loss:0.22021(nn_acc:0.94)\n",
      "\n",
      "[Epoch 2-TRAIN] Batchnorm Loss(Acc): bn_loss:0.08396(bn_acc:0.98) vs No Batchnorm Loss(Acc): nn_loss:0.17500(nn_acc:0.95)\n",
      "[Epoch 2-VALID] Batchnorm Loss(Acc): bn_loss:0.11149(bn_acc:0.97) vs No Batchnorm Loss(Acc): nn_loss:0.18292(nn_acc:0.95)\n",
      "\n",
      "[Epoch 3-TRAIN] Batchnorm Loss(Acc): bn_loss:0.06741(bn_acc:0.98) vs No Batchnorm Loss(Acc): nn_loss:0.14631(nn_acc:0.96)\n",
      "[Epoch 3-VALID] Batchnorm Loss(Acc): bn_loss:0.09737(bn_acc:0.97) vs No Batchnorm Loss(Acc): nn_loss:0.15737(nn_acc:0.95)\n",
      "\n",
      "[Epoch 4-TRAIN] Batchnorm Loss(Acc): bn_loss:0.05810(bn_acc:0.98) vs No Batchnorm Loss(Acc): nn_loss:0.12911(nn_acc:0.96)\n",
      "[Epoch 4-VALID] Batchnorm Loss(Acc): bn_loss:0.09239(bn_acc:0.97) vs No Batchnorm Loss(Acc): nn_loss:0.13997(nn_acc:0.96)\n",
      "\n",
      "[Epoch 5-TRAIN] Batchnorm Loss(Acc): bn_loss:0.05135(bn_acc:0.98) vs No Batchnorm Loss(Acc): nn_loss:0.10822(nn_acc:0.97)\n",
      "[Epoch 5-VALID] Batchnorm Loss(Acc): bn_loss:0.09276(bn_acc:0.97) vs No Batchnorm Loss(Acc): nn_loss:0.12889(nn_acc:0.96)\n",
      "\n",
      "[Epoch 6-TRAIN] Batchnorm Loss(Acc): bn_loss:0.04923(bn_acc:0.99) vs No Batchnorm Loss(Acc): nn_loss:0.10155(nn_acc:0.97)\n",
      "[Epoch 6-VALID] Batchnorm Loss(Acc): bn_loss:0.09128(bn_acc:0.97) vs No Batchnorm Loss(Acc): nn_loss:0.12354(nn_acc:0.96)\n",
      "\n",
      "[Epoch 7-TRAIN] Batchnorm Loss(Acc): bn_loss:0.04489(bn_acc:0.99) vs No Batchnorm Loss(Acc): nn_loss:0.09092(nn_acc:0.97)\n",
      "[Epoch 7-VALID] Batchnorm Loss(Acc): bn_loss:0.09545(bn_acc:0.97) vs No Batchnorm Loss(Acc): nn_loss:0.12099(nn_acc:0.96)\n",
      "\n",
      "[Epoch 8-TRAIN] Batchnorm Loss(Acc): bn_loss:0.03807(bn_acc:0.99) vs No Batchnorm Loss(Acc): nn_loss:0.08552(nn_acc:0.98)\n",
      "[Epoch 8-VALID] Batchnorm Loss(Acc): bn_loss:0.08852(bn_acc:0.97) vs No Batchnorm Loss(Acc): nn_loss:0.12006(nn_acc:0.96)\n",
      "\n",
      "[Epoch 9-TRAIN] Batchnorm Loss(Acc): bn_loss:0.03567(bn_acc:0.99) vs No Batchnorm Loss(Acc): nn_loss:0.07976(nn_acc:0.98)\n",
      "[Epoch 9-VALID] Batchnorm Loss(Acc): bn_loss:0.09414(bn_acc:0.97) vs No Batchnorm Loss(Acc): nn_loss:0.11392(nn_acc:0.97)\n",
      "\n",
      "[Epoch 10-TRAIN] Batchnorm Loss(Acc): bn_loss:0.03379(bn_acc:0.99) vs No Batchnorm Loss(Acc): nn_loss:0.06923(nn_acc:0.98)\n",
      "[Epoch 10-VALID] Batchnorm Loss(Acc): bn_loss:0.09118(bn_acc:0.97) vs No Batchnorm Loss(Acc): nn_loss:0.10681(nn_acc:0.97)\n",
      "\n",
      "[Epoch 11-TRAIN] Batchnorm Loss(Acc): bn_loss:0.03267(bn_acc:0.99) vs No Batchnorm Loss(Acc): nn_loss:0.06387(nn_acc:0.98)\n",
      "[Epoch 11-VALID] Batchnorm Loss(Acc): bn_loss:0.09331(bn_acc:0.97) vs No Batchnorm Loss(Acc): nn_loss:0.10916(nn_acc:0.97)\n",
      "\n",
      "[Epoch 12-TRAIN] Batchnorm Loss(Acc): bn_loss:0.02903(bn_acc:0.99) vs No Batchnorm Loss(Acc): nn_loss:0.06333(nn_acc:0.98)\n",
      "[Epoch 12-VALID] Batchnorm Loss(Acc): bn_loss:0.08948(bn_acc:0.97) vs No Batchnorm Loss(Acc): nn_loss:0.11570(nn_acc:0.97)\n",
      "\n",
      "[Epoch 13-TRAIN] Batchnorm Loss(Acc): bn_loss:0.02770(bn_acc:0.99) vs No Batchnorm Loss(Acc): nn_loss:0.05425(nn_acc:0.98)\n",
      "[Epoch 13-VALID] Batchnorm Loss(Acc): bn_loss:0.09599(bn_acc:0.97) vs No Batchnorm Loss(Acc): nn_loss:0.10416(nn_acc:0.97)\n",
      "\n",
      "[Epoch 14-TRAIN] Batchnorm Loss(Acc): bn_loss:0.02815(bn_acc:0.99) vs No Batchnorm Loss(Acc): nn_loss:0.04961(nn_acc:0.99)\n",
      "[Epoch 14-VALID] Batchnorm Loss(Acc): bn_loss:0.09945(bn_acc:0.97) vs No Batchnorm Loss(Acc): nn_loss:0.10589(nn_acc:0.97)\n",
      "\n",
      "[Epoch 15-TRAIN] Batchnorm Loss(Acc): bn_loss:0.02231(bn_acc:0.99) vs No Batchnorm Loss(Acc): nn_loss:0.04947(nn_acc:0.99)\n",
      "[Epoch 15-VALID] Batchnorm Loss(Acc): bn_loss:0.08968(bn_acc:0.97) vs No Batchnorm Loss(Acc): nn_loss:0.10921(nn_acc:0.97)\n",
      "\n"
     ]
    }
   ],
   "source": [
    "# training\n",
    "train_losses = []\n",
    "train_accs = []\n",
    "\n",
    "valid_losses = []\n",
    "valid_accs = []\n",
    "\n",
    "train_total_batch = len(train_loader)\n",
    "test_total_batch = len(test_loader)\n",
    "\n",
    "for epoch in range(training_epochs):\n",
    "    bn_model.train()\n",
    "    \n",
    "    for X, Y in train_loader:\n",
    "        # label is not one-hot encoded\n",
    "        X = X.view(-1, 28*28)\n",
    "        \n",
    "        bn_optimizer.zero_grad()\n",
    "        bn_prediction = bn_model(X)\n",
    "        bn_loss = criterion(bn_prediction, Y)\n",
    "        bn_loss.backward()\n",
    "        bn_optimizer.step()\n",
    "\n",
    "        nn_optimizer.zero_grad()\n",
    "        nn_prediction = nn_model(X)\n",
    "        nn_loss = criterion(nn_prediction, Y)\n",
    "        nn_loss.backward()\n",
    "        nn_optimizer.step()\n",
    "        \n",
    "    with torch.no_grad():\n",
    "        bn_model.eval()     # set the model to evaluation mode\n",
    "\n",
    "        # Test the model using train sets\n",
    "        bn_loss, nn_loss, bn_acc, nn_acc = 0, 0, 0, 0\n",
    "        for i, (X, Y) in enumerate(train_loader):\n",
    "            X = X.view(-1, 28 * 28)\n",
    "\n",
    "            bn_prediction = bn_model(X)\n",
    "            bn_correct_prediction = torch.argmax(bn_prediction, 1) == Y\n",
    "            bn_loss += criterion(bn_prediction, Y)\n",
    "            bn_acc += bn_correct_prediction.float().mean()\n",
    "\n",
    "            nn_prediction = nn_model(X)\n",
    "            nn_correct_prediction = torch.argmax(nn_prediction, 1) == Y\n",
    "            nn_loss += criterion(nn_prediction, Y)\n",
    "            nn_acc += nn_correct_prediction.float().mean()\n",
    "\n",
    "        bn_loss, nn_loss, bn_acc, nn_acc = bn_loss / train_total_batch, nn_loss / train_total_batch, bn_acc / train_total_batch, nn_acc / train_total_batch\n",
    "\n",
    "        # Save train losses/acc\n",
    "        train_losses.append([bn_loss, nn_loss])\n",
    "        train_accs.append([bn_acc, nn_acc])\n",
    "        print(\n",
    "            '[Epoch %d-TRAIN] Batchnorm Loss(Acc): bn_loss:%.5f(bn_acc:%.2f) vs No Batchnorm Loss(Acc): nn_loss:%.5f(nn_acc:%.2f)' % (\n",
    "            (epoch + 1), bn_loss.item(), bn_acc.item(), nn_loss.item(), nn_acc.item()))\n",
    "        # Test the model using test sets\n",
    "        bn_loss, nn_loss, bn_acc, nn_acc = 0, 0, 0, 0\n",
    "        for i, (X, Y) in enumerate(test_loader):\n",
    "            X = X.view(-1, 28 * 28)\n",
    "\n",
    "            bn_prediction = bn_model(X)\n",
    "            bn_correct_prediction = torch.argmax(bn_prediction, 1) == Y\n",
    "            bn_loss += criterion(bn_prediction, Y)\n",
    "            bn_acc += bn_correct_prediction.float().mean()\n",
    "\n",
    "            nn_prediction = nn_model(X)\n",
    "            nn_correct_prediction = torch.argmax(nn_prediction, 1) == Y\n",
    "            nn_loss += criterion(nn_prediction, Y)\n",
    "            nn_acc += nn_correct_prediction.float().mean()\n",
    "\n",
    "        bn_loss, nn_loss, bn_acc, nn_acc = bn_loss / test_total_batch, nn_loss / test_total_batch, bn_acc / test_total_batch, nn_acc / test_total_batch\n",
    "\n",
    "        # Save valid losses/acc\n",
    "        valid_losses.append([bn_loss, nn_loss])\n",
    "        valid_accs.append([bn_acc, nn_acc])\n",
    "        print(\n",
    "            '[Epoch %d-VALID] Batchnorm Loss(Acc): bn_loss:%.5f(bn_acc:%.2f) vs No Batchnorm Loss(Acc): nn_loss:%.5f(nn_acc:%.2f)' % (\n",
    "                (epoch + 1), bn_loss.item(), bn_acc.item(), nn_loss.item(), nn_acc.item()))\n",
    "        print()"
   ]
  },
  {
   "cell_type": "code",
   "execution_count": 15,
   "metadata": {},
   "outputs": [],
   "source": [
    "def plot_compare(loss_list: list, ylim=None, title=None) -> None:\n",
    "    bn = [i[0] for i in loss_list]\n",
    "    nn = [i[1] for i in loss_list]\n",
    "\n",
    "    plt.figure(figsize=(15, 10))\n",
    "    plt.plot(bn, label='With BN')\n",
    "    plt.plot(nn, label='Without BN')\n",
    "    if ylim:\n",
    "        plt.ylim(ylim)\n",
    "\n",
    "    if title:\n",
    "        plt.title(title)\n",
    "    plt.legend()\n",
    "    plt.grid('on')\n",
    "    plt.show()"
   ]
  },
  {
   "cell_type": "code",
   "execution_count": null,
   "metadata": {},
   "outputs": [],
   "source": [
    "plot_compare(train_losses, title='Training Loss at Epoch')\n",
    "plot_compare(train_accs, [0, 1.0], title='Training Acc at Epoch')\n",
    "plot_compare(valid_losses, title='Validation Loss at Epoch')\n",
    "plot_compare(valid_accs, [0, 1.0], title='Validation Acc at Epoch')"
   ]
  }
 ],
 "metadata": {
  "kernelspec": {
   "display_name": "Python 3",
   "language": "python",
   "name": "python3"
  },
  "language_info": {
   "codemirror_mode": {
    "name": "ipython",
    "version": 3
   },
   "file_extension": ".py",
   "mimetype": "text/x-python",
   "name": "python",
   "nbconvert_exporter": "python",
   "pygments_lexer": "ipython3",
   "version": "3.8.3"
  }
 },
 "nbformat": 4,
 "nbformat_minor": 4
}
