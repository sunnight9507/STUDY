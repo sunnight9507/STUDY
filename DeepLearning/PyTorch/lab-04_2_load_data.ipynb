{
 "cells": [
  {
   "cell_type": "markdown",
   "metadata": {},
   "source": [
    "# Lab 4-2: Load Data"
   ]
  },
  {
   "cell_type": "markdown",
   "metadata": {},
   "source": [
    "### Imports"
   ]
  },
  {
   "cell_type": "code",
   "execution_count": 2,
   "metadata": {},
   "outputs": [
    {
     "data": {
      "text/plain": [
       "<torch._C.Generator at 0x1ffafda50d0>"
      ]
     },
     "execution_count": 2,
     "metadata": {},
     "output_type": "execute_result"
    }
   ],
   "source": [
    "import torch\n",
    "import torch.nn as nn\n",
    "import torch.nn.functional as F\n",
    "import torch.optim as optim\n",
    "import numpy as np\n",
    "\n",
    "torch.manual_seed(1)"
   ]
  },
  {
   "cell_type": "markdown",
   "metadata": {},
   "source": [
    "### Low-level Implementation"
   ]
  },
  {
   "cell_type": "code",
   "execution_count": 10,
   "metadata": {},
   "outputs": [
    {
     "name": "stdout",
     "output_type": "stream",
     "text": [
      "Epoch    0/20 Cost: 26811.960938\n",
      "Epoch    1/20 Cost: 10594.790039\n",
      "Epoch    2/20 Cost: 4598.844727\n",
      "Epoch    3/20 Cost: 2381.967041\n",
      "Epoch    4/20 Cost: 1562.316162\n",
      "Epoch    5/20 Cost: 1259.258545\n",
      "Epoch    6/20 Cost: 1147.200073\n",
      "Epoch    7/20 Cost: 1105.759155\n",
      "Epoch    8/20 Cost: 1090.427490\n",
      "Epoch    9/20 Cost: 1084.748901\n",
      "Epoch   10/20 Cost: 1082.639771\n",
      "Epoch   11/20 Cost: 1081.850220\n",
      "Epoch   12/20 Cost: 1081.548340\n",
      "Epoch   13/20 Cost: 1081.427002\n",
      "Epoch   14/20 Cost: 1081.372437\n",
      "Epoch   15/20 Cost: 1081.342651\n",
      "Epoch   16/20 Cost: 1081.321655\n",
      "Epoch   17/20 Cost: 1081.304199\n",
      "Epoch   18/20 Cost: 1081.288086\n",
      "Epoch   19/20 Cost: 1081.272339\n",
      "Epoch   20/20 Cost: 1081.256592\n"
     ]
    }
   ],
   "source": [
    "# data\n",
    "xy = np.loadtxt('data-01-test-score.csv', delimiter=',', dtype=np.float32)\n",
    "x_data, y_data = xy[:, 0:-1], xy[:, -1]\n",
    "\n",
    "x_train = torch.FloatTensor(x_data)\n",
    "y_train = torch.FloatTensor(y_data)\n",
    "\n",
    "# init model\n",
    "W = torch.zeros((3, 1), requires_grad = True)\n",
    "b = torch.zeros(1, requires_grad = True)\n",
    "\n",
    "# optimizer\n",
    "optimizer = optim.SGD([W, b], lr=1e-5)\n",
    "\n",
    "nb_epochs = 20\n",
    "for epoch in range(nb_epochs + 1):\n",
    "    # H(x)\n",
    "    hypothesis = x_train.matmul(W) + b\n",
    "    \n",
    "    # cost\n",
    "    cost = torch.mean((hypothesis - y_train) ** 2)\n",
    "    \n",
    "    # cost로 H(X) 개선\n",
    "    optimizer.zero_grad()\n",
    "    cost.backward()\n",
    "    optimizer.step()\n",
    "    \n",
    "    # print log\n",
    "    print('Epoch {:4d}/{} Cost: {:.6f}'.format(\n",
    "        epoch, nb_epochs, cost.item()\n",
    "    ))"
   ]
  },
  {
   "cell_type": "markdown",
   "metadata": {},
   "source": [
    "### High-level Implementation with `nn.Module`"
   ]
  },
  {
   "cell_type": "code",
   "execution_count": 49,
   "metadata": {},
   "outputs": [
    {
     "name": "stdout",
     "output_type": "stream",
     "text": [
      "Epoch    0/1000 Batch 3/3 Cost: 39911.562500\n",
      "Epoch  100/1000 Batch 3/3 Cost: 49866.398438\n",
      "Epoch  200/1000 Batch 3/3 Cost: 42489.445312\n",
      "Epoch  300/1000 Batch 3/3 Cost: 41953.542969\n",
      "Epoch  400/1000 Batch 3/3 Cost: 45450.093750\n",
      "Epoch  500/1000 Batch 3/3 Cost: 36421.542969\n",
      "Epoch  600/1000 Batch 3/3 Cost: 35891.515625\n",
      "Epoch  700/1000 Batch 3/3 Cost: 49770.726562\n",
      "Epoch  800/1000 Batch 3/3 Cost: 41097.976562\n",
      "Epoch  900/1000 Batch 3/3 Cost: 41705.476562\n",
      "Epoch 1000/1000 Batch 3/3 Cost: 47547.320312\n"
     ]
    }
   ],
   "source": [
    "from torch.utils.data import Dataset\n",
    "from torch.utils.data import DataLoader\n",
    "\n",
    "class MultivariateLinearRegressionModel(nn.Module):\n",
    "    def __init__(self):\n",
    "        super().__init__()\n",
    "        self.linear = nn.Linear(3,1)\n",
    "        \n",
    "    def forward(self, x):\n",
    "        return self.linear(x)\n",
    "    \n",
    "\n",
    "class CustomDataset(Dataset):\n",
    "    def __init__(self):\n",
    "        self.x_data = x_data.tolist()\n",
    "        self.y_data = y_data.reshape(-1,1).tolist()\n",
    "        \n",
    "    def __len__(self):\n",
    "        return len(self.x_data)\n",
    "    \n",
    "    def __getitem__(self, idx):\n",
    "        x = torch.FloatTensor(self.x_data[idx])\n",
    "        y = torch.FloatTensor(self.y_data[idx])\n",
    "        \n",
    "        return x, y\n",
    "    \n",
    "dataset = CustomDataset()\n",
    "\n",
    "dataloader = DataLoader(\n",
    "    dataset,\n",
    "    batch_size=10,\n",
    "    shuffle=True\n",
    ")\n",
    "model = MultivariateLinearRegressionModel()\n",
    "\n",
    "nb_epochs = 1000\n",
    "for epoch in range(nb_epochs + 1):\n",
    "    for batch_idx, samples in enumerate(dataloader):\n",
    "        x_train, y_train = samples\n",
    "        \n",
    "        # H(x)\n",
    "        prediction = model(x_train)\n",
    "        \n",
    "        # cost\n",
    "        cost = F.mse_loss(prediction, y_train)\n",
    "        \n",
    "        # cost로 H(x) 개선\n",
    "        optimizer.zero_grad()\n",
    "        cost.backward()\n",
    "        optimizer.step()\n",
    "    \n",
    "    if epoch % 100 == 0:\n",
    "        # print log\n",
    "        print('Epoch {:4d}/{} Batch {}/{} Cost: {:.6f}'.format(\n",
    "            epoch, nb_epochs, batch_idx+1, len(dataloader), cost.item()\n",
    "        ))"
   ]
  }
 ],
 "metadata": {
  "kernelspec": {
   "display_name": "Python 3",
   "language": "python",
   "name": "python3"
  },
  "language_info": {
   "codemirror_mode": {
    "name": "ipython",
    "version": 3
   },
   "file_extension": ".py",
   "mimetype": "text/x-python",
   "name": "python",
   "nbconvert_exporter": "python",
   "pygments_lexer": "ipython3",
   "version": "3.8.3"
  }
 },
 "nbformat": 4,
 "nbformat_minor": 4
}
