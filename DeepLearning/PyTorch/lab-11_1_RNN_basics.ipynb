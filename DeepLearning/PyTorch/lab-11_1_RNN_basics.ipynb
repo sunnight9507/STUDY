{
 "cells": [
  {
   "cell_type": "code",
   "execution_count": 2,
   "metadata": {},
   "outputs": [
    {
     "data": {
      "text/plain": [
       "<torch._C.Generator at 0x28121d7d0b0>"
      ]
     },
     "execution_count": 2,
     "metadata": {},
     "output_type": "execute_result"
    }
   ],
   "source": [
    "import torch\n",
    "import numpy as np\n",
    "\n",
    "torch.manual_seed(0)"
   ]
  },
  {
   "cell_type": "code",
   "execution_count": 3,
   "metadata": {},
   "outputs": [],
   "source": [
    "input_size = 4\n",
    "hidden_size = 2"
   ]
  },
  {
   "cell_type": "code",
   "execution_count": 5,
   "metadata": {},
   "outputs": [],
   "source": [
    "# sequential example\n",
    "# shape : (3, 5, 4) # Batch size, sequence size, one_hot encoding size\n",
    "h = [1, 0, 0, 0]\n",
    "e = [0, 1, 0, 0]\n",
    "l = [0, 0, 1, 0]\n",
    "o = [0, 0, 0, 1]\n",
    "input_data_np = np.array([[h, e, l, l, o], [e, o, l, l, l], [l, l, e, e, l]], dtype=np.float32)"
   ]
  },
  {
   "cell_type": "code",
   "execution_count": 10,
   "metadata": {},
   "outputs": [
    {
     "name": "stdout",
     "output_type": "stream",
     "text": [
      "tensor([[[-0.4801, -0.3476],\n",
      "         [-0.3716,  0.5770],\n",
      "         [-0.5071,  0.3501],\n",
      "         [-0.5071,  0.3501],\n",
      "         [-0.6213,  0.3737]],\n",
      "\n",
      "        [[-0.2749,  0.6804],\n",
      "         [-0.7398, -0.0326],\n",
      "         [-0.6073,  0.0736],\n",
      "         [-0.6073,  0.0736],\n",
      "         [-0.6153,  0.0445]],\n",
      "\n",
      "        [[-0.6727, -0.1160],\n",
      "         [-0.5187,  0.2900],\n",
      "         [-0.4133,  0.4904],\n",
      "         [-0.4133,  0.4904],\n",
      "         [-0.5355,  0.2567]]], grad_fn=<StackBackward>)\n",
      "torch.Size([3, 5, 2])\n"
     ]
    }
   ],
   "source": [
    "# transform as torch tensor\n",
    "input_data = torch.Tensor(input_data_np)\n",
    "\n",
    "# declare RNN\n",
    "rnn = torch.nn.RNN(input_size, hidden_size)\n",
    "\n",
    "# check output\n",
    "outputs, _status = rnn(input_data) # status : 다음으로 넘겨줄 값\n",
    "\n",
    "print(outputs)\n",
    "print(outputs.size())"
   ]
  }
 ],
 "metadata": {
  "kernelspec": {
   "display_name": "Python 3",
   "language": "python",
   "name": "python3"
  },
  "language_info": {
   "codemirror_mode": {
    "name": "ipython",
    "version": 3
   },
   "file_extension": ".py",
   "mimetype": "text/x-python",
   "name": "python",
   "nbconvert_exporter": "python",
   "pygments_lexer": "ipython3",
   "version": "3.8.5"
  }
 },
 "nbformat": 4,
 "nbformat_minor": 4
}
