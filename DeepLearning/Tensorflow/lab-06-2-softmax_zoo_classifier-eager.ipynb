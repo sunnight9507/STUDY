{
 "cells": [
  {
   "cell_type": "markdown",
   "metadata": {},
   "source": [
    "# Lab 06 Softmax Zoo_classifier-eager\n",
    "\n",
    "> - Softmax를 사용하여 Zoo 데이터를 활용하여 분류를 진행\n",
    "\n",
    "### 기본 Library 선언 및 Tensorflow 버전 확인"
   ]
  },
  {
   "cell_type": "code",
   "execution_count": 1,
   "metadata": {},
   "outputs": [
    {
     "name": "stdout",
     "output_type": "stream",
     "text": [
      "2.3.0\n"
     ]
    }
   ],
   "source": [
    "import tensorflow as tf\n",
    "import numpy as np\n",
    "\n",
    "print(tf.__version__)\n",
    "\n",
    "tf.random.set_seed(777)"
   ]
  },
  {
   "cell_type": "code",
   "execution_count": 16,
   "metadata": {},
   "outputs": [
    {
     "name": "stdout",
     "output_type": "stream",
     "text": [
      "(101, 16) (101, 7)\n"
     ]
    }
   ],
   "source": [
    "xy = np.loadtxt('data/data-04-zoo.csv', delimiter=',', dtype=np.float32)\n",
    "x_data = xy[:, 0:-1]\n",
    "y_data = xy[:, -1]\n",
    "\n",
    "nb_classes = 7\n",
    "\n",
    "Y_one_hot = tf.one_hot(y_data.astype(np.int32), nb_classes)\n",
    "\n",
    "print(x_data.shape, Y_one_hot.shape)"
   ]
  },
  {
   "cell_type": "code",
   "execution_count": 21,
   "metadata": {},
   "outputs": [],
   "source": [
    "W = tf.Variable(tf.random.normal((16, nb_classes)), name = 'weight')\n",
    "b = tf.Variable(tf.random.normal((nb_classes, )), name = 'bias')\n",
    "variables = [W, b]\n",
    "\n",
    "# tf.nn.softmax computes softmax activations\n",
    "# softmax = exp(logits) / reduce_sum(exp(logits), dim)\n",
    "def logit_func(X):\n",
    "    return tf.matmul(X, W) + b\n",
    "\n",
    "def hypothesis(X):\n",
    "    return tf.nn.softmax(logit_func(X))\n",
    "\n",
    "def cost_func(X, Y):\n",
    "    logits = logit_func(X)\n",
    "    cost_i = tf.keras.losses.categorical_crossentropy(y_true = Y,\n",
    "                                                      y_pred = logits,\n",
    "                                                      from_logits=True)\n",
    "    cost = tf.reduce_mean(cost_i)\n",
    "    return cost\n",
    "\n",
    "def grad_func(X, Y):\n",
    "    with tf.GradientTape() as tape:\n",
    "        loss = cost_func(X, Y)\n",
    "        grads = tape.gradient(loss, variables)\n",
    "        return grads\n",
    "    \n",
    "def prediction(X, Y):\n",
    "    pred = tf.argmax(hypothesis(X), 1)\n",
    "    correct_prediction = tf.equal(pred, tf.argmax(Y, 1))\n",
    "    accuracy = tf.reduce_mean(tf.cast(correct_prediction, tf.float32))\n",
    "    \n",
    "    return accuracy"
   ]
  },
  {
   "cell_type": "code",
   "execution_count": 22,
   "metadata": {},
   "outputs": [
    {
     "name": "stdout",
     "output_type": "stream",
     "text": [
      "Steps: 1 Loss: 7.933250427246094, Acc: 0.059405941516160965\n",
      "Steps: 100 Loss: 0.4977976381778717, Acc: 0.8613861203193665\n",
      "Steps: 200 Loss: 0.31551873683929443, Acc: 0.9009901285171509\n",
      "Steps: 300 Loss: 0.24008572101593018, Acc: 0.9504950642585754\n",
      "Steps: 400 Loss: 0.19655703008174896, Acc: 0.9702970385551453\n",
      "Steps: 500 Loss: 0.16733193397521973, Acc: 0.9702970385551453\n",
      "Steps: 600 Loss: 0.1459740698337555, Acc: 0.9702970385551453\n",
      "Steps: 700 Loss: 0.12952466309070587, Acc: 0.9900990128517151\n",
      "Steps: 800 Loss: 0.11640135943889618, Acc: 0.9900990128517151\n",
      "Steps: 900 Loss: 0.10566327720880508, Acc: 0.9900990128517151\n",
      "Steps: 1000 Loss: 0.09670622646808624, Acc: 0.9900990128517151\n",
      "Steps: 1100 Loss: 0.08912003040313721, Acc: 1.0\n",
      "Steps: 1200 Loss: 0.08261377364397049, Acc: 1.0\n",
      "Steps: 1300 Loss: 0.07697471976280212, Acc: 1.0\n",
      "Steps: 1400 Loss: 0.07204264402389526, Acc: 1.0\n",
      "Steps: 1500 Loss: 0.06769464164972305, Acc: 1.0\n",
      "Steps: 1600 Loss: 0.06383457034826279, Acc: 1.0\n",
      "Steps: 1700 Loss: 0.06038621813058853, Acc: 1.0\n",
      "Steps: 1800 Loss: 0.057288240641355515, Acc: 1.0\n",
      "Steps: 1900 Loss: 0.05449075624346733, Acc: 1.0\n",
      "Steps: 2000 Loss: 0.05195287615060806, Acc: 1.0\n"
     ]
    }
   ],
   "source": [
    "def fit(X, Y, epochs = 2000, verbose = 100):\n",
    "    optimizer = tf.optimizers.SGD(learning_rate=0.1)\n",
    "    \n",
    "    for i in range(epochs):\n",
    "        grads = grad_func(X, Y)\n",
    "        optimizer.apply_gradients(zip(grads, variables))\n",
    "        if (i==0) | ((i+1)%verbose==0):\n",
    "            acc = prediction(X, Y).numpy()\n",
    "            loss = cost_func(X, Y).numpy() \n",
    "            print('Steps: {} Loss: {}, Acc: {}'.format(i+1, loss, acc))\n",
    "            \n",
    "fit(x_data, Y_one_hot)"
   ]
  }
 ],
 "metadata": {
  "kernelspec": {
   "display_name": "Python 3",
   "language": "python",
   "name": "python3"
  },
  "language_info": {
   "codemirror_mode": {
    "name": "ipython",
    "version": 3
   },
   "file_extension": ".py",
   "mimetype": "text/x-python",
   "name": "python",
   "nbconvert_exporter": "python",
   "pygments_lexer": "ipython3",
   "version": "3.8.3"
  }
 },
 "nbformat": 4,
 "nbformat_minor": 4
}
