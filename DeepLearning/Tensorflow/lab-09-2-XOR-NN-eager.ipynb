{
 "cells": [
  {
   "cell_type": "markdown",
   "metadata": {},
   "source": [
    "# Lab 09 XOR - Logistic Regression - Eager Excuetion\n",
    "* XOR 문제를 Logistic Regression을 활용해 문제 해결\n",
    "\n",
    "### 기본 Library 선언 및 Tensorflow 버전 확인"
   ]
  },
  {
   "cell_type": "code",
   "execution_count": 1,
   "metadata": {},
   "outputs": [
    {
     "name": "stdout",
     "output_type": "stream",
     "text": [
      "2.3.0\n"
     ]
    }
   ],
   "source": [
    "import numpy as np\n",
    "import matplotlib.pyplot as plt\n",
    "%matplotlib inline\n",
    "import tensorflow as tf\n",
    "\n",
    "tf.random.set_seed(777)  # for reproducibility\n",
    "\n",
    "print(tf.__version__)"
   ]
  },
  {
   "cell_type": "markdown",
   "metadata": {},
   "source": [
    "### Data"
   ]
  },
  {
   "cell_type": "code",
   "execution_count": 2,
   "metadata": {},
   "outputs": [
    {
     "data": {
      "image/png": "[encoded data removed]",
      "text/plain": [
       "<Figure size 432x288 with 1 Axes>"
      ]
     },
     "metadata": {
      "needs_background": "light"
     },
     "output_type": "display_data"
    }
   ],
   "source": [
    "x_data = [[0, 0],\n",
    "          [0, 1],\n",
    "          [1, 0],\n",
    "          [1, 1]]\n",
    "y_data = [[0],\n",
    "          [1],\n",
    "          [1],\n",
    "          [0]]\n",
    "\n",
    "plt.scatter(x_data[0][0],x_data[0][1], c='red' , marker='^')\n",
    "plt.scatter(x_data[3][0],x_data[3][1], c='red' , marker='^')\n",
    "plt.scatter(x_data[1][0],x_data[1][1], c='blue' , marker='^')\n",
    "plt.scatter(x_data[2][0],x_data[2][1], c='blue' , marker='^')\n",
    "\n",
    "plt.xlabel(\"x1\")\n",
    "plt.ylabel(\"x2\")\n",
    "plt.show()"
   ]
  },
  {
   "cell_type": "code",
   "execution_count": 3,
   "metadata": {},
   "outputs": [],
   "source": [
    "dataset = tf.data.Dataset.from_tensor_slices((x_data, y_data)).batch(len(x_data))\n",
    "\n",
    "def preprocess_data(features, labels):\n",
    "    features = tf.cast(features, tf.float32)\n",
    "    labels = tf.cast(labels, tf.float32)\n",
    "    return features, labels"
   ]
  },
  {
   "cell_type": "code",
   "execution_count": 13,
   "metadata": {},
   "outputs": [],
   "source": [
    "W1 = tf.Variable(tf.random.normal((2, 1)), name = 'weight1')\n",
    "b1 = tf.Variable(tf.random.normal((1, )), name = 'bias1')\n",
    "\n",
    "W2 = tf.Variable(tf.random.normal((2, 1)), name = 'weight2')\n",
    "b2 = tf.Variable(tf.random.normal((1, )), name = 'bias2')\n",
    "\n",
    "W3 = tf.Variable(tf.random.normal((2, 1)), name = 'weight3')\n",
    "b3 = tf.Variable(tf.random.normal((1, )), name = 'bias3')\n",
    "\n",
    "def neural_net(features):\n",
    "    layer1 = tf.sigmoid(tf.matmul(features, W1) + b1)\n",
    "    layer2 = tf.sigmoid(tf.matmul(features, W2) + b2)\n",
    "    layer3 = tf.reshape(tf.concat([layer1, layer2], -1), shape = [-1,2])\n",
    "    hypothesis = tf.sigmoid(tf.matmul(layer3, W3) + b3)\n",
    "    return hypothesis\n",
    "\n",
    "def loss_func(hypothesis, labels):\n",
    "    cost = -tf.reduce_mean(labels * tf.math.log(hypothesis) + (1-labels) * tf.math.log(1-hypothesis))\n",
    "    return cost\n",
    "\n",
    "optimizer = tf.keras.optimizers.SGD(learning_rate=0.01)\n",
    "\n",
    "def accuracy_func(hypothesis, labels):\n",
    "    predicted = tf.cast(hypothesis > 0.5, dtype = tf.float32)\n",
    "    accuracy = tf.reduce_mean(tf.cast(tf.equal(predicted, labels), dtype=tf.float32))\n",
    "    return accuracy\n",
    "\n",
    "def grad(features, labels):\n",
    "    with tf.GradientTape() as tape:\n",
    "        loss_value = loss_func(neural_net(features), labels)\n",
    "    return tape.gradient(loss_value, [W1, W2, W3, b1, b2, b3])"
   ]
  },
  {
   "cell_type": "code",
   "execution_count": 15,
   "metadata": {},
   "outputs": [
    {
     "name": "stdout",
     "output_type": "stream",
     "text": [
      "Iter: 0, Loss: 0.6902\n",
      "Iter: 1000, Loss: 0.6893\n",
      "Iter: 2000, Loss: 0.6881\n",
      "Iter: 3000, Loss: 0.6863\n",
      "Iter: 4000, Loss: 0.6837\n",
      "Iter: 5000, Loss: 0.6798\n",
      "Iter: 6000, Loss: 0.6741\n",
      "Iter: 7000, Loss: 0.6658\n",
      "Iter: 8000, Loss: 0.6540\n",
      "Iter: 9000, Loss: 0.6377\n",
      "Iter: 10000, Loss: 0.6155\n",
      "Iter: 11000, Loss: 0.5859\n",
      "Iter: 12000, Loss: 0.5485\n",
      "Iter: 13000, Loss: 0.5040\n",
      "Iter: 14000, Loss: 0.4546\n",
      "Iter: 15000, Loss: 0.4039\n",
      "Iter: 16000, Loss: 0.3550\n",
      "Iter: 17000, Loss: 0.3104\n",
      "Iter: 18000, Loss: 0.2711\n",
      "Iter: 19000, Loss: 0.2375\n",
      "Iter: 20000, Loss: 0.2091\n",
      "Iter: 21000, Loss: 0.1852\n",
      "Iter: 22000, Loss: 0.1652\n",
      "Iter: 23000, Loss: 0.1483\n",
      "Iter: 24000, Loss: 0.1340\n",
      "Iter: 25000, Loss: 0.1218\n",
      "Iter: 26000, Loss: 0.1114\n",
      "Iter: 27000, Loss: 0.1024\n",
      "Iter: 28000, Loss: 0.0946\n",
      "Iter: 29000, Loss: 0.0878\n",
      "Iter: 30000, Loss: 0.0818\n",
      "Iter: 31000, Loss: 0.0765\n",
      "Iter: 32000, Loss: 0.0718\n",
      "Iter: 33000, Loss: 0.0675\n",
      "Iter: 34000, Loss: 0.0638\n",
      "Iter: 35000, Loss: 0.0603\n",
      "Iter: 36000, Loss: 0.0572\n",
      "Iter: 37000, Loss: 0.0544\n",
      "Iter: 38000, Loss: 0.0519\n",
      "Iter: 39000, Loss: 0.0495\n",
      "Iter: 40000, Loss: 0.0473\n",
      "Iter: 41000, Loss: 0.0453\n",
      "Iter: 42000, Loss: 0.0435\n",
      "Iter: 43000, Loss: 0.0418\n",
      "Iter: 44000, Loss: 0.0402\n",
      "Iter: 45000, Loss: 0.0387\n",
      "Iter: 46000, Loss: 0.0374\n",
      "Iter: 47000, Loss: 0.0361\n",
      "Iter: 48000, Loss: 0.0349\n",
      "Iter: 49000, Loss: 0.0337\n",
      "Testset Accuracy: 1.0000\n"
     ]
    }
   ],
   "source": [
    "EPOCHS = 50000\n",
    "\n",
    "for step in range(EPOCHS):\n",
    "    for features, labels in dataset:\n",
    "        features, labels = preprocess_data(features, labels)\n",
    "        grads = grad(features, labels)\n",
    "        optimizer.apply_gradients(grads_and_vars=zip(grads, [W1, W2, W3, b1, b2, b3]))\n",
    "        if step % 1000 == 0:\n",
    "            print(\"Iter: {}, Loss: {:.4f}\".format(step, loss_func(neural_net(features),labels)))\n",
    "            \n",
    "x_data, y_data = preprocess_data(x_data, y_data)\n",
    "test_acc = accuracy_func(neural_net(x_data),y_data)\n",
    "print(\"Testset Accuracy: {:.4f}\".format(test_acc))"
   ]
  }
 ],
 "metadata": {
  "kernelspec": {
   "display_name": "Python 3",
   "language": "python",
   "name": "python3"
  },
  "language_info": {
   "codemirror_mode": {
    "name": "ipython",
    "version": 3
   },
   "file_extension": ".py",
   "mimetype": "text/x-python",
   "name": "python",
   "nbconvert_exporter": "python",
   "pygments_lexer": "ipython3",
   "version": "3.8.3"
  }
 },
 "nbformat": 4,
 "nbformat_minor": 4
}
