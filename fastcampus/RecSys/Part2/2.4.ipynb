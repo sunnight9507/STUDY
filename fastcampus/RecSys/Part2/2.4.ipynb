{
 "cells": [
  {
   "cell_type": "markdown",
   "metadata": {},
   "source": [
    "## 컨텐츠기반 추천시스템(4)\n",
    "\n",
    "### k-Nearest Neighbor 알고리즘\n",
    "\n",
    "> - 데이터(아이템 또는 유저)로부터 **`거리`가 가까운 $k$개의 다른 데이터를 선택하는 알고리즘**\n",
    "> - 데이터와 다른 데이터사이의 거리를 측정할 때, 거리계산 metric 활용\n",
    "\n",
    "> - Model-based Learning이 아닌 Lazy Model\n",
    "> - **$k$값과 거리측정 방법 => 알고리즘 성능의 가장 중요한 Hyperparameter**\n",
    "    - **1. $k$값**\n",
    "        - $k$ 값에 따라 overfitting과 underfitting 발생\n",
    "        - 개별 데이터 모두를 반영한 지역적 모델 또는 과도한 정규화로 데이터 label 특성 반영이 안된 모델\n",
    "    - **2. 거리측정 metric**\n",
    "        - Euclidean Distance : 데이터 $A와 B$사이의 직선거리를 사용한 지표\n",
    "        - Mahalanobis Distance : 변수의 상관관계 고려한 지표, 변수 내 분산과 변수간 공분산 반영\n",
    "        - Manhattan Distance : 좌표축을 따라 이동한 거리(절대값)를 사용한 지표\n",
    "        \n",
    "> - **1. $k$는 `홀수`로 하는 것이 일반적(과반수 선택)**\n",
    "> - **2. 장점**\n",
    "    - 훈련이 (거의) 없기 때문에, 빠르게 학습 가능한 알고리즘\n",
    "    - 수치 기반 데이터에서 우수한 성능을 나타내는 알고리즘\n",
    "    - 단순하고 효율적이다.\n",
    "> - **3. 단점**\n",
    "    - 명목 또는 더미 데이터를 처리하기 어렵다.\n",
    "    - 변수(특징)가 많은 데이터는 처리 속도가 느리고 정확도가 많이 떨어진다.\n",
    "    - 적절한 $k$를 선택하는 것이 어렵다.\n",
    "    - 변수(특징)을 이해하는 알고리즘이 아니며, label과의 관계 파악 등 설명력이 떨어진다.\n",
    "    - 각 변수(특징)마다 스케일이 다른 경우 동일한 거리 척도를 사용하기 어렵다.\n",
    "    \n",
    "### k-NN 구현을 위해 고려해야할 부분\n",
    "> - **1. 변수간의 분포가 다르기 때문에 데이터 `정규화`를 해야한다.**\n",
    "    - Z-Score, Min-Max Normalization 등\n",
    "> - **2. 데이터 간의 거리 측정 효율화**\n",
    "    - Locality Sensitive Hashing, Network based Indexer 등\n",
    "> - **3. 공간 상에서 데이터의 representation 상태를 확인해야한다.**\n",
    "    - 다른 모델에 비해 outlier에 강건한 편이지만, 전체적으로 데이터가 주어진 공간에 데이터 특성에 따라 위치와 거리가 적절히 분포되어 있어야 한다."
   ]
  }
 ],
 "metadata": {
  "kernelspec": {
   "display_name": "Python 3",
   "language": "python",
   "name": "python3"
  },
  "language_info": {
   "codemirror_mode": {
    "name": "ipython",
    "version": 3
   },
   "file_extension": ".py",
   "mimetype": "text/x-python",
   "name": "python",
   "nbconvert_exporter": "python",
   "pygments_lexer": "ipython3",
   "version": "3.8.5"
  }
 },
 "nbformat": 4,
 "nbformat_minor": 4
}
