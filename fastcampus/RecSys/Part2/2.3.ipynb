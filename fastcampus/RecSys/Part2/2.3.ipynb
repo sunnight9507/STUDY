{
 "cells": [
  {
   "cell_type": "markdown",
   "metadata": {},
   "source": [
    "## 컨텐츠기반 추천시스템(3)\n",
    "\n",
    "### Euclidean Distance\n",
    "> - 두 점 사이의 거리를 계산할 때, 사용하는 evaluation metric\n",
    "> - 여러 차원을 갖는 점과 점 사이의 거리를 계산 할 수 있다.\n",
    "> - 거리 기반 유사도 측정 방법\n",
    "    - ex) 두 점 $A와 B$\n",
    "    - $A = \\{a_1, a_2, ..., a_n\\}$\n",
    "    - $B = \\{b_1, b_2, ..., b_n\\}$\n",
    "    - $ \\sqrt{(a_1 - b_1)^2 + (a_2 - b_2)^2 + ... + (a_n - b_n)^2} = \\sqrt{\\sum_{i=1}^{n} (a_i - b_i)^2} $\n",
    "    \n",
    "### Cosine Similarity\n",
    "> - 벡터를 비교할 때, 가장 많이 유용하게 사용되는 평가 지표(evaluation metric)\n",
    "> - 코사인 유사도는 벡터 $A와 B$ 사이의 각도로 계산된다.\n",
    "> - 코사인 유사도는 -1과 1사이의 값을 가진다.\n",
    "> - 각도 기반 유사도 측정 방법 / 두 벡터간 유사한 정도를 코사인 값으로 표현\n",
    "    - $ a \\cdot b = \\Vert a \\Vert \\Vert b \\Vert cos \\theta $\n",
    "    - $$ similarity = cos(\\theta) = \\frac{A \\cdot B}{\\Vert A \\Vert \\Vert B \\Vert} = \\frac{\\sum_{i=1}^{n} A_i \\times B_i}{\\sqrt{\\sum_{i=1}^{n} (A_i)^2} \\times \\sqrt{\\sum_{i=1}^{n} (B_i)^2}}$$\n",
    "    \n",
    "### 유클리드 거리와 코사인 유사도 비교\n",
    "\n",
    "> - 비교하고자 하는 데이터(벡터) 간의 **스케일 차이가 크게 날 경우 `코사인 유사도`, 크지 않다면 `유클리드 거리`**\n",
    "> - 유클리드 거리는 단순하게 점과 점 사이의 거리만 측정\n",
    "> - 반면, 코사인 유사도는 무게나 크기 고려하지 않고, 벡터 사이의 각도만으로 측정\n",
    "\n",
    "### 다른 평가지표\n",
    "\n",
    "> - Manhattan Distance\n",
    "> - Pearson Similarity\n",
    "> - Minkowski Distance\n",
    "> - Mean Squared Difference Similarity\n",
    "> - Jaccard Similarity"
   ]
  }
 ],
 "metadata": {
  "kernelspec": {
   "display_name": "Python 3",
   "language": "python",
   "name": "python3"
  },
  "language_info": {
   "codemirror_mode": {
    "name": "ipython",
    "version": 3
   },
   "file_extension": ".py",
   "mimetype": "text/x-python",
   "name": "python",
   "nbconvert_exporter": "python",
   "pygments_lexer": "ipython3",
   "version": "3.8.5"
  }
 },
 "nbformat": 4,
 "nbformat_minor": 4
}
