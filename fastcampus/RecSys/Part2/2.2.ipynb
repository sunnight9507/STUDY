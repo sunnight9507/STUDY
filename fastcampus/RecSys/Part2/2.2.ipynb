{
 "cells": [
  {
   "cell_type": "markdown",
   "metadata": {},
   "source": [
    "## 컨텐츠기반 추천시스템(2)\n",
    "\n",
    "### Item과 User Profile\n",
    "\n",
    "> ### Item Profile\n",
    "> - **모든 아이템에 대해서 profiling**\n",
    "    - Feature extraction\n",
    "> - Item Profiling = **Vector Representation**\n",
    "    - One-hot vector\n",
    "    - Pandas dataframe - dummy vector\n",
    "    - etc\n",
    "> - Sample features\n",
    "    - 영화 : 작가, 제목, 배우 등\n",
    "    - 글 : 중요한 단어, TF-IDF 등\n",
    "    \n",
    "> ### User Profile\n",
    "> - 데이터로부터 **유저 성향 파악**\n",
    "    - User ratings, implicit feedback 등\n",
    "> - 사용자가 가지는 아이템들의 특성 또는 조사된 사용자 특성으로 구성\n",
    "\n",
    "### Item Representation (1)\n",
    "\n",
    "> - 1) **Item을 `set of features`로 표현**된다.\n",
    "> - 2) Item의 여러 특성을 attributes, features라고 한다.\n",
    "> - 3) Item Profile은 분석된 여러 특성들을 나타내며, 이를 정량화해서 사용한다.\n",
    "    - 구성된 목록 등을 바탕으로 가중치 부여를 할 수 있다.\n",
    "> - 4) Item 설명은 text features이므로, text preprocessing 등을 통해 features를 얻을 수 있다.\n",
    "    - 설명 등 문서가 포함하는 키워드 활용\n",
    "    - TF-IDF 등으로 가중치 부여\n",
    "> - 5) **Item-Item 간의 유사도는 Cosine Similarity를 활용**한다.\n",
    "\n",
    "### Item Representation (2)\n",
    "\n",
    "> #### 1. Features Extraction\n",
    "> - 유저의 관심사를 나타내는 많은 정보를 얻을 수 있다. => 만족스러운 추천 결과를 낼 수 있다.\n",
    ">\n",
    "> #### 2. 영화\n",
    "> - Meta Information : 영화 장르, 배우, 감독, 간단한 설명, 예고편 등\n",
    "> - 영화 리뷰에 대한 키워드 분석, 영화 설명(시놉시스) 키워드 분석\n",
    "> \n",
    "> #### 3. 음악\n",
    "> - Meta Information : 음악 장르, 음악 가사, 음원 데이터 등\n",
    "> - 음악 리뷰, 함께 소개된 음악 종류, 제목 등\n",
    "> \n",
    "> #### 4. 뉴스, 웹페이지 등\n",
    "> - 기사 원문, 헤드라인, 댓글 등 텍스트 정보\n",
    "\n",
    "### User Profile (1)\n",
    "\n",
    "> - 1) **특성 가중치는 사용자가 가지고 있는 아이템 특성 가중치의 평균 값을 주로 활용**한다.\n",
    "> - 2) 사용자의 기호를 따로 파악하거나, 설문조사 또는 자발적인 키워드 입력 등으로 얻은 프로필이다.\n",
    "    - Explicit and Implicit feedback to get user profile\n",
    "> - 3) Like/Dislike, Ratings from 0 to 5, 직접 작성한 유저의 주관적인 생각을 담은 댓글 등\n",
    "> - 4) 검색 로그, 아이템 선택 후 구매 또는 선택, 특정 아이템을 위해 비슷한 아이템을 tag한 이력 등\n",
    "> - 5) User Profile 학습은 분류(Classification) 문제를 푸는 것과 같다.\n",
    "    - 주어진 user profile 정보를 바탕으로 새로운 아이템 $I_{new}$ 을 유저가 평가한 metric 중 하나를 선택\n",
    "    - 아이템에 대한 유저의 기존 평가 = $\\{r_1, r_2, ... , r_5\\}$"
   ]
  }
 ],
 "metadata": {
  "kernelspec": {
   "display_name": "Python 3",
   "language": "python",
   "name": "python3"
  },
  "language_info": {
   "codemirror_mode": {
    "name": "ipython",
    "version": 3
   },
   "file_extension": ".py",
   "mimetype": "text/x-python",
   "name": "python",
   "nbconvert_exporter": "python",
   "pygments_lexer": "ipython3",
   "version": "3.8.5"
  }
 },
 "nbformat": 4,
 "nbformat_minor": 4
}
