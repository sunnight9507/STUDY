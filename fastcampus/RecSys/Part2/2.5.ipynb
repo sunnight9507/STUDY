{
 "cells": [
  {
   "cell_type": "markdown",
   "metadata": {},
   "source": [
    "## 컨텐츠기반 추천시스템(5)\n",
    "\n",
    "### Probability(확률)\n",
    "> - 사건(Event) A가 발생할 가능성\n",
    "> - $ P(A) = \\frac{사건 A의 경우의 수}{전체 경우의 수}$\n",
    "\n",
    "### Conditional Probability(조건부 확률)\n",
    "> - 사건 $B$가 발생했을 때, 사건 $A$가 발생할 확률\n",
    "    - $ P(A|B) = \\frac{P(A \\cap B)}{P(B)}, P(B) > 0 $\n",
    "> - $P(A \\cap B) = P(A|B)P(B) = P(B|A)P(A)$\n",
    "    - 사건 $A$와 $B$가 독립이면, $P(A \\cap B) = P(A)P(B)$\n",
    "    \n",
    "### Bayes' Theorem(베이즈 정리)\n",
    "> - 공식\n",
    "    - $ P(A|B) = \\frac{P(B | A)P(A)}{P(B)} $\n",
    "    - $ P(A) : $ 사전확률(prior), $P(A|B) : $ 사후확률(posterior)\n",
    "> - 사전확률\n",
    "    - 현재 정보를 바탕으로 정한 확률(동전 앞면 나올 확률 = $1/2$)\n",
    "> - 사후확률\n",
    "    - 사건 $B$가 사건 $A$로부터 발생했다는 가정하에 사건 $A$의 확률 업데이트\n",
    "    - 베이즈 정리를 통해 사후확률 계산\n",
    "> - <img src=\"../image/2-5.png\" width = 500 align=\"left\">"
   ]
  },
  {
   "cell_type": "markdown",
   "metadata": {},
   "source": [
    "### Naive Bayes Classifier\n",
    "\n",
    "> - 베이즈 정리에 의한 통계기반 분류 알고리즘(지도학습)\n",
    "> - 특징 \n",
    "    - 아이템의 특징(feature, attribute 등)끼리 서로 독립\n",
    "    - 영화 장르와 영화 감독이 서로 연관이 없는 특징이어야 한다.\n",
    "    - 데이터 셋이 커도 모델 예측에 관계 없다.\n",
    "    - Continuous Varibale보다 Discrete Variable에 더 잘 맞는다.\n",
    "    - 간단하고, 계산량이 많지 않은 모델\n",
    "    - 데이터의 차원이 높아질수록 모든 class에 대해 확률이 0으로 수렴 가능 $\\rightarrow$ Laplace Smoothing 활용\n",
    "    \n",
    "> - $ P(Class_j | x) = \\frac{P(x|Class_j) \\times P(Class_j)}{P(x)} $\n",
    "    - 모든 feature는 독립이라는 가정하에 아래 식이 가능\n",
    "    - $ P(x | Class_j) = P(x_1|Class_j) \\times P(x_2|Class_j) \\times P(x_3|Class_j) \\times ... \\times P(x_n|Class_j)$"
   ]
  }
 ],
 "metadata": {
  "kernelspec": {
   "display_name": "Python 3",
   "language": "python",
   "name": "python3"
  },
  "language_info": {
   "codemirror_mode": {
    "name": "ipython",
    "version": 3
   },
   "file_extension": ".py",
   "mimetype": "text/x-python",
   "name": "python",
   "nbconvert_exporter": "python",
   "pygments_lexer": "ipython3",
   "version": "3.8.5"
  }
 },
 "nbformat": 4,
 "nbformat_minor": 4
}
