{
 "cells": [
  {
   "cell_type": "markdown",
   "metadata": {},
   "source": [
    "## 컨텐츠기반 추천시스템(1)\n",
    "\n",
    "> - **컨텐츠가 비슷한 아이템을 추천**\n",
    "> - 사용자가 과거에 경험했던 아이템 중 비슷한 아이템을 현재 시점에 추천\n",
    "> - Information Retrieval과 Machine Learning의 중간 지점\n",
    "    - 정보(아이템)을 찾는 과정과 과거 정보를 활용해서 유저의 성향을 배우는 문제\n",
    "    \n",
    "### Main Idea\n",
    "> - **User $A$가 높은 평점을 주거나 큰 관심을 갖은 Item $x$와 유사한 Item $y$를 추천**\n",
    "\n",
    "#### 예시\n",
    "> - 웹사이트, 블로그, 뉴스 : 비슷한 컨텐츠의 게시글(item)을 찾아서 추천\n",
    "> - 영화 : 같은 배우, 같은 장르, 같은 영화 감독 등 비슷한 특징을 갖는 영화(item)을 찾아서 추천\n",
    "\n",
    "### 장단점\n",
    "> ### - 장점\n",
    "> - 1. **다른 유저의 데이터가 필요하지 않다.**\n",
    "> - 2. 추천할 수 있는 **아이템의 범위가 넓다.**\n",
    "    - Unique, New, Unpopular 아이템 모두 가능\n",
    "> - 3. **추천하는 이유를 제시할 수 있다.**\n",
    "    - 아이템의 features로 컨텐츠 분석 가능\n",
    "    - 특정 feature가 추천의 이유가 됐다고 설명 가능\n",
    ">\n",
    "> ### - 단점\n",
    "> - 1. **적절한 features를 찾기가 어렵다.**\n",
    "    - 영화, 사진, 음악, 뉴스(텍스트) 등\n",
    "> - 2. **새로운 유저를 위한 추천이 어렵다.**\n",
    "    - User Porfile이 존재하지 않거나 데이터가 매우 부족하다.\n",
    "> - 3. 선호하는 특성을 가진 항목을 **반복 추천**한다.\n",
    "    - Overspecialization\n",
    "    - 유저의 다양한 취향 반영 어려움\n",
    "    - 유저 프로필외 추천 불가\n",
    "    \n",
    "### 컨텐츠 기반 추천시스템 Architecture\n",
    "\n",
    "> #### 1) 정보(유저, 아이템) 제공\n",
    "> #### 2) 컨텐츠 분석(Content Analyzer)\n",
    "> - 텍스트와 같은 비정형 데이터로 부터 관련 있는 정보를 얻는 작업\n",
    "    - feature extraction, vector representation\n",
    ">\n",
    "> #### 3) 유저 프로필 파악(Profile Learner)\n",
    "> - 유저가 선호하는 아이템, 취향 파악\n",
    "> - 머신러닝 등 알고리즘을 통해 유저 데이터 일반화\n",
    ">\n",
    "> #### 4) 유사 아이템 선택(Filtering Component)\n",
    "> - 아이템 중 가장 적절하게 match하는 아이템 선택\n",
    "> - 관련있는 아이템으로 최종 추천 리스트 만들기\n",
    ">\n",
    "> #### 5) 추천 리스트 생성\n",
    "\n",
    "> #### Example(음악 사이트)\n",
    "> - 신곡이 출시되면, 음악을 분석하여 장르, 비트, 음색 등 400여 항목 체크(features extraction)\n",
    "> - 유저로부터 'like'를 받은 음악의 특색과 해당 유저의 프로파일 준비(profile learner)\n",
    "> - 음악의 특징과 사용자 프로필을 바탕으로 선호하는 음악 추천(featering component)\n",
    "\n",
    "### 컨텐츠 기반 추천시스템에서 중요한 점\n",
    "> - **컨텐츠의 내용을 분석하는 아이템 분석 알고리즘**\n",
    "    - Clustering, Machine Learing, TF-IDF등 활용\n",
    "> - **추천시스템의 성능을 높일 수 있는 적절한 컨텐츠를 사용하는 것**\n",
    "    - 영화 추천을 위해 영화 정보를 활용하고, 뉴스 추천을 위해 뉴스 내용을 활용하는 것"
   ]
  },
  {
   "cell_type": "code",
   "execution_count": null,
   "metadata": {},
   "outputs": [],
   "source": []
  }
 ],
 "metadata": {
  "kernelspec": {
   "display_name": "Python 3",
   "language": "python",
   "name": "python3"
  },
  "language_info": {
   "codemirror_mode": {
    "name": "ipython",
    "version": 3
   },
   "file_extension": ".py",
   "mimetype": "text/x-python",
   "name": "python",
   "nbconvert_exporter": "python",
   "pygments_lexer": "ipython3",
   "version": "3.8.5"
  }
 },
 "nbformat": 4,
 "nbformat_minor": 4
}
