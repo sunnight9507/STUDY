{
 "cells": [
  {
   "cell_type": "markdown",
   "metadata": {},
   "source": [
    "## 컨텐츠기반 추천시스템(6)\n",
    "\n",
    "### Vector Representation\n",
    "> - $m$개의 review 문서가 있다고 가정\n",
    "> - review 문서 전체에 등장하는 단어의 수는 $n$개 이다.\n",
    "> - 각 항목은 해당 단어가 review에 등장하는 빈도수를 의미한다.\n",
    "    - (Review 1, Word 0) = 2 => Review 1에 Word 0은 2번 등장한다.\n",
    "    \n",
    "### Term Vector Representation\n",
    "> - **Term Weight**\n",
    "    - $(i,j) = $ weight\n",
    "    - Term Frequency Vector : 단어의 빈도수로 벡터를 나타냄 / 문서 $i$에서의 단어 $j$의 중요도\n",
    "> - **TF-IDF**\n",
    "    - **흔하게 등장하는 단어는 중요하지 않은 단어**\n",
    "    - Information Retrieval에서 많이 사용하는 개념\n",
    "    - 각 단어에 가중치를 부여해서 Keyword extraction 등에 활용\n",
    "    - 문서에서 특정 단어가 증장하는 것으로 문서끼리 관련있음을 표현할 수 있음\n",
    "\n",
    "> - **TF-IDF**\n",
    "    - **TF** : 단어(Word) $w$가 문서(Document) $d$에 등장한 빈도수\n",
    "    - **DF** : 단어(Word) $w$가 등장한 문서(Document) $d$의 수\n",
    "    - **N** : 전체 문서의 수\n",
    "> - **TF($w,d$)** = $\\frac{문서 내 단어 w의 수}{문서 내 모든 단어의 수}$\n",
    "> - **ITF($w$)** = $\\log\\frac{전체 문서 수(N)}{단어 w가 포함된 문서 수(DF(w))}$\n",
    "    - If \"단어 $w$가 포함된 문서 수 = 전체 문서 수\"\n",
    "    - => TF-IDF$(w, d$) = 0 => 단어 $w$의 정보력은 없다.\n",
    "    \n",
    "> - DF가 큰 단어는 정보력이 적다.\n",
    "    - 문서 Corpus(말뭉치)에 모두 포함된 단어는 흔히 등장하는 단어로, 의미가 크지 않다.\n",
    "    - 흔하게 등장하는 단어는 유사도 계산에서도 제외하게 된다.\n",
    "    - 대부분 문법적인 역할을 하는 조사, 관사 등이 해당된다.\n",
    "> - TF-IDF($w, d$) = TF($w, d$) $\\times$ IDF($w$)\n",
    "\n",
    "> #### 정리\n",
    "> - TF는 해당 단어가 해당 문서에 얼마나 자주 등장하는지 체크\n",
    "> - IDF는 해당 단어가 얼마나 다른 문서에 비해 해당 문서에서 특별한지 체크"
   ]
  }
 ],
 "metadata": {
  "kernelspec": {
   "display_name": "Python 3",
   "language": "python",
   "name": "python3"
  },
  "language_info": {
   "codemirror_mode": {
    "name": "ipython",
    "version": 3
   },
   "file_extension": ".py",
   "mimetype": "text/x-python",
   "name": "python",
   "nbconvert_exporter": "python",
   "pygments_lexer": "ipython3",
   "version": "3.8.5"
  }
 },
 "nbformat": 4,
 "nbformat_minor": 4
}
