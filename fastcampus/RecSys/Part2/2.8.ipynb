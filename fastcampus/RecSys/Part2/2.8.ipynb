{
 "cells": [
  {
   "cell_type": "markdown",
   "metadata": {},
   "source": [
    "## 협업필터링(1)\n",
    "\n",
    "### Collaborative Filterting\n",
    "> #### Collaborative Filterting (협업필터링)\n",
    "> - 협동하여 필터링하는 것\n",
    "> - 많은 사람의 의견으로 더 나은 추천을 진행\n",
    ">\n",
    "> #### Collective Intelligence (집단지성)\n",
    "> - 개인보다 단체 또는 그룹의 선택과 취향에 의존\n",
    "> - 여러 사람의 의견을 종합적으로 반영\n",
    "> - 다수의 의견으로 더 나은 선택을 하는 것\n",
    "\n",
    "> #### Process\n",
    "> - 1) 유저 A, B 모두 같은 아이템에 대해 비슷한 또는 동일한 평가를 부여\n",
    "> - 2) 이 때, 유저 A는 X라는 다른 아이템에 호감을 나타냄\n",
    "> - 3) 유저 A, B의 성향이 비슷하다는 가정하에 X라는 아이템을 B에게 추천\n",
    "\n",
    "> #### 종류\n",
    "> - 이웃기반 협업필터링\n",
    "    - Item-based 협업필터링\n",
    "    - User-based 협업필터링\n",
    "> - 모델기반 협업필터링\n",
    "    - 딥러닝 협업필터링\n",
    "> - 하이브리드 협업필터링"
   ]
  }
 ],
 "metadata": {
  "kernelspec": {
   "display_name": "Python 3",
   "language": "python",
   "name": "python3"
  },
  "language_info": {
   "codemirror_mode": {
    "name": "ipython",
    "version": 3
   },
   "file_extension": ".py",
   "mimetype": "text/x-python",
   "name": "python",
   "nbconvert_exporter": "python",
   "pygments_lexer": "ipython3",
   "version": "3.8.5"
  }
 },
 "nbformat": 4,
 "nbformat_minor": 4
}
