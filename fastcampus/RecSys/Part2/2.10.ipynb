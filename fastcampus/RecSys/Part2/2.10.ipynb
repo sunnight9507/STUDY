{
 "cells": [
  {
   "cell_type": "markdown",
   "metadata": {},
   "source": [
    "## 협업필터링(3)\n",
    "\n",
    "### Jaccard Similarity (자카드 유사도)\n",
    "\n",
    "> - 집합의 개념을 이용한 유사도 계산\n",
    "> - 집합 A와 B사이의 유사도는 **얼마나 많은 아이템(또는 element)이 겹치는지**로 판단\n",
    "> - 전체 집합(=합집합)과 교집합 사이의 비율로 유사도 계산\n",
    "> - 공통 아이템이 없으면 0, 모두 겹치면 1\n",
    "> - 주로 여러 단어로 구성된 문서 또는 문장이 유사한지 판단할 때 사용\n",
    "> - $$  J(A,B) = \\frac{|A \\cap B|}{|A \\cup B|} = \\frac{|A \\cap B|}{|A| + |B| - |A \\cap B|} $$\n",
    "\n",
    "### Pearson Similarity (피어슨 유사도)\n",
    "\n",
    "> - **Vector X, Y 사이의 `상관관계`를 계산**\n",
    "> - 각 Vector의 표본평균으로 각 vector를 정규화하고, 코사인 유사도를 구한다.\n",
    "> - 1은 양의 상관관계, -1은 음의 상관관계, 0은 상관관계 없음을 나타낸다.\n",
    "> - $$ r_{xy} = \\frac{\\sum_{i}^n (X_i - \\bar{X})(Y_i - \\bar{Y})}{\\sqrt{\\sum_{i}^n(X_i - \\bar{X})} \\sqrt{\\sum_{i}^n(Y_i - \\bar{Y})}} $$"
   ]
  }
 ],
 "metadata": {
  "kernelspec": {
   "display_name": "Python 3",
   "language": "python",
   "name": "python3"
  },
  "language_info": {
   "codemirror_mode": {
    "name": "ipython",
    "version": 3
   },
   "file_extension": ".py",
   "mimetype": "text/x-python",
   "name": "python",
   "nbconvert_exporter": "python",
   "pygments_lexer": "ipython3",
   "version": "3.8.5"
  }
 },
 "nbformat": 4,
 "nbformat_minor": 4
}
