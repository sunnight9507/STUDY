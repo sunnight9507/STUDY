{
 "cells": [
  {
   "cell_type": "markdown",
   "metadata": {},
   "source": [
    "### 추천시스템과 추천알고리즘\n",
    "\n",
    "> - Item Pool -> Generate Candidates -> Predict Intentions or Filtering -> Ranking\n",
    "\n",
    "### Contents-based Recommender System(컨텐츠기반 추천시스템)\n",
    "\n",
    "> - **사용자가 과거에 좋아했던 아이템을 파악하고, 그 아이템과 비슷한 아이템을 추천**\n",
    "    - ex) 스파이더맨에 4.5 평점 부여\n",
    "    - 타이타닉보다는 캡틴 마블 선호 예상\n",
    "    \n",
    "> - 1) 유저가 과거에 접한 아이템이면서 만족한 아이템\n",
    "> - 2) 유저가 좋아했던 아이템 중 일부 또는 전체와 비슷한 아이템 선정\n",
    "> - 3) 선정된 아이템을 유저에게 추천\n",
    "\n",
    "### Collaborative Filtering(협업 필터링)\n",
    "\n",
    "> - **비슷한 성향 또는 취향을 갖는 다른 유저가 좋아한 아이템을 현재 유저에게 추천**\n",
    "> - 간단하면서 수준 높은 정확도를 나타냄\n",
    "    - 스파이더맨에 4,5 평점을 부여한 2명의 유저 A,B\n",
    "    - 유저 A가 과거 높은 평점을 준 캡틴 마블을 B에게 추천\n",
    "    \n",
    "> - 1) 유저 A와 B 모두 같은 아이템에 대해 비슷한 또는 같은 평가를 함\n",
    "> - 2) 이 때, 유저 A는 B가 보지 않은 다른 아이템에 호감을 나타냄\n",
    "> - 3) A, B의 성향은 비슷하다는 가정하에 A가 호감을 나타낸 아이템을 B에게 추천\n",
    "\n",
    "### Hybrid Recommender System\n",
    "\n",
    "> - Content-based와 Collaborative Filtering의 장단점을 상호보완\n",
    "> - Collaboraive Filtering은 새로운 아이템에 대한 추천 부족\n",
    "> - 이에 Content-based 기법이 cold-start 문제에 도움을 줄 수 있음\n",
    "\n",
    "### Other Recommendation Algorithms\n",
    "\n",
    "> #### 1. Context-based Recommnendation\n",
    "> - Context-aware RecSys\n",
    "> - Location-based RecSys\n",
    "> - Real-time or Time-Sensitive RecSys\n",
    "\n",
    "> #### 2. Community-based Recommendation\n",
    "> - 사용자의 친구 또는 속한 커뮤니티의 선호도를 바탕으로 추천\n",
    "> - SNS등의 뉴스피드 또는 SNS 네트워크 데이터를 활용\n",
    "    \n",
    "> #### 3. Knowledge-based Recommendation\n",
    "> - 특정 도메인 지식을 바탕으로 아이템의 features를 활용한 추천\n",
    "> - Case-based RecSys\n",
    "    - 사용자의 니즈(현재 문제 등)와 해결책 중 가장 적합한 것을 골라서 추천\n",
    "> - Constraints-based RecSys\n",
    "    - 사용자에게 추천할 때, 정해진 규칙을 바탕으로 추천"
   ]
  }
 ],
 "metadata": {
  "kernelspec": {
   "display_name": "Python 3",
   "language": "python",
   "name": "python3"
  },
  "language_info": {
   "codemirror_mode": {
    "name": "ipython",
    "version": 3
   },
   "file_extension": ".py",
   "mimetype": "text/x-python",
   "name": "python",
   "nbconvert_exporter": "python",
   "pygments_lexer": "ipython3",
   "version": "3.8.5"
  }
 },
 "nbformat": 4,
 "nbformat_minor": 4
}
