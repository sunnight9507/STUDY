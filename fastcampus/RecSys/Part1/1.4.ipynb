{
 "cells": [
  {
   "cell_type": "markdown",
   "metadata": {},
   "source": [
    "### 추천시스템 한계\n",
    "\n",
    "> ### Scalability(확장성)\n",
    "> - 실제 서비스 상황은 다양한 종류의 데이터\n",
    "> - 학습 또는 분석에 사용한 데이터와는 전혀 다른 실전 데이터\n",
    "\n",
    "> ### Proactive RecSys\n",
    "> - 특별한 요청이 없어도 사전에 먼저 제공하는 추천서비스\n",
    "> - 모바일, 인터넷 등 어디서든 유저에게 끊임없이 좋은 정보를 추천할 수 있는 서비스\n",
    "\n",
    "> ### Cold-Start Problem\n",
    "> - 추천서비스를 위한 데이터 부족\n",
    "> - 기본적인 성능을 보장하는 협업필터링 모델 구축이 쉽지 않은 것이 일반적\n",
    "> - 컨텐츠 기반 또는 지식 기반의 방법 역시 서비스로 적용하기 어려움\n",
    "\n",
    "> ### Privacy preserving RecSys\n",
    "> - 개인정보 등 유저 정보가 가장 중요하지만, 직접적으로 사용하기 어려움\n",
    "\n",
    "> ### Mobile devices and Usage Contexts\n",
    "> - Personal Computing, Location-based Service(LBS)\n",
    "> - 개별 상황 또는 환경 등에 따라 다른 컨텍스트를 사용\n",
    "\n",
    "> ### Long-term and Short-term user preference\n",
    "> - 개인 또는 그룹의 단기/장기 관심사항\n",
    "> - 추천받고 싶은 아이템이 현재 또는 과거 중 어느 시기와 관련 있는지 파악하기 어려움\n",
    "\n",
    "> ### Generic User models and Cross Domain RecSys\n",
    "> - 하나의 모델을 여러가지 데이터에 적용하기 어려움\n",
    "> - 비슷한 도메인의 데이터를 활용해도 동일한 성능의 추천시스템을 기대하기 어려움\n",
    "\n",
    "> ### Starvation and Diversity\n",
    "> - Starvation : 필요한 컴퓨터 자원을 끊임없이 가져오지 못하는 상황\n",
    "> - 유저/아이템이 다양하고, 모든 유저/아이템에 더 많은 관심을 부여해야함\n",
    "\n",
    "> ### Long Tail Economy\n",
    "> - **`Short Head`**\n",
    "    - Blockbusters\n",
    "    - Top-40\n",
    "    - Widely Popular\n",
    "    - Narrow Scope\n",
    "> - **`Long Tail`**\n",
    "    - Narrowly popular\n",
    "    - Popular in the past\n",
    "    - Good, but not great content\n",
    "    - D-list content"
   ]
  }
 ],
 "metadata": {
  "kernelspec": {
   "display_name": "Python 3",
   "language": "python",
   "name": "python3"
  },
  "language_info": {
   "codemirror_mode": {
    "name": "ipython",
    "version": 3
   },
   "file_extension": ".py",
   "mimetype": "text/x-python",
   "name": "python",
   "nbconvert_exporter": "python",
   "pygments_lexer": "ipython3",
   "version": "3.8.5"
  }
 },
 "nbformat": 4,
 "nbformat_minor": 4
}
