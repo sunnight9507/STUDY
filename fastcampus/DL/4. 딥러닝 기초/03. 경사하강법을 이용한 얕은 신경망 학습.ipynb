{
 "cells": [
  {
   "cell_type": "code",
   "execution_count": 1,
   "metadata": {},
   "outputs": [],
   "source": [
    "import tensorflow as tf\n",
    "import numpy as np"
   ]
  },
  {
   "cell_type": "code",
   "execution_count": 2,
   "metadata": {},
   "outputs": [],
   "source": [
    "# 하이퍼파라미터\n",
    "EPOCHS = 1000"
   ]
  },
  {
   "cell_type": "code",
   "execution_count": 32,
   "metadata": {},
   "outputs": [],
   "source": [
    "# layer 설정\n",
    "class MyModel(tf.keras.Model):\n",
    "    def __init__(self):\n",
    "        super(MyModel, self).__init__()\n",
    "        self.d1 = tf.keras.layers.Dense(128,\n",
    "                                        input_dim=2,\n",
    "                                        activation='sigmoid')\n",
    "        self.d2 = tf.keras.layers.Dense(10,\n",
    "                                        activation='softmax')\n",
    "        \n",
    "    def call(self, x, training=None, mask=None):\n",
    "        x = self.d1(x)\n",
    "        return self.d2(x)"
   ]
  },
  {
   "cell_type": "code",
   "execution_count": 33,
   "metadata": {},
   "outputs": [],
   "source": [
    "# 학습 루프 정의\n",
    "@tf.function\n",
    "def train_step(model, inputs, labels, loss_object, optimizer, train_loss, train_metric):\n",
    "    with tf.GradientTape() as tape:\n",
    "        predictions = model(inputs)\n",
    "        loss = loss_object(labels, predictions)    \n",
    "    gradients = tape.gradient(loss, model.trainable_variables)\n",
    "    \n",
    "    optimizer.apply_gradients(zip(gradients, model.trainable_variables))\n",
    "    train_loss(loss)\n",
    "    train_metric(labels, predictions)   "
   ]
  },
  {
   "cell_type": "markdown",
   "metadata": {},
   "source": [
    "### Data"
   ]
  },
  {
   "cell_type": "code",
   "execution_count": 34,
   "metadata": {},
   "outputs": [],
   "source": [
    "np.random.seed(0)\n",
    "\n",
    "pts = list()\n",
    "labels = list()\n",
    "center_pts = np.random.uniform(-8.0, 8.0, (10, 2))\n",
    "for label, center_pt in enumerate(center_pts):\n",
    "    for _ in range(100):\n",
    "        pts.append(center_pt + np.random.randn(*center_pt.shape))\n",
    "        labels.append(label)\n",
    "        \n",
    "pts = np.stack(pts, axis=0).astype(np.float32)\n",
    "labels = np.stack(labels, axis=0)\n",
    "\n",
    "train_ds = tf.data.Dataset.from_tensor_slices((pts, labels)).shuffle(1000).batch(32)"
   ]
  },
  {
   "cell_type": "code",
   "execution_count": 35,
   "metadata": {},
   "outputs": [],
   "source": [
    "# model 생성\n",
    "model = MyModel()"
   ]
  },
  {
   "cell_type": "code",
   "execution_count": 36,
   "metadata": {},
   "outputs": [],
   "source": [
    "# loss function\n",
    "loss_object = tf.keras.losses.SparseCategoricalCrossentropy()\n",
    "\n",
    "# optimizer\n",
    "optimizer = tf.keras.optimizers.Adam()\n",
    "\n",
    "# Accuracy\n",
    "train_loss = tf.keras.metrics.Mean(name='train_loss')\n",
    "train_accuracy = tf.keras.metrics.SparseCategoricalAccuracy(name='train_accuracy')"
   ]
  },
  {
   "cell_type": "markdown",
   "metadata": {},
   "source": [
    "### Training"
   ]
  },
  {
   "cell_type": "code",
   "execution_count": 39,
   "metadata": {
    "scrolled": true
   },
   "outputs": [
    {
     "name": "stdout",
     "output_type": "stream",
     "text": [
      "Epoch 1, Loss : 0.34520527720451355, Accuracy : 88.08073425292969\n",
      "Epoch 51, Loss : 0.33298081159591675, Accuracy : 88.24717712402344\n",
      "Epoch 101, Loss : 0.3236723840236664, Accuracy : 88.38372802734375\n",
      "Epoch 151, Loss : 0.31616219878196716, Accuracy : 88.49390411376953\n",
      "Epoch 201, Loss : 0.3100512623786926, Accuracy : 88.58892822265625\n",
      "Epoch 251, Loss : 0.305002897977829, Accuracy : 88.67093658447266\n",
      "Epoch 301, Loss : 0.3006013035774231, Accuracy : 88.74000549316406\n",
      "Epoch 351, Loss : 0.29696348309516907, Accuracy : 88.80691528320312\n",
      "Epoch 401, Loss : 0.2936619818210602, Accuracy : 88.86758422851562\n",
      "Epoch 451, Loss : 0.2908060848712921, Accuracy : 88.92869567871094\n",
      "Epoch 501, Loss : 0.28814372420310974, Accuracy : 88.98580932617188\n",
      "Epoch 551, Loss : 0.2858043313026428, Accuracy : 89.04021453857422\n",
      "Epoch 601, Loss : 0.2836325764656067, Accuracy : 89.09767150878906\n",
      "Epoch 651, Loss : 0.28166908025741577, Accuracy : 89.14888763427734\n",
      "Epoch 701, Loss : 0.27987605333328247, Accuracy : 89.1969985961914\n",
      "Epoch 751, Loss : 0.27816957235336304, Accuracy : 89.24319458007812\n",
      "Epoch 801, Loss : 0.2765777111053467, Accuracy : 89.2900161743164\n",
      "Epoch 851, Loss : 0.27515333890914917, Accuracy : 89.33329010009766\n",
      "Epoch 901, Loss : 0.27378132939338684, Accuracy : 89.372802734375\n",
      "Epoch 951, Loss : 0.2724984586238861, Accuracy : 89.41187286376953\n"
     ]
    }
   ],
   "source": [
    "for epoch in range(EPOCHS):\n",
    "    for x, label in train_ds:\n",
    "        train_step(model, x, label, loss_object, optimizer, train_loss, train_accuracy)\n",
    "        \n",
    "        template = 'Epoch {}, Loss : {}, Accuracy : {}'\n",
    "    if epoch % 50 == 0:\n",
    "        print(template.format(epoch + 1, \n",
    "                              train_loss.result(),\n",
    "                              train_accuracy.result() * 100))"
   ]
  },
  {
   "cell_type": "markdown",
   "metadata": {},
   "source": [
    "### Save"
   ]
  },
  {
   "cell_type": "code",
   "execution_count": 46,
   "metadata": {},
   "outputs": [],
   "source": [
    "np.savez_compressed('ch2_dataset.npz', inputs=pts, labels=labels)\n",
    "\n",
    "W_h, b_h = model.d1.get_weights()\n",
    "W_o, b_o = model.d2.get_weights()\n",
    "# transpose 필수\n",
    "W_h = np.transpose(W_h)\n",
    "W_o = np.transpose(W_o)\n",
    "np.savez_compressed('ch2_parameters.npz',\n",
    "                    W_h=W_h,\n",
    "                    b_h=b_h,\n",
    "                    W_o=W_o,\n",
    "                    b_o=b_o)"
   ]
  }
 ],
 "metadata": {
  "kernelspec": {
   "display_name": "Python 3",
   "language": "python",
   "name": "python3"
  },
  "language_info": {
   "codemirror_mode": {
    "name": "ipython",
    "version": 3
   },
   "file_extension": ".py",
   "mimetype": "text/x-python",
   "name": "python",
   "nbconvert_exporter": "python",
   "pygments_lexer": "ipython3",
   "version": "3.8.5"
  }
 },
 "nbformat": 4,
 "nbformat_minor": 4
}
