{
 "cells": [
  {
   "cell_type": "code",
   "execution_count": 1,
   "metadata": {},
   "outputs": [],
   "source": [
    "import time\n",
    "import numpy as np"
   ]
  },
  {
   "cell_type": "markdown",
   "metadata": {},
   "source": [
    "#### 유틸리티 함수"
   ]
  },
  {
   "cell_type": "code",
   "execution_count": 2,
   "metadata": {},
   "outputs": [],
   "source": [
    "def _t(x):\n",
    "    return np.transpose(x)\n",
    "\n",
    "def _m(A, B):\n",
    "    return np.matmul(A, B)"
   ]
  },
  {
   "cell_type": "markdown",
   "metadata": {},
   "source": [
    "#### Sigmoid 구현"
   ]
  },
  {
   "cell_type": "code",
   "execution_count": 3,
   "metadata": {},
   "outputs": [],
   "source": [
    "class Sigmoid:\n",
    "    def __init__(self):\n",
    "        self.last_o = 1\n",
    "        \n",
    "    def __call__(self, x):\n",
    "        self.last_o = 1 / (1.0 + np.exp(-x))\n",
    "        return self.last_o\n",
    "    \n",
    "    def grad(self): # sigmoid(x)(1 - sigmoid(x))\n",
    "        return self.last_o * (1 - self.last_o)"
   ]
  },
  {
   "cell_type": "markdown",
   "metadata": {},
   "source": [
    "#### Mean Squared Error 구현"
   ]
  },
  {
   "cell_type": "code",
   "execution_count": 4,
   "metadata": {},
   "outputs": [],
   "source": [
    "class MeanSquaredError:\n",
    "    def __init__(self):\n",
    "        # gradient\n",
    "        self.dh = 1\n",
    "        self.last_diff = 1\n",
    "        \n",
    "    def __call__(self, h, y): # 1/2 * mean ((h - y)^2)\n",
    "        self.last_diff = h - y\n",
    "        return 1 / 2 * np.mean(np.square(self.last_diff))\n",
    "    \n",
    "    def grad(self): # h - y\n",
    "        return self.last_diff"
   ]
  },
  {
   "cell_type": "markdown",
   "metadata": {},
   "source": [
    "#### Neuron 구현"
   ]
  },
  {
   "cell_type": "code",
   "execution_count": 5,
   "metadata": {},
   "outputs": [],
   "source": [
    "class Neuron:\n",
    "    def __init__(self, W, b, a_obj):\n",
    "        # Model parameters\n",
    "        self.W = W\n",
    "        self.b = b\n",
    "        self.a = a_obj()\n",
    "        \n",
    "        # gradient\n",
    "        self.dW = np.zeros_like(self.W)\n",
    "        self.db = np.zeros_like(self.b)\n",
    "        self.dh = np.zeros_like(_t(self.W))\n",
    "        \n",
    "        self.last_x = np.zeros((self.W.shape[0]))\n",
    "        self.last_h = np.zeros((self.W.shape[1]))\n",
    "        \n",
    "    def __call__(self, x):\n",
    "        self.last_x = x\n",
    "        self.last_h = _m(_t(self.W), x) + self.b\n",
    "        return self.a(self.last_h)\n",
    "    \n",
    "    def grad(self): # dy/dh = W\n",
    "        return self.W + self.a.grad()\n",
    "    \n",
    "    def grad_W(self, dh):\n",
    "        grad = np.ones_like(self.W)\n",
    "        grad_a = self.a.grad()\n",
    "        for j in range(grad.shape[1]): # dy/dw = x\n",
    "            grad[:, j] = dh[j] * grad_a[j] * self.last_x\n",
    "        return grad\n",
    "    \n",
    "    def grad_b(self, dh): # dy/db = 1\n",
    "        return dh * self.a.grad() * 1"
   ]
  },
  {
   "cell_type": "markdown",
   "metadata": {},
   "source": [
    "#### Network 구현"
   ]
  },
  {
   "cell_type": "code",
   "execution_count": 6,
   "metadata": {},
   "outputs": [],
   "source": [
    "class DNN:\n",
    "    def __init__(self, hidden_depth, num_neuron, num_input, num_output, activation):\n",
    "        def init_var(i, o):\n",
    "            return np.random.normal(0.0, 0.01, (i,o)), np.zeros((o,))\n",
    "        \n",
    "        self.sequence = list()\n",
    "        # First hidden layer\n",
    "        W, b = init_var(num_input, num_neuron)\n",
    "        self.sequence.append(Neuron(W, b, activation))\n",
    "\n",
    "        # Hidden layers\n",
    "        for _ in range(hidden_depth - 1):\n",
    "            W, b = init_var(num_neuron, num_neuron)\n",
    "            self.sequence.append(Neuron(W, b, activation))\n",
    "\n",
    "        # Output layer\n",
    "        W, b = init_var(num_neuron, num_output)\n",
    "        self.sequence.append(Neuron(W, b, activation))\n",
    "    \n",
    "    def __call__(self, x):\n",
    "        for layer in self.sequence:\n",
    "            x = layer(x)\n",
    "        return x\n",
    "    \n",
    "    def calc_gradient(self, loss_obj):\n",
    "        loss_obj.dh = loss_obj.grad()\n",
    "        self.sequence.append(loss_obj)\n",
    "        \n",
    "        # back-prop loop\n",
    "        for i in range(len(self.sequence) - 1, 0, -1):\n",
    "            l1 = self.sequence[i]\n",
    "            l0 = self.sequence[i - 1]\n",
    "            \n",
    "            l0.dh = _m(l0.grad(), l1.dh)\n",
    "            l0.dW = l0.grad_W(l1.dh)\n",
    "            l0.db = l0.grad_b(l1.dh)\n",
    "            \n",
    "        self.sequence.remove(loss_obj)"
   ]
  },
  {
   "cell_type": "markdown",
   "metadata": {},
   "source": [
    "#### 경사하강 학습법"
   ]
  },
  {
   "cell_type": "code",
   "execution_count": 7,
   "metadata": {},
   "outputs": [],
   "source": [
    "def gradient_descent(network, x, y, loss_obj, alpha=0.01):\n",
    "    loss = loss_obj(network(x), y) # Forward inference\n",
    "    network.calc_gradient(loss_obj) # Back-propagation\n",
    "    for layer in network.sequence:\n",
    "        layer.W += -alpha * layer.dW\n",
    "        layer.b += -alpha * layer.db\n",
    "    return loss"
   ]
  },
  {
   "cell_type": "markdown",
   "metadata": {},
   "source": [
    "#### Training"
   ]
  },
  {
   "cell_type": "code",
   "execution_count": 8,
   "metadata": {
    "scrolled": true
   },
   "outputs": [
    {
     "name": "stdout",
     "output_type": "stream",
     "text": [
      "Epoch 0 : Test loss 0.13884151052177143\n",
      "Epoch 1 : Test loss 0.13728067722348533\n",
      "Epoch 2 : Test loss 0.13574879377736898\n",
      "Epoch 3 : Test loss 0.13424494001155157\n",
      "Epoch 4 : Test loss 0.13276828125354206\n",
      "Epoch 5 : Test loss 0.13131801821256817\n",
      "Epoch 6 : Test loss 0.1298933929727083\n",
      "Epoch 7 : Test loss 0.1284936928486217\n",
      "Epoch 8 : Test loss 0.12711825011646882\n",
      "Epoch 9 : Test loss 0.1257664395254039\n",
      "Epoch 10 : Test loss 0.12443767483204082\n",
      "Epoch 11 : Test loss 0.12313140502886816\n",
      "Epoch 12 : Test loss 0.12184711061976611\n",
      "Epoch 13 : Test loss 0.12058430012289051\n",
      "Epoch 14 : Test loss 0.11934250688499844\n",
      "Epoch 15 : Test loss 0.11812128623687261\n",
      "Epoch 16 : Test loss 0.1169202129887712\n",
      "Epoch 17 : Test loss 0.11573887924799527\n",
      "Epoch 18 : Test loss 0.1145768925321265\n",
      "Epoch 19 : Test loss 0.11343387414794867\n",
      "Epoch 20 : Test loss 0.11230945780550068\n",
      "Epoch 21 : Test loss 0.11120328843786668\n",
      "Epoch 22 : Test loss 0.11011502119940206\n",
      "Epoch 23 : Test loss 0.10904432061763139\n",
      "Epoch 24 : Test loss 0.10799085987672793\n",
      "Epoch 25 : Test loss 0.10695432021311688\n",
      "Epoch 26 : Test loss 0.10593439040622485\n",
      "Epoch 27 : Test loss 0.1049307663496769\n",
      "Epoch 28 : Test loss 0.10394315069029078\n",
      "Epoch 29 : Test loss 0.10297125252404152\n",
      "Epoch 30 : Test loss 0.1020147871397673\n",
      "Epoch 31 : Test loss 0.10107347580278378\n",
      "Epoch 32 : Test loss 0.10014704557178059\n",
      "Epoch 33 : Test loss 0.09923522914341595\n",
      "Epoch 34 : Test loss 0.09833776471991607\n",
      "Epoch 35 : Test loss 0.09745439589575089\n",
      "Epoch 36 : Test loss 0.09658487156010644\n",
      "Epoch 37 : Test loss 0.09572894581242716\n",
      "Epoch 38 : Test loss 0.09488637788876744\n",
      "Epoch 39 : Test loss 0.09405693209708779\n",
      "Epoch 40 : Test loss 0.0932403777599609\n",
      "Epoch 41 : Test loss 0.09243648916343049\n",
      "Epoch 42 : Test loss 0.09164504551099587\n",
      "Epoch 43 : Test loss 0.09086583088188416\n",
      "Epoch 44 : Test loss 0.09009863419292466\n",
      "Epoch 45 : Test loss 0.08934324916346217\n",
      "Epoch 46 : Test loss 0.08859947428283675\n",
      "Epoch 47 : Test loss 0.08786711278002413\n",
      "Epoch 48 : Test loss 0.08714597259507073\n",
      "Epoch 49 : Test loss 0.08643586635197166\n",
      "Epoch 50 : Test loss 0.08573661133262991\n",
      "Epoch 51 : Test loss 0.08504802945149802\n",
      "Epoch 52 : Test loss 0.08436994723043634\n",
      "Epoch 53 : Test loss 0.08370219577322226\n",
      "Epoch 54 : Test loss 0.08304461073900862\n",
      "Epoch 55 : Test loss 0.0823970323138478\n",
      "Epoch 56 : Test loss 0.08175930517916548\n",
      "Epoch 57 : Test loss 0.08113127847577414\n",
      "Epoch 58 : Test loss 0.08051280576164875\n",
      "Epoch 59 : Test loss 0.07990374496123157\n",
      "Epoch 60 : Test loss 0.0793039583034742\n",
      "Epoch 61 : Test loss 0.07871331224514211\n",
      "Epoch 62 : Test loss 0.07813167737507751\n",
      "Epoch 63 : Test loss 0.07755892829411998\n",
      "Epoch 64 : Test loss 0.07699494346419307\n",
      "Epoch 65 : Test loss 0.07643960501865475\n",
      "Epoch 66 : Test loss 0.07589279852436642\n",
      "Epoch 67 : Test loss 0.07535441268404233\n",
      "Epoch 68 : Test loss 0.0748243389653129\n",
      "Epoch 69 : Test loss 0.07430247114060791\n",
      "Epoch 70 : Test loss 0.07378870471952775\n",
      "Epoch 71 : Test loss 0.07328293625298253\n",
      "Epoch 72 : Test loss 0.07278506248630838\n",
      "Epoch 73 : Test loss 0.07229497933724029\n",
      "Epoch 74 : Test loss 0.07181258067465207\n",
      "Epoch 75 : Test loss 0.07133775687626037\n",
      "Epoch 76 : Test loss 0.07087039314923947\n",
      "Epoch 77 : Test loss 0.07041036760846534\n",
      "Epoch 78 : Test loss 0.06995754912478433\n",
      "Epoch 79 : Test loss 0.0695117949823337\n",
      "Epoch 80 : Test loss 0.06907294842140271\n",
      "Epoch 81 : Test loss 0.06864083619266712\n",
      "Epoch 82 : Test loss 0.0682152663090607\n",
      "Epoch 83 : Test loss 0.06779602624900712\n",
      "Epoch 84 : Test loss 0.0673828819302805\n",
      "Epoch 85 : Test loss 0.06697557782224281\n",
      "Epoch 86 : Test loss 0.06657383857417966\n",
      "Epoch 87 : Test loss 0.06617737248371233\n",
      "Epoch 88 : Test loss 0.06578587698916653\n",
      "Epoch 89 : Test loss 0.06539904613368423\n",
      "Epoch 90 : Test loss 0.06501657963244384\n",
      "Epoch 91 : Test loss 0.06463819282741341\n",
      "Epoch 92 : Test loss 0.06426362651839895\n",
      "Epoch 93 : Test loss 0.06389265550973765\n",
      "Epoch 94 : Test loss 0.06352509478325469\n",
      "Epoch 95 : Test loss 0.06316080251789145\n",
      "Epoch 96 : Test loss 0.06279967966686434\n",
      "Epoch 97 : Test loss 0.0624416663533069\n",
      "Epoch 98 : Test loss 0.062086735813415866\n",
      "Epoch 99 : Test loss 0.06173488689254872\n",
      "0.22875714302062988 seconds elapsed\n"
     ]
    }
   ],
   "source": [
    "x = np.random.normal(0.0, 1.0, (10,))\n",
    "y = np.random.normal(0.0, 1.0, (2,))\n",
    "\n",
    "dnn = DNN(hidden_depth=5,\n",
    "          num_neuron=32,\n",
    "          num_input=10,\n",
    "          num_output=2,\n",
    "          activation=Sigmoid)\n",
    "loss_obj = MeanSquaredError()\n",
    "\n",
    "t = time.time()\n",
    "for epoch in range(100):\n",
    "    loss = gradient_descent(dnn, x, y, loss_obj, 0.01)\n",
    "    print('Epoch {} : Test loss {}'.format(epoch, loss))\n",
    "print('{} seconds elapsed'.format(time.time() - t))"
   ]
  }
 ],
 "metadata": {
  "kernelspec": {
   "display_name": "Python 3",
   "language": "python",
   "name": "python3"
  },
  "language_info": {
   "codemirror_mode": {
    "name": "ipython",
    "version": 3
   },
   "file_extension": ".py",
   "mimetype": "text/x-python",
   "name": "python",
   "nbconvert_exporter": "python",
   "pygments_lexer": "ipython3",
   "version": "3.8.5"
  }
 },
 "nbformat": 4,
 "nbformat_minor": 4
}
