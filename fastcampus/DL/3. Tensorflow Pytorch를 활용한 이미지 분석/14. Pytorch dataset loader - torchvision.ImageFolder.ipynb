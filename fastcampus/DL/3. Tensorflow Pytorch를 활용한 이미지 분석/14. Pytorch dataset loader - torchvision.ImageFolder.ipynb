{
 "cells": [
  {
   "cell_type": "markdown",
   "metadata": {},
   "source": [
    "### Dataset ImageFloder"
   ]
  },
  {
   "cell_type": "code",
   "execution_count": 22,
   "metadata": {},
   "outputs": [],
   "source": [
    "import torch\n",
    "\n",
    "import torch.nn as nn\n",
    "import torch.nn.functional as F\n",
    "import torch.optim as optim\n",
    "\n",
    "from torchvision import datasets, transforms"
   ]
  },
  {
   "cell_type": "code",
   "execution_count": 23,
   "metadata": {},
   "outputs": [],
   "source": [
    "seed = 1\n",
    "\n",
    "lr = 0.001\n",
    "momentum = 0.5\n",
    "\n",
    "batch_size = 64\n",
    "test_batch_size = 64\n",
    "\n",
    "epochs = 5\n",
    "\n",
    "no_cuda = False\n",
    "log_interval = 100"
   ]
  },
  {
   "cell_type": "markdown",
   "metadata": {},
   "source": [
    "### Model"
   ]
  },
  {
   "cell_type": "code",
   "execution_count": 14,
   "metadata": {},
   "outputs": [],
   "source": [
    "class Net(nn.Module):\n",
    "    def __init__(self):\n",
    "        super(Net, self).__init__()\n",
    "        self.conv1 = nn.Conv2d(3, 20, 5, 1)\n",
    "        self.conv2 = nn.Conv2d(20, 50, 5, 1)\n",
    "        self.fc1 = nn.Linear(4*4*50, 500)\n",
    "        self.fc2 = nn.Linear(500, 10)\n",
    "        \n",
    "    def forward(self, x):\n",
    "        x = F.relu(self.conv1(x))\n",
    "        x = F.max_pool2d(x, 2, 2)\n",
    "        x = F.relu(self.conv2(x))\n",
    "        x = F.max_pool2d(x, 2, 2)\n",
    "        x = x.view(-1, 4*4*50)\n",
    "        x = F.relu(self.fc1(x))\n",
    "        x = self.fc2(x)\n",
    "        return F.log_softmax(x, dim=1)"
   ]
  },
  {
   "cell_type": "markdown",
   "metadata": {},
   "source": [
    "### Preprocess"
   ]
  },
  {
   "cell_type": "code",
   "execution_count": 15,
   "metadata": {},
   "outputs": [
    {
     "data": {
      "text/plain": [
       "['0', '1', '2', '3', '4', '5', '6', '7', '8', '9']"
      ]
     },
     "execution_count": 15,
     "metadata": {},
     "output_type": "execute_result"
    }
   ],
   "source": [
    "import os\n",
    "\n",
    "os.listdir('../dataset/mnist_png/training/')"
   ]
  },
  {
   "cell_type": "code",
   "execution_count": 16,
   "metadata": {},
   "outputs": [],
   "source": [
    "train_dir = '../dataset/mnist_png/training/'\n",
    "test_dir = '../dataset/mnist_png/testing/'"
   ]
  },
  {
   "cell_type": "code",
   "execution_count": 17,
   "metadata": {},
   "outputs": [],
   "source": [
    "torch.manual_seed(seed)\n",
    "\n",
    "use_cuda = not no_cuda and torch.cuda.is_available()\n",
    "device = torch.device('cuda' if use_cuda else 'cpu')"
   ]
  },
  {
   "cell_type": "code",
   "execution_count": 18,
   "metadata": {},
   "outputs": [],
   "source": [
    "train_dataset = datasets.ImageFolder(root=train_dir,\n",
    "                                     transform=transforms.Compose([\n",
    "                                         transforms.ToTensor(),\n",
    "                                         transforms.Normalize((0.1307,), (0.3081,))\n",
    "                                     ]))\n",
    "\n",
    "test_dataset = datasets.ImageFolder(root=test_dir,\n",
    "                                    transform=transforms.Compose([\n",
    "                                         transforms.ToTensor(),\n",
    "                                         transforms.Normalize((0.1307,), (0.3081,))\n",
    "                                     ]))"
   ]
  },
  {
   "cell_type": "code",
   "execution_count": 19,
   "metadata": {},
   "outputs": [],
   "source": [
    "train_loader = torch.utils.data.DataLoader(train_dataset,\n",
    "                                           batch_size=batch_size,\n",
    "                                           shuffle=True)\n",
    "\n",
    "test_loader = torch.utils.data.DataLoader(test_dataset,\n",
    "                                          batch_size=batch_size,\n",
    "                                          shuffle=False)"
   ]
  },
  {
   "cell_type": "markdown",
   "metadata": {},
   "source": [
    "### Optimization"
   ]
  },
  {
   "cell_type": "code",
   "execution_count": 20,
   "metadata": {},
   "outputs": [],
   "source": [
    "model = Net().to(device)\n",
    "optimizer = optim.SGD(model.parameters(),\n",
    "                      lr=lr,\n",
    "                      momentum=momentum)"
   ]
  },
  {
   "cell_type": "markdown",
   "metadata": {},
   "source": [
    "### Training"
   ]
  },
  {
   "cell_type": "code",
   "execution_count": 21,
   "metadata": {},
   "outputs": [
    {
     "name": "stdout",
     "output_type": "stream",
     "text": [
      "Train Epoch : 1 [0 / 60000 (0%)]\tLoss : 2.298499\n",
      "Train Epoch : 1 [6400 / 60000 (11%)]\tLoss : 2.247866\n",
      "Train Epoch : 1 [12800 / 60000 (21%)]\tLoss : 2.118407\n",
      "Train Epoch : 1 [19200 / 60000 (32%)]\tLoss : 1.906714\n",
      "Train Epoch : 1 [25600 / 60000 (43%)]\tLoss : 1.300121\n",
      "Train Epoch : 1 [32000 / 60000 (53%)]\tLoss : 0.830375\n",
      "Train Epoch : 1 [38400 / 60000 (64%)]\tLoss : 0.639640\n",
      "Train Epoch : 1 [44800 / 60000 (75%)]\tLoss : 0.401675\n",
      "Train Epoch : 1 [51200 / 60000 (85%)]\tLoss : 0.562704\n",
      "Train Epoch : 1 [57600 / 60000 (96%)]\tLoss : 0.334808\n",
      "\n",
      "Test set : Average loss : 0.3848, Accuracy : 8888/10000 (89%)\n",
      "\n",
      "Train Epoch : 2 [0 / 60000 (0%)]\tLoss : 0.608515\n",
      "Train Epoch : 2 [6400 / 60000 (11%)]\tLoss : 0.298352\n",
      "Train Epoch : 2 [12800 / 60000 (21%)]\tLoss : 0.527408\n",
      "Train Epoch : 2 [19200 / 60000 (32%)]\tLoss : 0.296251\n",
      "Train Epoch : 2 [25600 / 60000 (43%)]\tLoss : 0.500392\n",
      "Train Epoch : 2 [32000 / 60000 (53%)]\tLoss : 0.202580\n",
      "Train Epoch : 2 [38400 / 60000 (64%)]\tLoss : 0.307653\n",
      "Train Epoch : 2 [44800 / 60000 (75%)]\tLoss : 0.352273\n",
      "Train Epoch : 2 [51200 / 60000 (85%)]\tLoss : 0.271633\n",
      "Train Epoch : 2 [57600 / 60000 (96%)]\tLoss : 0.245534\n",
      "\n",
      "Test set : Average loss : 0.2386, Accuracy : 9279/10000 (93%)\n",
      "\n",
      "Train Epoch : 3 [0 / 60000 (0%)]\tLoss : 0.243532\n",
      "Train Epoch : 3 [6400 / 60000 (11%)]\tLoss : 0.242880\n",
      "Train Epoch : 3 [12800 / 60000 (21%)]\tLoss : 0.230286\n",
      "Train Epoch : 3 [19200 / 60000 (32%)]\tLoss : 0.294201\n",
      "Train Epoch : 3 [25600 / 60000 (43%)]\tLoss : 0.219654\n",
      "Train Epoch : 3 [32000 / 60000 (53%)]\tLoss : 0.175025\n",
      "Train Epoch : 3 [38400 / 60000 (64%)]\tLoss : 0.269963\n",
      "Train Epoch : 3 [44800 / 60000 (75%)]\tLoss : 0.166816\n",
      "Train Epoch : 3 [51200 / 60000 (85%)]\tLoss : 0.115743\n",
      "Train Epoch : 3 [57600 / 60000 (96%)]\tLoss : 0.151697\n",
      "\n",
      "Test set : Average loss : 0.1818, Accuracy : 9487/10000 (95%)\n",
      "\n",
      "Train Epoch : 4 [0 / 60000 (0%)]\tLoss : 0.208786\n",
      "Train Epoch : 4 [6400 / 60000 (11%)]\tLoss : 0.184529\n",
      "Train Epoch : 4 [12800 / 60000 (21%)]\tLoss : 0.098498\n",
      "Train Epoch : 4 [19200 / 60000 (32%)]\tLoss : 0.101103\n",
      "Train Epoch : 4 [25600 / 60000 (43%)]\tLoss : 0.229238\n",
      "Train Epoch : 4 [32000 / 60000 (53%)]\tLoss : 0.157711\n",
      "Train Epoch : 4 [38400 / 60000 (64%)]\tLoss : 0.085998\n",
      "Train Epoch : 4 [44800 / 60000 (75%)]\tLoss : 0.100226\n",
      "Train Epoch : 4 [51200 / 60000 (85%)]\tLoss : 0.164658\n",
      "Train Epoch : 4 [57600 / 60000 (96%)]\tLoss : 0.104437\n",
      "\n",
      "Test set : Average loss : 0.1423, Accuracy : 9622/10000 (96%)\n",
      "\n",
      "Train Epoch : 5 [0 / 60000 (0%)]\tLoss : 0.204541\n",
      "Train Epoch : 5 [6400 / 60000 (11%)]\tLoss : 0.271683\n",
      "Train Epoch : 5 [12800 / 60000 (21%)]\tLoss : 0.191941\n",
      "Train Epoch : 5 [19200 / 60000 (32%)]\tLoss : 0.057362\n",
      "Train Epoch : 5 [25600 / 60000 (43%)]\tLoss : 0.150281\n",
      "Train Epoch : 5 [32000 / 60000 (53%)]\tLoss : 0.110415\n",
      "Train Epoch : 5 [38400 / 60000 (64%)]\tLoss : 0.099061\n",
      "Train Epoch : 5 [44800 / 60000 (75%)]\tLoss : 0.206950\n",
      "Train Epoch : 5 [51200 / 60000 (85%)]\tLoss : 0.073734\n",
      "Train Epoch : 5 [57600 / 60000 (96%)]\tLoss : 0.126201\n",
      "\n",
      "Test set : Average loss : 0.1180, Accuracy : 9668/10000 (97%)\n",
      "\n"
     ]
    }
   ],
   "source": [
    "for epoch in range(1, epochs + 1):\n",
    "    # Train mode\n",
    "    model.train()\n",
    "    \n",
    "    for batch_idx, (data, target) in enumerate(train_loader):\n",
    "        data, target = data.to(device), target.to(device)\n",
    "        optimizer.zero_grad() # backpropagation 계산 전 0으로 기울기 초기화\n",
    "        output = model(data)\n",
    "        loss = F.nll_loss(output, target)\n",
    "        loss.backward()\n",
    "        optimizer.step()\n",
    "        \n",
    "        if batch_idx % log_interval == 0:\n",
    "            print('Train Epoch : {} [{} / {} ({:.0f}%)]\\tLoss : {:.6f}'.format(\n",
    "                epoch, batch_idx*len(data), len(train_loader.dataset),\n",
    "                100. * batch_idx / len(train_loader), loss.item()\n",
    "            ))\n",
    "            \n",
    "    # Test mode\n",
    "    model.eval()\n",
    "    test_loss = 0\n",
    "    correct = 0\n",
    "    with torch.no_grad():\n",
    "        for data, target in test_loader:\n",
    "            data, target = data.to(device), target.to(device)\n",
    "            output = model(data)\n",
    "            test_loss += F.nll_loss(output, target, reduction='sum').item()\n",
    "            pred = output.argmax(dim=1, keepdim=True)\n",
    "            correct += pred.eq(target.view_as(pred)).sum().item()\n",
    "            \n",
    "    test_loss /= len(test_loader.dataset)\n",
    "    \n",
    "    print('\\nTest set : Average loss : {:.4f}, Accuracy : {}/{} ({:.0f}%)\\n'.format(\n",
    "        test_loss, correct, len(test_loader.dataset),\n",
    "        100. * correct / len(test_loader.dataset)\n",
    "    ))"
   ]
  }
 ],
 "metadata": {
  "kernelspec": {
   "display_name": "Python 3",
   "language": "python",
   "name": "python3"
  },
  "language_info": {
   "codemirror_mode": {
    "name": "ipython",
    "version": 3
   },
   "file_extension": ".py",
   "mimetype": "text/x-python",
   "name": "python",
   "nbconvert_exporter": "python",
   "pygments_lexer": "ipython3",
   "version": "3.8.5"
  }
 },
 "nbformat": 4,
 "nbformat_minor": 4
}
