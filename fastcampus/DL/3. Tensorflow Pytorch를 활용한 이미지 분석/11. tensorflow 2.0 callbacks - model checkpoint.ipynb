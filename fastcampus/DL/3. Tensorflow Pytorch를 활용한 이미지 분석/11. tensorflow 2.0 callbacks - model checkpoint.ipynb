{
 "cells": [
  {
   "cell_type": "code",
   "execution_count": 34,
   "metadata": {},
   "outputs": [
    {
     "name": "stdout",
     "output_type": "stream",
     "text": [
      "The tensorboard extension is already loaded. To reload it, use:\n",
      "  %reload_ext tensorboard\n"
     ]
    }
   ],
   "source": [
    "import os\n",
    "from glob import glob\n",
    "from datetime import datetime\n",
    "import numpy as np\n",
    "import tensorflow as tf\n",
    "from tensorflow.keras import layers\n",
    "from tensorflow.keras import datasets \n",
    "import matplotlib.pyplot as plt\n",
    "\n",
    "%load_ext tensorboard\n",
    "%matplotlib inline"
   ]
  },
  {
   "cell_type": "markdown",
   "metadata": {},
   "source": [
    "## Hyperparameter Tunning"
   ]
  },
  {
   "cell_type": "code",
   "execution_count": 2,
   "metadata": {},
   "outputs": [],
   "source": [
    "num_epochs = 20\n",
    "batch_size = 32\n",
    "\n",
    "learning_rate = 0.001\n",
    "\n",
    "dropout_rate = 0.5\n",
    "\n",
    "input_shape = (32, 32, 3)\n",
    "num_classes = 10"
   ]
  },
  {
   "cell_type": "markdown",
   "metadata": {},
   "source": [
    "## Build Model"
   ]
  },
  {
   "cell_type": "code",
   "execution_count": 3,
   "metadata": {},
   "outputs": [],
   "source": [
    "inputs = layers.Input(input_shape)\n",
    "\n",
    "net = layers.Conv2D(32, (3, 3), padding='SAME')(inputs)\n",
    "net = layers.Activation('relu')(net)\n",
    "net = layers.Conv2D(32, (3, 3), padding='SAME')(net)\n",
    "net = layers.Activation('relu')(net)\n",
    "net = layers.MaxPooling2D(pool_size=(2, 2))(net)\n",
    "net = layers.Dropout(dropout_rate)(net)\n",
    "\n",
    "net = layers.Conv2D(64, (3, 3), padding='SAME')(net)\n",
    "net = layers.Activation('relu')(net)\n",
    "net = layers.Conv2D(64, (3, 3), padding='SAME')(net)\n",
    "net = layers.Activation('relu')(net)\n",
    "net = layers.MaxPooling2D(pool_size=(2, 2))(net)\n",
    "net = layers.Dropout(dropout_rate)(net)\n",
    "\n",
    "net = layers.Flatten()(net)\n",
    "net = layers.Dense(512)(net)\n",
    "net = layers.Activation('relu')(net)\n",
    "net = layers.Dropout(dropout_rate)(net)\n",
    "net = layers.Dense(num_classes)(net)\n",
    "net = layers.Activation('softmax')(net)\n",
    "\n",
    "model = tf.keras.Model(inputs=inputs, outputs=net, name='Basic_CNN')"
   ]
  },
  {
   "cell_type": "code",
   "execution_count": 4,
   "metadata": {},
   "outputs": [],
   "source": [
    "# Model is the full model w/o custom layers\n",
    "model.compile(optimizer=tf.keras.optimizers.Adam(learning_rate),  # Optimization\n",
    "              loss='sparse_categorical_crossentropy',  # Loss Function \n",
    "              metrics=['accuracy'])  # Metrics / Accuracy"
   ]
  },
  {
   "cell_type": "markdown",
   "metadata": {},
   "source": [
    "# Data Preprocess"
   ]
  },
  {
   "cell_type": "code",
   "execution_count": 5,
   "metadata": {},
   "outputs": [],
   "source": [
    "train_paths = glob('../dataset/cifar/train/*.png')[:500]\n",
    "test_paths = glob('../dataset/cifar/test/*.png')[:500]"
   ]
  },
  {
   "cell_type": "code",
   "execution_count": 6,
   "metadata": {},
   "outputs": [],
   "source": [
    "def get_class_name(path):\n",
    "    return path.split('_')[-1].replace('.png', '')"
   ]
  },
  {
   "cell_type": "code",
   "execution_count": 7,
   "metadata": {},
   "outputs": [],
   "source": [
    "train_labels = [get_class_name(path) for path in train_paths]\n",
    "class_names = np.unique(train_labels)"
   ]
  },
  {
   "cell_type": "code",
   "execution_count": 8,
   "metadata": {},
   "outputs": [],
   "source": [
    "def get_label(path):\n",
    "    fname = tf.strings.split(path, '_')[-1]\n",
    "    lbl_name = tf.strings.regex_replace(fname, '.png', '')\n",
    "    onehot = tf.cast(lbl_name == class_names, tf.uint8)\n",
    "    return tf.argmax(onehot)  # 이번에는 onehot이 아닌 label 번호로"
   ]
  },
  {
   "cell_type": "code",
   "execution_count": 9,
   "metadata": {},
   "outputs": [],
   "source": [
    "def load_image_label(path):\n",
    "    gfile = tf.io.read_file(path)\n",
    "    image = tf.io.decode_image(gfile)\n",
    "    image = tf.cast(image, tf.float32) / 255.  # rescale\n",
    "    \n",
    "    label = get_label(path)\n",
    "    return image, label"
   ]
  },
  {
   "cell_type": "code",
   "execution_count": 10,
   "metadata": {},
   "outputs": [],
   "source": [
    "def image_preprocess(image, label):\n",
    "    image = tf.image.random_flip_up_down(image)\n",
    "    image = tf.image.random_flip_left_right(image)\n",
    "    return image, label"
   ]
  },
  {
   "cell_type": "code",
   "execution_count": 11,
   "metadata": {},
   "outputs": [],
   "source": [
    "# AUTOTUNE = tf.data.experimental.AUTOTUNE"
   ]
  },
  {
   "cell_type": "code",
   "execution_count": 12,
   "metadata": {
    "scrolled": false
   },
   "outputs": [],
   "source": [
    "train_dataset = tf.data.Dataset.from_tensor_slices(train_paths)\n",
    "# train_dataset = train_dataset.map(load_image_label, num_parallel_calls=AUTOTUNE)\n",
    "train_dataset = train_dataset.map(load_image_label)\n",
    "# train_dataset = train_dataset.map(image_preprocess, num_parallel_calls=AUTOTUNE)\n",
    "train_dataset = train_dataset.map(image_preprocess)\n",
    "train_dataset = train_dataset.batch(batch_size)\n",
    "train_dataset = train_dataset.shuffle(buffer_size=len(train_paths))\n",
    "train_dataset = train_dataset.repeat()"
   ]
  },
  {
   "cell_type": "code",
   "execution_count": 13,
   "metadata": {},
   "outputs": [],
   "source": [
    "test_dataset = tf.data.Dataset.from_tensor_slices(test_paths)\n",
    "# test_dataset = test_dataset.map(load_image_label, num_parallel_calls=AUTOTUNE)\n",
    "test_dataset = test_dataset.map(load_image_label)\n",
    "test_dataset = test_dataset.batch(batch_size)\n",
    "test_dataset = test_dataset.repeat()"
   ]
  },
  {
   "cell_type": "markdown",
   "metadata": {},
   "source": [
    "### Checkpoint"
   ]
  },
  {
   "cell_type": "code",
   "execution_count": 19,
   "metadata": {},
   "outputs": [],
   "source": [
    "save_path = 'checkpoints'\n",
    "check_point = tf.keras.callbacks.ModelCheckpoint(save_path,\n",
    "                                                 monitor='val_accuracy',\n",
    "                                                 vervose=1,\n",
    "                                                 save_best_only=True, # val_accuracy가 올라갔을때만 저장\n",
    "                                                 mode='max') "
   ]
  },
  {
   "cell_type": "markdown",
   "metadata": {},
   "source": [
    "### Training"
   ]
  },
  {
   "cell_type": "code",
   "execution_count": 22,
   "metadata": {
    "scrolled": true
   },
   "outputs": [
    {
     "name": "stderr",
     "output_type": "stream",
     "text": [
      "C:\\ProgramData\\Anaconda3\\lib\\site-packages\\tensorflow\\python\\keras\\engine\\training.py:1844: UserWarning: `Model.fit_generator` is deprecated and will be removed in a future version. Please use `Model.fit`, which supports generators.\n",
      "  warnings.warn('`Model.fit_generator` is deprecated and '\n"
     ]
    },
    {
     "name": "stdout",
     "output_type": "stream",
     "text": [
      "Epoch 1/20\n",
      "15/15 [==============================] - 3s 123ms/step - loss: 1.2173 - accuracy: 0.5449 - val_loss: 1.8315 - val_accuracy: 0.3938\n",
      "Epoch 2/20\n",
      "15/15 [==============================] - 2s 131ms/step - loss: 1.2369 - accuracy: 0.5449 - val_loss: 1.8884 - val_accuracy: 0.3792\n",
      "Epoch 3/20\n",
      "15/15 [==============================] - 2s 143ms/step - loss: 1.1539 - accuracy: 0.5427 - val_loss: 1.8005 - val_accuracy: 0.3875\n",
      "Epoch 4/20\n",
      "15/15 [==============================] - 2s 151ms/step - loss: 1.1052 - accuracy: 0.5940 - val_loss: 1.9272 - val_accuracy: 0.4021\n",
      "INFO:tensorflow:Assets written to: checkpoints\\assets\n",
      "Epoch 5/20\n",
      "15/15 [==============================] - 2s 152ms/step - loss: 1.1135 - accuracy: 0.6042 - val_loss: 1.8980 - val_accuracy: 0.4167\n",
      "INFO:tensorflow:Assets written to: checkpoints\\assets\n",
      "Epoch 6/20\n",
      "15/15 [==============================] - 2s 147ms/step - loss: 1.0642 - accuracy: 0.5965 - val_loss: 1.8466 - val_accuracy: 0.3917\n",
      "Epoch 7/20\n",
      "15/15 [==============================] - 2s 164ms/step - loss: 1.1496 - accuracy: 0.5855 - val_loss: 1.8890 - val_accuracy: 0.3958\n",
      "Epoch 8/20\n",
      "15/15 [==============================] - 2s 167ms/step - loss: 1.0966 - accuracy: 0.6111 - val_loss: 1.8276 - val_accuracy: 0.3938\n",
      "Epoch 9/20\n",
      "15/15 [==============================] - 2s 165ms/step - loss: 1.0729 - accuracy: 0.5983 - val_loss: 1.8957 - val_accuracy: 0.4187\n",
      "INFO:tensorflow:Assets written to: checkpoints\\assets\n",
      "Epoch 10/20\n",
      "15/15 [==============================] - 2s 156ms/step - loss: 1.0927 - accuracy: 0.5875 - val_loss: 1.9437 - val_accuracy: 0.4042\n",
      "Epoch 11/20\n",
      "15/15 [==============================] - 2s 148ms/step - loss: 0.9624 - accuracy: 0.6623 - val_loss: 2.1421 - val_accuracy: 0.3812\n",
      "Epoch 12/20\n",
      "15/15 [==============================] - 2s 147ms/step - loss: 1.0075 - accuracy: 0.5983 - val_loss: 1.9440 - val_accuracy: 0.3833\n",
      "Epoch 13/20\n",
      "15/15 [==============================] - 2s 148ms/step - loss: 0.9419 - accuracy: 0.6333 - val_loss: 1.9357 - val_accuracy: 0.3917\n",
      "Epoch 14/20\n",
      "15/15 [==============================] - 2s 146ms/step - loss: 0.8828 - accuracy: 0.6902 - val_loss: 2.1233 - val_accuracy: 0.3938\n",
      "Epoch 15/20\n",
      "15/15 [==============================] - 2s 146ms/step - loss: 0.9053 - accuracy: 0.6774 - val_loss: 2.0919 - val_accuracy: 0.4062\n",
      "Epoch 16/20\n",
      "15/15 [==============================] - 2s 145ms/step - loss: 0.9177 - accuracy: 0.6645 - val_loss: 2.0719 - val_accuracy: 0.4042\n",
      "Epoch 17/20\n",
      "15/15 [==============================] - 2s 144ms/step - loss: 0.8552 - accuracy: 0.6902 - val_loss: 1.9492 - val_accuracy: 0.4083\n",
      "Epoch 18/20\n",
      "15/15 [==============================] - 2s 148ms/step - loss: 0.9002 - accuracy: 0.7009 - val_loss: 2.0757 - val_accuracy: 0.4125\n",
      "Epoch 19/20\n",
      "15/15 [==============================] - 2s 150ms/step - loss: 0.7533 - accuracy: 0.7265 - val_loss: 1.9962 - val_accuracy: 0.3979\n",
      "Epoch 20/20\n",
      "15/15 [==============================] - 2s 146ms/step - loss: 0.8693 - accuracy: 0.6880 - val_loss: 2.1096 - val_accuracy: 0.4167\n"
     ]
    }
   ],
   "source": [
    "steps_per_epoch = len(train_paths) // batch_size\n",
    "validation_steps = len(test_paths) // batch_size\n",
    "\n",
    "history = model.fit_generator(\n",
    "    train_dataset,\n",
    "    steps_per_epoch=steps_per_epoch,\n",
    "    validation_data=test_dataset,\n",
    "    validation_steps=validation_steps,\n",
    "    epochs=num_epochs,\n",
    "    callbacks=[check_point]\n",
    ")"
   ]
  },
  {
   "cell_type": "markdown",
   "metadata": {},
   "source": [
    "### History"
   ]
  },
  {
   "cell_type": "code",
   "execution_count": 28,
   "metadata": {},
   "outputs": [
    {
     "data": {
      "text/plain": [
       "dict_keys(['loss', 'accuracy', 'val_loss', 'val_accuracy'])"
      ]
     },
     "execution_count": 28,
     "metadata": {},
     "output_type": "execute_result"
    }
   ],
   "source": [
    "# history.history\n",
    "history.history.keys()"
   ]
  },
  {
   "cell_type": "code",
   "execution_count": 29,
   "metadata": {
    "scrolled": true
   },
   "outputs": [
    {
     "data": {
      "text/plain": [
       "{'verbose': 1, 'epochs': 20, 'steps': 15}"
      ]
     },
     "execution_count": 29,
     "metadata": {},
     "output_type": "execute_result"
    }
   ],
   "source": [
    "history.params"
   ]
  },
  {
   "cell_type": "code",
   "execution_count": 32,
   "metadata": {},
   "outputs": [],
   "source": [
    "new_model = history.model"
   ]
  },
  {
   "cell_type": "code",
   "execution_count": 39,
   "metadata": {},
   "outputs": [
    {
     "data": {
      "image/png": "[encoded data removed]",
      "text/plain": [
       "<Figure size 432x288 with 1 Axes>"
      ]
     },
     "metadata": {
      "needs_background": "light"
     },
     "output_type": "display_data"
    }
   ],
   "source": [
    "plt.plot(history.history['accuracy'])\n",
    "plt.plot(history.history['val_accuracy'])\n",
    "plt.title('Model Accuracy')\n",
    "plt.xlabel('epoch')\n",
    "plt.ylabel('accuracy')\n",
    "plt.legend(['train', 'validataion'])\n",
    "plt.show()"
   ]
  },
  {
   "cell_type": "code",
   "execution_count": 40,
   "metadata": {},
   "outputs": [
    {
     "data": {
      "image/png": "[encoded data removed]",
      "text/plain": [
       "<Figure size 432x288 with 1 Axes>"
      ]
     },
     "metadata": {
      "needs_background": "light"
     },
     "output_type": "display_data"
    }
   ],
   "source": [
    "plt.plot(history.history['loss'])\n",
    "plt.plot(history.history['val_loss'])\n",
    "plt.title('Model Loss')\n",
    "plt.xlabel('epoch')\n",
    "plt.ylabel('loss')\n",
    "plt.legend(['train', 'validation'])\n",
    "plt.show()"
   ]
  }
 ],
 "metadata": {
  "kernelspec": {
   "display_name": "Python 3",
   "language": "python",
   "name": "python3"
  },
  "language_info": {
   "codemirror_mode": {
    "name": "ipython",
    "version": 3
   },
   "file_extension": ".py",
   "mimetype": "text/x-python",
   "name": "python",
   "nbconvert_exporter": "python",
   "pygments_lexer": "ipython3",
   "version": "3.8.5"
  }
 },
 "nbformat": 4,
 "nbformat_minor": 2
}
