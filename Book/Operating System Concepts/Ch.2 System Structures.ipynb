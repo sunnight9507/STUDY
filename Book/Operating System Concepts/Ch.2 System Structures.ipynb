{
 "cells": [
  {
   "cell_type": "markdown",
   "metadata": {},
   "source": [
    "### [출처 및 참조](https://parksb.github.io/article/6.html)"
   ]
  },
  {
   "cell_type": "markdown",
   "metadata": {},
   "source": [
    "# 1. Operating-System Services\n",
    "\n",
    "> - 운영체제는 사용자와 시스템에게 다양한 서비스를 제공한다.\n",
    "> - <img src=\"https://t1.daumcdn.net/cfile/tistory/99C28E475ACA0D3E2D\" width = 700 align=\"left\">"
   ]
  },
  {
   "cell_type": "markdown",
   "metadata": {},
   "source": [
    "> ### UI(User Interface)\n",
    "> - **`UI`**는 말그대로 **사용자와 컴퓨터 시스템이 만나는 지점**을 말한다.\n",
    "> - 키보드 타이핑이나 마우스 클릭과 같은 행동으로 사용자는 컴퓨터를 조작할 수 있다.\n",
    "> - 인터페이스는 크게 **CLI(Command-Line Interface)**와 **배치 인터페이스(Batch interface)**, 그리고 **GUI(Graphical User Interface)**로 나눌 수 있다. \n",
    "> - CLI는 **사용자가 텍스트 명령을 통해 명령을 내리는 인터페이스**다.\n",
    "    - 그리고 이러한 인터페이스를 제공하는 프로그램을 셸(Shell)이라고 부른다.\n",
    "    - 과거 MS-DOS나 애플소프트 베이직이 CLI를 기반으로 했다.\n",
    "> - 배치 인터페이스는 **명령을 파일에 넣어두고, 파일이 실행되면서 명령을 실행하는 인터페이스**다.\n",
    "    - CLI가 널리 쓰이기 이전, 40~60년대 컴퓨터는 이러한 방식을 사용했다.\n",
    "> - GUI는 **현재 가장 흔하게 찾아볼 수 있는 인터페이스**다.\n",
    "    - GUI 환경에서 사용자는 키보드 타이핑, 마우스 클릭, 손가락 터치 등 다양한 방법으로 화면에 띄워진 그래픽을 조작하며, 이를 통해 컴퓨터에게 명령을 내린다.\n",
    "\n",
    "\n",
    "> ### 프로그램 실행(Program execution)\n",
    "> - 시스템은 프로그램을 메모리에 로드하고, 이를 실행할 수 있어야 한다.\n",
    "> - 또한 프로그램은 정상적으로든 그렇지 않든 실행을 끝낼 수 있어야 한다.\n",
    "\n",
    "> ### 입출력 명령(I/O operations)\n",
    "> - 만약 프로그램이 입출력을 필요로한다면, 운영체제는 입출령 명령을 수행해야 한다.\n",
    "> - 이때 효율과 보안을 위해 운영체제는 사용자가 직접 입출력 장치를 조작하지 않고, 자신을 거치도록한다.\n",
    "\n",
    "> ### 파일 시스템 조작(File-system manipulation)\n",
    "> - 파일을 쓰고, 읽고, 만들고, 지운다. \n",
    "> - 또한 사용자가 파일에 접근하지 못하도록 막기도 한다.\n",
    "\n",
    "> ### 통신(Communications)\n",
    "> - 어떤 프로세스가 다른 프로세스와 정보를 교환해야 하는 상황에서 운영체제는 공유 메모리(Shared memory)나 메세지 패싱(Message passing)이라는 방법을 사용한다. \n",
    "> - 공유 메모리는 여러개의 프로세스가 메모리의 한 부분을 공유하도록 하는 것이고, 메세지 패싱은 프로세스 간에 정보 패킷(Packets)을 주고 받는 것을 말한다.(공유 메모리 방식보다 메세지 패싱 방식의 속도가 더 느리다.)\n",
    "\n",
    "> ### 에러 탐지(Error detection)\n",
    "> - 운영체제는 CPU나 메모리와 같은 하드웨어, 입출력장치, 그리고 사용자 프로그램 등에서 일어나는 에러를 탐지하고, 바로 잡아야 한다.\n",
    "\n",
    "- 운영체제는 사용자에게 직접적인 도움은 안 되지만, 시스템을 위한 작업도 수행한다.\n",
    "\n",
    "> ### 자원 할당(Resource allocation)\n",
    "> - 여러 사용자나 여러 작업을 동시에 처리해야 한다면, 컴퓨팅 자원은 각각 잘 배분되어야 한다. \n",
    "> - 이러한 상황에서 운영체제는 다양한 종류의 자원을 관리한다.\n",
    "\n",
    "> ### 회계(Accounting) \n",
    "> - 시스템은 어떤 유저가 어떤 종류의 자원을 얼마나 사용하고 있는지 계속 추적해야 한다.\n",
    "> - 이 기록은 회계나 사용량 통계를 위해 사용될 수 있다.\n",
    "> - 직역하면 회계지만, 대략 관리, 통계 정도로 받아들이면 될 것 같다.\n",
    "\n",
    "> ### 보호와 보안(Protection and security)\n",
    "> - 몇 번을 말해도 모자랄 정도로 중요한 부분이다.\n",
    "> - 인텔의 CPU게이트를 생각해보자."
   ]
  },
  {
   "cell_type": "markdown",
   "metadata": {},
   "source": [
    "# 2. System Calls\n",
    "\n",
    "> - **`시스템 콜`**은 **커널과 사용자 프로그램을 이어주는 인터페이스 역할**을 한다. \n",
    "> - 좀 생소하게 느껴질 수도 있겠지만, 그냥 로우 레벨 작업을 하는 코드라고 생각하면 된다.\n",
    "> - <img src=\"https://user-images.githubusercontent.com/6410412/54861485-d9f48c00-4d6c-11e9-8eb6-f1bd59fa582d.png\" width = 700 align=\"left\">"
   ]
  },
  {
   "cell_type": "markdown",
   "metadata": {},
   "source": [
    "> - 사용자 프로그램이 디스크에 있는 파일을 연다는 것은 파일 시스템에 접근한다는 의미다. **시스템에 접근하기 위해서는 커널 모드로 전환되어야 하는데, 이때 `시스템 콜`을 사용**한다. \n",
    "> - 메모리의 특정 주소 범위에는 어떤 동작들이 할당되어 있다. 이것을 **시스템 콜 테이블(System call table)**이라고 부르며, **인터럽트 벡터(Interrupt vector)**라고도 부른다. \n",
    "    - 예를 들어 **`fopen()`** 함수를 호출한다면, 운영체제는 파일을 여는 함수를 찾기 위해 시스템 콜 테이블을 참조한다. \n",
    "> - 시스템 콜 테이블은 메모리 주소의 모음인데, 해당 메모리 주소는 인터럽트 서비스 루틴(Interrupt service routine)을 가리키고 있다. \n",
    "> - 인터럽트 서비스 루틴은 일반적으로 C로 짜여진 코드이며, 시스템 콜 테이블이 가리키는 특정 메모리 주소가 구체적으로 어떤 동작을할지 정의해놓은 것이다.\n",
    "\n",
    "> - 시스템 콜에는 **`fork()`**, **`exit()`**, **`read()`**, **`write()`**와 같은 함수들이 있다.\n",
    "> - 하지만 개발자가 이것을 직접 조작하는 것은 불편하고 위험한 일이므로, 표준 라이브러리(Standard library)를 사용한다. \n",
    "> - **`stdio.h`**가 그 일종이다.\n",
    "\n",
    "> - 사용자 프로그램이 운영체제에게 매개변수를 넘기는 방법은 3가지가 있다.\n",
    "    - **Call by value**: 매개변수의 값 자체를 복사해서 CPU 레지스터에 전달한다.\n",
    "    - **Call by reference**: 값의 메모리 주소를 전달한다. 많은 값을 전달한다면 이렇게 하는 것이 효율적이다.\n",
    "    - 프로그램에을 통해 스택(Stack)에 매개변수를 추가하고, 운영체제를 통해 값을 뺀다."
   ]
  },
  {
   "cell_type": "markdown",
   "metadata": {},
   "source": [
    "# 3. Types of System Calls\n",
    "\n",
    "> - 시스템 콜은 크게 6가지로 분류할 수 있다.\n",
    "    - 프로세스 제어: end, abort, load, execute\n",
    "    - 파일 관리: create, delete, open, close, read, write\n",
    "    - 장치 관리: read, write, request, release\n",
    "    - 정보 유지: get/set time or date\n",
    "    - 통신: send/receive messages, transfer status\n",
    "    - 보호"
   ]
  },
  {
   "cell_type": "markdown",
   "metadata": {},
   "source": [
    "# 4. Operating System Structure\n",
    "\n",
    "> - 현대 운영체제는 계층을 나눠서 시스템을 관리한다.\n",
    "\n",
    "### Simple Structure\n",
    "\n",
    "> - <img src=\"https://t1.daumcdn.net/cfile/tistory/993927335ADF021139\" width = 300 align=\"left\">"
   ]
  }
 ],
 "metadata": {
  "kernelspec": {
   "display_name": "Python 3",
   "language": "python",
   "name": "python3"
  },
  "language_info": {
   "codemirror_mode": {
    "name": "ipython",
    "version": 3
   },
   "file_extension": ".py",
   "mimetype": "text/x-python",
   "name": "python",
   "nbconvert_exporter": "python",
   "pygments_lexer": "ipython3",
   "version": "3.8.5"
  }
 },
 "nbformat": 4,
 "nbformat_minor": 4
}
