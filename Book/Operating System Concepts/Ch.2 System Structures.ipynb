{
 "cells": [
  {
   "cell_type": "markdown",
   "metadata": {},
   "source": [
    "### [출처 및 참조](https://parksb.github.io/article/6.html)"
   ]
  },
  {
   "cell_type": "markdown",
   "metadata": {},
   "source": [
    "# 1. Operating-System Services\n",
    "\n",
    "> - 운영체제는 사용자와 시스템에게 다양한 서비스를 제공한다.\n",
    "- <img src=\"https://t1.daumcdn.net/cfile/tistory/99C28E475ACA0D3E2D\" width = 700 align=\"left\">"
   ]
  },
  {
   "cell_type": "markdown",
   "metadata": {},
   "source": [
    "> ### UI(User Interface)\n",
    "- **`UI`**는 말그대로 **사용자와 컴퓨터 시스템이 만나는 지점**을 말한다.\n",
    "- 키보드 타이핑이나 마우스 클릭과 같은 행동으로 사용자는 컴퓨터를 조작할 수 있다.\n",
    "- 인터페이스는 크게 **CLI(Command-Line Interface)**와 **배치 인터페이스(Batch interface)**, 그리고 **GUI(Graphical User Interface)**로 나눌 수 있다. \n",
    "- CLI는 **사용자가 텍스트 명령을 통해 명령을 내리는 인터페이스**다.\n",
    "    - 그리고 이러한 인터페이스를 제공하는 프로그램을 셸(Shell)이라고 부른다.\n",
    "    - 과거 MS-DOS나 애플소프트 베이직이 CLI를 기반으로 했다.\n",
    "- 배치 인터페이스는 **명령을 파일에 넣어두고, 파일이 실행되면서 명령을 실행하는 인터페이스**다.\n",
    "    - CLI가 널리 쓰이기 이전, 40~60년대 컴퓨터는 이러한 방식을 사용했다.\n",
    "- GUI는 **현재 가장 흔하게 찾아볼 수 있는 인터페이스**다.\n",
    "    - GUI 환경에서 사용자는 키보드 타이핑, 마우스 클릭, 손가락 터치 등 다양한 방법으로 화면에 띄워진 그래픽을 조작하며, 이를 통해 컴퓨터에게 명령을 내린다.\n",
    "\n",
    "\n",
    "> ### 프로그램 실행(Program execution)\n",
    "- 시스템은 프로그램을 메모리에 로드하고, 이를 실행할 수 있어야 한다.\n",
    "- 또한 프로그램은 정상적으로든 그렇지 않든 실행을 끝낼 수 있어야 한다.\n",
    "\n",
    "> ### 입출력 명령(I/O operations)\n",
    "- 만약 프로그램이 입출력을 필요로한다면, 운영체제는 입출령 명령을 수행해야 한다.\n",
    "- 이때 효율과 보안을 위해 운영체제는 사용자가 직접 입출력 장치를 조작하지 않고, 자신을 거치도록한다.\n",
    "\n",
    "> ### 파일 시스템 조작(File-system manipulation)\n",
    "- 파일을 쓰고, 읽고, 만들고, 지운다. \n",
    "- 또한 사용자가 파일에 접근하지 못하도록 막기도 한다.\n",
    "\n",
    "> ### 통신(Communications)\n",
    "- 어떤 프로세스가 다른 프로세스와 정보를 교환해야 하는 상황에서 운영체제는 공유 메모리(Shared memory)나 메세지 패싱(Message passing)이라는 방법을 사용한다. \n",
    "- 공유 메모리는 여러개의 프로세스가 메모리의 한 부분을 공유하도록 하는 것이고, 메세지 패싱은 프로세스 간에 정보 패킷(Packets)을 주고 받는 것을 말한다.(공유 메모리 방식보다 메세지 패싱 방식의 속도가 더 느리다.)\n",
    "\n",
    "> ### 에러 탐지(Error detection)\n",
    "- 운영체제는 CPU나 메모리와 같은 하드웨어, 입출력장치, 그리고 사용자 프로그램 등에서 일어나는 에러를 탐지하고, 바로 잡아야 한다.\n",
    "\n",
    "- 운영체제는 사용자에게 직접적인 도움은 안 되지만, 시스템을 위한 작업도 수행한다.\n",
    "\n",
    "> ### 자원 할당(Resource allocation)\n",
    "- 여러 사용자나 여러 작업을 동시에 처리해야 한다면, 컴퓨팅 자원은 각각 잘 배분되어야 한다. \n",
    "- 이러한 상황에서 운영체제는 다양한 종류의 자원을 관리한다.\n",
    "\n",
    "> ### 회계(Accounting) \n",
    "- 시스템은 어떤 유저가 어떤 종류의 자원을 얼마나 사용하고 있는지 계속 추적해야 한다.\n",
    "- 이 기록은 회계나 사용량 통계를 위해 사용될 수 있다.\n",
    "- 직역하면 회계지만, 대략 관리, 통계 정도로 받아들이면 될 것 같다.\n",
    "\n",
    "> ### 보호와 보안(Protection and security)\n",
    "- 몇 번을 말해도 모자랄 정도로 중요한 부분이다.\n",
    "- 인텔의 CPU게이트를 생각해보자."
   ]
  },
  {
   "cell_type": "code",
   "execution_count": null,
   "metadata": {},
   "outputs": [],
   "source": []
  }
 ],
 "metadata": {
  "kernelspec": {
   "display_name": "Python 3",
   "language": "python",
   "name": "python3"
  },
  "language_info": {
   "codemirror_mode": {
    "name": "ipython",
    "version": 3
   },
   "file_extension": ".py",
   "mimetype": "text/x-python",
   "name": "python",
   "nbconvert_exporter": "python",
   "pygments_lexer": "ipython3",
   "version": "3.8.3"
  }
 },
 "nbformat": 4,
 "nbformat_minor": 4
}
