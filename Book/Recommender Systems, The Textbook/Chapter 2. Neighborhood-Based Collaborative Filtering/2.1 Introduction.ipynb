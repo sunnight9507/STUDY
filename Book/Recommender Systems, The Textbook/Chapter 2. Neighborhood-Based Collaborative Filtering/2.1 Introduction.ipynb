{
 "cells": [
  {
   "cell_type": "markdown",
   "metadata": {},
   "source": [
    "> - 메모리 기반 알고리즘이라고도 하는 이웃 기반 협업 필터링 알고리즘은 협업 필터링을 위해 개발된 가장 초기 알고리즘 중 하나이다.\n",
    "- 이러한 알고리즘은 유사한 사용자가 유사한 등급 행동 패턴을 보이고 유사한 항목이 유사한 등급을 받는다는 사실에 기초한다.\n",
    "- 이웃 기반 알고리즘에는 두 가지 기본 유형이 있다.\n",
    "\n",
    "> ### 1) User-based collaborative filtering\n",
    "- 이 경우 대상 사용자 A와 유사한 사용자가 제공한 평점을 사용하여 A를 추천한다.\n",
    "- A의 예측 등급은 각 항목에 대해 이러한 \"peer group\" 등급의 가중 평균 값으로 계산된다.\n",
    "\n",
    "> ### 2) Item-based collaborative filtering\n",
    "- 대상 항목 B에 대한 추천을 하기 위해 첫 번째 단계는 항목 B와 가장 유사한 항목 S를 결정하는 것이다.\n",
    "- 그런 다음, 항목 B에 대한 특정 사용자 A의 등급을 예측하기 위해, A에 의해 지정된 세트 S의 등급을 확인한다.\n",
    "- S의 등급 가중 평균은 항목 B에 대한 사용자 A의 예측 등급을 계산하는 데 사용된다.\n",
    "\n",
    "> - **사용자 기반 협업 필터링**과 **아이템 기반 협업 필터링** 알고리즘의 중요한 구분은 전자의 경우 등급이 **인접 사용자의 등급을 사용**하여 예측되는 반면 후자의 경우 등급은 **인접(즉, 밀접하게 관련된) 항목에 대한 사용자 자신의 등급을 사용**하여 예측된다는 것이다."
   ]
  }
 ],
 "metadata": {
  "kernelspec": {
   "display_name": "Python 3",
   "language": "python",
   "name": "python3"
  },
  "language_info": {
   "codemirror_mode": {
    "name": "ipython",
    "version": 3
   },
   "file_extension": ".py",
   "mimetype": "text/x-python",
   "name": "python",
   "nbconvert_exporter": "python",
   "pygments_lexer": "ipython3",
   "version": "3.8.3"
  }
 },
 "nbformat": 4,
 "nbformat_minor": 4
}
