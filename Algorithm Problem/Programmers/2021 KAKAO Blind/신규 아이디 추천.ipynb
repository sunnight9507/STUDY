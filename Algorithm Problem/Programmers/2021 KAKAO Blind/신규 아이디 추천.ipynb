{
 "cells": [
  {
   "cell_type": "code",
   "execution_count": 1,
   "id": "identified-tractor",
   "metadata": {},
   "outputs": [],
   "source": [
    "def solution(new_id):\n",
    "    # 1\n",
    "    new_id = new_id.lower()\n",
    "    \n",
    "    # 2\n",
    "    check_lst = '~!@#$%^&*()=+[{]}:?,<>/'\n",
    "    for _ in check_lst:\n",
    "        new_id = new_id.replace(_,'')\n",
    "        \n",
    "    # 3\n",
    "    cnt = 0\n",
    "    new_lst = []\n",
    "    for idx, _ in enumerate(new_id):\n",
    "        if _ == '.':\n",
    "            cnt += 1\n",
    "            if cnt < 2:\n",
    "                new_lst.append(_)\n",
    "        else:\n",
    "            cnt = 0\n",
    "            new_lst.append(_)\n",
    "\n",
    "    new_id = ''.join(new_lst)\n",
    "\n",
    "    # 4\n",
    "    if new_id and new_id[0] == '.':\n",
    "        new_id = new_id[1:]\n",
    "    \n",
    "    if new_id and new_id[-1] == '.':\n",
    "        new_id = new_id[:-1]\n",
    "        \n",
    "    # 5\n",
    "    if len(new_id) == 0:\n",
    "        new_id = 'a'\n",
    "        \n",
    "    # 6\n",
    "    if len(new_id) > 15:\n",
    "        new_id = new_id[:15]\n",
    "        if new_id[-1] == '.':\n",
    "            new_id = new_id[:-1]\n",
    "    \n",
    "    # 7\n",
    "    if len(new_id) == 1:\n",
    "        new_id = new_id * 3\n",
    "    elif len(new_id) == 2:\n",
    "        new_id = new_id + new_id[-1]\n",
    "        \n",
    "    return new_id"
   ]
  },
  {
   "cell_type": "code",
   "execution_count": null,
   "id": "applied-ticket",
   "metadata": {},
   "outputs": [],
   "source": []
  }
 ],
 "metadata": {
  "kernelspec": {
   "display_name": "Python 3",
   "language": "python",
   "name": "python3"
  },
  "language_info": {
   "codemirror_mode": {
    "name": "ipython",
    "version": 3
   },
   "file_extension": ".py",
   "mimetype": "text/x-python",
   "name": "python",
   "nbconvert_exporter": "python",
   "pygments_lexer": "ipython3",
   "version": "3.8.5"
  }
 },
 "nbformat": 4,
 "nbformat_minor": 5
}
