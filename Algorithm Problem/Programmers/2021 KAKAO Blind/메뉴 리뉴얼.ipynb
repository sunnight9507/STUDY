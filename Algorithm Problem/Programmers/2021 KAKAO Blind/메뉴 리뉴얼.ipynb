{
 "cells": [
  {
   "cell_type": "code",
   "execution_count": 28,
   "id": "widespread-palestine",
   "metadata": {},
   "outputs": [],
   "source": [
    "# 4.31ms, 10.2MB\n",
    "from itertools import combinations\n",
    "from collections import defaultdict\n",
    "\n",
    "def solution(orders, course):\n",
    "    result_course = []\n",
    "    \n",
    "    for c in course:\n",
    "        max_course_count = 0\n",
    "        course_dict = defaultdict(lambda: 0)\n",
    "        \n",
    "        for order in orders:\n",
    "            for comb in combinations(order, c):\n",
    "                comb = \"\".join(sorted(comb))\n",
    "                course_dict[comb] += 1\n",
    "                max_course_count = max(max_course_count, course_dict[comb])\n",
    "        \n",
    "        if max_course_count > 1:\n",
    "            for temp_course, count in course_dict.items():\n",
    "                if count == max_course_count:\n",
    "                    result_course.append(temp_course)\n",
    "            \n",
    "    return sorted(result_course)"
   ]
  },
  {
   "cell_type": "code",
   "execution_count": 29,
   "id": "exclusive-veteran",
   "metadata": {},
   "outputs": [
    {
     "data": {
      "text/plain": [
       "['AC', 'ACDE', 'BCFG', 'CDE']"
      ]
     },
     "execution_count": 29,
     "metadata": {},
     "output_type": "execute_result"
    }
   ],
   "source": [
    "solution([\"ABCFG\", \"AC\", \"CDE\", \"ACDE\", \"BCFG\", \"ACDEH\"], [2,3,4])"
   ]
  },
  {
   "cell_type": "code",
   "execution_count": 30,
   "id": "acoustic-closer",
   "metadata": {},
   "outputs": [
    {
     "data": {
      "text/plain": [
       "['WX', 'XY']"
      ]
     },
     "execution_count": 30,
     "metadata": {},
     "output_type": "execute_result"
    }
   ],
   "source": [
    "solution([\"XYZ\", \"XWY\", \"WXA\"], [2,3,4])"
   ]
  }
 ],
 "metadata": {
  "kernelspec": {
   "display_name": "Python 3",
   "language": "python",
   "name": "python3"
  },
  "language_info": {
   "codemirror_mode": {
    "name": "ipython",
    "version": 3
   },
   "file_extension": ".py",
   "mimetype": "text/x-python",
   "name": "python",
   "nbconvert_exporter": "python",
   "pygments_lexer": "ipython3",
   "version": "3.8.5"
  }
 },
 "nbformat": 4,
 "nbformat_minor": 5
}
