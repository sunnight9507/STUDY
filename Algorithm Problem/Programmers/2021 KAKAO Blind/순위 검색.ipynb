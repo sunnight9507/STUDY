{
 "cells": [
  {
   "cell_type": "code",
   "execution_count": null,
   "metadata": {},
   "outputs": [],
   "source": [
    "# 테스트 1 〉\t통과 (0.37ms, 10.4MB)\n",
    "# 테스트 2 〉\t통과 (0.38ms, 10.3MB)\n",
    "# 테스트 3 〉\t통과 (0.62ms, 10.5MB)\n",
    "# 테스트 4 〉\t통과 (1.54ms, 10.6MB)\n",
    "# 테스트 5 〉\t통과 (2.29ms, 10.5MB)\n",
    "# 테스트 6 〉\t통과 (5.43ms, 10.5MB)\n",
    "# 테스트 7 〉\t통과 (2.82ms, 10.6MB)\n",
    "# 테스트 8 〉\t통과 (43.65ms, 11.5MB)\n",
    "# 테스트 9 〉\t통과 (47.22ms, 13.3MB)\n",
    "# 테스트 10 〉\t통과 (47.86ms, 14MB)\n",
    "# 테스트 11 〉\t통과 (2.21ms, 10.5MB)\n",
    "# 테스트 12 〉\t통과 (5.47ms, 10.7MB)\n",
    "# 테스트 13 〉\t통과 (2.66ms, 10.6MB)\n",
    "# 테스트 14 〉\t통과 (24.27ms, 12.1MB)\n",
    "# 테스트 15 〉\t통과 (24.31ms, 12MB)\n",
    "# 테스트 16 〉\t통과 (2.02ms, 10.5MB)\n",
    "# 테스트 17 〉\t통과 (5.65ms, 10.8MB)\n",
    "# 테스트 18 〉\t통과 (23.81ms, 12MB)\n",
    "\n",
    "# 테스트 1 〉\t통과 (736.61ms, 64MB)\n",
    "# 테스트 2 〉\t통과 (691.65ms, 64.2MB)\n",
    "# 테스트 3 〉\t통과 (694.42ms, 63.5MB)\n",
    "# 테스트 4 〉\t통과 (718.72ms, 64.3MB)\n",
    "from bisect import bisect_left\n",
    "\n",
    "def solution(info, query):\n",
    "    \n",
    "    information = {}\n",
    "    \n",
    "    language_list = [\"cpp \", \"java \", \"python \", \"- \"]\n",
    "    task_list = [\"backend \", \"frontend \", \"- \"]\n",
    "    career_list = [\"junior \", \"senior \", \"- \"]\n",
    "    food_list = [\"chicken\", \"pizza\", \"-\"]\n",
    "    \n",
    "    for l in language_list:\n",
    "        for t in task_list:\n",
    "            for c in career_list:\n",
    "                for f in food_list:\n",
    "                    information[l+t+c+f] = []\n",
    "    \n",
    "    for i in info:\n",
    "        language, task, career, food, score = i.split()\n",
    "        tmp_key = \"\"\n",
    "        for l in [\"-\", language]:\n",
    "            for t in [\"-\", task]:\n",
    "                for c in [\"-\", career]:\n",
    "                    for f in [\"-\", food]:\n",
    "                        tmp_key = \" \".join([l, t, c, f])\n",
    "                        information[tmp_key].append(int(score))\n",
    "    \n",
    "    for i in information.keys():\n",
    "        information[i].sort()    \n",
    "    \n",
    "    result = []\n",
    "    for i in query:\n",
    "        language, _, task, _, career, _, food, score = i.split(\" \")\n",
    "        tmp_key = \" \".join([language, task, career, food])\n",
    "        tmp_count = 0\n",
    "        score = int(score)\n",
    "        result.append(len(information[tmp_key]) - bisect_left(information[tmp_key], int(score)))\n",
    "    \n",
    "    return result"
   ]
  },
  {
   "cell_type": "code",
   "execution_count": 93,
   "metadata": {},
   "outputs": [],
   "source": [
    "# 테스트 1 〉\t통과 (0.12ms, 10.4MB)\n",
    "# 테스트 2 〉\t통과 (0.18ms, 10.4MB)\n",
    "# 테스트 3 〉\t통과 (0.74ms, 10.4MB)\n",
    "# 테스트 4 〉\t통과 (3.89ms, 10.6MB)\n",
    "# 테스트 5 〉\t통과 (5.18ms, 10.7MB)\n",
    "# 테스트 6 〉\t통과 (3.85ms, 10.6MB)\n",
    "# 테스트 7 〉\t통과 (9.02ms, 10.7MB)\n",
    "# 테스트 8 〉\t통과 (10.54ms, 11.3MB)\n",
    "# 테스트 9 〉\t통과 (10.71ms, 11.3MB)\n",
    "# 테스트 10 〉\t통과 (10.36ms, 11.4MB)\n",
    "# 테스트 11 〉\t통과 (4.86ms, 10.6MB)\n",
    "# 테스트 12 〉\t통과 (3.86ms, 10.6MB)\n",
    "# 테스트 13 〉\t통과 (8.65ms, 10.7MB)\n",
    "# 테스트 14 〉\t통과 (6.44ms, 10.9MB)\n",
    "# 테스트 15 〉\t통과 (6.47ms, 10.9MB)\n",
    "# 테스트 16 〉\t통과 (5.20ms, 10.6MB)\n",
    "# 테스트 17 〉\t통과 (3.79ms, 10.6MB)\n",
    "# 테스트 18 〉\t통과 (6.16ms, 10.8MB)\n",
    "\n",
    "# 테스트 1 〉\t통과 (654.04ms, 50.8MB)\n",
    "# 테스트 2 〉\t통과 (662.43ms, 51.4MB)\n",
    "# 테스트 3 〉\t통과 (1379.11ms, 48.8MB)\n",
    "# 테스트 4 〉\t통과 (1358.70ms, 49.1MB)\n",
    "\n",
    "from functools import reduce\n",
    "from collections import defaultdict\n",
    "from bisect import insort, bisect_left\n",
    "\n",
    "def solution(info, query):\n",
    "    table = {\"c\": 3, \"j\": 5, \"p\": 6, \"b\": 6, \"f\": 5, \"s\": 6, \"-\": 0}\n",
    "    conv = lambda l, t: (reduce(lambda a, k: (a << 3) + t(table[k[0]]), l[:-1], 0), int(l[-1]))\n",
    "    info = list(map(lambda s: conv(s.split(\" \"), lambda x: 7 - x), info))\n",
    "    query = list(map(lambda s: conv([c for c in s.split(\" \") if c != \"and\"], lambda x: x), query))\n",
    "    d = defaultdict(list)\n",
    "    for k, v in info:\n",
    "        insort(d[k], v)\n",
    "    return [sum([len(l) - bisect_left(l, v) for k, l in d.items() if not k & q]) for q, v in query]"
   ]
  },
  {
   "cell_type": "code",
   "execution_count": 90,
   "metadata": {},
   "outputs": [
    {
     "data": {
      "text/plain": [
       "[1, 1, 1, 1, 2, 4]"
      ]
     },
     "execution_count": 90,
     "metadata": {},
     "output_type": "execute_result"
    }
   ],
   "source": [
    "solution([\"java backend junior pizza 150\",\"python frontend senior chicken 210\",\"python frontend senior chicken 150\",\"cpp backend senior pizza 260\",\"java backend junior chicken 80\",\"python backend senior chicken 50\"],\n",
    "         [\"java and backend and junior and pizza 100\",\"python and frontend and senior and chicken 200\",\"cpp and - and senior and pizza 250\",\"- and backend and senior and - 150\",\"- and - and - and chicken 100\",\"- and - and - and - 150\"])"
   ]
  },
  {
   "cell_type": "code",
   "execution_count": null,
   "metadata": {},
   "outputs": [],
   "source": []
  },
  {
   "cell_type": "code",
   "execution_count": null,
   "metadata": {},
   "outputs": [],
   "source": []
  },
  {
   "cell_type": "code",
   "execution_count": null,
   "metadata": {},
   "outputs": [],
   "source": []
  },
  {
   "cell_type": "code",
   "execution_count": null,
   "metadata": {},
   "outputs": [],
   "source": []
  },
  {
   "cell_type": "code",
   "execution_count": null,
   "metadata": {},
   "outputs": [],
   "source": []
  },
  {
   "cell_type": "code",
   "execution_count": null,
   "metadata": {},
   "outputs": [],
   "source": []
  },
  {
   "cell_type": "code",
   "execution_count": null,
   "metadata": {},
   "outputs": [],
   "source": []
  }
 ],
 "metadata": {
  "kernelspec": {
   "display_name": "Python 3",
   "language": "python",
   "name": "python3"
  },
  "language_info": {
   "codemirror_mode": {
    "name": "ipython",
    "version": 3
   },
   "file_extension": ".py",
   "mimetype": "text/x-python",
   "name": "python",
   "nbconvert_exporter": "python",
   "pygments_lexer": "ipython3",
   "version": "3.8.5"
  }
 },
 "nbformat": 4,
 "nbformat_minor": 5
}
