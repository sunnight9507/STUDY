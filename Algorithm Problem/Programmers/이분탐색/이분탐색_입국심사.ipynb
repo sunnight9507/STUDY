{
 "cells": [
  {
   "cell_type": "code",
   "execution_count": 68,
   "metadata": {},
   "outputs": [],
   "source": [
    "def solution(n, times):\n",
    "    _max = 1000\n",
    "    _min = 0\n",
    "    \n",
    "    tmp = (_max + _min) // 2 + 1\n",
    "    \n",
    "    result = _max\n",
    "    \n",
    "    right, left = False, False\n",
    "    \n",
    "    while _min < _max:\n",
    "        cnt = 0\n",
    "        for _ in times:\n",
    "            cnt += tmp // _\n",
    "        \n",
    "        if cnt >= n:\n",
    "            if cnt == n and result > _max:\n",
    "                result = _max\n",
    "            _max = tmp\n",
    "            tmp = (_max + _min) // 2\n",
    "        else:\n",
    "            _min = tmp\n",
    "            tmp = (_max + _min) // 2 + 1\n",
    "            \n",
    "        if tmp == _max: left = True\n",
    "        elif tmp == _min: right = True\n",
    "            \n",
    "        print(result, tmp, _max, _min, cnt)    \n",
    "        if left and right:\n",
    "            return result\n",
    "    \n",
    "        "
   ]
  },
  {
   "cell_type": "code",
   "execution_count": 85,
   "metadata": {},
   "outputs": [],
   "source": [
    "def solution(n, times):\n",
    "    _max = max(times)*n\n",
    "    _min = 0\n",
    "    \n",
    "    \n",
    "    \n",
    "    while (_min < _max):\n",
    "        \n",
    "        tmp = (_max + _min) // 2\n",
    "        cnt = 0\n",
    "        for _ in times:\n",
    "            cnt += (tmp // _)\n",
    "        \n",
    "        if cnt >= n:\n",
    "            _max = tmp\n",
    "        else:\n",
    "            _min = tmp + 1\n",
    "            \n",
    "        print(_max, _min, tmp, cnt)\n",
    "    return _min"
   ]
  },
  {
   "cell_type": "code",
   "execution_count": 87,
   "metadata": {},
   "outputs": [
    {
     "name": "stdout",
     "output_type": "stream",
     "text": [
      "75 0 75 144\n",
      "37 0 37 70\n",
      "18 0 18 34\n",
      "9 0 9 16\n",
      "9 5 4 7\n",
      "9 8 7 12\n",
      "9 9 8 14\n"
     ]
    },
    {
     "data": {
      "text/plain": [
       "9"
      ]
     },
     "execution_count": 87,
     "metadata": {},
     "output_type": "execute_result"
    }
   ],
   "source": [
    "solution(15,[1,2,3,10])"
   ]
  }
 ],
 "metadata": {
  "kernelspec": {
   "display_name": "Python 3",
   "language": "python",
   "name": "python3"
  },
  "language_info": {
   "codemirror_mode": {
    "name": "ipython",
    "version": 3
   },
   "file_extension": ".py",
   "mimetype": "text/x-python",
   "name": "python",
   "nbconvert_exporter": "python",
   "pygments_lexer": "ipython3",
   "version": "3.8.3"
  }
 },
 "nbformat": 4,
 "nbformat_minor": 4
}
