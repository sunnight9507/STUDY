{
 "cells": [
  {
   "cell_type": "code",
   "execution_count": 39,
   "metadata": {},
   "outputs": [],
   "source": [
    "def solution(distance, rocks, n):\n",
    "    rocks.extend([0, distance])\n",
    "    rocks.sort()\n",
    "    \n",
    "    _min = 0\n",
    "    _max = 1000000000\n",
    "    while _min < _max:\n",
    "        mid = (_min + _max) // 2 + 1\n",
    "        \n",
    "        remove = 0\n",
    "        pre = 0\n",
    "        for _ in range(1, len(rocks)):\n",
    "            if rocks[_] - rocks[_-1] + pre < mid:\n",
    "                remove += 1\n",
    "                pre = pre + rocks[_] - rocks[_-1]\n",
    "            else:\n",
    "                pre = 0\n",
    "                \n",
    "        if remove > n:\n",
    "            _max = mid - 1\n",
    "        else:\n",
    "            _min = mid\n",
    "    \n",
    "    return _min"
   ]
  },
  {
   "cell_type": "code",
   "execution_count": 40,
   "metadata": {},
   "outputs": [
    {
     "data": {
      "text/plain": [
       "6"
      ]
     },
     "execution_count": 40,
     "metadata": {},
     "output_type": "execute_result"
    }
   ],
   "source": [
    "solution(25,[2, 14, 11, 21, 17],3)"
   ]
  },
  {
   "cell_type": "code",
   "execution_count": null,
   "metadata": {},
   "outputs": [],
   "source": []
  }
 ],
 "metadata": {
  "kernelspec": {
   "display_name": "Python 3",
   "language": "python",
   "name": "python3"
  },
  "language_info": {
   "codemirror_mode": {
    "name": "ipython",
    "version": 3
   },
   "file_extension": ".py",
   "mimetype": "text/x-python",
   "name": "python",
   "nbconvert_exporter": "python",
   "pygments_lexer": "ipython3",
   "version": "3.8.3"
  }
 },
 "nbformat": 4,
 "nbformat_minor": 4
}
