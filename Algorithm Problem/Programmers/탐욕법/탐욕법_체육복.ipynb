{
 "cells": [
  {
   "cell_type": "code",
   "execution_count": 24,
   "metadata": {},
   "outputs": [],
   "source": [
    "def solution(n, lost, reserve):\n",
    "    \n",
    "    remove_lst = []\n",
    "    for i in lost:\n",
    "        if i in reserve:\n",
    "            remove_lst.append(i)\n",
    "            \n",
    "    for i in remove_lst:\n",
    "        lost.remove(i)\n",
    "        reserve.remove(i)\n",
    "            \n",
    "    result = lost.copy()\n",
    "    \n",
    "    for _ in lost:\n",
    "        if (_ - 1) in reserve:\n",
    "            result.remove(_)\n",
    "            reserve.remove(_-1)\n",
    "            continue\n",
    "        if (_ + 1) in reserve:\n",
    "            result.remove(_)\n",
    "            reserve.remove(_+1)\n",
    "    answer = 0\n",
    "    return n - len(result)"
   ]
  },
  {
   "cell_type": "code",
   "execution_count": 25,
   "metadata": {},
   "outputs": [
    {
     "data": {
      "text/plain": [
       "6"
      ]
     },
     "execution_count": 25,
     "metadata": {},
     "output_type": "execute_result"
    }
   ],
   "source": [
    "solution(6,[2,4,6],[1, 3, 5,6])"
   ]
  },
  {
   "cell_type": "code",
   "execution_count": 26,
   "metadata": {},
   "outputs": [
    {
     "data": {
      "text/plain": [
       "25"
      ]
     },
     "execution_count": 26,
     "metadata": {},
     "output_type": "execute_result"
    }
   ],
   "source": [
    "solution(30,[1,2,3,4,5],[10,11,12,13,14])"
   ]
  },
  {
   "cell_type": "code",
   "execution_count": 1,
   "metadata": {},
   "outputs": [],
   "source": [
    "def solution(n, lost, reserve):\n",
    "    \n",
    "    # 같은 번호 삭제\n",
    "    new_reserve = set(reserve) - set(lost)\n",
    "    new_lost = set(lost) - set(reserve)\n",
    "    \n",
    "    # new_reserve가 근처에 있으면 new_lost 빌려주기(삭제)\n",
    "    for i in new_reserve:\n",
    "        if (i-1) in new_lost:\n",
    "            new_lost.remove(i-1)\n",
    "        elif (i+1) in new_lost:\n",
    "            new_lost.remove(i+1)\n",
    "    \n",
    "    # 전체 갯수에서 빌리지 못한 갯수 빼기\n",
    "    return n - len(new_lost)"
   ]
  }
 ],
 "metadata": {
  "kernelspec": {
   "display_name": "Python 3",
   "language": "python",
   "name": "python3"
  },
  "language_info": {
   "codemirror_mode": {
    "name": "ipython",
    "version": 3
   },
   "file_extension": ".py",
   "mimetype": "text/x-python",
   "name": "python",
   "nbconvert_exporter": "python",
   "pygments_lexer": "ipython3",
   "version": "3.8.3"
  }
 },
 "nbformat": 4,
 "nbformat_minor": 4
}
