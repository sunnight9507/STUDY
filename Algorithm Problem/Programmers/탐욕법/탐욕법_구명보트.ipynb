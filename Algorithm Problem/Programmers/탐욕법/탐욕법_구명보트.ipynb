{
 "cells": [
  {
   "cell_type": "code",
   "execution_count": 25,
   "metadata": {},
   "outputs": [],
   "source": [
    "def solution(people, limit):\n",
    "    people.sort()\n",
    "    \n",
    "    s, e = 0, len(people)-1\n",
    "    cnt = 0\n",
    "    while s <= e:        \n",
    "        if people[s] + people[e] > limit:\n",
    "            cnt += 1\n",
    "            e -= 1\n",
    "        else:\n",
    "            cnt += 1\n",
    "            s += 1\n",
    "            e -= 1\n",
    "            \n",
    "    return cnt"
   ]
  },
  {
   "cell_type": "code",
   "execution_count": 26,
   "metadata": {},
   "outputs": [
    {
     "data": {
      "text/plain": [
       "3"
      ]
     },
     "execution_count": 26,
     "metadata": {},
     "output_type": "execute_result"
    }
   ],
   "source": [
    "solution([70, 80, 50],100)"
   ]
  },
  {
   "cell_type": "code",
   "execution_count": null,
   "metadata": {},
   "outputs": [],
   "source": []
  },
  {
   "cell_type": "code",
   "execution_count": null,
   "metadata": {},
   "outputs": [],
   "source": []
  },
  {
   "cell_type": "code",
   "execution_count": 72,
   "metadata": {},
   "outputs": [],
   "source": [
    "# 10\n",
    "def solution(people, limit):\n",
    "    \n",
    "    people.sort()\n",
    "    \n",
    "    left = 0\n",
    "    right = len(people) - 1\n",
    "    \n",
    "    answer = 0\n",
    "    \n",
    "    while left <= right:        \n",
    "        if people[left] + people[right] <= limit:\n",
    "            left += 1\n",
    "            right -= 1\n",
    "            answer += 1\n",
    "        else:\n",
    "            right -= 1\n",
    "            answer += 1\n",
    "            \n",
    "    return answer"
   ]
  }
 ],
 "metadata": {
  "kernelspec": {
   "display_name": "Python 3",
   "language": "python",
   "name": "python3"
  },
  "language_info": {
   "codemirror_mode": {
    "name": "ipython",
    "version": 3
   },
   "file_extension": ".py",
   "mimetype": "text/x-python",
   "name": "python",
   "nbconvert_exporter": "python",
   "pygments_lexer": "ipython3",
   "version": "3.8.3"
  }
 },
 "nbformat": 4,
 "nbformat_minor": 4
}
