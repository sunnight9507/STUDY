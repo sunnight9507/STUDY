{
 "cells": [
  {
   "cell_type": "code",
   "execution_count": 58,
   "metadata": {},
   "outputs": [],
   "source": [
    "import heapq\n",
    "\n",
    "def solution(n, costs):\n",
    "    _dict = {_ : _ for _ in range(n)}\n",
    "    \n",
    "    heap = []\n",
    "    \n",
    "    for _ in costs:\n",
    "        heapq.heappush(heap, (_[2], _[0], _[1]))\n",
    "        \n",
    "    result = 0\n",
    "    \n",
    "    while heap:\n",
    "        if sum(_dict.values()) == 0:\n",
    "            break\n",
    "            \n",
    "        value, s, e = heapq.heappop(heap)\n",
    "        \n",
    "        if _dict[s] != _dict[e]:\n",
    "            \n",
    "            \n",
    "            _min, _max = min([_dict[s],_dict[e]]), max([_dict[s],_dict[e]])\n",
    "            for _ in _dict:\n",
    "                if _dict[_] == _max:\n",
    "                    _dict[_] = _min\n",
    "            result += value\n",
    "            \n",
    "    return result"
   ]
  },
  {
   "cell_type": "code",
   "execution_count": 59,
   "metadata": {},
   "outputs": [
    {
     "data": {
      "text/plain": [
       "4"
      ]
     },
     "execution_count": 59,
     "metadata": {},
     "output_type": "execute_result"
    }
   ],
   "source": [
    "solution(4,[[1,0,1],[2,0,2],[2,1,5],[3,1,1],[3,2,8]])"
   ]
  },
  {
   "cell_type": "code",
   "execution_count": 43,
   "metadata": {},
   "outputs": [],
   "source": [
    "a, b = 1,2"
   ]
  },
  {
   "cell_type": "code",
   "execution_count": 44,
   "metadata": {},
   "outputs": [],
   "source": [
    "b, a = a, b"
   ]
  },
  {
   "cell_type": "code",
   "execution_count": 46,
   "metadata": {},
   "outputs": [
    {
     "data": {
      "text/plain": [
       "(2, 1)"
      ]
     },
     "execution_count": 46,
     "metadata": {},
     "output_type": "execute_result"
    }
   ],
   "source": [
    "a, b"
   ]
  },
  {
   "cell_type": "code",
   "execution_count": null,
   "metadata": {},
   "outputs": [],
   "source": []
  },
  {
   "cell_type": "code",
   "execution_count": 1,
   "metadata": {},
   "outputs": [],
   "source": [
    "def solution(n, costs):\n",
    "    answer = 0\n",
    "    \n",
    "    route = [[0 for _ in range(n)] for _ in range(n)]\n",
    "    \n",
    "    result = [99999 for _ in range(n)]\n",
    "    \n",
    "    for i in costs:\n",
    "        route[i[0]][i[1]] = i[2]\n",
    "        route[i[1]][i[0]] = i[2]\n",
    "    \n",
    "    \n",
    "    for i in range(len(result)):\n",
    "        for idx, j in enumerate(route[i]):\n",
    "            if j > 0:\n",
    "                if result[idx] == 99999:\n",
    "                    result[idx] = j\n",
    "                else:\n",
    "                    if result[idx] > result[i] + j:\n",
    "                        result[idx] = result[i] + j\n",
    "\n",
    "    \n",
    "    return sum(result[1:])"
   ]
  }
 ],
 "metadata": {
  "kernelspec": {
   "display_name": "Python 3",
   "language": "python",
   "name": "python3"
  },
  "language_info": {
   "codemirror_mode": {
    "name": "ipython",
    "version": 3
   },
   "file_extension": ".py",
   "mimetype": "text/x-python",
   "name": "python",
   "nbconvert_exporter": "python",
   "pygments_lexer": "ipython3",
   "version": "3.8.3"
  }
 },
 "nbformat": 4,
 "nbformat_minor": 4
}
