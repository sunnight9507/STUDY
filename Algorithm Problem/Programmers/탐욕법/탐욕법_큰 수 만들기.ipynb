{
 "cells": [
  {
   "cell_type": "code",
   "execution_count": 33,
   "metadata": {},
   "outputs": [],
   "source": [
    "def solution(number, k):\n",
    "    \n",
    "    s_idx = 0\n",
    "    result = ''\n",
    "    \n",
    "    while k > 0:\n",
    "        max_num = max(number[s_idx:s_idx+k+1])\n",
    "        \n",
    "        idx = number[s_idx:s_idx+k+1].index(max_num)\n",
    "        \n",
    "        if idx == 0:\n",
    "            result += number[0]\n",
    "            number = number[1:]\n",
    "            continue\n",
    "        \n",
    "        if k >= idx:\n",
    "            number = number[s_idx + idx : ]\n",
    "            k -= idx\n",
    "        else:\n",
    "            number = number[s_idx + k:]\n",
    "            k -= k\n",
    "    \n",
    "    result += number\n",
    "    return result"
   ]
  },
  {
   "cell_type": "code",
   "execution_count": 9,
   "metadata": {},
   "outputs": [],
   "source": [
    "def check_same_num(num):\n",
    "    n = num[0]\n",
    "    for _ in num[1:]:\n",
    "        if n != _:\n",
    "            return False\n",
    "    return True\n",
    "\n",
    "def solution(number, k):\n",
    "    result = ''\n",
    "    \n",
    "    while k > 0:\n",
    "        if check_same_num(number[:k+1]):\n",
    "            number = number[k:]\n",
    "            k -= k\n",
    "        else:\n",
    "            idx = number[:k+1].index(max(number[:k+1]))\n",
    "\n",
    "            if idx == 0:\n",
    "                result += number[0]\n",
    "                number = number[1:]\n",
    "            elif k >= idx:\n",
    "                number = number[idx:]\n",
    "                k -= idx\n",
    "            else:\n",
    "                number = number[k:]\n",
    "                k -= k\n",
    "    \n",
    "    result += number\n",
    "    return result"
   ]
  },
  {
   "cell_type": "code",
   "execution_count": 72,
   "metadata": {},
   "outputs": [],
   "source": [
    "def solution(number, k):\n",
    "    \n",
    "    stack = []\n",
    "    \n",
    "    for i, _ in enumerate(number):\n",
    "#         print(stack, k)\n",
    "        if not stack:\n",
    "            stack.append(_)\n",
    "            continue\n",
    "        \n",
    "        while stack:\n",
    "            if stack[-1] < _:\n",
    "                stack.pop()\n",
    "                k -= 1\n",
    "            else:\n",
    "                break\n",
    "            \n",
    "            if k == 0:\n",
    "                break\n",
    "        \n",
    "        stack.append(_)\n",
    "        \n",
    "        if k == 0:\n",
    "            break\n",
    "    \n",
    "#     print(stack, number[i], k)\n",
    "    if k == 0:\n",
    "        stack.extend(number[i+1 : ])\n",
    "    else:\n",
    "        stack = stack[:-k]\n",
    "    \n",
    "    return ''.join(stack)"
   ]
  },
  {
   "cell_type": "code",
   "execution_count": 73,
   "metadata": {},
   "outputs": [
    {
     "name": "stdout",
     "output_type": "stream",
     "text": [
      "[] 2\n",
      "['1'] 2\n",
      "['9'] 1\n",
      "['9', '2'] 1\n",
      "['9', '4'] 4 0\n"
     ]
    },
    {
     "data": {
      "text/plain": [
       "'94'"
      ]
     },
     "execution_count": 73,
     "metadata": {},
     "output_type": "execute_result"
    }
   ],
   "source": [
    "solution('1924',2)"
   ]
  },
  {
   "cell_type": "code",
   "execution_count": 74,
   "metadata": {},
   "outputs": [
    {
     "name": "stdout",
     "output_type": "stream",
     "text": [
      "[] 2\n",
      "['1'] 2\n",
      "['1', '1'] 2\n",
      "['1', '1', '1'] 2\n",
      "['1', '1', '1', '1'] 2\n",
      "['1', '1', '1', '1', '1'] 2\n",
      "['1', '1', '1', '1', '1', '1'] 2\n",
      "['1', '1', '1', '1', '1', '1', '1'] 1 2\n"
     ]
    },
    {
     "data": {
      "text/plain": [
       "'11111'"
      ]
     },
     "execution_count": 74,
     "metadata": {},
     "output_type": "execute_result"
    }
   ],
   "source": [
    "solution('1111111',2)"
   ]
  },
  {
   "cell_type": "code",
   "execution_count": 75,
   "metadata": {},
   "outputs": [
    {
     "name": "stdout",
     "output_type": "stream",
     "text": [
      "[] 3\n",
      "['1'] 3\n",
      "['2'] 2\n",
      "['3'] 1\n",
      "['3', '1'] 1\n",
      "['3', '2'] 2 0\n"
     ]
    },
    {
     "data": {
      "text/plain": [
       "'3234'"
      ]
     },
     "execution_count": 75,
     "metadata": {},
     "output_type": "execute_result"
    }
   ],
   "source": [
    "solution('1231234', 3)"
   ]
  },
  {
   "cell_type": "code",
   "execution_count": 76,
   "metadata": {},
   "outputs": [
    {
     "name": "stdout",
     "output_type": "stream",
     "text": [
      "[] 4\n",
      "['4'] 4\n",
      "['4', '1'] 4\n",
      "['7'] 2\n",
      "['7', '7'] 2\n",
      "['7', '7', '2'] 2\n",
      "['7', '7', '5'] 1\n",
      "['7', '7', '5', '2'] 1\n",
      "['7', '7', '5', '8'] 8 0\n"
     ]
    },
    {
     "data": {
      "text/plain": [
       "'775841'"
      ]
     },
     "execution_count": 76,
     "metadata": {},
     "output_type": "execute_result"
    }
   ],
   "source": [
    "solution('4177252841', 4)"
   ]
  }
 ],
 "metadata": {
  "kernelspec": {
   "display_name": "Python 3",
   "language": "python",
   "name": "python3"
  },
  "language_info": {
   "codemirror_mode": {
    "name": "ipython",
    "version": 3
   },
   "file_extension": ".py",
   "mimetype": "text/x-python",
   "name": "python",
   "nbconvert_exporter": "python",
   "pygments_lexer": "ipython3",
   "version": "3.8.3"
  }
 },
 "nbformat": 4,
 "nbformat_minor": 4
}
