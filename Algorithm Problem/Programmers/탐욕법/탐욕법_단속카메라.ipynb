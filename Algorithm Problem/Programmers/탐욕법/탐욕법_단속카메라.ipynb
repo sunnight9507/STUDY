{
 "cells": [
  {
   "cell_type": "code",
   "execution_count": 12,
   "metadata": {},
   "outputs": [],
   "source": [
    "def solution(routes):\n",
    "    \n",
    "    routes = sorted(routes, key = lambda x : x[0])\n",
    "    \n",
    "    s,e = -30000, 30000\n",
    "    cnt = 0\n",
    "    \n",
    "    for start, end in routes:\n",
    "#         print(s, e, cnt)\n",
    "        if start <= e:\n",
    "            if end <= e:\n",
    "                e = end\n",
    "            s = start\n",
    "        else:\n",
    "            cnt += 1\n",
    "            s = start\n",
    "            e = end\n",
    "        \n",
    "    \n",
    "    cnt += 1\n",
    "    return cnt"
   ]
  },
  {
   "cell_type": "code",
   "execution_count": 13,
   "metadata": {},
   "outputs": [
    {
     "name": "stdout",
     "output_type": "stream",
     "text": [
      "-30000 30000 0\n",
      "-20 15 0\n",
      "-18 -13 0\n",
      "-14 -13 0\n"
     ]
    },
    {
     "data": {
      "text/plain": [
       "2"
      ]
     },
     "execution_count": 13,
     "metadata": {},
     "output_type": "execute_result"
    }
   ],
   "source": [
    "solution([[-20,15], [-14,-5], [-18,-13], [-5,-3]])"
   ]
  },
  {
   "cell_type": "code",
   "execution_count": null,
   "metadata": {},
   "outputs": [],
   "source": []
  },
  {
   "cell_type": "code",
   "execution_count": null,
   "metadata": {},
   "outputs": [],
   "source": []
  },
  {
   "cell_type": "code",
   "execution_count": null,
   "metadata": {},
   "outputs": [],
   "source": []
  },
  {
   "cell_type": "code",
   "execution_count": 72,
   "metadata": {},
   "outputs": [],
   "source": [
    "# 3.4\n",
    "def solution(routes):\n",
    "    answer = 0\n",
    "    \n",
    "    # 중복제거\n",
    "    routes = list(set(map(tuple, routes)))\n",
    "    \n",
    "    routes.sort()\n",
    "    \n",
    "    #print(routes)\n",
    "    \n",
    "    start = routes[0][0]\n",
    "    end = routes[0][1]\n",
    "    \n",
    "    for i in routes[1:]:\n",
    "        if start <= i[0]:\n",
    "            start = i[0]\n",
    "        if end >= i[1]:\n",
    "            end = i[1]\n",
    "        \n",
    "        if start > end:\n",
    "            answer += 1\n",
    "            start = i[0]\n",
    "            end = i[1]   \n",
    "    \n",
    "    return answer + 1"
   ]
  }
 ],
 "metadata": {
  "kernelspec": {
   "display_name": "Python 3",
   "language": "python",
   "name": "python3"
  },
  "language_info": {
   "codemirror_mode": {
    "name": "ipython",
    "version": 3
   },
   "file_extension": ".py",
   "mimetype": "text/x-python",
   "name": "python",
   "nbconvert_exporter": "python",
   "pygments_lexer": "ipython3",
   "version": "3.8.3"
  }
 },
 "nbformat": 4,
 "nbformat_minor": 4
}
