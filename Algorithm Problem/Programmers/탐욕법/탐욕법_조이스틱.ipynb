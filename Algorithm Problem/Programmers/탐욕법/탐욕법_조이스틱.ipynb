{
 "cells": [
  {
   "cell_type": "code",
   "execution_count": 62,
   "metadata": {},
   "outputs": [],
   "source": [
    "def search(start, lst, cnt, _len):\n",
    "#     print(start, lst, cnt, _len)\n",
    "    if len(lst) == 0:\n",
    "        return cnt\n",
    "    \n",
    "    # 왼쪽\n",
    "    left_cnt = search(lst[-1], lst[:-1], (start - lst[-1])%_len, _len)\n",
    "    # 오른쪽\n",
    "    right_cnt = search(lst[0], lst[1:], (lst[0] - start)%_len, _len)\n",
    "    \n",
    "    return min(left_cnt, right_cnt) + cnt\n",
    "\n",
    "def solution(name):\n",
    "    n = len(name)\n",
    "    lst = []\n",
    "    for i, v in enumerate(name):\n",
    "        if v != 'A':\n",
    "            lst.append(i)\n",
    "            \n",
    "    idx = 0\n",
    "        \n",
    "    cnt = search(0, lst, 0, n)\n",
    "    \n",
    "    move_cnt = 0\n",
    "    \n",
    "    for _ in name:\n",
    "        if _ > 'N':\n",
    "            move_cnt += ord('Z') - ord(_) + 1\n",
    "        else:\n",
    "            move_cnt += ord(_) - ord('A')\n",
    "    \n",
    "    return cnt + move_cnt"
   ]
  },
  {
   "cell_type": "code",
   "execution_count": 63,
   "metadata": {},
   "outputs": [
    {
     "name": "stdout",
     "output_type": "stream",
     "text": [
      "1\n",
      "22\n"
     ]
    },
    {
     "data": {
      "text/plain": [
       "23"
      ]
     },
     "execution_count": 63,
     "metadata": {},
     "output_type": "execute_result"
    }
   ],
   "source": [
    "solution('JAN')"
   ]
  }
 ],
 "metadata": {
  "kernelspec": {
   "display_name": "Python 3",
   "language": "python",
   "name": "python3"
  },
  "language_info": {
   "codemirror_mode": {
    "name": "ipython",
    "version": 3
   },
   "file_extension": ".py",
   "mimetype": "text/x-python",
   "name": "python",
   "nbconvert_exporter": "python",
   "pygments_lexer": "ipython3",
   "version": "3.8.3"
  }
 },
 "nbformat": 4,
 "nbformat_minor": 4
}
