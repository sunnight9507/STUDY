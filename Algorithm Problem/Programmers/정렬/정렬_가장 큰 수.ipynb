{
 "cells": [
  {
   "cell_type": "code",
   "execution_count": 72,
   "metadata": {},
   "outputs": [],
   "source": [
    "def change(_str):\n",
    "    if len(_str) == 1:\n",
    "        return _str * 12\n",
    "    elif len(_str) == 2:\n",
    "        return _str * 6\n",
    "    elif len(_str) == 3:\n",
    "        return _str * 4\n",
    "    else: return _str * 3\n",
    "    \n",
    "\n",
    "def solution(numbers):\n",
    "    if sum(numbers) == 0: return '0'\n",
    "    \n",
    "    tmp = list(map(lambda x : str(x), numbers))\n",
    "    \n",
    "    lst = [] \n",
    "    \n",
    "    for _ in tmp:\n",
    "        lst.append([change(_), _])\n",
    "    \n",
    "    lst.sort(key = lambda x : x[0], reverse = True)\n",
    "    \n",
    "    result = ''\n",
    "    for _ in lst:\n",
    "        result += _[1]\n",
    "        \n",
    "    return result"
   ]
  },
  {
   "cell_type": "code",
   "execution_count": 73,
   "metadata": {},
   "outputs": [
    {
     "data": {
      "text/plain": [
       "'6210'"
      ]
     },
     "execution_count": 73,
     "metadata": {},
     "output_type": "execute_result"
    }
   ],
   "source": [
    "solution([6, 10, 2])"
   ]
  },
  {
   "cell_type": "code",
   "execution_count": 74,
   "metadata": {},
   "outputs": [
    {
     "data": {
      "text/plain": [
       "'1000'"
      ]
     },
     "execution_count": 74,
     "metadata": {},
     "output_type": "execute_result"
    }
   ],
   "source": [
    "solution([0, 10, 0])"
   ]
  },
  {
   "cell_type": "code",
   "execution_count": 48,
   "metadata": {},
   "outputs": [],
   "source": [
    "compare('0', '1')"
   ]
  },
  {
   "cell_type": "code",
   "execution_count": null,
   "metadata": {},
   "outputs": [],
   "source": []
  },
  {
   "cell_type": "code",
   "execution_count": 46,
   "metadata": {},
   "outputs": [
    {
     "name": "stdout",
     "output_type": "stream",
     "text": [
      "['3', '30', '34', '5', '9']\n",
      "['3', '30', '34', '5']\n",
      "['3', '30', '34']\n",
      "['3', '30']\n",
      "['30']\n"
     ]
    },
    {
     "data": {
      "text/plain": [
       "'9534330'"
      ]
     },
     "execution_count": 46,
     "metadata": {},
     "output_type": "execute_result"
    }
   ],
   "source": [
    "solution([3, 30, 34, 5, 9])"
   ]
  },
  {
   "cell_type": "code",
   "execution_count": 1,
   "metadata": {},
   "outputs": [],
   "source": [
    "def compare(a, b):\n",
    "    if len(a) == len(b):\n",
    "        if a > b: return True\n",
    "        else: return False\n",
    "    elif len(a) > len(b):\n",
    "        if a[:len(b)] == b:\n",
    "            if compare(a[len(b):],b): return True\n",
    "            else: return False\n",
    "        else:\n",
    "            if a[:len(b)] > b: return True\n",
    "            else: return False\n",
    "    else:\n",
    "        if a == b[:len(a)]:\n",
    "            if compare(a,b[len(a):]): return True\n",
    "            else: return False\n",
    "        else:\n",
    "            if a[:len(b)] > b: return True\n",
    "            else: return False\n",
    "\n",
    "def int_to_str(numbers):\n",
    "    numbers = list(map(str, numbers))\n",
    "    \n",
    "    answer = ''\n",
    "    \n",
    "    if len(numbers) < 1:\n",
    "        return ''\n",
    "    elif len(numbers) == 1:\n",
    "        return numbers[0]\n",
    "    else:\n",
    "        left_lst = []\n",
    "        right_lst = []\n",
    "        num = numbers[0]\n",
    "        for i in range(1, len(numbers)):\n",
    "            if compare(num, numbers[i]):\n",
    "                left_lst.append(numbers[i])\n",
    "            else:\n",
    "                right_lst.append(numbers[i])\n",
    "        answer = int_to_str(right_lst) + num + int_to_str(left_lst)\n",
    "    \n",
    "    return answer\n",
    "            \n",
    "def solution(numbers):\n",
    "    \n",
    "    if sum(numbers) == 0: return '0'\n",
    "    else: return int_to_str(numbers)"
   ]
  }
 ],
 "metadata": {
  "kernelspec": {
   "display_name": "Python 3",
   "language": "python",
   "name": "python3"
  },
  "language_info": {
   "codemirror_mode": {
    "name": "ipython",
    "version": 3
   },
   "file_extension": ".py",
   "mimetype": "text/x-python",
   "name": "python",
   "nbconvert_exporter": "python",
   "pygments_lexer": "ipython3",
   "version": "3.8.3"
  }
 },
 "nbformat": 4,
 "nbformat_minor": 4
}
