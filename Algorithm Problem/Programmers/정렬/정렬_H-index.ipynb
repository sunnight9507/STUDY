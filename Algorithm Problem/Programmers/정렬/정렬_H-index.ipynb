{
 "cells": [
  {
   "cell_type": "code",
   "execution_count": 13,
   "metadata": {},
   "outputs": [],
   "source": [
    "def solution(citations):\n",
    "    n = len(citations)\n",
    "    citations.sort(reverse = True)\n",
    "\n",
    "    for _ in range(len(citations)):\n",
    "        if _+1 < citations[_]:\n",
    "            return _+1"
   ]
  },
  {
   "cell_type": "code",
   "execution_count": 38,
   "metadata": {},
   "outputs": [],
   "source": [
    "def solution(citations):\n",
    "    n = len(citations)\n",
    "    citations.sort(reverse = True)\n",
    "    \n",
    "    num = min(citations[0], len(citations))\n",
    "\n",
    "    for _ in range(num, 0, -1):\n",
    "        if citations[_-1] >= _:\n",
    "            return _\n",
    "        \n",
    "    return 0"
   ]
  },
  {
   "cell_type": "code",
   "execution_count": 39,
   "metadata": {},
   "outputs": [
    {
     "data": {
      "text/plain": [
       "0"
      ]
     },
     "execution_count": 39,
     "metadata": {},
     "output_type": "execute_result"
    }
   ],
   "source": [
    "solution([0, 0, 0, 0, 0])"
   ]
  },
  {
   "cell_type": "code",
   "execution_count": 1,
   "metadata": {},
   "outputs": [],
   "source": [
    "# 87.5\n",
    "def solution(citations):\n",
    "    for i in range(len(citations), 0, -1):\n",
    "        cnt = 0\n",
    "        for j in citations:\n",
    "            if j >= i:\n",
    "                cnt += 1\n",
    "        \n",
    "        if cnt == i:\n",
    "            return cnt"
   ]
  }
 ],
 "metadata": {
  "kernelspec": {
   "display_name": "Python 3",
   "language": "python",
   "name": "python3"
  },
  "language_info": {
   "codemirror_mode": {
    "name": "ipython",
    "version": 3
   },
   "file_extension": ".py",
   "mimetype": "text/x-python",
   "name": "python",
   "nbconvert_exporter": "python",
   "pygments_lexer": "ipython3",
   "version": "3.8.3"
  }
 },
 "nbformat": 4,
 "nbformat_minor": 4
}
