{
 "cells": [
  {
   "cell_type": "code",
   "execution_count": 34,
   "id": "wicked-enlargement",
   "metadata": {},
   "outputs": [],
   "source": [
    "# 1.27ms, 10.4MB\n",
    "from collections import defaultdict\n",
    "\n",
    "\n",
    "def solution(str1, str2):\n",
    "    str1 = str1.lower()\n",
    "    str2 = str2.lower()\n",
    "\n",
    "    str1_dict = defaultdict(lambda: 0)\n",
    "    str2_dict = defaultdict(lambda: 0)\n",
    "\n",
    "    str1_len = len(str1)\n",
    "    str2_len = len(str2)\n",
    "\n",
    "    for i in range(str1_len - 1):\n",
    "        if \"a\" <= str1[i] <= \"z\":\n",
    "            if \"a\" <= str1[i + 1] <= \"z\":\n",
    "                str1_dict[str1[i : i + 2]] += 1\n",
    "\n",
    "    for i in range(str2_len - 1):\n",
    "        if \"a\" <= str2[i] <= \"z\":\n",
    "            if \"a\" <= str2[i + 1] <= \"z\":\n",
    "                str2_dict[str2[i : i + 2]] += 1\n",
    "\n",
    "    intersection = set(str1_dict.keys()) & set(str2_dict.keys())\n",
    "    union = set(str1_dict.keys()) | set(str2_dict.keys())\n",
    "\n",
    "    if union:\n",
    "        intersection_count = 0\n",
    "        union_count = 0\n",
    "        \n",
    "        for i in intersection:\n",
    "            intersection_count += min(str1_dict[i], str2_dict[i])\n",
    "        for i in union:\n",
    "            union_count += max(str1_dict[i], str2_dict[i])\n",
    "\n",
    "        return int(intersection_count / union_count * 65536)\n",
    "    else:\n",
    "        return 65536\n"
   ]
  },
  {
   "cell_type": "code",
   "execution_count": 35,
   "id": "liable-mathematics",
   "metadata": {},
   "outputs": [
    {
     "data": {
      "text/plain": [
       "16384"
      ]
     },
     "execution_count": 35,
     "metadata": {},
     "output_type": "execute_result"
    }
   ],
   "source": [
    "solution(\"FRANCE\",\"french\")"
   ]
  },
  {
   "cell_type": "code",
   "execution_count": 36,
   "id": "freelance-portable",
   "metadata": {},
   "outputs": [
    {
     "data": {
      "text/plain": [
       "65536"
      ]
     },
     "execution_count": 36,
     "metadata": {},
     "output_type": "execute_result"
    }
   ],
   "source": [
    "solution(\"E=M*C^2\", \"e=m*c^2\")"
   ]
  },
  {
   "cell_type": "code",
   "execution_count": 37,
   "id": "solar-lebanon",
   "metadata": {},
   "outputs": [
    {
     "data": {
      "text/plain": [
       "65536"
      ]
     },
     "execution_count": 37,
     "metadata": {},
     "output_type": "execute_result"
    }
   ],
   "source": [
    "solution(\"handshake\", \"shake hands\")"
   ]
  }
 ],
 "metadata": {
  "kernelspec": {
   "display_name": "Python 3",
   "language": "python",
   "name": "python3"
  },
  "language_info": {
   "codemirror_mode": {
    "name": "ipython",
    "version": 3
   },
   "file_extension": ".py",
   "mimetype": "text/x-python",
   "name": "python",
   "nbconvert_exporter": "python",
   "pygments_lexer": "ipython3",
   "version": "3.8.5"
  }
 },
 "nbformat": 4,
 "nbformat_minor": 5
}
