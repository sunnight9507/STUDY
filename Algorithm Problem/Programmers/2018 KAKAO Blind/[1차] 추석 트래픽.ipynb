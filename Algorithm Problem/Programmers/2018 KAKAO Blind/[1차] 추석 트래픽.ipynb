{
 "cells": [
  {
   "cell_type": "code",
   "execution_count": 1,
   "metadata": {},
   "outputs": [
    {
     "name": "stdout",
     "output_type": "stream",
     "text": [
      "2\n"
     ]
    }
   ],
   "source": [
    "def change_times(line):\n",
    "    # '2016-09-15' 고정이므로 연산에 필요 없음\n",
    "    end_time, period = line.split()[1:]\n",
    "\n",
    "    # time to seconds\n",
    "    h, m, s = map(float, end_time.split(\":\"))\n",
    "    end_time = int((3600 * h + 60 * m + s) * 1000)\n",
    "    start_time = int((end_time - (float(period[:-1]) * 1000) + 1))\n",
    "    return start_time, end_time\n",
    "\n",
    "\n",
    "def solution(lines):\n",
    "    time_list = [change_times(line) for line in lines]\n",
    "    len_time_list = len(time_list)\n",
    "    check_time = set()\n",
    "\n",
    "    for start_time, end_time in time_list:\n",
    "        check_time.add(start_time)\n",
    "        check_time.add(end_time)\n",
    "\n",
    "    max_count = 0\n",
    "    for temp_time in check_time:\n",
    "        count = 0\n",
    "        temp_end_time = temp_time + 999\n",
    "        for start_time, end_time in time_list:\n",
    "            if start_time > temp_end_time:\n",
    "                pass\n",
    "            elif temp_time > end_time:\n",
    "                pass\n",
    "            else:\n",
    "                count += 1\n",
    "        max_count = max(max_count, count)\n",
    "    return max_count\n",
    "\n",
    "\n",
    "print(solution([\"2016-09-15 01:00:04.002 2.0s\", \"2016-09-15 01:00:07.000 2s\"]))"
   ]
  },
  {
   "cell_type": "code",
   "execution_count": 2,
   "metadata": {},
   "outputs": [
    {
     "data": {
      "text/plain": [
       "7"
      ]
     },
     "execution_count": 2,
     "metadata": {},
     "output_type": "execute_result"
    }
   ],
   "source": [
    "solution([\"2016-09-15 20:59:57.421 0.351s\", \"2016-09-15 20:59:58.233 1.181s\", \"2016-09-15 20:59:58.299 0.8s\", \"2016-09-15 20:59:58.688 1.041s\", \"2016-09-15 20:59:59.591 1.412s\", \"2016-09-15 21:00:00.464 1.466s\", \"2016-09-15 21:00:00.741 1.581s\", \"2016-09-15 21:00:00.748 2.31s\", \"2016-09-15 21:00:00.966 0.381s\", \"2016-09-15 21:00:02.066 2.62s\"])"
   ]
  }
 ],
 "metadata": {
  "kernelspec": {
   "display_name": "Python 3",
   "language": "python",
   "name": "python3"
  },
  "language_info": {
   "codemirror_mode": {
    "name": "ipython",
    "version": 3
   },
   "file_extension": ".py",
   "mimetype": "text/x-python",
   "name": "python",
   "nbconvert_exporter": "python",
   "pygments_lexer": "ipython3",
   "version": "3.8.5"
  }
 },
 "nbformat": 4,
 "nbformat_minor": 4
}
