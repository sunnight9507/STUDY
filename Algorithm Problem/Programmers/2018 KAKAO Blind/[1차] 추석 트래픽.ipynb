{
 "cells": [
  {
   "cell_type": "code",
   "execution_count": 101,
   "metadata": {},
   "outputs": [],
   "source": [
    "def change_times(line):\n",
    "    # '2016-09-15' 고정이므로 연산에 필요 없음\n",
    "    end_time, period = line.split()[1:]\n",
    "    \n",
    "    # time to seconds\n",
    "    h, m, s = map(float, end_time.split(':'))\n",
    "    \n",
    "    end_time = int((3600*h + 60*m + s) * 1000)\n",
    "    start_time = int((end_time - (float(period[:-1])*1000) + 1))\n",
    "    \n",
    "    return start_time, end_time\n",
    "\n",
    "def solution(lines):\n",
    "    time_list = sorted([change_times(line) for line in lines], key = lambda x : x[0])\n",
    "    len_time_list = len(time_list)\n",
    "    tmp_end_time = 0\n",
    "    \n",
    "#     print(time_list)\n",
    "    \n",
    "    # 시작 기준\n",
    "    start_result = 1\n",
    "    for i in range(len_time_list - 1):\n",
    "        start_i, end_i = time_list[i]\n",
    "        cnt = 1\n",
    "        for j in range(i + 1, len_time_list):\n",
    "            start_j, end_j = time_list[i]\n",
    "            if start_i + 1000 > start_j:\n",
    "                cnt += 1\n",
    "            else:\n",
    "                break\n",
    "\n",
    "        start_result = max(cnt, start_result)\n",
    "        \n",
    "    # 끝 기준\n",
    "    end_result = 1\n",
    "    time_list = sorted([change_times(line) for line in lines], key = lambda x : x[1])\n",
    "    for i in range(len_time_list - 1):\n",
    "        start_i, end_i = time_list[i]\n",
    "        cnt = 1\n",
    "        for j in range(i + 1, len_time_list):\n",
    "            start_j, end_j = time_list[j]\n",
    "            \n",
    "#             print(end_i,end_i+1, start_j, end_j)\n",
    "            \n",
    "            if end_i <= start_j < end_i + 1000:\n",
    "                cnt += 1\n",
    "            elif end_i <= end_j < end_i + 1000:\n",
    "                cnt += 1\n",
    "        end_result = max(cnt, end_result)\n",
    "        \n",
    "        \n",
    "#     print(start_result, end_result)\n",
    "    return max(start_result, end_result)"
   ]
  },
  {
   "cell_type": "code",
   "execution_count": 102,
   "metadata": {},
   "outputs": [
    {
     "data": {
      "text/plain": [
       "10"
      ]
     },
     "execution_count": 102,
     "metadata": {},
     "output_type": "execute_result"
    }
   ],
   "source": [
    "solution([\"2016-09-15 20:59:57.421 0.351s\", \"2016-09-15 20:59:58.233 1.181s\", \"2016-09-15 20:59:58.299 0.8s\", \"2016-09-15 20:59:58.688 1.041s\", \"2016-09-15 20:59:59.591 1.412s\", \"2016-09-15 21:00:00.464 1.466s\", \"2016-09-15 21:00:00.741 1.581s\", \"2016-09-15 21:00:00.748 2.31s\", \"2016-09-15 21:00:00.966 0.381s\", \"2016-09-15 21:00:02.066 2.62s\"])"
   ]
  },
  {
   "cell_type": "code",
   "execution_count": null,
   "metadata": {},
   "outputs": [],
   "source": []
  },
  {
   "cell_type": "code",
   "execution_count": null,
   "metadata": {},
   "outputs": [],
   "source": []
  }
 ],
 "metadata": {
  "kernelspec": {
   "display_name": "Python 3",
   "language": "python",
   "name": "python3"
  },
  "language_info": {
   "codemirror_mode": {
    "name": "ipython",
    "version": 3
   },
   "file_extension": ".py",
   "mimetype": "text/x-python",
   "name": "python",
   "nbconvert_exporter": "python",
   "pygments_lexer": "ipython3",
   "version": "3.8.5"
  }
 },
 "nbformat": 4,
 "nbformat_minor": 4
}
