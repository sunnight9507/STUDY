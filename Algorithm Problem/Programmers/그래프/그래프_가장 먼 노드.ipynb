{
 "cells": [
  {
   "cell_type": "code",
   "execution_count": 15,
   "metadata": {},
   "outputs": [],
   "source": [
    "def solution(n, edge):\n",
    "    lst = [99999 for _ in range(n + 1)]\n",
    "    visited = [False for _ in range(n + 1)]\n",
    "    _dict = {_ : [] for _ in range(n + 1)}\n",
    "        \n",
    "    queue = [1]\n",
    "    \n",
    "    for a, b in edge:\n",
    "        _dict[a].append(b)\n",
    "        _dict[b].append(a)\n",
    "    \n",
    "    lst[0], lst[1] = 0,0\n",
    "    while queue:\n",
    "        num = queue.pop(0)\n",
    "        if visited[num]:\n",
    "            continue\n",
    "        visited[num] = True\n",
    "        \n",
    "        for _ in _dict[num]:\n",
    "            if lst[_] > lst[num] + 1: lst[_] = lst[num] + 1\n",
    "            \n",
    "            if not visited[_]:\n",
    "                queue.append(_)\n",
    "    \n",
    "    _max = max(lst)\n",
    "    \n",
    "    cnt = 0\n",
    "    for _ in lst:\n",
    "        if _max == _:\n",
    "            cnt += 1\n",
    "    \n",
    "    return cnt"
   ]
  },
  {
   "cell_type": "code",
   "execution_count": 16,
   "metadata": {},
   "outputs": [
    {
     "data": {
      "text/plain": [
       "3"
      ]
     },
     "execution_count": 16,
     "metadata": {},
     "output_type": "execute_result"
    }
   ],
   "source": [
    "solution(6,[[3, 6], [4, 3], [3, 2], [1, 3], [1, 2], [2, 4], [5, 2]])"
   ]
  },
  {
   "cell_type": "code",
   "execution_count": null,
   "metadata": {},
   "outputs": [],
   "source": []
  }
 ],
 "metadata": {
  "kernelspec": {
   "display_name": "Python 3",
   "language": "python",
   "name": "python3"
  },
  "language_info": {
   "codemirror_mode": {
    "name": "ipython",
    "version": 3
   },
   "file_extension": ".py",
   "mimetype": "text/x-python",
   "name": "python",
   "nbconvert_exporter": "python",
   "pygments_lexer": "ipython3",
   "version": "3.8.3"
  }
 },
 "nbformat": 4,
 "nbformat_minor": 4
}
