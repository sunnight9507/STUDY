{
 "cells": [
  {
   "cell_type": "code",
   "execution_count": 45,
   "metadata": {},
   "outputs": [],
   "source": [
    "def solution(n, results):\n",
    "    win = {_ : [] for _ in range(n + 1)}\n",
    "    lose = {_ : [] for _ in range(n + 1)}\n",
    "    win_visited = [False for _ in range(n + 1)]\n",
    "    lose_visited = [False for _ in range(n + 1)]\n",
    "    \n",
    "    for w,l in results:\n",
    "        win[w].append(l)\n",
    "        lose[l].append(w)\n",
    "        \n",
    "#     print(win)\n",
    "#     print(lose)\n",
    "    \n",
    "    result = 0\n",
    "    \n",
    "    for _ in range(1, n+1):\n",
    "        _win = win[_].copy()\n",
    "        _win_visited = win_visited.copy()\n",
    "        _lose = lose[_].copy(s)\n",
    "        _lose_visited = lose_visited.copy()\n",
    "        \n",
    "        win_cnt = 0\n",
    "        while _win:\n",
    "            num = _win.pop()\n",
    "            if _win_visited[num]:\n",
    "                continue\n",
    "                \n",
    "            _win_visited[num] = True\n",
    "            win_cnt += 1\n",
    "            for i in win[num]:\n",
    "                if not _win_visited[i]:\n",
    "                    _win.append(i)\n",
    "        \n",
    "        lose_cnt = 0\n",
    "        while _lose:\n",
    "            num = _lose.pop()\n",
    "            if _lose_visited[num]:\n",
    "                continue\n",
    "            \n",
    "            _lose_visited[num] = True\n",
    "            lose_cnt += 1\n",
    "            for i in lose[num]:\n",
    "                if not _lose_visited[i]:\n",
    "                    _lose.append(i)\n",
    "        \n",
    "#         print(win_cnt, lose_cnt)\n",
    "#         print(_win, _lose)\n",
    "        \n",
    "        if win_cnt + lose_cnt >= n-1:\n",
    "            result += 1\n",
    "    \n",
    "    return result"
   ]
  },
  {
   "cell_type": "code",
   "execution_count": 46,
   "metadata": {},
   "outputs": [
    {
     "data": {
      "text/plain": [
       "2"
      ]
     },
     "execution_count": 46,
     "metadata": {},
     "output_type": "execute_result"
    }
   ],
   "source": [
    "solution(2,[[1, 2]])"
   ]
  },
  {
   "cell_type": "code",
   "execution_count": 47,
   "metadata": {},
   "outputs": [
    {
     "data": {
      "text/plain": [
       "2"
      ]
     },
     "execution_count": 47,
     "metadata": {},
     "output_type": "execute_result"
    }
   ],
   "source": [
    "solution(5,[[4, 3], [4, 2], [3, 2], [1, 2], [2, 5]])"
   ]
  },
  {
   "cell_type": "code",
   "execution_count": null,
   "metadata": {},
   "outputs": [],
   "source": []
  },
  {
   "cell_type": "code",
   "execution_count": null,
   "metadata": {},
   "outputs": [],
   "source": []
  },
  {
   "cell_type": "code",
   "execution_count": null,
   "metadata": {},
   "outputs": [],
   "source": []
  },
  {
   "cell_type": "code",
   "execution_count": null,
   "metadata": {},
   "outputs": [],
   "source": []
  },
  {
   "cell_type": "code",
   "execution_count": 1,
   "metadata": {},
   "outputs": [],
   "source": [
    "def solution(n, results):\n",
    "    answer=0\n",
    "    win, lose = {}, {}    \n",
    "    for i in range(1,n+1):\n",
    "        win[i], lose[i] = set(),set()   \n",
    "   \n",
    "    for i in range(1,n+1):\n",
    "        for result in results:\n",
    "            if result[0]==i:\n",
    "                win[i].add(result[1])\n",
    "            if result[1]==i:\n",
    "                lose[i].add(result[0])        \n",
    "                \n",
    "        for j in win[i]:\n",
    "            lose[j].update(lose[i])\n",
    "        for j in lose[i]:\n",
    "            win[j].update(win[i])\n",
    "    \n",
    "    for i in range(1,n+1):\n",
    "        if len(win[i])+len(lose[i])==n-1:\n",
    "            answer+=1\n",
    "    return answer"
   ]
  }
 ],
 "metadata": {
  "kernelspec": {
   "display_name": "Python 3",
   "language": "python",
   "name": "python3"
  },
  "language_info": {
   "codemirror_mode": {
    "name": "ipython",
    "version": 3
   },
   "file_extension": ".py",
   "mimetype": "text/x-python",
   "name": "python",
   "nbconvert_exporter": "python",
   "pygments_lexer": "ipython3",
   "version": "3.8.3"
  }
 },
 "nbformat": 4,
 "nbformat_minor": 4
}
