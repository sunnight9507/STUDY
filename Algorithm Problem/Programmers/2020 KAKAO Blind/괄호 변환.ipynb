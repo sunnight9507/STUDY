{
 "cells": [
  {
   "cell_type": "code",
   "execution_count": 45,
   "metadata": {},
   "outputs": [],
   "source": [
    "def solution(p):\n",
    "    \n",
    "    # 1)\n",
    "    if p == '':\n",
    "        return p\n",
    "    \n",
    "    # 2) u, v로 분리\n",
    "    cnt = 0\n",
    "    idx = 0\n",
    "    for i, _ in enumerate(p):\n",
    "        if _ == '(':\n",
    "            cnt -= 1\n",
    "        else:\n",
    "            cnt += 1\n",
    "        if cnt == 0:\n",
    "            idx = i\n",
    "            break\n",
    "            \n",
    "    u, v = p[:idx+1], p[idx+1:]\n",
    "    \n",
    "    # 3) 올바른 괄호 문자열 확인\n",
    "    cnt = 0\n",
    "    is_good = True\n",
    "    for _ in u:\n",
    "        if _ == '(':\n",
    "            cnt -= 1\n",
    "        else:\n",
    "            cnt += 1\n",
    "        if cnt > 0:\n",
    "            is_good = False\n",
    "            break\n",
    "    \n",
    "    # 4)\n",
    "    if is_good:\n",
    "        return u + solution(v)\n",
    "    else:\n",
    "        return '(' + solution(v) + ')' + ''.join([')' if _ == '(' else '(' for _ in u[1:-1]])"
   ]
  },
  {
   "cell_type": "code",
   "execution_count": 46,
   "metadata": {},
   "outputs": [
    {
     "data": {
      "text/plain": [
       "'()(())()'"
      ]
     },
     "execution_count": 46,
     "metadata": {},
     "output_type": "execute_result"
    }
   ],
   "source": [
    "solution('()))((()')"
   ]
  }
 ],
 "metadata": {
  "kernelspec": {
   "display_name": "Python 3",
   "language": "python",
   "name": "python3"
  },
  "language_info": {
   "codemirror_mode": {
    "name": "ipython",
    "version": 3
   },
   "file_extension": ".py",
   "mimetype": "text/x-python",
   "name": "python",
   "nbconvert_exporter": "python",
   "pygments_lexer": "ipython3",
   "version": "3.8.3"
  }
 },
 "nbformat": 4,
 "nbformat_minor": 4
}
