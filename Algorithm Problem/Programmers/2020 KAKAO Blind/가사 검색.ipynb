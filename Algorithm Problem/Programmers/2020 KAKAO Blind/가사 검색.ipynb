{
 "cells": [
  {
   "cell_type": "code",
   "execution_count": 1,
   "metadata": {},
   "outputs": [],
   "source": [
    "def make_tree(words, back=False):\n",
    "    tree = {}\n",
    "    \n",
    "    # tree forward\n",
    "    for word in words:\n",
    "        _len = len(word)\n",
    "        if _len not in tree:\n",
    "            tree[_len] = [1, {}]\n",
    "        else:\n",
    "            tree[_len][0] += 1   \n",
    "            \n",
    "        tmp = tree[_len][1]\n",
    "        \n",
    "        if back:\n",
    "            word = word[::-1]\n",
    "        for w in word:\n",
    "            if w not in tmp:\n",
    "                tmp[w] = [1, {}]\n",
    "            else:\n",
    "                tmp[w][0] += 1\n",
    "            \n",
    "            tmp = tmp[w][1]\n",
    "            \n",
    "    return tree\n",
    "\n",
    "def check_query(query):\n",
    "    if query[0] != '?': return 'f'\n",
    "    elif query[-1] != '?': return 'b'\n",
    "    else: return 'a'\n",
    "    \n",
    "def check(query, tree, back = 'f'):\n",
    "    _len = len(query)\n",
    "    \n",
    "    cnt = 0\n",
    "    if _len not in tree: \n",
    "        return cnt\n",
    "\n",
    "    tmp = tree[_len]\n",
    "\n",
    "    if back == 'b':\n",
    "        query = query[::-1]\n",
    "    for i in query:\n",
    "        if i == '?': break\n",
    "        elif i not in tmp[1]:\n",
    "            cnt = 0\n",
    "            break\n",
    "        tmp = tmp[1][i]\n",
    "        cnt = tmp[0]\n",
    "\n",
    "    return cnt\n",
    "\n",
    "def solution(words, queries):\n",
    "    # Tree 생성\n",
    "    tree_f = make_tree(words)\n",
    "    tree_b = make_tree(words, True)\n",
    "\n",
    "    result = []\n",
    "    for query in queries:\n",
    "        \n",
    "        _len = len(query)\n",
    "        \n",
    "        chk = check_query(query)\n",
    "        \n",
    "        if chk == 'f':\n",
    "            result.append(check(query, tree_f, chk))\n",
    "        elif chk == 'b':\n",
    "            result.append(check(query, tree_b, chk))\n",
    "        else:\n",
    "            tmp = 0\n",
    "            if _len not in tree_f:\n",
    "                pass\n",
    "            else:\n",
    "                tmp += tree_f[_len][0]\n",
    "                \n",
    "            result.append(tmp)\n",
    "                \n",
    "    return result"
   ]
  },
  {
   "cell_type": "code",
   "execution_count": 43,
   "metadata": {},
   "outputs": [],
   "source": [
    "from collections import defaultdict\n",
    "\n",
    "def solution(words, queries):\n",
    "    \n",
    "    dictionary = defaultdict(lambda: 0)\n",
    "    \n",
    "    for word in words:\n",
    "        word_len = len(word)\n",
    "        question_mark = \"?\"*word_len\n",
    "        for i in range(1,word_len+1):\n",
    "            dictionary[word[:i] + question_mark[:word_len-i]] += 1\n",
    "        \n",
    "        for i in range(1, word_len):\n",
    "            dictionary[question_mark[:word_len-i] + word[-i:]] += 1\n",
    "    \n",
    "        dictionary[question_mark] += 1\n",
    "        \n",
    "    result = []\n",
    "    for query in queries:\n",
    "        result.append(dictionary[query])\n",
    "    \n",
    "    return result"
   ]
  },
  {
   "cell_type": "code",
   "execution_count": 44,
   "metadata": {},
   "outputs": [
    {
     "data": {
      "text/plain": [
       "[3, 2, 4, 1, 0]"
      ]
     },
     "execution_count": 44,
     "metadata": {},
     "output_type": "execute_result"
    }
   ],
   "source": [
    "solution([\"frodo\", \"front\", \"frost\", \"frozen\", \"frame\", \"kakao\"], [\"fro??\", \"????o\", \"fr???\", \"fro???\", \"pro?\"])"
   ]
  },
  {
   "cell_type": "code",
   "execution_count": null,
   "metadata": {},
   "outputs": [],
   "source": []
  },
  {
   "cell_type": "code",
   "execution_count": null,
   "metadata": {},
   "outputs": [],
   "source": []
  },
  {
   "cell_type": "code",
   "execution_count": null,
   "metadata": {},
   "outputs": [],
   "source": []
  },
  {
   "cell_type": "code",
   "execution_count": 26,
   "metadata": {},
   "outputs": [
    {
     "data": {
      "text/plain": [
       "[0, 0, 1]"
      ]
     },
     "execution_count": 26,
     "metadata": {},
     "output_type": "execute_result"
    }
   ],
   "source": [
    "solution([\"aaa\", \"aba\", \"aab\", \"aca\"], [\"abb\", \"b??\",'??b'])"
   ]
  },
  {
   "cell_type": "code",
   "execution_count": 27,
   "metadata": {},
   "outputs": [
    {
     "data": {
      "text/plain": [
       "[3, 2, 4, 1, 0, 0]"
      ]
     },
     "execution_count": 27,
     "metadata": {},
     "output_type": "execute_result"
    }
   ],
   "source": [
    "solution([\"frodo\", \"front\", \"frost\", \"frozen\", \"frame\", \"kakao\"], [\"fro??\", \"????o\", \"fr???\", \"fro???\", \"pro?\", \"?\"])"
   ]
  }
 ],
 "metadata": {
  "kernelspec": {
   "display_name": "Python 3",
   "language": "python",
   "name": "python3"
  },
  "language_info": {
   "codemirror_mode": {
    "name": "ipython",
    "version": 3
   },
   "file_extension": ".py",
   "mimetype": "text/x-python",
   "name": "python",
   "nbconvert_exporter": "python",
   "pygments_lexer": "ipython3",
   "version": "3.8.5"
  }
 },
 "nbformat": 4,
 "nbformat_minor": 4
}
