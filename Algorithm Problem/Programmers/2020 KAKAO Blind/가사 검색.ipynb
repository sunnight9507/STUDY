{
 "cells": [
  {
   "cell_type": "code",
   "execution_count": 108,
   "metadata": {},
   "outputs": [],
   "source": [
    "def check_query(query):\n",
    "    if query[0] != '?': return 'f'\n",
    "    elif query[-1] != '?': return 'b'\n",
    "    else: return 'a'\n",
    "\n",
    "def solution(words, queries):\n",
    "    tree_f = {}\n",
    "    tree_b = {}\n",
    "    \n",
    "    # tree forward\n",
    "    for word in words:\n",
    "        _len = len(word)\n",
    "        if _len not in tree_f:\n",
    "            tree_f[_len] = [1, {}]\n",
    "        else:\n",
    "            tree_f[_len][0] += 1   \n",
    "            \n",
    "        tmp = tree_f[_len][1]\n",
    "        \n",
    "        for w in word:\n",
    "            if w not in tmp:\n",
    "                tmp[w] = [1, {}]\n",
    "            else:\n",
    "                tmp[w][0] += 1\n",
    "            \n",
    "            tmp = tmp[w][1]\n",
    "            \n",
    "    # tree barkward\n",
    "    for word in words:\n",
    "        _len = len(word)\n",
    "        if _len not in tree_b:\n",
    "            tree_b[_len] = [1, {}]\n",
    "        else:\n",
    "            tree_b[_len][0] += 1\n",
    "            \n",
    "        tmp = tree_b[_len][1]\n",
    "        \n",
    "        for w in word[::-1]:\n",
    "            if w not in tmp:\n",
    "                tmp[w] = [1, {}]\n",
    "            else:\n",
    "                tmp[w][0] += 1\n",
    "            \n",
    "            tmp = tmp[w][1]\n",
    "\n",
    "    result = []\n",
    "    for query in queries:\n",
    "        \n",
    "        _len = len(query)\n",
    "        \n",
    "        chk = check_query(query)\n",
    "#         print(query, chk)\n",
    "        \n",
    "        if chk == 'f':\n",
    "            cnt = 0\n",
    "            if _len not in tree_f: \n",
    "                result.append(cnt)\n",
    "                continue\n",
    "                \n",
    "            tmp = tree_f[_len]\n",
    "#             pprint(tmp)\n",
    "            \n",
    "            for i in query:\n",
    "                if i == '?': break\n",
    "                elif i not in tmp[1]:\n",
    "                    cnt = 0\n",
    "                    break\n",
    "                tmp = tmp[1][i]\n",
    "                cnt = tmp[0]\n",
    "                \n",
    "            result.append(cnt)\n",
    "            \n",
    "        elif chk == 'b':\n",
    "            cnt = 0\n",
    "            if _len not in tree_b: \n",
    "                result.append(cnt)\n",
    "                continue\n",
    "                \n",
    "            tmp = tree_b[_len]\n",
    "#             pprint(tmp)\n",
    "            \n",
    "            for i in query[::-1]:\n",
    "                if i == '?': break\n",
    "                elif i not in tmp[1]:\n",
    "                    cnt = 0\n",
    "                    break\n",
    "                tmp = tmp[1][i]\n",
    "                cnt = tmp[0]\n",
    "                \n",
    "            result.append(cnt)\n",
    "            \n",
    "        else:\n",
    "            tmp = 0\n",
    "            if _len not in tree_f:\n",
    "                pass\n",
    "            else:\n",
    "                tmp += tree_f[_len][0]\n",
    "                \n",
    "            result.append(tmp)\n",
    "                \n",
    "    return result"
   ]
  },
  {
   "cell_type": "code",
   "execution_count": 109,
   "metadata": {},
   "outputs": [
    {
     "data": {
      "text/plain": [
       "[0, 0, 1]"
      ]
     },
     "execution_count": 109,
     "metadata": {},
     "output_type": "execute_result"
    }
   ],
   "source": [
    "solution([\"aaa\", \"aba\", \"aab\", \"aca\"], [\"abb\", \"b??\",'??b'])"
   ]
  },
  {
   "cell_type": "code",
   "execution_count": 110,
   "metadata": {},
   "outputs": [
    {
     "data": {
      "text/plain": [
       "[3, 2, 4, 1, 0, 0]"
      ]
     },
     "execution_count": 110,
     "metadata": {},
     "output_type": "execute_result"
    }
   ],
   "source": [
    "solution([\"frodo\", \"front\", \"frost\", \"frozen\", \"frame\", \"kakao\"], [\"fro??\", \"????o\", \"fr???\", \"fro???\", \"pro?\", \"?\"])"
   ]
  }
 ],
 "metadata": {
  "kernelspec": {
   "display_name": "Python 3",
   "language": "python",
   "name": "python3"
  },
  "language_info": {
   "codemirror_mode": {
    "name": "ipython",
    "version": 3
   },
   "file_extension": ".py",
   "mimetype": "text/x-python",
   "name": "python",
   "nbconvert_exporter": "python",
   "pygments_lexer": "ipython3",
   "version": "3.8.5"
  }
 },
 "nbformat": 4,
 "nbformat_minor": 4
}
