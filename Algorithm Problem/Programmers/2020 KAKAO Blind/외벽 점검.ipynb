{
 "cells": [
  {
   "cell_type": "markdown",
   "metadata": {},
   "source": [
    "### [외벽 점검](https://programmers.co.kr/learn/courses/30/lessons/60062)"
   ]
  },
  {
   "cell_type": "code",
   "execution_count": 70,
   "metadata": {},
   "outputs": [],
   "source": [
    "from itertools import permutations\n",
    "\n",
    "def solution(n, weak, dist):\n",
    "    answer = 0\n",
    "    weak_len = len(weak)\n",
    "    dist_len = len(dist)\n",
    "    weak.extend([_+n for _ in weak[:-1]])\n",
    "    dists = list(permutations(dist))\n",
    "    \n",
    "    _min = 101\n",
    "    \n",
    "    for dist in dists:\n",
    "        for _ in range(weak_len):\n",
    "            tmp_min = 1\n",
    "\n",
    "            tmp = weak[_ : _ + weak_len]\n",
    "\n",
    "            weak_idx = _\n",
    "            dist_idx = 0\n",
    "            tmp_value = weak[_] + dist[dist_idx]\n",
    "            while True:\n",
    "                if tmp_value >= weak[weak_idx]:\n",
    "                    weak_idx += 1\n",
    "\n",
    "                    if weak_idx == _ + weak_len:\n",
    "                        break\n",
    "                else:\n",
    "                    dist_idx += 1\n",
    "\n",
    "                    if dist_idx == dist_len:\n",
    "                        tmp_min = 101\n",
    "                        break\n",
    "\n",
    "                    tmp_value = weak[weak_idx] + dist[dist_idx]\n",
    "                    tmp_min += 1\n",
    "\n",
    "            _min = min(_min, tmp_min)    \n",
    "    \n",
    "    if _min == 101:\n",
    "        return -1\n",
    "    else:\n",
    "        return _min"
   ]
  },
  {
   "cell_type": "code",
   "execution_count": 71,
   "metadata": {},
   "outputs": [
    {
     "data": {
      "text/plain": [
       "3"
      ]
     },
     "execution_count": 71,
     "metadata": {},
     "output_type": "execute_result"
    }
   ],
   "source": [
    "solution(30,[1, 4, 10, 14, 20, 21],[4, 3, 1])"
   ]
  },
  {
   "cell_type": "code",
   "execution_count": 117,
   "metadata": {},
   "outputs": [],
   "source": [
    "from collections import deque\n",
    "\n",
    "def solution(n, weak, dist):\n",
    "    dist.sort(reverse=True)\n",
    "    q = deque([weak])\n",
    "    visited = set()\n",
    "    visited.add(tuple(weak))\n",
    "    \n",
    "    for i in range(len(dist)):\n",
    "        d = dist[i]\n",
    "        for _ in range(len(q)):\n",
    "            current = q.popleft()\n",
    "            for p in current:\n",
    "                l = p\n",
    "                r = (p + d) % n\n",
    "                if l < r:\n",
    "                    temp = tuple(filter(lambda x: x < l or x > r, current))\n",
    "                else:\n",
    "                    temp = tuple(filter(lambda x: x < l and x > r, current))\n",
    "                if len(temp) == 0:\n",
    "                    return (i + 1)\n",
    "                elif temp not in visited:\n",
    "                    visited.add(temp)\n",
    "                    q.append(list(temp))\n",
    "    return -1"
   ]
  },
  {
   "cell_type": "code",
   "execution_count": 118,
   "metadata": {},
   "outputs": [
    {
     "data": {
      "text/plain": [
       "3"
      ]
     },
     "execution_count": 118,
     "metadata": {},
     "output_type": "execute_result"
    }
   ],
   "source": [
    "solution(30,[1, 4, 10, 14, 20, 21],[4, 3, 1])"
   ]
  },
  {
   "cell_type": "code",
   "execution_count": null,
   "metadata": {},
   "outputs": [],
   "source": []
  }
 ],
 "metadata": {
  "kernelspec": {
   "display_name": "Python 3",
   "language": "python",
   "name": "python3"
  },
  "language_info": {
   "codemirror_mode": {
    "name": "ipython",
    "version": 3
   },
   "file_extension": ".py",
   "mimetype": "text/x-python",
   "name": "python",
   "nbconvert_exporter": "python",
   "pygments_lexer": "ipython3",
   "version": "3.8.5"
  }
 },
 "nbformat": 4,
 "nbformat_minor": 4
}
