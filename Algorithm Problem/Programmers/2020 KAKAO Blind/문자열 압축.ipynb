{
 "cells": [
  {
   "cell_type": "code",
   "execution_count": 70,
   "metadata": {},
   "outputs": [
    {
     "data": {
      "text/plain": [
       "2"
      ]
     },
     "execution_count": 70,
     "metadata": {},
     "output_type": "execute_result"
    }
   ],
   "source": [
    "def solution(s):\n",
    "    if len(s) == 1: return 1\n",
    "    _len = len(s)\n",
    "    \n",
    "    result = 1001\n",
    "    for _ in range(1, (_len // 2) + 1):\n",
    "        tmp = 0\n",
    "        cnt = 1\n",
    "        for i in range(0, _len, _):\n",
    "            if s[i:i+_] == s[i+_:i+_+_]:\n",
    "                cnt += 1\n",
    "            else:\n",
    "                if cnt > 1:\n",
    "                    tmp += len(str(cnt)) + _\n",
    "                    cnt = 1\n",
    "                else:\n",
    "                    tmp += len(s[i:i+_])\n",
    "        result = min(result, tmp)\n",
    "    \n",
    "    return result\n",
    "\n",
    "solution(\"aaaaa\")"
   ]
  }
 ],
 "metadata": {
  "kernelspec": {
   "display_name": "Python 3",
   "language": "python",
   "name": "python3"
  },
  "language_info": {
   "codemirror_mode": {
    "name": "ipython",
    "version": 3
   },
   "file_extension": ".py",
   "mimetype": "text/x-python",
   "name": "python",
   "nbconvert_exporter": "python",
   "pygments_lexer": "ipython3",
   "version": "3.8.3"
  }
 },
 "nbformat": 4,
 "nbformat_minor": 4
}
