{
 "cells": [
  {
   "cell_type": "code",
   "execution_count": 16,
   "metadata": {},
   "outputs": [],
   "source": [
    "# 2020-12-03 86점\n",
    "\n",
    "def check(lock_i, lock_j, key, lst, key_len, check_lst):\n",
    "    cnt = len(check_lst)\n",
    "    range_ = (key_len - 1, len(lst) - key_len)\n",
    "    \n",
    "    for i in range(key_len):\n",
    "        if range_[0] <= i + lock_i <= range_[1]:\n",
    "            for j in range(key_len):\n",
    "                if range_[0] <= j + lock_j <= range_[1]:\n",
    "                    if key[i][j] and [lock_i+i, lock_j+j] in check_lst:\n",
    "                        cnt -= 1\n",
    "    if cnt:\n",
    "        return False\n",
    "    else:\n",
    "        return True\n",
    "    \n",
    "def rotation(key):\n",
    "    key_len = len(key)\n",
    "    new_key = [[0]*key_len for _ in range(key_len)]\n",
    "    new_key\n",
    "\n",
    "    for i in range(key_len):\n",
    "        for j in range(key_len):\n",
    "            new_key[j][key_len - i - 1] = key[i][j]\n",
    "            \n",
    "    return new_key\n",
    "\n",
    "\n",
    "def solution(key, lock):\n",
    "    lock_len = len(lock)\n",
    "    key_len = len(key)\n",
    "    full_len = lock_len + (key_len - 1) * 2\n",
    "    check_lst = []\n",
    "    \n",
    "    # padding\n",
    "    lst = [[1] * full_len for _ in range(full_len)]\n",
    "    for i in range(key_len):\n",
    "        for j in range(key_len):\n",
    "            lst[key_len - 1 + i][key_len - 1 + j] = lock[i][j]\n",
    "            if not lock[i][j]:\n",
    "                check_lst.append([key_len - 1 + i, key_len - 1 + j])\n",
    "    \n",
    "    for _ in range(4):\n",
    "        if _:            \n",
    "            key = rotation(key)\n",
    "            for i in range(full_len - key_len + 1):\n",
    "                for j in range(full_len - key_len + 1):\n",
    "                    if check(i, j, key, lst, key_len, check_lst):\n",
    "                        return True\n",
    "        else:\n",
    "            for i in range(full_len - key_len + 1):\n",
    "                for j in range(full_len - key_len + 1):\n",
    "                    if check(i, j, key, lst, key_len, check_lst):\n",
    "                        return True\n",
    "    return False"
   ]
  },
  {
   "cell_type": "code",
   "execution_count": 119,
   "metadata": {},
   "outputs": [],
   "source": [
    "def check(lst_i,lst_j,key,lst,check_range,check_lst):\n",
    "    key_len = len(key)\n",
    "    cnt = len(check_lst)\n",
    "    \n",
    "    for i in range(key_len):\n",
    "        if check_range[0] <= i+lst_i <= check_range[1]:\n",
    "            for j in range(key_len):\n",
    "                if check_range[0] <= j+lst_j <= check_range[1]:\n",
    "                    if key[i][j] + lst[i+lst_i][j+lst_j] != 1:\n",
    "                        return False\n",
    "                    if key[i][j] and [i+lst_i, j+lst_j] in check_lst:\n",
    "                        cnt -= 1\n",
    "                    \n",
    "    \n",
    "    if cnt: return False\n",
    "    else: return True\n",
    "    \n",
    "def rotation(key):\n",
    "    key_len = len(key)\n",
    "    new_key = [[0] * (key_len) for _ in range(key_len)]\n",
    "    for i in range(key_len):\n",
    "        for j in range(key_len):\n",
    "            new_key[j][key_len-i-1] = key[i][j]\n",
    "            \n",
    "    return new_key\n",
    "    \n",
    "def solution(key, lock):\n",
    "    key_len = len(key)\n",
    "    lock_len = len(lock)\n",
    "    check_lst = []\n",
    "    \n",
    "    # padding    \n",
    "    lst = [[1] * (lock_len + (key_len-1)*2) for _ in range(lock_len + (key_len-1)*2)]    \n",
    "    start_idx = key_len - 1\n",
    "    for i in range(lock_len):\n",
    "        for j in range(lock_len):\n",
    "            lst[key_len-1+i][key_len-1+j] = lock[i][j]\n",
    "            if not lst[key_len-1+i][key_len-1+j]:\n",
    "                check_lst.append([key_len-1+i, key_len-1+j])\n",
    "    \n",
    "    # check\n",
    "    check_range = (key_len - 1, len(lst) - key_len)\n",
    "    \n",
    "    for _ in range(4):\n",
    "        if _:\n",
    "            key = rotation(key)\n",
    "        for i in range(lock_len+key_len-1):\n",
    "            for j in range(lock_len+key_len-1):\n",
    "                if check(i,j,key,lst,check_range,check_lst):\n",
    "                    return True\n",
    "    else:\n",
    "        return False"
   ]
  },
  {
   "cell_type": "code",
   "execution_count": 120,
   "metadata": {},
   "outputs": [
    {
     "data": {
      "text/plain": [
       "True"
      ]
     },
     "execution_count": 120,
     "metadata": {},
     "output_type": "execute_result"
    }
   ],
   "source": [
    "solution([[0, 0, 0], [1, 0, 0], [0, 1, 1]], [[1, 1, 1], [1, 1, 0], [1, 0, 1]])"
   ]
  }
 ],
 "metadata": {
  "kernelspec": {
   "display_name": "Python 3",
   "language": "python",
   "name": "python3"
  },
  "language_info": {
   "codemirror_mode": {
    "name": "ipython",
    "version": 3
   },
   "file_extension": ".py",
   "mimetype": "text/x-python",
   "name": "python",
   "nbconvert_exporter": "python",
   "pygments_lexer": "ipython3",
   "version": "3.8.5"
  }
 },
 "nbformat": 4,
 "nbformat_minor": 4
}
