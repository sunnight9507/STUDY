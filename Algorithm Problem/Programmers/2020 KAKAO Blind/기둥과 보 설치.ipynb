{
 "cells": [
  {
   "cell_type": "code",
   "execution_count": 96,
   "metadata": {},
   "outputs": [],
   "source": [
    "# Test Case만 OK\n",
    "\n",
    "def check_0_0(lst, x, y, n):\n",
    "    if y < n and lst[x-1][y+1] and lst[x+1][y+1]: return -1\n",
    "    \n",
    "    return lst[x][y]\n",
    "\n",
    "def check_0_1(lst, x, y):\n",
    "    # 바닥인 경우\n",
    "    if y == 0: return 0\n",
    "    \n",
    "    # 기둥 위에 있는 경우\n",
    "    if lst[x][y-1] == 0: return 0\n",
    "    \n",
    "    # 보의 한쪽 끝 부분 위에 있는 경우(오른쪽 끝)\n",
    "    if lst[x-1][y] == 1: return 0\n",
    "    \n",
    "    # 보의 한쪽 끝 부분 위에 있는 경우(왼쪽 끝)\n",
    "    if lst[x][y] == 1: return 2\n",
    "    \n",
    "    return -1\n",
    "\n",
    "def check_1_1(lst, x, y):\n",
    "    # 한쪽 끝 부분이 기둥 위에 있는 경우(왼쪽)\n",
    "    if lst[x][y-1] == 0: return 1\n",
    "    \n",
    "    # 한쪽 끝 부분이 기둥 위에 있는 경우(오른쪽)\n",
    "    if lst[x+1][y-1] == 0: return 1\n",
    "    \n",
    "    # 양쪽 끝 부분이 다른 보와 동시에 연결되어 있는 경우\n",
    "    if lst[x-1][y] == 1 and lst[x+1][y] == 1: return 1\n",
    "    \n",
    "    return -1\n",
    "\n",
    "def solution(n, build_frame):\n",
    "    \n",
    "    lst = [[-1] * (n+1) for _ in range(n+1)]\n",
    "    result = []\n",
    "    \n",
    "    # build_frame [x,y,a,b] / [x,y] 좌료 / a : 0 기둥 1 보 / b : 0 삭제 1 설치\n",
    "    \n",
    "    for x,y,a,b in build_frame:        \n",
    "        if a == 0 and b == 0: # 기둥 삭제\n",
    "            tmp = check_0_0(lst, x, y, n)\n",
    "            if tmp == -1:\n",
    "                lst[x][y] = tmp\n",
    "                result.remove([x,y,0])\n",
    "        \n",
    "        elif a == 0 and b == 1: # 기둥 설치\n",
    "            tmp = check_0_1(lst, x, y)\n",
    "            if tmp != -1:\n",
    "                lst[x][y] = tmp\n",
    "                result.append([x,y,0])\n",
    "                \n",
    "        elif a == 1 and b == 0: # 보 삭제\n",
    "            pass\n",
    "        \n",
    "        else: # 보 설치\n",
    "            tmp = check_1_1(lst, x, y)\n",
    "            if tmp != -1:\n",
    "                lst[x][y] = tmp\n",
    "                result.append([x,y,1])\n",
    "    \n",
    "    result.sort()\n",
    "    \n",
    "    return result"
   ]
  },
  {
   "cell_type": "code",
   "execution_count": 94,
   "metadata": {},
   "outputs": [
    {
     "data": {
      "text/plain": [
       "[[1, 0, 0],\n",
       " [1, 1, 1],\n",
       " [2, 1, 0],\n",
       " [2, 2, 1],\n",
       " [3, 2, 1],\n",
       " [4, 2, 1],\n",
       " [5, 0, 0],\n",
       " [5, 1, 0]]"
      ]
     },
     "execution_count": 94,
     "metadata": {},
     "output_type": "execute_result"
    }
   ],
   "source": [
    "solution(5,[[1,0,0,1],[1,1,1,1],[2,1,0,1],[2,2,1,1],[5,0,0,1],[5,1,0,1],[4,2,1,1],[3,2,1,1]])"
   ]
  },
  {
   "cell_type": "code",
   "execution_count": 95,
   "metadata": {},
   "outputs": [
    {
     "data": {
      "text/plain": [
       "[[0, 0, 0], [0, 1, 1], [1, 1, 1], [2, 1, 1], [3, 1, 1], [4, 0, 0]]"
      ]
     },
     "execution_count": 95,
     "metadata": {},
     "output_type": "execute_result"
    }
   ],
   "source": [
    "solution(5,[[0,0,0,1],[2,0,0,1],[4,0,0,1],[0,1,1,1],[1,1,1,1],[2,1,1,1],[3,1,1,1],[2,0,0,0],[1,1,1,0],[2,2,0,1]])"
   ]
  }
 ],
 "metadata": {
  "kernelspec": {
   "display_name": "Python 3",
   "language": "python",
   "name": "python3"
  },
  "language_info": {
   "codemirror_mode": {
    "name": "ipython",
    "version": 3
   },
   "file_extension": ".py",
   "mimetype": "text/x-python",
   "name": "python",
   "nbconvert_exporter": "python",
   "pygments_lexer": "ipython3",
   "version": "3.8.5"
  }
 },
 "nbformat": 4,
 "nbformat_minor": 4
}
