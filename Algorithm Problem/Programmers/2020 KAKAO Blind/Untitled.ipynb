{
 "cells": [
  {
   "cell_type": "markdown",
   "metadata": {},
   "source": [
    "#### 1. 100\n",
    "#### 2. 20\n",
    "#### 3. 93\n",
    "#### 4. 53.5"
   ]
  },
  {
   "cell_type": "code",
   "execution_count": 132,
   "metadata": {},
   "outputs": [],
   "source": [
    "def solution(s):\n",
    "    n = len(s)\n",
    "    \n",
    "    if n == 1:\n",
    "        return 1\n",
    "    \n",
    "    lst = [n+1 for _ in range(n // 2)]\n",
    "    \n",
    "    for _ in range(1, n//2 + 1):\n",
    "        tmp = ''\n",
    "        cnt = 0\n",
    "        result = 0\n",
    "        sub_cnt = 0\n",
    "        len_str = 0\n",
    "        for i in range(0,n,_):\n",
    "#             print(i, tmp, s[i:i+_], cnt, result, sub_cnt)\n",
    "            if tmp != s[i:i+_]:\n",
    "#                 print(cnt)\n",
    "                if len(str(cnt)) > 1:\n",
    "                    len_str += len(str(cnt)) - 1\n",
    "                cnt = 1\n",
    "                tmp = s[i:i+_]\n",
    "            else:\n",
    "                cnt += 1\n",
    "                if cnt == 2:\n",
    "                    result += 1\n",
    "                \n",
    "                if cnt > 1:\n",
    "                    sub_cnt += 1\n",
    "        \n",
    "#             if len(str(cnt)) > 1:\n",
    "#                 len_str += len(str(cnt)) - 1\n",
    "        \n",
    "#         print(sub_cnt, result)\n",
    "        if len(str(cnt)) > 1:\n",
    "            len_str += len(str(cnt)) - 1 \n",
    "#         print(len(str(cnt)))\n",
    "#         print(n, cnt, sub_cnt, _, result, len_str)\n",
    "        lst[_-1] = n - (sub_cnt*_) + result + len_str\n",
    "#     print(lst)\n",
    "    return min(lst)"
   ]
  },
  {
   "cell_type": "code",
   "execution_count": 133,
   "metadata": {},
   "outputs": [
    {
     "name": "stdout",
     "output_type": "stream",
     "text": [
      "[9, 12, 14, 18, 21, 26, 21, 34, 35, 35, 26, 48, 38, 54, 54, 64, 67, 60, 78, 64, 75, 70, 92, 96, 79, 90, 105, 96, 118, 114, 112, 112, 114, 118, 124, 132, 141, 153, 129, 143, 160, 138, 157, 136, 158, 183, 163, 191, 172, 153, 185, 167, 202, 185, 168, 207, 191, 175, 218, 203, 188, 173, 221, 207, 193, 179, 232, 219, 206, 193, 180, 239, 227, 215, 203, 191, 179, 245, 234, 223, 212, 201, 190, 263, 253, 243, 233, 223, 213, 203, 193, 275, 266, 257, 248, 239, 230, 221, 212, 203, 294, 286, 278, 270, 262, 254, 246, 238, 230, 222, 214, 318, 311, 304, 297, 290, 283, 276, 269, 262, 255, 248, 241, 234, 227, 346, 340, 334, 328, 322, 316, 310, 304, 298, 292, 286, 280, 274, 268, 262, 256, 250, 244, 382, 377, 372, 367, 362, 357, 352, 347, 342, 337, 332, 327, 322, 317, 312, 307, 302, 297, 292, 287, 282, 277, 272, 434, 430, 426, 422, 418, 414, 410, 406, 402, 398, 394, 390, 386, 382, 378, 374, 370, 366, 362, 358, 354, 350, 346, 342, 338, 334, 330, 326, 322, 318, 314, 310, 306, 302, 499, 496, 493, 490, 487, 484, 481, 478, 475, 472, 469, 466, 463, 460, 457, 454, 451, 448, 445, 442, 439, 436, 433, 430, 427, 424, 421, 418, 415, 412, 409, 406, 403, 400, 397, 394, 391, 388, 385, 382, 379, 376, 373, 370, 367, 364, 361, 358, 355, 352, 600, 598, 596, 594, 592, 590, 588, 586, 584, 582, 580, 578, 576, 574, 572, 570, 568, 566, 564, 562, 560, 558, 556, 554, 552, 550, 548, 546, 544, 542, 540, 538, 536, 534, 532, 530, 528, 526, 524, 522, 520, 518, 516, 514, 512, 510, 508, 506, 504, 502, 500, 498, 496, 494, 492, 490, 488, 486, 484, 482, 480, 478, 476, 474, 472, 470, 468, 466, 464, 462, 460, 458, 456, 454, 452, 450, 448, 446, 444, 442, 440, 438, 436, 768, 767, 766, 765, 764, 763, 762, 761, 760, 759, 758, 757, 756, 755, 754, 753, 752, 751, 750, 749, 748, 747, 746, 745, 744, 743, 742, 741, 740, 739, 738, 737, 736, 735, 734, 733, 732, 731, 730, 729, 728, 727, 726, 725, 724, 723, 722, 721, 720, 719, 718, 717, 716, 715, 714, 713, 712, 711, 710, 709, 708, 707, 706, 705, 704, 703, 702, 701, 700, 699, 698, 697, 696, 695, 694, 693, 692, 691, 690, 689, 688, 687, 686, 685, 684, 683, 682, 681, 680, 679, 678, 677, 676, 675, 674, 673, 672, 671, 670, 669, 668, 667, 666, 665, 664, 663, 662, 661, 660, 659, 658, 657, 656, 655, 654, 653, 652, 651, 650, 649, 648, 647, 646, 645, 644, 643, 642, 641, 640, 639, 638, 637, 636, 635, 634, 633, 632, 631, 630, 629, 628, 627, 626, 625, 624, 623, 622, 621, 620, 619, 618, 617, 616, 615, 614, 613, 612, 611, 610, 609, 608, 607, 606, 605, 604, 603, 602, 1101, 1101, 1101, 1101, 1101, 1101, 1101, 1101, 1101, 1101, 1101, 1101, 1101, 1101, 1101, 1101, 1101, 1101, 1101, 1101, 1101, 1101, 1101, 1101, 1101, 1101, 1101, 1101, 1101, 1101, 1101, 1101, 1101, 1101, 1101, 1101, 1101, 1101, 1101, 1101, 1101, 1101, 1101, 1101, 1101, 1101, 1101, 1101, 1101, 1101]\n"
     ]
    },
    {
     "data": {
      "text/plain": [
       "9"
      ]
     },
     "execution_count": 133,
     "metadata": {},
     "output_type": "execute_result"
    }
   ],
   "source": [
    "solution('a' * 1001 + 'b' * 100)"
   ]
  },
  {
   "cell_type": "code",
   "execution_count": null,
   "metadata": {},
   "outputs": [],
   "source": []
  },
  {
   "cell_type": "code",
   "execution_count": null,
   "metadata": {},
   "outputs": [],
   "source": []
  },
  {
   "cell_type": "code",
   "execution_count": null,
   "metadata": {},
   "outputs": [],
   "source": []
  },
  {
   "cell_type": "code",
   "execution_count": 214,
   "metadata": {},
   "outputs": [],
   "source": [
    "def solution(p):\n",
    "    stack = []\n",
    "    \n",
    "    lst = [_ for _ in p]\n",
    "    for i, v in enumerate(p):\n",
    "        if len(stack) == 0:\n",
    "            stack.append([i,v])\n",
    "            continue\n",
    "        \n",
    "        if stack[-1][1] == v:\n",
    "            stack.append([i,v])\n",
    "        else:\n",
    "            if v == ')':\n",
    "                stack.pop()\n",
    "            else:\n",
    "                _i, _v = stack.pop()\n",
    "                lst[_i], lst[i] = v, _v\n",
    "\n",
    "    return ''.join(lst)"
   ]
  },
  {
   "cell_type": "code",
   "execution_count": 217,
   "metadata": {},
   "outputs": [
    {
     "data": {
      "text/plain": [
       "'()'"
      ]
     },
     "execution_count": 217,
     "metadata": {},
     "output_type": "execute_result"
    }
   ],
   "source": [
    "solution(\")(\")"
   ]
  },
  {
   "cell_type": "code",
   "execution_count": 216,
   "metadata": {},
   "outputs": [
    {
     "data": {
      "text/plain": [
       "'(())()'"
      ]
     },
     "execution_count": 216,
     "metadata": {},
     "output_type": "execute_result"
    }
   ],
   "source": [
    "solution(\"))((()\")"
   ]
  },
  {
   "cell_type": "code",
   "execution_count": null,
   "metadata": {},
   "outputs": [],
   "source": []
  },
  {
   "cell_type": "code",
   "execution_count": null,
   "metadata": {},
   "outputs": [],
   "source": []
  },
  {
   "cell_type": "code",
   "execution_count": 198,
   "metadata": {},
   "outputs": [],
   "source": [
    "def solution(p):\n",
    "    if p == '': return ''\n",
    "    \n",
    "    # 나누기\n",
    "    idx = 0\n",
    "    check = 0\n",
    "    for i, _ in enumerate(p):\n",
    "        print(_, check)\n",
    "        if _ == '(':\n",
    "            check += 1\n",
    "        else:\n",
    "            check -= 1\n",
    "            \n",
    "        if check == 0:\n",
    "            idx = i\n",
    "            break\n",
    "    \n",
    "    result = p[:idx+1]\n",
    "    print(result)\n",
    "    \n",
    "    \n",
    "    \n",
    "    \n",
    "    \n",
    "    answer = ''\n",
    "    return answer"
   ]
  },
  {
   "cell_type": "code",
   "execution_count": 199,
   "metadata": {},
   "outputs": [
    {
     "data": {
      "text/plain": [
       "''"
      ]
     },
     "execution_count": 199,
     "metadata": {},
     "output_type": "execute_result"
    }
   ],
   "source": [
    "solution(\"\")"
   ]
  },
  {
   "cell_type": "code",
   "execution_count": 201,
   "metadata": {},
   "outputs": [
    {
     "name": "stdout",
     "output_type": "stream",
     "text": [
      ") 0\n",
      ") -1\n",
      "( -2\n",
      "( -1\n",
      "))((\n"
     ]
    },
    {
     "data": {
      "text/plain": [
       "''"
      ]
     },
     "execution_count": 201,
     "metadata": {},
     "output_type": "execute_result"
    }
   ],
   "source": [
    "solution(\"))((()\")"
   ]
  },
  {
   "cell_type": "code",
   "execution_count": 176,
   "metadata": {},
   "outputs": [
    {
     "data": {
      "text/plain": [
       "'(()())()'"
      ]
     },
     "execution_count": 176,
     "metadata": {},
     "output_type": "execute_result"
    }
   ],
   "source": [
    "solution(\"(()())()\")"
   ]
  },
  {
   "cell_type": "code",
   "execution_count": 177,
   "metadata": {},
   "outputs": [
    {
     "data": {
      "text/plain": [
       "'()(())()'"
      ]
     },
     "execution_count": 177,
     "metadata": {},
     "output_type": "execute_result"
    }
   ],
   "source": [
    "solution(\"()))((()\")"
   ]
  },
  {
   "cell_type": "code",
   "execution_count": 275,
   "metadata": {},
   "outputs": [],
   "source": [
    "from pprint import pprint\n",
    "def find(i,j, key_lst, lock_lst):\n",
    "    new_lock_lst = lock_lst.copy()\n",
    "    for _i, _j in key_lst:\n",
    "        if [i+_i, j+_j] in new_lock_lst:\n",
    "            new_lock_lst.remove([i+_i, j+_j])\n",
    "            \n",
    "    if len(new_lock_lst) == 0:\n",
    "        return True\n",
    "    else: False\n",
    "\n",
    "\n",
    "def check(a, b):\n",
    "    n = (len(b) + (len(a) - 1) * 2)\n",
    "    len_b = len(b)\n",
    "    len_a = len(a)\n",
    "    \n",
    "    key_lst = []\n",
    "    lock_lst = []\n",
    "    for i in range(len_b):\n",
    "        for j in range(len_b):\n",
    "            if b[i][j] == 0:\n",
    "                lock_lst.append([i+len_a-1, j+len_a-1])\n",
    "                \n",
    "    for i in range(len_a):\n",
    "        for j in range(len_a):\n",
    "            if a[i][j] == 1:\n",
    "                key_lst.append([i,j])\n",
    "                \n",
    "                \n",
    "    for i in range(n - len_a + 1):\n",
    "        for j in range(n - len_a + 1):\n",
    "            if find(i,j, key_lst, lock_lst):\n",
    "                return True\n",
    "            \n",
    "            \n",
    "    return False\n",
    "\n",
    "def rotate_90(m):\n",
    "    N = len(m)\n",
    "    ret = [[0] * N for _ in range(N)]\n",
    "\n",
    "    for r in range(N):\n",
    "        for c in range(N):\n",
    "            ret[c][N-1-r] = m[r][c]\n",
    "    return ret\n",
    "\n",
    "def solution(key, lock):\n",
    "    for _ in range(4):\n",
    "        print(_)\n",
    "        if check(key, lock): return True\n",
    "        else:\n",
    "            key = rotate_90(key)\n",
    "    \n",
    "    return False"
   ]
  },
  {
   "cell_type": "code",
   "execution_count": 278,
   "metadata": {},
   "outputs": [
    {
     "name": "stdout",
     "output_type": "stream",
     "text": [
      "0\n"
     ]
    },
    {
     "data": {
      "text/plain": [
       "True"
      ]
     },
     "execution_count": 278,
     "metadata": {},
     "output_type": "execute_result"
    }
   ],
   "source": [
    "solution([[1, 1, 1], [1, 1, 1], [1, 1, 1]],[[1, 1, 1], [1, 0, 1], [1, 1, 1]])"
   ]
  },
  {
   "cell_type": "code",
   "execution_count": null,
   "metadata": {},
   "outputs": [],
   "source": []
  },
  {
   "cell_type": "code",
   "execution_count": null,
   "metadata": {},
   "outputs": [],
   "source": []
  },
  {
   "cell_type": "code",
   "execution_count": null,
   "metadata": {},
   "outputs": [],
   "source": []
  },
  {
   "cell_type": "code",
   "execution_count": 315,
   "metadata": {},
   "outputs": [],
   "source": [
    "def solution(words, queries):\n",
    "    words = set(words)\n",
    "    \n",
    "    _dict = {}\n",
    "    \n",
    "    for i, _ in enumerate(words):\n",
    "        n = len(_)\n",
    "        if n in _dict:\n",
    "            _dict[n].append(i)\n",
    "        else:\n",
    "            _dict[n] = [i]\n",
    "            \n",
    "        for idx, s in enumerate(_):\n",
    "            if str(n)+str(idx)+s in _dict:\n",
    "                _dict[str(n)+str(idx)+s].append(i)\n",
    "            else:\n",
    "                _dict[str(n)+str(idx)+s] = [i]\n",
    "    \n",
    "#     print(_dict)\n",
    "    \n",
    "    result = [0 for _ in range(len(queries))]\n",
    "    for idx, _ in enumerate(queries):\n",
    "#         print(result)\n",
    "        n = len(_)\n",
    "        if n in _dict:\n",
    "            lst = set(_dict[n])\n",
    "        else:\n",
    "            result[idx] = 0\n",
    "            continue\n",
    "#         print(lst)\n",
    "        \n",
    "        # 앞에 문자\n",
    "        if _[0] != '?':\n",
    "            for i,s in enumerate(_):\n",
    "                if s == '?': \n",
    "                    result[idx] = len(lst)\n",
    "                    break\n",
    "                if str(n)+str(i)+s in _dict:\n",
    "                    lst = lst & set(_dict[str(n)+str(i)+s])\n",
    "                else:\n",
    "                    result[idx] = 0\n",
    "                    break\n",
    "        # 뒤 문자열\n",
    "        else:\n",
    "            for i in range(len(_)-1,0,-1):\n",
    "                s = _[i]\n",
    "#                 print(i,s)\n",
    "                if s == '?': \n",
    "                    result[idx] = len(lst)\n",
    "                    break\n",
    "                if str(n)+str(i)+s in _dict:\n",
    "                    lst = lst & set(_dict[str(n)+str(i)+s])\n",
    "                else:\n",
    "                    result[idx] = 0\n",
    "                    break\n",
    "                \n",
    "    return result"
   ]
  },
  {
   "cell_type": "code",
   "execution_count": 317,
   "metadata": {},
   "outputs": [
    {
     "name": "stdout",
     "output_type": "stream",
     "text": [
      "{5: [0, 1, 2, 3, 5], '50f': [0, 1, 2, 5], '51r': [0, 1, 2, 5], '52a': [0], '53m': [0], '54e': [0], '52o': [1, 2, 5], '53n': [1], '54t': [1, 5], '53d': [2], '54o': [2, 3], '50k': [3], '51a': [3], '52k': [3], '53a': [3], 6: [4], '60f': [4], '61r': [4], '62o': [4], '63z': [4], '64e': [4], '65n': [4], '53s': [5]}\n"
     ]
    },
    {
     "data": {
      "text/plain": [
       "[3, 2, 4, 1, 0, 5]"
      ]
     },
     "execution_count": 317,
     "metadata": {},
     "output_type": "execute_result"
    }
   ],
   "source": [
    "solution([\"frodo\", \"front\", \"frost\", \"frozen\", \"frame\", \"kakao\"],[\"fro??\", \"????o\", \"fr???\", \"fro???\", \"pro?\", \"?????\"])"
   ]
  },
  {
   "cell_type": "code",
   "execution_count": null,
   "metadata": {},
   "outputs": [],
   "source": []
  },
  {
   "cell_type": "code",
   "execution_count": null,
   "metadata": {},
   "outputs": [],
   "source": []
  },
  {
   "cell_type": "code",
   "execution_count": null,
   "metadata": {},
   "outputs": [],
   "source": []
  },
  {
   "cell_type": "code",
   "execution_count": 318,
   "metadata": {},
   "outputs": [],
   "source": [
    "def solution(n, build_frame):\n",
    "    answer = [[]]\n",
    "    return answer"
   ]
  },
  {
   "cell_type": "code",
   "execution_count": null,
   "metadata": {},
   "outputs": [],
   "source": []
  },
  {
   "cell_type": "code",
   "execution_count": null,
   "metadata": {},
   "outputs": [],
   "source": []
  }
 ],
 "metadata": {
  "kernelspec": {
   "display_name": "Python 3",
   "language": "python",
   "name": "python3"
  },
  "language_info": {
   "codemirror_mode": {
    "name": "ipython",
    "version": 3
   },
   "file_extension": ".py",
   "mimetype": "text/x-python",
   "name": "python",
   "nbconvert_exporter": "python",
   "pygments_lexer": "ipython3",
   "version": "3.8.3"
  }
 },
 "nbformat": 4,
 "nbformat_minor": 4
}
