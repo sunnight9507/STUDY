{
 "cells": [
  {
   "cell_type": "code",
   "execution_count": 19,
   "metadata": {},
   "outputs": [],
   "source": [
    "# 1.79\n",
    "def solution(phone_book):\n",
    "    dictionary = {}\n",
    "    \n",
    "    for _ in phone_book:\n",
    "        _len = len(_)\n",
    "        if dictionary.get(_len):\n",
    "            dictionary[_len].append(_)\n",
    "        else:\n",
    "            dictionary[_len] = [_]\n",
    "            \n",
    "            \n",
    "    print(dictionary)\n",
    "    for i in range(2,21):\n",
    "        if dictionary.get(i):\n",
    "            for i_item in dictionary.get(i):\n",
    "                for j in range(1,i):\n",
    "                    if dictionary.get(j):\n",
    "                        for j_item in dictionary.get(j):\n",
    "                            print(j_item, i_item)\n",
    "                            if j_item == i_item[:j]:\n",
    "                                print(j_item, i_item[:j])\n",
    "                                return False\n",
    "          \n",
    "    return True"
   ]
  },
  {
   "cell_type": "code",
   "execution_count": 20,
   "metadata": {},
   "outputs": [
    {
     "name": "stdout",
     "output_type": "stream",
     "text": [
      "{4: ['1235'], 3: ['567', '123'], 2: ['88', '12']}\n",
      "88 567\n",
      "12 567\n",
      "88 123\n",
      "12 123\n",
      "12 12\n"
     ]
    },
    {
     "data": {
      "text/plain": [
       "False"
      ]
     },
     "execution_count": 20,
     "metadata": {},
     "output_type": "execute_result"
    }
   ],
   "source": [
    "solution(['1235','567','88','12','123'])"
   ]
  },
  {
   "cell_type": "code",
   "execution_count": null,
   "metadata": {},
   "outputs": [],
   "source": []
  },
  {
   "cell_type": "code",
   "execution_count": null,
   "metadata": {},
   "outputs": [],
   "source": []
  },
  {
   "cell_type": "code",
   "execution_count": 53,
   "metadata": {},
   "outputs": [],
   "source": [
    "# 1.04\n",
    "from collections import defaultdict\n",
    "\n",
    "def solution(phone_book):\n",
    "    book_dict = defaultdict(lambda :[])\n",
    "    \n",
    "    for _ in phone_book:\n",
    "        book_dict[len(_)].append(_)\n",
    "    \n",
    "    key_lst = sorted(book_dict.keys())\n",
    "    \n",
    "    for small in key_lst:\n",
    "        for small_string in book_dict[small]:\n",
    "            for big in key_lst:\n",
    "                if big <= small: continue\n",
    "                \n",
    "                for big_string in book_dict[big]:\n",
    "                    print(small_string, big_string)\n",
    "                    if small_string == big_string[:small]:\n",
    "                        return False\n",
    "            \n",
    "    return True"
   ]
  },
  {
   "cell_type": "code",
   "execution_count": 54,
   "metadata": {},
   "outputs": [
    {
     "name": "stdout",
     "output_type": "stream",
     "text": [
      "88 567\n",
      "88 123\n",
      "88 1235\n",
      "12 567\n",
      "12 123\n"
     ]
    },
    {
     "data": {
      "text/plain": [
       "False"
      ]
     },
     "execution_count": 54,
     "metadata": {},
     "output_type": "execute_result"
    }
   ],
   "source": [
    "solution(['1235','567','88','12','123'])"
   ]
  },
  {
   "cell_type": "code",
   "execution_count": 55,
   "metadata": {},
   "outputs": [
    {
     "name": "stdout",
     "output_type": "stream",
     "text": [
      "119 97674223\n",
      "119 1195524421\n"
     ]
    },
    {
     "data": {
      "text/plain": [
       "False"
      ]
     },
     "execution_count": 55,
     "metadata": {},
     "output_type": "execute_result"
    }
   ],
   "source": [
    "solution(['119', '97674223', '1195524421', '211'])"
   ]
  },
  {
   "cell_type": "code",
   "execution_count": null,
   "metadata": {},
   "outputs": [],
   "source": []
  },
  {
   "cell_type": "code",
   "execution_count": null,
   "metadata": {},
   "outputs": [],
   "source": []
  }
 ],
 "metadata": {
  "kernelspec": {
   "display_name": "Python 3",
   "language": "python",
   "name": "python3"
  },
  "language_info": {
   "codemirror_mode": {
    "name": "ipython",
    "version": 3
   },
   "file_extension": ".py",
   "mimetype": "text/x-python",
   "name": "python",
   "nbconvert_exporter": "python",
   "pygments_lexer": "ipython3",
   "version": "3.8.5"
  }
 },
 "nbformat": 4,
 "nbformat_minor": 4
}
