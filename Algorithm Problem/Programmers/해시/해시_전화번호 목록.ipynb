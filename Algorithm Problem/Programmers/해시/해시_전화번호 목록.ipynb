{
 "cells": [
  {
   "cell_type": "code",
   "execution_count": 27,
   "metadata": {},
   "outputs": [],
   "source": [
    "def solution(phone_book):\n",
    "    dictionary = {}\n",
    "    \n",
    "    for _ in phone_book:\n",
    "        _len = len(_)\n",
    "        if dictionary.get(_len):\n",
    "            dictionary[_len].append(_)\n",
    "        else:\n",
    "            dictionary[_len] = [_]\n",
    "            \n",
    "    for i in range(2,21):\n",
    "        if dictionary.get(i):\n",
    "            for i_item in dictionary.get(i):\n",
    "                for j in range(1,i):\n",
    "                    if dictionary.get(j):\n",
    "                        for j_item in dictionary.get(j):\n",
    "#                             print(j_item, i_item)\n",
    "                            if j_item == i_item[:j]:\n",
    "#                                 print(j_item, i_item[:j])\n",
    "                                return False\n",
    "          \n",
    "    return True"
   ]
  },
  {
   "cell_type": "code",
   "execution_count": 28,
   "metadata": {},
   "outputs": [
    {
     "name": "stdout",
     "output_type": "stream",
     "text": [
      "119 97674223\n",
      "211 97674223\n",
      "119 1195524421\n",
      "119 119\n"
     ]
    },
    {
     "data": {
      "text/plain": [
       "True"
      ]
     },
     "execution_count": 28,
     "metadata": {},
     "output_type": "execute_result"
    }
   ],
   "source": [
    "solution(['119', '97674223', '1195524421', '211'])"
   ]
  }
 ],
 "metadata": {
  "kernelspec": {
   "display_name": "Python 3",
   "language": "python",
   "name": "python3"
  },
  "language_info": {
   "codemirror_mode": {
    "name": "ipython",
    "version": 3
   },
   "file_extension": ".py",
   "mimetype": "text/x-python",
   "name": "python",
   "nbconvert_exporter": "python",
   "pygments_lexer": "ipython3",
   "version": "3.8.3"
  }
 },
 "nbformat": 4,
 "nbformat_minor": 4
}
