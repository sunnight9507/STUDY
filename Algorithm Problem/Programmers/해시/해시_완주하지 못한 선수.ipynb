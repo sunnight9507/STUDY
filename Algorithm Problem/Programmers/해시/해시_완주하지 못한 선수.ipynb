{
 "cells": [
  {
   "cell_type": "code",
   "execution_count": 14,
   "metadata": {},
   "outputs": [],
   "source": [
    "def solution(participant, completion):\n",
    "    participant_dict = {}\n",
    "    \n",
    "    for _ in participant:\n",
    "        if participant_dict.get(_):\n",
    "            participant_dict[_] += 1\n",
    "        else:\n",
    "            participant_dict[_] = 1\n",
    "\n",
    "    for _ in completion:\n",
    "        participant_dict[_] -= 1\n",
    "        \n",
    "    for _ in participant_dict.keys():\n",
    "        if participant_dict[_] == 1:\n",
    "            return _"
   ]
  },
  {
   "cell_type": "code",
   "execution_count": 15,
   "metadata": {},
   "outputs": [
    {
     "data": {
      "text/plain": [
       "'leo'"
      ]
     },
     "execution_count": 15,
     "metadata": {},
     "output_type": "execute_result"
    }
   ],
   "source": [
    "solution(['leo', 'kiki', 'eden'], ['eden', 'kiki'])"
   ]
  }
 ],
 "metadata": {
  "kernelspec": {
   "display_name": "Python 3",
   "language": "python",
   "name": "python3"
  },
  "language_info": {
   "codemirror_mode": {
    "name": "ipython",
    "version": 3
   },
   "file_extension": ".py",
   "mimetype": "text/x-python",
   "name": "python",
   "nbconvert_exporter": "python",
   "pygments_lexer": "ipython3",
   "version": "3.8.3"
  }
 },
 "nbformat": 4,
 "nbformat_minor": 4
}
