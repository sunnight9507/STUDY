{
 "cells": [
  {
   "cell_type": "code",
   "execution_count": 46,
   "metadata": {},
   "outputs": [],
   "source": [
    "def solution(genres, plays):\n",
    "    _dict = {}\n",
    "    sum_play = {}\n",
    "    \n",
    "    for index, item in enumerate(genres):\n",
    "        if sum_play.get(item):\n",
    "            sum_play[item] += plays[index]\n",
    "        else:\n",
    "            sum_play[item] = plays[index]\n",
    "        \n",
    "        \n",
    "        \n",
    "        if _dict.get(item):\n",
    "            _dict[item].append([index, plays[index]])\n",
    "        else:\n",
    "            _dict[item] = [[index, plays[index]]]\n",
    "        \n",
    "    print(sum_play)\n",
    "    \n",
    "    sorted_play = sorted(sum_play.items(), key = lambda x : x[1], reverse = True)\n",
    "    \n",
    "    \n",
    "    result = []\n",
    "    \n",
    "    for genre, _ in sorted_play:\n",
    "        result_lst = sorted(_dict[genre], key = lambda x : x[1], reverse = True)\n",
    "        \n",
    "        if len(result_lst) == 1:\n",
    "            result.append(result_lst[0][0])\n",
    "        else:\n",
    "            result.append(result_lst[0][0])\n",
    "            result.append(result_lst[1][0])\n",
    "        \n",
    "    return result"
   ]
  },
  {
   "cell_type": "code",
   "execution_count": 48,
   "metadata": {},
   "outputs": [
    {
     "name": "stdout",
     "output_type": "stream",
     "text": [
      "{'classic': 1450, 'pop': 5000}\n"
     ]
    },
    {
     "data": {
      "text/plain": [
       "[1, 4, 3, 0]"
      ]
     },
     "execution_count": 48,
     "metadata": {},
     "output_type": "execute_result"
    }
   ],
   "source": [
    "solution(['classic', 'pop', 'classic', 'classic', 'pop'], [500, 2500, 150, 800, 2500])"
   ]
  }
 ],
 "metadata": {
  "kernelspec": {
   "display_name": "Python 3",
   "language": "python",
   "name": "python3"
  },
  "language_info": {
   "codemirror_mode": {
    "name": "ipython",
    "version": 3
   },
   "file_extension": ".py",
   "mimetype": "text/x-python",
   "name": "python",
   "nbconvert_exporter": "python",
   "pygments_lexer": "ipython3",
   "version": "3.8.3"
  }
 },
 "nbformat": 4,
 "nbformat_minor": 4
}
