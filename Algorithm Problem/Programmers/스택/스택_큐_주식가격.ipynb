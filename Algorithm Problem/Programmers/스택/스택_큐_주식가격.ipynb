{
 "cells": [
  {
   "cell_type": "code",
   "execution_count": 21,
   "metadata": {},
   "outputs": [],
   "source": [
    "def solution(prices):\n",
    "    \n",
    "    lst = [0 for _ in range(len(prices))]\n",
    "    \n",
    "    for i in range(len(prices)-1):\n",
    "        cnt = 0\n",
    "        tmp_num = prices[i]\n",
    "        for j in range(i+1, len(prices)):\n",
    "            cnt += 1\n",
    "            \n",
    "            if tmp_num > prices[j]: \n",
    "                break\n",
    "                \n",
    "            \n",
    "        lst[i] = cnt\n",
    "    \n",
    "    answer = []\n",
    "    return lst"
   ]
  },
  {
   "cell_type": "code",
   "execution_count": 22,
   "metadata": {},
   "outputs": [
    {
     "data": {
      "text/plain": [
       "[4, 3, 1, 1, 0]"
      ]
     },
     "execution_count": 22,
     "metadata": {},
     "output_type": "execute_result"
    }
   ],
   "source": [
    "solution([1, 2, 3, 2, 3])"
   ]
  }
 ],
 "metadata": {
  "kernelspec": {
   "display_name": "Python 3",
   "language": "python",
   "name": "python3"
  },
  "language_info": {
   "codemirror_mode": {
    "name": "ipython",
    "version": 3
   },
   "file_extension": ".py",
   "mimetype": "text/x-python",
   "name": "python",
   "nbconvert_exporter": "python",
   "pygments_lexer": "ipython3",
   "version": "3.8.3"
  }
 },
 "nbformat": 4,
 "nbformat_minor": 4
}
