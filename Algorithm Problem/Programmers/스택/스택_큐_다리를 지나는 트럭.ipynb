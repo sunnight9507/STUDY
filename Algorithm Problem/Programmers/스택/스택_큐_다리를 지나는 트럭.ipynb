{
 "cells": [
  {
   "cell_type": "code",
   "execution_count": 91,
   "metadata": {},
   "outputs": [],
   "source": [
    "def solution(bridge_length, weight, truck_weights):\n",
    "    lst = [0 for _ in range(bridge_length)]\n",
    "    \n",
    "    cnt = 0\n",
    "    idx = 0\n",
    "    sum_lst = 0\n",
    "    \n",
    "    len_truck = len(truck_weights)\n",
    "    \n",
    "    while True:\n",
    "#         print(cnt, lst)\n",
    "        cnt += 1\n",
    "        \n",
    "        pop = lst.pop(0)\n",
    "        sum_lst -= pop\n",
    "        if sum_lst + truck_weights[idx] > weight:\n",
    "            lst.append(0)\n",
    "            \n",
    "        else:\n",
    "            tmp_weight = truck_weights[idx]\n",
    "            lst.append(tmp_weight)\n",
    "            idx += 1\n",
    "            sum_lst += tmp_weight    \n",
    "        if idx == len_truck:\n",
    "            break\n",
    "    \n",
    "    cnt += bridge_length\n",
    "    \n",
    "#     print(cnt)\n",
    "    return cnt"
   ]
  },
  {
   "cell_type": "code",
   "execution_count": 92,
   "metadata": {},
   "outputs": [
    {
     "data": {
      "text/plain": [
       "8"
      ]
     },
     "execution_count": 92,
     "metadata": {},
     "output_type": "execute_result"
    }
   ],
   "source": [
    "solution(2,10,[7,4,5,6])"
   ]
  },
  {
   "cell_type": "code",
   "execution_count": null,
   "metadata": {},
   "outputs": [],
   "source": []
  },
  {
   "cell_type": "code",
   "execution_count": null,
   "metadata": {},
   "outputs": [],
   "source": [
    "# 92.3 \n",
    "# test case 5번 시간초과\n",
    "def solution(bridge_length, weight, truck_weights):\n",
    "    # 왼쪽으로 진행\n",
    "    answer = 0\n",
    "    \n",
    "    bridge_list = [0] * bridge_length\n",
    "    \n",
    "    idx = 0\n",
    "    bridge_list[-1] = truck_weights[idx]\n",
    "    idx += 1\n",
    "    \n",
    "    while True:\n",
    "        \n",
    "        #print(bridge_list)\n",
    "        answer += 1\n",
    "        #print(answer)\n",
    "        \n",
    "        if idx == len(truck_weights):\n",
    "            break\n",
    "        \n",
    "        # append, pop 이용\n",
    "        if sum(bridge_list[1:]) + truck_weights[idx] <= weight:\n",
    "            bridge_list.pop(0)\n",
    "            bridge_list.append(truck_weights[idx])\n",
    "            idx += 1\n",
    "        else:\n",
    "            bridge_list.pop(0)\n",
    "            bridge_list.append(0)\n",
    "    \n",
    "    return answer + bridge_length"
   ]
  }
 ],
 "metadata": {
  "kernelspec": {
   "display_name": "Python 3",
   "language": "python",
   "name": "python3"
  },
  "language_info": {
   "codemirror_mode": {
    "name": "ipython",
    "version": 3
   },
   "file_extension": ".py",
   "mimetype": "text/x-python",
   "name": "python",
   "nbconvert_exporter": "python",
   "pygments_lexer": "ipython3",
   "version": "3.8.3"
  }
 },
 "nbformat": 4,
 "nbformat_minor": 4
}
