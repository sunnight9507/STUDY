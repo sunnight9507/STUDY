{
 "cells": [
  {
   "cell_type": "code",
   "execution_count": 63,
   "metadata": {},
   "outputs": [],
   "source": [
    "def solution(priorities, location):\n",
    "    _dict = {_ : 0 for _ in range(1, 10)}\n",
    "    \n",
    "    index = [_ for _ in range(len(priorities))]\n",
    "    \n",
    "    for _ in priorities:\n",
    "        _dict[_] += 1\n",
    "    cnt = 1\n",
    "    \n",
    "    for _ in range(9,0,-1):\n",
    "        while True:\n",
    "            if _dict[_] == 0:\n",
    "                break\n",
    "            while True:                \n",
    "                if priorities[0] == _:\n",
    "                    if location == index[0]:\n",
    "                        return cnt\n",
    "                    priorities.pop(0)\n",
    "                    index.pop(0)\n",
    "                    break\n",
    "                else:\n",
    "                    loc = priorities.pop(0)\n",
    "                    priorities.append(loc)\n",
    "                    idx = index.pop(0)\n",
    "                    index.append(idx)\n",
    "            _dict[_] -= 1\n",
    "            cnt += 1"
   ]
  },
  {
   "cell_type": "code",
   "execution_count": 64,
   "metadata": {},
   "outputs": [
    {
     "name": "stdout",
     "output_type": "stream",
     "text": [
      "{1: 1, 2: 2, 3: 1, 4: 0, 5: 0, 6: 0, 7: 0, 8: 0, 9: 0}\n"
     ]
    },
    {
     "data": {
      "text/plain": [
       "1"
      ]
     },
     "execution_count": 64,
     "metadata": {},
     "output_type": "execute_result"
    }
   ],
   "source": [
    "solution([2, 1, 3, 2],2)"
   ]
  },
  {
   "cell_type": "code",
   "execution_count": 65,
   "metadata": {},
   "outputs": [
    {
     "name": "stdout",
     "output_type": "stream",
     "text": [
      "{1: 5, 2: 0, 3: 0, 4: 0, 5: 0, 6: 0, 7: 0, 8: 0, 9: 1}\n"
     ]
    },
    {
     "data": {
      "text/plain": [
       "5"
      ]
     },
     "execution_count": 65,
     "metadata": {},
     "output_type": "execute_result"
    }
   ],
   "source": [
    "solution([1, 1, 9, 1, 1, 1],0)"
   ]
  }
 ],
 "metadata": {
  "kernelspec": {
   "display_name": "Python 3",
   "language": "python",
   "name": "python3"
  },
  "language_info": {
   "codemirror_mode": {
    "name": "ipython",
    "version": 3
   },
   "file_extension": ".py",
   "mimetype": "text/x-python",
   "name": "python",
   "nbconvert_exporter": "python",
   "pygments_lexer": "ipython3",
   "version": "3.8.3"
  }
 },
 "nbformat": 4,
 "nbformat_minor": 4
}
