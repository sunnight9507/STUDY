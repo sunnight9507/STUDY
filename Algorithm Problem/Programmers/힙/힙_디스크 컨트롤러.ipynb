{
 "cells": [
  {
   "cell_type": "code",
   "execution_count": 107,
   "metadata": {},
   "outputs": [],
   "source": [
    "import heapq\n",
    "\n",
    "def solution(jobs):\n",
    "    jobs.sort(key=lambda x : (x[0], x[1]))\n",
    "    \n",
    "    print(jobs)\n",
    "    \n",
    "    _len = len(jobs)\n",
    "    \n",
    "    heap = []\n",
    "    s, t = jobs.pop(0)\n",
    "    heapq.heappush(heap, [t, s])\n",
    "    \n",
    "    start = 0\n",
    "    end = 0\n",
    "    result = 0\n",
    "    \n",
    "    while heap:\n",
    "#         print(heap)\n",
    "#         print(start, end, result)\n",
    "        t, s = heapq.heappop(heap)\n",
    "        start = [end if s <= end else s][0]\n",
    "        end = start + t\n",
    "        \n",
    "        result += (end - s)\n",
    "        \n",
    "        while jobs:\n",
    "            s, t = jobs[0]\n",
    "            if end >= s:\n",
    "#                 print(jobs)\n",
    "                s, t = jobs.pop(0)\n",
    "                heapq.heappush(heap, [t,s])\n",
    "            else: break\n",
    "                \n",
    "        if len(heap) == 0 and jobs:\n",
    "#             print(jobs)\n",
    "            s, t = jobs.pop(0)\n",
    "            heapq.heappush(heap, [t, s])\n",
    "#             end = s\n",
    "#             start = s\n",
    "#             end = start + t\n",
    "\n",
    "#             result += (t)\n",
    "                \n",
    "#     print(heap)\n",
    "#     print(start, end, result)\n",
    "\n",
    "    return result // _len"
   ]
  },
  {
   "cell_type": "code",
   "execution_count": 108,
   "metadata": {},
   "outputs": [
    {
     "name": "stdout",
     "output_type": "stream",
     "text": [
      "[[0, 1], [1, 2], [500, 6]]\n",
      "0 0 0\n",
      "0 1 1\n",
      "1 3 3\n",
      "500 506 9\n"
     ]
    },
    {
     "data": {
      "text/plain": [
       "3"
      ]
     },
     "execution_count": 108,
     "metadata": {},
     "output_type": "execute_result"
    }
   ],
   "source": [
    "solution([[0,1],[1,2],[500,6]])"
   ]
  },
  {
   "cell_type": "code",
   "execution_count": 109,
   "metadata": {},
   "outputs": [
    {
     "name": "stdout",
     "output_type": "stream",
     "text": [
      "[[0, 10], [2, 10], [9, 10], [15, 2]]\n",
      "0 0 0\n",
      "0 10 10\n",
      "10 20 28\n",
      "20 22 35\n",
      "22 32 58\n"
     ]
    },
    {
     "data": {
      "text/plain": [
       "14"
      ]
     },
     "execution_count": 109,
     "metadata": {},
     "output_type": "execute_result"
    }
   ],
   "source": [
    "solution([[0, 10], [2,10], [9,10], [15,2]])"
   ]
  },
  {
   "cell_type": "code",
   "execution_count": null,
   "metadata": {},
   "outputs": [],
   "source": []
  },
  {
   "cell_type": "code",
   "execution_count": null,
   "metadata": {},
   "outputs": [],
   "source": []
  },
  {
   "cell_type": "code",
   "execution_count": 7,
   "metadata": {},
   "outputs": [],
   "source": [
    "def solution(jobs):\n",
    "    N = len(jobs)\n",
    "    answer = 0\n",
    "    jobs.sort(key=lambda x : (x[0], x[1]))\n",
    "    \n",
    "    start, time = jobs.pop(0)\n",
    "    \n",
    "    end = time + start\n",
    "    \n",
    "    answer += time\n",
    "    \n",
    "    while jobs:\n",
    "        index_next = 0\n",
    "        for i in range(1, len(jobs)):\n",
    "            if jobs[i][0] > end:\n",
    "                break\n",
    "            else:\n",
    "                if jobs[i][1] < jobs[index_next][1]:\n",
    "                    index_next = i\n",
    "        next_work = jobs.pop(index_next)\n",
    "        \n",
    "        if next_work[0] <= end:\n",
    "            answer += next_work[1] + (end - next_work[0])\n",
    "            end += next_work[1]\n",
    "        else:\n",
    "            answer += next_work[1]\n",
    "            end = sum(next_work)\n",
    "\n",
    "    return answer // N"
   ]
  }
 ],
 "metadata": {
  "kernelspec": {
   "display_name": "Python 3",
   "language": "python",
   "name": "python3"
  },
  "language_info": {
   "codemirror_mode": {
    "name": "ipython",
    "version": 3
   },
   "file_extension": ".py",
   "mimetype": "text/x-python",
   "name": "python",
   "nbconvert_exporter": "python",
   "pygments_lexer": "ipython3",
   "version": "3.8.3"
  }
 },
 "nbformat": 4,
 "nbformat_minor": 4
}
