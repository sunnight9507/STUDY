{
 "cells": [
  {
   "cell_type": "code",
   "execution_count": 52,
   "metadata": {},
   "outputs": [],
   "source": [
    "import heapq\n",
    "\n",
    "def solution(operations):\n",
    "    heap = []\n",
    "    \n",
    "    result = [0, 0]\n",
    "    \n",
    "    for _ in operations:\n",
    "#         print(heap)\n",
    "        _str, num = _.split()\n",
    "        if _str == 'I':\n",
    "            heapq.heappush(heap, int(num))\n",
    "        elif _str == 'D':\n",
    "            if len(heap) == 0:\n",
    "                continue\n",
    "            elif num == '1':\n",
    "#                 print(max(heap))\n",
    "#                 print(heap[-1])\n",
    "                heap.remove(max(heap))\n",
    "                \n",
    "            else:\n",
    "                heapq.heappop(heap)\n",
    "    \n",
    "    if len(heap) != 0:\n",
    "        result = [max(heap), heap[0]]\n",
    "    \n",
    "    return result"
   ]
  },
  {
   "cell_type": "code",
   "execution_count": 53,
   "metadata": {},
   "outputs": [
    {
     "data": {
      "text/plain": [
       "[16, 1]"
      ]
     },
     "execution_count": 53,
     "metadata": {},
     "output_type": "execute_result"
    }
   ],
   "source": [
    "solution(['I 16','I 1'])"
   ]
  },
  {
   "cell_type": "code",
   "execution_count": 54,
   "metadata": {},
   "outputs": [
    {
     "data": {
      "text/plain": [
       "[7, 5]"
      ]
     },
     "execution_count": 54,
     "metadata": {},
     "output_type": "execute_result"
    }
   ],
   "source": [
    "solution(['I 7','I 5','I -5','D -1'])"
   ]
  },
  {
   "cell_type": "code",
   "execution_count": 55,
   "metadata": {},
   "outputs": [
    {
     "data": {
      "text/plain": [
       "[333, -45]"
      ]
     },
     "execution_count": 55,
     "metadata": {},
     "output_type": "execute_result"
    }
   ],
   "source": [
    "solution([\"I -45\", \"I 653\", \"D 1\", \"I -642\", \"I 45\", \"I 97\", \"D 1\", \"D -1\", \"I 333\"])"
   ]
  },
  {
   "cell_type": "code",
   "execution_count": 109,
   "metadata": {},
   "outputs": [
    {
     "name": "stdout",
     "output_type": "stream",
     "text": [
      "[[0, 10], [2, 10], [9, 10], [15, 2]]\n",
      "0 0 0\n",
      "0 10 10\n",
      "10 20 28\n",
      "20 22 35\n",
      "22 32 58\n"
     ]
    },
    {
     "data": {
      "text/plain": [
       "14"
      ]
     },
     "execution_count": 109,
     "metadata": {},
     "output_type": "execute_result"
    }
   ],
   "source": [
    "solution([[0, 10], [2,10], [9,10], [15,2]])"
   ]
  },
  {
   "cell_type": "code",
   "execution_count": null,
   "metadata": {},
   "outputs": [],
   "source": []
  },
  {
   "cell_type": "code",
   "execution_count": null,
   "metadata": {},
   "outputs": [],
   "source": []
  },
  {
   "cell_type": "code",
   "execution_count": 7,
   "metadata": {},
   "outputs": [],
   "source": [
    "def solution(jobs):\n",
    "    N = len(jobs)\n",
    "    answer = 0\n",
    "    jobs.sort(key=lambda x : (x[0], x[1]))\n",
    "    \n",
    "    start, time = jobs.pop(0)\n",
    "    \n",
    "    end = time + start\n",
    "    \n",
    "    answer += time\n",
    "    \n",
    "    while jobs:\n",
    "        index_next = 0\n",
    "        for i in range(1, len(jobs)):\n",
    "            if jobs[i][0] > end:\n",
    "                break\n",
    "            else:\n",
    "                if jobs[i][1] < jobs[index_next][1]:\n",
    "                    index_next = i\n",
    "        next_work = jobs.pop(index_next)\n",
    "        \n",
    "        if next_work[0] <= end:\n",
    "            answer += next_work[1] + (end - next_work[0])\n",
    "            end += next_work[1]\n",
    "        else:\n",
    "            answer += next_work[1]\n",
    "            end = sum(next_work)\n",
    "\n",
    "    return answer // N"
   ]
  }
 ],
 "metadata": {
  "kernelspec": {
   "display_name": "Python 3",
   "language": "python",
   "name": "python3"
  },
  "language_info": {
   "codemirror_mode": {
    "name": "ipython",
    "version": 3
   },
   "file_extension": ".py",
   "mimetype": "text/x-python",
   "name": "python",
   "nbconvert_exporter": "python",
   "pygments_lexer": "ipython3",
   "version": "3.8.3"
  }
 },
 "nbformat": 4,
 "nbformat_minor": 4
}
