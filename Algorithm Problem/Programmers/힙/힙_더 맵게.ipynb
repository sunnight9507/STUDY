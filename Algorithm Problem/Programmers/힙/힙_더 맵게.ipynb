{
 "cells": [
  {
   "cell_type": "code",
   "execution_count": 19,
   "metadata": {},
   "outputs": [],
   "source": [
    "import heapq\n",
    "\n",
    "def solution(scoville, K):\n",
    "    heap = []\n",
    "    \n",
    "    for _ in scoville:\n",
    "        heapq.heappush(heap, _)\n",
    "        \n",
    "#     print(heap)\n",
    "    cnt = 0\n",
    "    \n",
    "    while True:\n",
    "        if heap[0] >= K: return cnt\n",
    "        if len(heap) == 1: return -1\n",
    "        \n",
    "        heapq.heappush(heap, heapq.heappop(heap) + (heapq.heappop(heap) * 2))\n",
    "        cnt += 1"
   ]
  },
  {
   "cell_type": "code",
   "execution_count": 20,
   "metadata": {},
   "outputs": [
    {
     "data": {
      "text/plain": [
       "2"
      ]
     },
     "execution_count": 20,
     "metadata": {},
     "output_type": "execute_result"
    }
   ],
   "source": [
    "solution([1, 2, 3, 9, 10, 12],7)"
   ]
  }
 ],
 "metadata": {
  "kernelspec": {
   "display_name": "Python 3",
   "language": "python",
   "name": "python3"
  },
  "language_info": {
   "codemirror_mode": {
    "name": "ipython",
    "version": 3
   },
   "file_extension": ".py",
   "mimetype": "text/x-python",
   "name": "python",
   "nbconvert_exporter": "python",
   "pygments_lexer": "ipython3",
   "version": "3.8.3"
  }
 },
 "nbformat": 4,
 "nbformat_minor": 4
}
