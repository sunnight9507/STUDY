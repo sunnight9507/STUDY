{
 "cells": [
  {
   "cell_type": "code",
   "execution_count": 22,
   "metadata": {},
   "outputs": [],
   "source": [
    "def solution(triangle):\n",
    "    \n",
    "#     print(len(triangle))\n",
    "    \n",
    "    for _ in range(1,len(triangle)):\n",
    "        for i in range(len(triangle[_])):\n",
    "#             print(i)\n",
    "            if i == 0:\n",
    "                triangle[_][i] = triangle[_][i] + triangle[_-1][i]\n",
    "            elif i == len(triangle[_]) - 1:\n",
    "                triangle[_][i] = triangle[_][i] + triangle[_-1][i-1]\n",
    "            else:\n",
    "                triangle[_][i] = max(triangle[_-1][i-1], triangle[_-1][i]) + triangle[_][i]\n",
    "        \n",
    "    return max(triangle[_])"
   ]
  },
  {
   "cell_type": "code",
   "execution_count": 23,
   "metadata": {},
   "outputs": [
    {
     "data": {
      "text/plain": [
       "30"
      ]
     },
     "execution_count": 23,
     "metadata": {},
     "output_type": "execute_result"
    }
   ],
   "source": [
    "solution([[7], [3, 8], [8, 1, 0], [2, 7, 4, 4], [4, 5, 2, 6, 5]])"
   ]
  },
  {
   "cell_type": "code",
   "execution_count": null,
   "metadata": {},
   "outputs": [],
   "source": []
  },
  {
   "cell_type": "code",
   "execution_count": 1,
   "metadata": {},
   "outputs": [],
   "source": [
    "# 32 / 100\n",
    "def solution(triangle):\n",
    "    \n",
    "    for i in range(len(triangle)-1,0,-1):\n",
    "        for j in range(0,i):\n",
    "            if triangle[i][j+1] > triangle[i][j]:\n",
    "                triangle[i-1][j] += triangle[i][j+1]\n",
    "            else:\n",
    "                triangle[i-1][j] += triangle[i][j]\n",
    "    \n",
    "    return triangle[0][0]"
   ]
  }
 ],
 "metadata": {
  "kernelspec": {
   "display_name": "Python 3",
   "language": "python",
   "name": "python3"
  },
  "language_info": {
   "codemirror_mode": {
    "name": "ipython",
    "version": 3
   },
   "file_extension": ".py",
   "mimetype": "text/x-python",
   "name": "python",
   "nbconvert_exporter": "python",
   "pygments_lexer": "ipython3",
   "version": "3.8.3"
  }
 },
 "nbformat": 4,
 "nbformat_minor": 4
}
