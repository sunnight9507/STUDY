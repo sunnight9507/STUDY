{
 "cells": [
  {
   "cell_type": "code",
   "execution_count": 20,
   "metadata": {},
   "outputs": [],
   "source": [
    "def solution(money):\n",
    "    # 첫 집 O\n",
    "    lst = [0 for _ in range(len(money))]\n",
    "    \n",
    "    \n",
    "    lst[0], lst[1] = money[0], money[0]\n",
    "    \n",
    "    for _ in range(2, len(money)-1):\n",
    "        lst[_] = max(lst[_-2] + money[_], lst[_-1])\n",
    "\n",
    "    a = lst[-2]\n",
    "    \n",
    "    # 첫 집 X\n",
    "    k = [0 for _ in range(len(money))]\n",
    "    k[0], k[1] = 0, money[1]\n",
    "    \n",
    "    for _ in range(2, len(money)):\n",
    "        k[_] = max(k[_-2] + money[_], k[_-1])\n",
    "        \n",
    "    b = k[-1]\n",
    "    \n",
    "    return max(a,b)"
   ]
  },
  {
   "cell_type": "code",
   "execution_count": 21,
   "metadata": {},
   "outputs": [
    {
     "data": {
      "text/plain": [
       "10"
      ]
     },
     "execution_count": 21,
     "metadata": {},
     "output_type": "execute_result"
    }
   ],
   "source": [
    "solution([1, 2, 3, 1,2,3,1,1,2,3])"
   ]
  },
  {
   "cell_type": "code",
   "execution_count": 16,
   "metadata": {},
   "outputs": [],
   "source": [
    "# 505 / 700\n",
    "def solution(money):\n",
    "    a1 = [0 for i in range(len(money))]\n",
    "    a2 = [0 for i in range(len(money))]\n",
    "    a1[0], a1[1] = money[0], money[0]\n",
    "    a2[0], a2[1] = 0, money[1]\n",
    "    \n",
    "    for i in range(2, len(money)-1):\n",
    "        a1[i] = a1[i-1] if a1[i-1] > a1[i-2] + money[i] else a1[i-2] + money[i]\n",
    "    for i in range(2, len(money)):\n",
    "        a2[i] = a2[i-1] if a2[i-1] > a2[i-2] + money[i] else a2[i-2] + money[i]\n",
    "    \n",
    "    #print(a1)\n",
    "    #print(a2)\n",
    "    return max(a1[len(money)-2], a2[len(money)-1])"
   ]
  },
  {
   "cell_type": "code",
   "execution_count": 17,
   "metadata": {},
   "outputs": [
    {
     "data": {
      "text/plain": [
       "10"
      ]
     },
     "execution_count": 17,
     "metadata": {},
     "output_type": "execute_result"
    }
   ],
   "source": [
    "solution([1, 2, 3, 1,2,3,1,1,2,3])"
   ]
  },
  {
   "cell_type": "code",
   "execution_count": null,
   "metadata": {},
   "outputs": [],
   "source": []
  }
 ],
 "metadata": {
  "kernelspec": {
   "display_name": "Python 3",
   "language": "python",
   "name": "python3"
  },
  "language_info": {
   "codemirror_mode": {
    "name": "ipython",
    "version": 3
   },
   "file_extension": ".py",
   "mimetype": "text/x-python",
   "name": "python",
   "nbconvert_exporter": "python",
   "pygments_lexer": "ipython3",
   "version": "3.8.3"
  }
 },
 "nbformat": 4,
 "nbformat_minor": 4
}
