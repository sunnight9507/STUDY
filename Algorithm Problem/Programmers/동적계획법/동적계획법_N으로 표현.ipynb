{
 "cells": [
  {
   "cell_type": "code",
   "execution_count": 49,
   "metadata": {},
   "outputs": [],
   "source": [
    "def calculation(lst_a, lst_b):\n",
    "    lst = []\n",
    "    for i in lst_a:\n",
    "        for j in lst_b:\n",
    "            a, b = max([i,j]), min([i,j])\n",
    "            lst.append(a+b)\n",
    "            if a-b != 0:\n",
    "                lst.append(a-b)\n",
    "            lst.append(a*b)\n",
    "            lst.append(a//b)\n",
    "            \n",
    "    return lst\n",
    "\n",
    "def solution(N, number):\n",
    "    _dict = {1 : [N]}\n",
    "    \n",
    "    if N == number:\n",
    "        return 1\n",
    "    \n",
    "    cnt = 2\n",
    "    while True:\n",
    "#         print(_dict)\n",
    "        _dict[cnt] = [int(str(N) * cnt)]\n",
    "        \n",
    "        tmp_lst = []\n",
    "        \n",
    "        for _ in range(cnt-1, (cnt-1) // 2, -1):\n",
    "            tmp_lst.extend(calculation(_dict[_], _dict[cnt-_]))\n",
    "            \n",
    "        _dict[cnt].extend(list(set(tmp_lst)))\n",
    "        \n",
    "        if number in _dict[cnt]:\n",
    "            return cnt\n",
    "        \n",
    "        if cnt == 8:\n",
    "            return -1\n",
    "        \n",
    "        cnt += 1"
   ]
  },
  {
   "cell_type": "code",
   "execution_count": 50,
   "metadata": {},
   "outputs": [
    {
     "data": {
      "text/plain": [
       "4"
      ]
     },
     "execution_count": 50,
     "metadata": {},
     "output_type": "execute_result"
    }
   ],
   "source": [
    "solution(5,12)"
   ]
  }
 ],
 "metadata": {
  "kernelspec": {
   "display_name": "Python 3",
   "language": "python",
   "name": "python3"
  },
  "language_info": {
   "codemirror_mode": {
    "name": "ipython",
    "version": 3
   },
   "file_extension": ".py",
   "mimetype": "text/x-python",
   "name": "python",
   "nbconvert_exporter": "python",
   "pygments_lexer": "ipython3",
   "version": "3.8.3"
  }
 },
 "nbformat": 4,
 "nbformat_minor": 4
}
