{
 "cells": [
  {
   "cell_type": "code",
   "execution_count": 5,
   "metadata": {},
   "outputs": [],
   "source": [
    "def dfs(num, numbers, target):\n",
    "    if len(numbers) == 0:\n",
    "        if num == target:\n",
    "            return 1\n",
    "        else:\n",
    "            return 0\n",
    "        \n",
    "    return dfs(num + numbers[0], numbers[1:], target) + dfs(num - numbers[0], numbers[1:], target)\n",
    "\n",
    "def solution(numbers, target):\n",
    "    \n",
    "    return dfs(0, numbers, target)"
   ]
  },
  {
   "cell_type": "code",
   "execution_count": 6,
   "metadata": {},
   "outputs": [
    {
     "data": {
      "text/plain": [
       "5"
      ]
     },
     "execution_count": 6,
     "metadata": {},
     "output_type": "execute_result"
    }
   ],
   "source": [
    "solution([1, 1, 1, 1, 1],3)"
   ]
  },
  {
   "cell_type": "code",
   "execution_count": null,
   "metadata": {},
   "outputs": [],
   "source": []
  },
  {
   "cell_type": "code",
   "execution_count": null,
   "metadata": {},
   "outputs": [],
   "source": []
  },
  {
   "cell_type": "code",
   "execution_count": null,
   "metadata": {},
   "outputs": [],
   "source": []
  },
  {
   "cell_type": "code",
   "execution_count": 1,
   "metadata": {},
   "outputs": [],
   "source": [
    "# 700 / 10\n",
    "def solution(numbers, target):\n",
    "    cnt = 0\n",
    "\n",
    "    def operator(numbers, target, idx=0):\n",
    "        if idx < len(numbers):\n",
    "            numbers[idx] *= 1\n",
    "            operator(numbers, target, idx+1)\n",
    "\n",
    "            numbers[idx] *= -1\n",
    "            operator(numbers, target, idx+1)\n",
    "\n",
    "        elif sum(numbers) == target:\n",
    "            nonlocal cnt\n",
    "            cnt += 1\n",
    "\n",
    "    operator(numbers, target)\n",
    "\n",
    "    return cnt"
   ]
  }
 ],
 "metadata": {
  "kernelspec": {
   "display_name": "Python 3",
   "language": "python",
   "name": "python3"
  },
  "language_info": {
   "codemirror_mode": {
    "name": "ipython",
    "version": 3
   },
   "file_extension": ".py",
   "mimetype": "text/x-python",
   "name": "python",
   "nbconvert_exporter": "python",
   "pygments_lexer": "ipython3",
   "version": "3.8.3"
  }
 },
 "nbformat": 4,
 "nbformat_minor": 4
}
