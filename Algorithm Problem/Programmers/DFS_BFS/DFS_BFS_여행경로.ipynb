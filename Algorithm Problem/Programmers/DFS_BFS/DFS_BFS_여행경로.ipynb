{
 "cells": [
  {
   "cell_type": "code",
   "execution_count": 143,
   "metadata": {},
   "outputs": [],
   "source": [
    "def solution(tickets):\n",
    "    _dict = {}\n",
    "    for s,e in tickets:\n",
    "        if s in _dict:\n",
    "            _dict[s].append(e)\n",
    "        else:\n",
    "            _dict[s] = [e]\n",
    "            \n",
    "    for _ in _dict:\n",
    "        _dict[_].sort()\n",
    "            \n",
    "    print(_dict)\n",
    "    \n",
    "    result = []\n",
    "    s = 'ICN'\n",
    "    \n",
    "    while True:\n",
    "        print(result)\n",
    "        print(_dict)\n",
    "        if s not in _dict or _dict[s] == []:\n",
    "            result += [s]\n",
    "            break\n",
    "        \n",
    "        result += [s]\n",
    "        s = _dict[s].pop(0)\n",
    "\n",
    "    return result"
   ]
  },
  {
   "cell_type": "code",
   "execution_count": 186,
   "metadata": {},
   "outputs": [],
   "source": [
    "def solution(tickets):\n",
    "    _dict = {}\n",
    "    for s,e in tickets:\n",
    "        if s in _dict:\n",
    "            _dict[s].append(e)\n",
    "        else:\n",
    "            _dict[s] = [e]\n",
    "            \n",
    "    for _ in _dict:\n",
    "        _dict[_].sort()\n",
    "        \n",
    "#     print(_dict)\n",
    "            \n",
    "    st = ['ICN']\n",
    "    ans = []\n",
    "    while st:\n",
    "#         print(st, ans)\n",
    "        top = st[-1]\n",
    "        if top not in _dict or len(_dict[top]) == 0:\n",
    "            ans.append(st.pop())\n",
    "        else:\n",
    "            st.append(_dict[top].pop(0))\n",
    "    \n",
    "    ans.reverse()\n",
    "    \n",
    "    return ans"
   ]
  },
  {
   "cell_type": "code",
   "execution_count": 187,
   "metadata": {},
   "outputs": [
    {
     "name": "stdout",
     "output_type": "stream",
     "text": [
      "{'ICN': ['JFK'], 'HND': ['IAD'], 'JFK': ['HND']}\n",
      "['ICN'] []\n",
      "['ICN', 'JFK'] []\n",
      "['ICN', 'JFK', 'HND'] []\n",
      "['ICN', 'JFK', 'HND', 'IAD'] []\n",
      "['ICN', 'JFK', 'HND'] ['IAD']\n",
      "['ICN', 'JFK'] ['IAD', 'HND']\n",
      "['ICN'] ['IAD', 'HND', 'JFK']\n"
     ]
    },
    {
     "data": {
      "text/plain": [
       "['ICN', 'JFK', 'HND', 'IAD']"
      ]
     },
     "execution_count": 187,
     "metadata": {},
     "output_type": "execute_result"
    }
   ],
   "source": [
    "solution([['ICN', 'JFK'], ['HND', 'IAD'], ['JFK', 'HND']])"
   ]
  },
  {
   "cell_type": "code",
   "execution_count": 188,
   "metadata": {},
   "outputs": [
    {
     "name": "stdout",
     "output_type": "stream",
     "text": [
      "{'ICN': ['ATL', 'SFO'], 'SFO': ['ATL'], 'ATL': ['ICN', 'SFO']}\n",
      "['ICN'] []\n",
      "['ICN', 'ATL'] []\n",
      "['ICN', 'ATL', 'ICN'] []\n",
      "['ICN', 'ATL', 'ICN', 'SFO'] []\n",
      "['ICN', 'ATL', 'ICN', 'SFO', 'ATL'] []\n",
      "['ICN', 'ATL', 'ICN', 'SFO', 'ATL', 'SFO'] []\n",
      "['ICN', 'ATL', 'ICN', 'SFO', 'ATL'] ['SFO']\n",
      "['ICN', 'ATL', 'ICN', 'SFO'] ['SFO', 'ATL']\n",
      "['ICN', 'ATL', 'ICN'] ['SFO', 'ATL', 'SFO']\n",
      "['ICN', 'ATL'] ['SFO', 'ATL', 'SFO', 'ICN']\n",
      "['ICN'] ['SFO', 'ATL', 'SFO', 'ICN', 'ATL']\n"
     ]
    },
    {
     "data": {
      "text/plain": [
       "['ICN', 'ATL', 'ICN', 'SFO', 'ATL', 'SFO']"
      ]
     },
     "execution_count": 188,
     "metadata": {},
     "output_type": "execute_result"
    }
   ],
   "source": [
    "solution([['ICN', 'SFO'], ['ICN', 'ATL'], ['SFO', 'ATL'], ['ATL', 'ICN'], ['ATL','SFO']])"
   ]
  },
  {
   "cell_type": "code",
   "execution_count": null,
   "metadata": {},
   "outputs": [],
   "source": []
  },
  {
   "cell_type": "code",
   "execution_count": null,
   "metadata": {},
   "outputs": [],
   "source": []
  },
  {
   "cell_type": "code",
   "execution_count": 1,
   "metadata": {},
   "outputs": [],
   "source": [
    "# 75\n",
    "def solution(tickets):    \n",
    "    \n",
    "    def route(tickets, start):\n",
    "        rt = []\n",
    "    \n",
    "        if len(tickets) == 1:\n",
    "            rt.append(tickets[0][0])\n",
    "            rt.append(tickets[0][1])\n",
    "            return rt\n",
    "        \n",
    "        rt.append(start[1])\n",
    "        \n",
    "        for i in tickets:\n",
    "            if start[1] in i[0]:\n",
    "                new_tickets = tickets.copy()\n",
    "                new_tickets.remove(i)\n",
    "                rt = rt + route(new_tickets, i)\n",
    "    \n",
    "        return rt\n",
    "    \n",
    "    answer = []\n",
    "    \n",
    "    for i in tickets:\n",
    "        if \"ICN\" in i[0]:\n",
    "            new_tickets = tickets.copy()\n",
    "            new_tickets.remove(i)\n",
    "            answer.append(route(new_tickets, i))\n",
    "            #print(answer)\n",
    "    \n",
    "    result = []\n",
    "    \n",
    "    for i in answer:\n",
    "        result.append([\"ICN\"] + i[:len(tickets)])\n",
    "      \n",
    "    #print(result)\n",
    "    \n",
    "    result.sort()\n",
    "    \n",
    "    for i in result:\n",
    "        if len(i) == len(tickets) + 1:\n",
    "            return i"
   ]
  }
 ],
 "metadata": {
  "kernelspec": {
   "display_name": "Python 3",
   "language": "python",
   "name": "python3"
  },
  "language_info": {
   "codemirror_mode": {
    "name": "ipython",
    "version": 3
   },
   "file_extension": ".py",
   "mimetype": "text/x-python",
   "name": "python",
   "nbconvert_exporter": "python",
   "pygments_lexer": "ipython3",
   "version": "3.8.3"
  }
 },
 "nbformat": 4,
 "nbformat_minor": 4
}
