{
 "cells": [
  {
   "cell_type": "code",
   "execution_count": 37,
   "metadata": {},
   "outputs": [],
   "source": [
    "def solution(n, computers):\n",
    "    _dict = {_ : _ for _ in range(n)}\n",
    "    \n",
    "    for i in range(len(computers)):\n",
    "        for j in range(i+1,len(computers)):\n",
    "#             print(i,j, _dict)\n",
    "            if computers[i][j] == 1:\n",
    "                # 연결\n",
    "                _min, _max = min(_dict[i],_dict[j]), max(_dict[i],_dict[j])\n",
    "                for _ in _dict:\n",
    "                    if _dict[_] == _max:\n",
    "                        _dict[_] = _min\n",
    "                    \n",
    "    return len(set(_dict.values()))"
   ]
  },
  {
   "cell_type": "code",
   "execution_count": 38,
   "metadata": {},
   "outputs": [
    {
     "name": "stdout",
     "output_type": "stream",
     "text": [
      "0 1 {0: 0, 1: 1, 2: 2}\n",
      "0 2 {0: 0, 1: 0, 2: 2}\n",
      "1 2 {0: 0, 1: 0, 2: 2}\n"
     ]
    },
    {
     "data": {
      "text/plain": [
       "2"
      ]
     },
     "execution_count": 38,
     "metadata": {},
     "output_type": "execute_result"
    }
   ],
   "source": [
    "solution(3,[[1, 1, 0], [1, 1, 0], [0, 0, 1]])"
   ]
  },
  {
   "cell_type": "code",
   "execution_count": 39,
   "metadata": {},
   "outputs": [
    {
     "name": "stdout",
     "output_type": "stream",
     "text": [
      "0 1 {0: 0, 1: 1, 2: 2}\n",
      "0 2 {0: 0, 1: 1, 2: 2}\n",
      "1 2 {0: 0, 1: 1, 2: 2}\n"
     ]
    },
    {
     "data": {
      "text/plain": [
       "3"
      ]
     },
     "execution_count": 39,
     "metadata": {},
     "output_type": "execute_result"
    }
   ],
   "source": [
    "solution(3,[[1, 0, 0], [0, 1, 0], [0, 0, 1]])"
   ]
  }
 ],
 "metadata": {
  "kernelspec": {
   "display_name": "Python 3",
   "language": "python",
   "name": "python3"
  },
  "language_info": {
   "codemirror_mode": {
    "name": "ipython",
    "version": 3
   },
   "file_extension": ".py",
   "mimetype": "text/x-python",
   "name": "python",
   "nbconvert_exporter": "python",
   "pygments_lexer": "ipython3",
   "version": "3.8.3"
  }
 },
 "nbformat": 4,
 "nbformat_minor": 4
}
