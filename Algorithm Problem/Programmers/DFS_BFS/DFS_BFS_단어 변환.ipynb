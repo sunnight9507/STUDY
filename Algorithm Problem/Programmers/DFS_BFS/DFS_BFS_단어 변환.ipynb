{
 "cells": [
  {
   "cell_type": "code",
   "execution_count": 51,
   "metadata": {},
   "outputs": [],
   "source": [
    "def compare(a, b):\n",
    "    cnt = len(a)\n",
    "    wrong = 0\n",
    "    for i,j in zip(a,b):\n",
    "        if i != j:\n",
    "            wrong += 1\n",
    "        if wrong > 1:\n",
    "            return False\n",
    "    \n",
    "    if wrong == 1: return True\n",
    "\n",
    "def func(num, begin, target, words):\n",
    "#     print(num, begin, target, words)\n",
    "    if len(words) == 0: return 100\n",
    "    \n",
    "    _min = 100\n",
    "    \n",
    "    for _ in words:\n",
    "        if begin == target: return num\n",
    "        if compare(begin, _):\n",
    "            lst = words.copy()\n",
    "            lst.remove(_)\n",
    "            _min = min(_min, func(num + 1, _, target, lst))\n",
    "            \n",
    "    return _min\n",
    "\n",
    "def solution(begin, target, words):\n",
    "    _min = 100\n",
    "    for _ in words:\n",
    "        if compare(begin, _):\n",
    "            lst = words.copy()\n",
    "            lst.remove(_)\n",
    "            _min = min(_min, func(1, _, target, lst))\n",
    "\n",
    "    if _min == 100: return 0\n",
    "    else: return _min"
   ]
  },
  {
   "cell_type": "code",
   "execution_count": 52,
   "metadata": {},
   "outputs": [
    {
     "data": {
      "text/plain": [
       "4"
      ]
     },
     "execution_count": 52,
     "metadata": {},
     "output_type": "execute_result"
    }
   ],
   "source": [
    "solution('hit','cog',['hot', 'dot', 'dog', 'lot', 'log', 'cog'])"
   ]
  },
  {
   "cell_type": "code",
   "execution_count": 53,
   "metadata": {},
   "outputs": [
    {
     "data": {
      "text/plain": [
       "0"
      ]
     },
     "execution_count": 53,
     "metadata": {},
     "output_type": "execute_result"
    }
   ],
   "source": [
    "solution('hit','cog',['hot', 'dot', 'dog', 'lot', 'log'])"
   ]
  }
 ],
 "metadata": {
  "kernelspec": {
   "display_name": "Python 3",
   "language": "python",
   "name": "python3"
  },
  "language_info": {
   "codemirror_mode": {
    "name": "ipython",
    "version": 3
   },
   "file_extension": ".py",
   "mimetype": "text/x-python",
   "name": "python",
   "nbconvert_exporter": "python",
   "pygments_lexer": "ipython3",
   "version": "3.8.3"
  }
 },
 "nbformat": 4,
 "nbformat_minor": 4
}
