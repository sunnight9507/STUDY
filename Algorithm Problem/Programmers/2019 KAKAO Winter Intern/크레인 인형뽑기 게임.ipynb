{
 "cells": [
  {
   "cell_type": "code",
   "execution_count": 53,
   "metadata": {},
   "outputs": [],
   "source": [
    "# 0.44ms, 10.3MB\n",
    "def solution(board, moves):\n",
    "    \n",
    "    N = len(board)\n",
    "    height = [0 for _ in range(N)]\n",
    "    \n",
    "    # 가장 높이 있는 인형 위치 확인\n",
    "    for i in range(N):\n",
    "        for j in range(N):\n",
    "            if board[j][i]:\n",
    "                height[i] = j\n",
    "                break\n",
    "    \n",
    "    stack = []\n",
    "    remove_cnt = 0\n",
    "    \n",
    "    for move in moves:\n",
    "        move -= 1\n",
    "        # 현재 인형이 없는 경우\n",
    "        if height[move] == N:\n",
    "            continue\n",
    "        \n",
    "        # tmp : 현재 위치에 있는 인형\n",
    "        tmp = board[height[move]][move]\n",
    "        # 현재 위치 인형 삭제\n",
    "        board[height[move]][move] = 0\n",
    "        # 현재 위치에서 한칸 아래로\n",
    "        height[move] += 1\n",
    "        \n",
    "        # 바구니가 2개 이상일 때 현재 인형과 바구니 가장 위에 있는 인형과 비교\n",
    "        if stack and stack[-1] == tmp:\n",
    "            remove_cnt += 2\n",
    "            stack.pop()\n",
    "        else:\n",
    "            # 바구니 쌓기\n",
    "            stack.append(tmp)\n",
    "\n",
    "    return remove_cnt"
   ]
  },
  {
   "cell_type": "code",
   "execution_count": 52,
   "metadata": {},
   "outputs": [
    {
     "data": {
      "text/plain": [
       "4"
      ]
     },
     "execution_count": 52,
     "metadata": {},
     "output_type": "execute_result"
    }
   ],
   "source": [
    "solution([[0,0,0,0,0],[0,0,1,0,3],[0,2,5,0,1],[4,2,4,4,2],[3,5,1,3,1]], [1,5,3,5,1,2,1,4])"
   ]
  }
 ],
 "metadata": {
  "kernelspec": {
   "display_name": "Python 3",
   "language": "python",
   "name": "python3"
  },
  "language_info": {
   "codemirror_mode": {
    "name": "ipython",
    "version": 3
   },
   "file_extension": ".py",
   "mimetype": "text/x-python",
   "name": "python",
   "nbconvert_exporter": "python",
   "pygments_lexer": "ipython3",
   "version": "3.8.5"
  }
 },
 "nbformat": 4,
 "nbformat_minor": 4
}
