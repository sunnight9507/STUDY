{
 "cells": [
  {
   "cell_type": "code",
   "execution_count": 127,
   "metadata": {},
   "outputs": [],
   "source": [
    "# 42.9\n",
    "def solution(food_times, k):\n",
    "    new_food = []\n",
    "    \n",
    "    N = len(food_times)\n",
    "    \n",
    "    if sum(food_times) <= k:\n",
    "        return -1\n",
    "    \n",
    "    \n",
    "    for i in range(0,len(food_times)):\n",
    "        new_food.append([food_times[i],(i-1)%N, (i+1)%N])\n",
    "    \n",
    "    index = 0\n",
    "    for i in range(0,k):\n",
    "        new_food[index][0] -= 1\n",
    "        \n",
    "        if(sum(food_times) == 0):\n",
    "            return -1\n",
    "        \n",
    "        if new_food[index][0] == 0:\n",
    "            new_food[new_food[index][1]][2] = new_food[index][2]\n",
    "            new_food[new_food[index][2]][1] = new_food[index][1]\n",
    "        \n",
    "        index = new_food[index][2]\n",
    "    \n",
    "    return (index)%N + 1"
   ]
  },
  {
   "cell_type": "code",
   "execution_count": 128,
   "metadata": {},
   "outputs": [
    {
     "data": {
      "text/plain": [
       "3"
      ]
     },
     "execution_count": 128,
     "metadata": {},
     "output_type": "execute_result"
    }
   ],
   "source": [
    "solution([4,2,3,6,7,1,5,8], 16)"
   ]
  },
  {
   "cell_type": "code",
   "execution_count": 135,
   "metadata": {},
   "outputs": [],
   "source": [
    "def solution(food_times, k):\n",
    "    food_len = len(food_times)\n",
    "    q, r = k // food_len, k % food_len # 몫과 나머지\n",
    "    print(q, r)\n",
    "    tmp = 0\n",
    "    cnt = 0\n",
    "    \n",
    "    for i in range(food_len):\n",
    "        print(food_times, tmp)\n",
    "        if i < r:\n",
    "            tmp = q + 1\n",
    "        else:\n",
    "            tmp = q\n",
    "            \n",
    "        if food_times[i] >= tmp:\n",
    "            food_times[i] = food_times[i] - tmp\n",
    "        else:\n",
    "            cnt += tmp - food_times[i]\n",
    "            food_times[i] = 0   \n",
    "            \n",
    "    print(food_times, cnt)\n",
    "    \n",
    "    for i in range(r, r+food_len):\n",
    "        print(i)\n",
    "        if food_times[i%food_len] > cnt:\n",
    "            return i%food_len + 1\n",
    "        else:\n",
    "            cnt -= food_times[i%food_len]\n",
    "            food_times[i%food_len] = 0\n",
    "    else:\n",
    "        return -1"
   ]
  },
  {
   "cell_type": "code",
   "execution_count": 136,
   "metadata": {},
   "outputs": [
    {
     "name": "stdout",
     "output_type": "stream",
     "text": [
      "2 0\n",
      "[4, 2, 3, 6, 7, 1, 5, 8] 0\n",
      "[2, 2, 3, 6, 7, 1, 5, 8] 2\n",
      "[2, 0, 3, 6, 7, 1, 5, 8] 2\n",
      "[2, 0, 1, 6, 7, 1, 5, 8] 2\n",
      "[2, 0, 1, 4, 7, 1, 5, 8] 2\n",
      "[2, 0, 1, 4, 5, 1, 5, 8] 2\n",
      "[2, 0, 1, 4, 5, 0, 5, 8] 2\n",
      "[2, 0, 1, 4, 5, 0, 3, 8] 2\n",
      "[2, 0, 1, 4, 5, 0, 3, 6] 1\n",
      "0\n"
     ]
    },
    {
     "data": {
      "text/plain": [
       "1"
      ]
     },
     "execution_count": 136,
     "metadata": {},
     "output_type": "execute_result"
    }
   ],
   "source": [
    "solution([4,2,3,6,7,1,5,8], 16)"
   ]
  },
  {
   "cell_type": "code",
   "execution_count": null,
   "metadata": {},
   "outputs": [],
   "source": [
    "321\n",
    "10\n",
    "21\n",
    "54\n",
    "65\n",
    "0\n",
    "43\n",
    "76"
   ]
  },
  {
   "cell_type": "code",
   "execution_count": null,
   "metadata": {},
   "outputs": [],
   "source": []
  },
  {
   "cell_type": "code",
   "execution_count": null,
   "metadata": {},
   "outputs": [],
   "source": []
  },
  {
   "cell_type": "code",
   "execution_count": null,
   "metadata": {},
   "outputs": [],
   "source": []
  }
 ],
 "metadata": {
  "kernelspec": {
   "display_name": "Python 3",
   "language": "python",
   "name": "python3"
  },
  "language_info": {
   "codemirror_mode": {
    "name": "ipython",
    "version": 3
   },
   "file_extension": ".py",
   "mimetype": "text/x-python",
   "name": "python",
   "nbconvert_exporter": "python",
   "pygments_lexer": "ipython3",
   "version": "3.8.5"
  }
 },
 "nbformat": 4,
 "nbformat_minor": 4
}
