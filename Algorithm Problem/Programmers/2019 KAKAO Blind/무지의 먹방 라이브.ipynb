{
 "cells": [
  {
   "cell_type": "code",
   "execution_count": 63,
   "metadata": {},
   "outputs": [],
   "source": [
    "# 42.9\n",
    "def solution(food_times, k):\n",
    "    new_food = []\n",
    "    \n",
    "    N = len(food_times)\n",
    "    \n",
    "    if sum(food_times) <= k:\n",
    "        return -1\n",
    "    \n",
    "    \n",
    "    for i in range(0,len(food_times)):\n",
    "        new_food.append([food_times[i],(i-1)%N, (i+1)%N])\n",
    "    \n",
    "    index = 0\n",
    "    for i in range(0,k):\n",
    "        new_food[index][0] -= 1\n",
    "        \n",
    "        if(sum(food_times) == 0):\n",
    "            return -1\n",
    "        \n",
    "        if new_food[index][0] == 0:\n",
    "            new_food[new_food[index][1]][2] = new_food[index][2]\n",
    "            new_food[new_food[index][2]][1] = new_food[index][1]\n",
    "        \n",
    "        index = new_food[index][2]\n",
    "    \n",
    "    return (index)%N + 1"
   ]
  },
  {
   "cell_type": "code",
   "execution_count": 66,
   "metadata": {},
   "outputs": [
    {
     "data": {
      "text/plain": [
       "3"
      ]
     },
     "execution_count": 66,
     "metadata": {},
     "output_type": "execute_result"
    }
   ],
   "source": [
    "solution([4,2,3,6,7,1,5,8], 16)"
   ]
  },
  {
   "cell_type": "code",
   "execution_count": 169,
   "metadata": {},
   "outputs": [],
   "source": [
    "# 48.7\n",
    "def solution(food_times, k):\n",
    "    food_len = len(food_times)\n",
    "    q, r = k // food_len, k % food_len # 몫과 나머지\n",
    "#     print(q, r)\n",
    "    tmp = 0\n",
    "    cnt = 0\n",
    "    \n",
    "    for i in range(food_len):\n",
    "#         print(food_times, tmp)\n",
    "        if i < r:\n",
    "            tmp = q + 1\n",
    "        else:\n",
    "            tmp = q\n",
    "            \n",
    "        if food_times[i] >= tmp:\n",
    "            food_times[i] = food_times[i] - tmp\n",
    "        else:\n",
    "            cnt += tmp - food_times[i]\n",
    "            food_times[i] = 0   \n",
    "            \n",
    "#     print(food_times, cnt)\n",
    "    \n",
    "    while cnt:\n",
    "        if food_times[r%food_len]:\n",
    "            food_times[r%food_len] -= 1\n",
    "            cnt -= 1\n",
    "        r += 1\n",
    "        \n",
    "#     print(food_times, cnt, r)\n",
    "    \n",
    "    \n",
    "    for i in range(r, r+food_len):\n",
    "        if food_times[i%food_len] > cnt:\n",
    "            return i%food_len + 1\n",
    "        else:\n",
    "            cnt -= food_times[i%food_len]\n",
    "            food_times[i%food_len] = 0\n",
    "    else:\n",
    "        return -1"
   ]
  },
  {
   "cell_type": "code",
   "execution_count": 170,
   "metadata": {},
   "outputs": [
    {
     "data": {
      "text/plain": [
       "3"
      ]
     },
     "execution_count": 170,
     "metadata": {},
     "output_type": "execute_result"
    }
   ],
   "source": [
    "solution([4,2,3,6,7,1,5,8], 16)"
   ]
  },
  {
   "cell_type": "code",
   "execution_count": 171,
   "metadata": {},
   "outputs": [
    {
     "data": {
      "text/plain": [
       "3"
      ]
     },
     "execution_count": 171,
     "metadata": {},
     "output_type": "execute_result"
    }
   ],
   "source": [
    "solution([4,2,3,6,7,1,5,8], 16)"
   ]
  },
  {
   "cell_type": "code",
   "execution_count": 204,
   "metadata": {},
   "outputs": [],
   "source": [
    "# 재귀함수\n",
    "def func(food_times, k):\n",
    "#     print(food_times, k)\n",
    "    \n",
    "    food_len = len(food_times)    \n",
    "    tmp, cnt = k // food_len, k % food_len # 몫, 나머지\n",
    "    for i in range(food_len):\n",
    "        if food_times[i] >= tmp:\n",
    "            food_times[i] = food_times[i] - tmp\n",
    "        else:\n",
    "            cnt += tmp - food_times[i]\n",
    "            food_times[i] = 0\n",
    "            \n",
    "    if sum(food_times):\n",
    "        if cnt > food_len:\n",
    "            return func(food_times, cnt)\n",
    "        return food_times, cnt\n",
    "    else:\n",
    "        return [], -1\n",
    "    \n",
    "\n",
    "def solution(food_times, k):\n",
    "    food_len = len(food_times)\n",
    "    food_times, cnt = func(food_times, k)\n",
    "#     print(food_times, cnt)\n",
    "    \n",
    "    if cnt == -1:\n",
    "        return -1\n",
    "    \n",
    "    tmp = 0\n",
    "    sum_lst = sum(food_times)\n",
    "    while cnt:\n",
    "#         print(food_times, cnt, tmp)\n",
    "        if food_times[tmp]:\n",
    "            food_times[tmp] -= 1\n",
    "            cnt -= 1\n",
    "            sum_lst -= 1\n",
    "        tmp += 1\n",
    "        tmp %= food_len\n",
    "        \n",
    "        if sum_lst == 0:\n",
    "            return -1\n",
    "        \n",
    "#     print(food_times, cnt)\n",
    "    for _ in range(tmp, tmp+food_len):\n",
    "        if food_times[_%food_len]:\n",
    "            return _%food_len+1\n",
    "    else:\n",
    "        return -1"
   ]
  },
  {
   "cell_type": "code",
   "execution_count": 205,
   "metadata": {},
   "outputs": [
    {
     "data": {
      "text/plain": [
       "-1"
      ]
     },
     "execution_count": 205,
     "metadata": {},
     "output_type": "execute_result"
    }
   ],
   "source": [
    "solution([2,2,1,4], 11)"
   ]
  },
  {
   "cell_type": "code",
   "execution_count": 206,
   "metadata": {},
   "outputs": [
    {
     "data": {
      "text/plain": [
       "2"
      ]
     },
     "execution_count": 206,
     "metadata": {},
     "output_type": "execute_result"
    }
   ],
   "source": [
    "solution([7,8,3,3,2,2,2,2,2,2,2,2], 35)"
   ]
  },
  {
   "cell_type": "code",
   "execution_count": 207,
   "metadata": {},
   "outputs": [
    {
     "data": {
      "text/plain": [
       "3"
      ]
     },
     "execution_count": 207,
     "metadata": {},
     "output_type": "execute_result"
    }
   ],
   "source": [
    "solution([4,2,3,6,7,1,5,8], 16)"
   ]
  },
  {
   "cell_type": "code",
   "execution_count": 203,
   "metadata": {},
   "outputs": [
    {
     "data": {
      "text/plain": [
       "6"
      ]
     },
     "execution_count": 203,
     "metadata": {},
     "output_type": "execute_result"
    }
   ],
   "source": [
    "solution([1, 5, 5, 5, 5, 6, 7], 31)"
   ]
  },
  {
   "cell_type": "code",
   "execution_count": null,
   "metadata": {},
   "outputs": [],
   "source": []
  },
  {
   "cell_type": "code",
   "execution_count": null,
   "metadata": {},
   "outputs": [],
   "source": []
  },
  {
   "cell_type": "code",
   "execution_count": null,
   "metadata": {},
   "outputs": [],
   "source": []
  },
  {
   "cell_type": "code",
   "execution_count": null,
   "metadata": {},
   "outputs": [],
   "source": []
  },
  {
   "cell_type": "code",
   "execution_count": null,
   "metadata": {},
   "outputs": [],
   "source": []
  },
  {
   "cell_type": "code",
   "execution_count": null,
   "metadata": {},
   "outputs": [],
   "source": []
  },
  {
   "cell_type": "code",
   "execution_count": null,
   "metadata": {},
   "outputs": [],
   "source": []
  },
  {
   "cell_type": "code",
   "execution_count": null,
   "metadata": {},
   "outputs": [],
   "source": []
  },
  {
   "cell_type": "code",
   "execution_count": null,
   "metadata": {},
   "outputs": [],
   "source": []
  },
  {
   "cell_type": "code",
   "execution_count": null,
   "metadata": {},
   "outputs": [],
   "source": []
  },
  {
   "cell_type": "code",
   "execution_count": null,
   "metadata": {},
   "outputs": [],
   "source": []
  },
  {
   "cell_type": "code",
   "execution_count": null,
   "metadata": {},
   "outputs": [],
   "source": []
  },
  {
   "cell_type": "code",
   "execution_count": null,
   "metadata": {},
   "outputs": [],
   "source": []
  },
  {
   "cell_type": "code",
   "execution_count": null,
   "metadata": {},
   "outputs": [],
   "source": []
  },
  {
   "cell_type": "code",
   "execution_count": null,
   "metadata": {},
   "outputs": [],
   "source": []
  },
  {
   "cell_type": "code",
   "execution_count": null,
   "metadata": {},
   "outputs": [],
   "source": []
  }
 ],
 "metadata": {
  "kernelspec": {
   "display_name": "Python 3",
   "language": "python",
   "name": "python3"
  },
  "language_info": {
   "codemirror_mode": {
    "name": "ipython",
    "version": 3
   },
   "file_extension": ".py",
   "mimetype": "text/x-python",
   "name": "python",
   "nbconvert_exporter": "python",
   "pygments_lexer": "ipython3",
   "version": "3.8.5"
  }
 },
 "nbformat": 4,
 "nbformat_minor": 4
}
