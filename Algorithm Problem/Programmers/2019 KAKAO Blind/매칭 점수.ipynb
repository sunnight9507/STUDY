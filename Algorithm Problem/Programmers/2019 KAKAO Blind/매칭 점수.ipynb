{
 "cells": [
  {
   "cell_type": "code",
   "execution_count": 54,
   "metadata": {},
   "outputs": [],
   "source": [
    "import re\n",
    "\n",
    "class Page:\n",
    "    def __init__(self, index, name, base_score, link_list, link_score=0):\n",
    "        self.index = index\n",
    "        self.name = name\n",
    "        self.base_score = base_score\n",
    "        self.link_list = link_list\n",
    "        self.num_link = len(link_list)\n",
    "        self.link_score = link_score\n",
    "    \n",
    "def check(index, page, word):\n",
    "    # 수정 필요\n",
    "    # page name\n",
    "    name_idx = page.find('content=') + 9\n",
    "    name = page[name_idx:].split('\"')[0]\n",
    "    \n",
    "    # page base score\n",
    "    body_text = re.sub('[^a-zA-Z]', ' ', page.split('body')[1].lower())\n",
    "    base_score = sum([True if page_word == word else False for page_word in body_text.split()])\n",
    "    \n",
    "    # link list\n",
    "    link_list = [link.split('\"')[1] for link in re.findall('<a href=([\\S]+)>', page)]\n",
    "    \n",
    "    return Page(index, name, base_score, link_list)\n",
    "    \n",
    "def solution(word, pages):\n",
    "    page_name_dict = {}\n",
    "    \n",
    "    for index, page in enumerate(pages):\n",
    "        new_page = check(index, page, word.lower())\n",
    "        page_name_dict[new_page.name] = new_page\n",
    "        \n",
    "    for page_name in page_name_dict:\n",
    "        for link in page_name_dict[page_name].link_list:\n",
    "            if link in page_name_dict:\n",
    "                page_name_dict[link].link_score += (page_name_dict[page_name].base_score / page_name_dict[page_name].num_link)\n",
    "        \n",
    "    # 매칭점수 계산\n",
    "    matching_score_dict = {}\n",
    "    for page_name in page_name_dict:\n",
    "        matching_score_dict[page_name_dict[page_name].index] = page_name_dict[page_name].base_score + page_name_dict[page_name].link_score\n",
    "    \n",
    "    return sorted(matching_score_dict.items(), key=lambda x:x[1], reverse=True)[0][0]"
   ]
  },
  {
   "cell_type": "code",
   "execution_count": 82,
   "metadata": {},
   "outputs": [],
   "source": [
    "import re\n",
    "\n",
    "class Page:\n",
    "    def __init__(self, index, name, base_score, link_list, link_score=0):\n",
    "        self.index = index\n",
    "        self.name = name\n",
    "        self.base_score = base_score\n",
    "        self.link_list = link_list\n",
    "        self.num_link = len(link_list)\n",
    "        self.link_score = link_score\n",
    "    \n",
    "def check(index, page, word):\n",
    "    # page name\n",
    "    name = re.search(r'<meta property=\"og:url\" content=\"([A-Za-z./0-9:]+)\"', page).group(1)\n",
    "    \n",
    "    # page base score\n",
    "    body_text = re.sub('[^a-zA-Z]', ' ', page.split('body')[1].lower())\n",
    "    base_score = sum([True if page_word == word else False for page_word in body_text.split()])\n",
    "    \n",
    "    # link list\n",
    "    link_list = [link.split('\"')[1] for link in re.findall('<a href=([\\S]+)>', page)]\n",
    "    return Page(index, name, base_score, link_list)\n",
    "    \n",
    "def solution(word, pages):\n",
    "    page_name_dict = {}\n",
    "    \n",
    "    for index, page in enumerate(pages):\n",
    "        new_page = check(index, page, word.lower())\n",
    "        page_name_dict[new_page.name] = new_page\n",
    "        \n",
    "    for page_name in page_name_dict:\n",
    "        for link in page_name_dict[page_name].link_list:\n",
    "            if link in page_name_dict:\n",
    "                page_name_dict[link].link_score += (page_name_dict[page_name].base_score / page_name_dict[page_name].num_link)\n",
    "        \n",
    "    # 매칭점수 계산\n",
    "    matching_score_dict = {}\n",
    "    for page_name in page_name_dict:\n",
    "        matching_score_dict[page_name_dict[page_name].index] = page_name_dict[page_name].base_score + page_name_dict[page_name].link_score\n",
    "    \n",
    "    return sorted(matching_score_dict.items(), key=lambda x:x[1], reverse=True)[0][0]"
   ]
  },
  {
   "cell_type": "code",
   "execution_count": 83,
   "metadata": {},
   "outputs": [
    {
     "data": {
      "text/plain": [
       "0"
      ]
     },
     "execution_count": 83,
     "metadata": {},
     "output_type": "execute_result"
    }
   ],
   "source": [
    "solution(\"blind\", [\"<html lang=\\\"ko\\\" xml:lang=\\\"ko\\\" xmlns=\\\"http://www.w3.org/1999/xhtml\\\">\\n<head>\\n  <meta charset=\\\"utf-8\\\">\\n  <meta property=\\\"og:url\\\" content=\\\"https://a.com\\\"/>\\n</head>  \\n<body>\\nBlind Lorem Blind ipsum dolor Blind test sit amet, consectetur adipiscing elit. \\n<a href=\\\"https://b.com\\\"> Link to b </a>\\n</body>\\n</html>\", \"<html lang=\\\"ko\\\" xml:lang=\\\"ko\\\" xmlns=\\\"http://www.w3.org/1999/xhtml\\\">\\n<head>\\n  <meta charset=\\\"utf-8\\\">\\n  <meta property=\\\"og:url\\\" content=\\\"https://b.com\\\"/>\\n</head>  \\n<body>\\nSuspendisse potenti. Vivamus venenatis tellus non turpis bibendum, \\n<a href=\\\"https://a.com\\\"> Link to a </a>\\nblind sed congue urna varius. Suspendisse feugiat nisl ligula, quis malesuada felis hendrerit ut.\\n<a href=\\\"https://c.com\\\"> Link to c </a>\\n</body>\\n</html>\", \"<html lang=\\\"ko\\\" xml:lang=\\\"ko\\\" xmlns=\\\"http://www.w3.org/1999/xhtml\\\">\\n<head>\\n  <meta charset=\\\"utf-8\\\">\\n  <meta property=\\\"og:url\\\" content=\\\"https://c.com\\\"/>\\n</head>  \\n<body>\\nUt condimentum urna at felis sodales rutrum. Sed dapibus cursus diam, non interdum nulla tempor nec. Phasellus rutrum enim at orci consectetu blind\\n<a href=\\\"https://a.com\\\"> Link to a </a>\\n</body>\\n</html>\"])"
   ]
  },
  {
   "cell_type": "code",
   "execution_count": 84,
   "metadata": {},
   "outputs": [
    {
     "data": {
      "text/plain": [
       "1"
      ]
     },
     "execution_count": 84,
     "metadata": {},
     "output_type": "execute_result"
    }
   ],
   "source": [
    "solution(\"Muzi\", [\"<html lang=\\\"ko\\\" xml:lang=\\\"ko\\\" xmlns=\\\"http://www.w3.org/1999/xhtml\\\">\\n<head>\\n  <meta charset=\\\"utf-8\\\">\\n  <meta property=\\\"og:url\\\" content=\\\"https://careers.kakao.com/interview/list\\\"/>\\n</head>  \\n<body>\\n<a href=\\\"https://programmers.co.kr/learn/courses/4673\\\"></a>#!MuziMuzi!)jayg07con&&\\n\\n</body>\\n</html>\", \"<html lang=\\\"ko\\\" xml:lang=\\\"ko\\\" xmlns=\\\"http://www.w3.org/1999/xhtml\\\">\\n<head>\\n  <meta charset=\\\"utf-8\\\">\\n  <meta property=\\\"og:url\\\" content=\\\"https://www.kakaocorp.com\\\"/>\\n</head>  \\n<body>\\ncon%\\tmuzI92apeach&2<a href=\\\"https://hashcode.co.kr/tos\\\"></a>\\n\\n\\t^\\n</body>\\n</html>\"])"
   ]
  }
 ],
 "metadata": {
  "kernelspec": {
   "display_name": "Python 3",
   "language": "python",
   "name": "python3"
  },
  "language_info": {
   "codemirror_mode": {
    "name": "ipython",
    "version": 3
   },
   "file_extension": ".py",
   "mimetype": "text/x-python",
   "name": "python",
   "nbconvert_exporter": "python",
   "pygments_lexer": "ipython3",
   "version": "3.8.5"
  }
 },
 "nbformat": 4,
 "nbformat_minor": 4
}
