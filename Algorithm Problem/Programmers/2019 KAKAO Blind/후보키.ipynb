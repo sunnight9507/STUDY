{
 "cells": [
  {
   "cell_type": "code",
   "execution_count": 90,
   "metadata": {},
   "outputs": [],
   "source": [
    "# 82점\n",
    "\n",
    "from itertools import combinations\n",
    "from collections import defaultdict\n",
    "\n",
    "def solution(relation):\n",
    "    n = len(relation[0])\n",
    "    check = [_ for _ in range(n)]\n",
    "    possible_key = defaultdict(lambda : False)\n",
    "    cnt = 0\n",
    "    \n",
    "    # combination\n",
    "    for _ in range(1,n+1):\n",
    "#         print(check)\n",
    "        if len(check) < _:\n",
    "            break\n",
    "        for keys in combinations(check, _):\n",
    "#             print(keys)\n",
    "            _dict = defaultdict(lambda : False)\n",
    "            for data in relation:\n",
    "                tmp_tuple = tuple(data[_] for _ in keys)\n",
    "#                 print(tmp_tuple)\n",
    "                if not _dict[tmp_tuple]:\n",
    "                    _dict[tmp_tuple] = True\n",
    "                else:\n",
    "                    break\n",
    "            else:\n",
    "                cnt += 1\n",
    "                for key in keys:\n",
    "                    if not possible_key[key]:\n",
    "                        possible_key[key] = True\n",
    "                        check.remove(key)\n",
    "    return cnt"
   ]
  },
  {
   "cell_type": "code",
   "execution_count": 91,
   "metadata": {},
   "outputs": [
    {
     "data": {
      "text/plain": [
       "3"
      ]
     },
     "execution_count": 91,
     "metadata": {},
     "output_type": "execute_result"
    }
   ],
   "source": [
    "solution([[\"100\", \"ryan\", \"music\", \"2\"], [\"200\", \"apeach\", \"math\", \"2\"], [\"300\", \"tube\", \"computer\", \"3\"], [\"400\", \"con\", \"computer\", \"4\"], [\"500\", \"muzi\", \"music\", \"3\"], [\"600\", \"apeach\", \"music\", \"3\"]])"
   ]
  }
 ],
 "metadata": {
  "kernelspec": {
   "display_name": "Python 3",
   "language": "python",
   "name": "python3"
  },
  "language_info": {
   "codemirror_mode": {
    "name": "ipython",
    "version": 3
   },
   "file_extension": ".py",
   "mimetype": "text/x-python",
   "name": "python",
   "nbconvert_exporter": "python",
   "pygments_lexer": "ipython3",
   "version": "3.8.5"
  }
 },
 "nbformat": 4,
 "nbformat_minor": 4
}
