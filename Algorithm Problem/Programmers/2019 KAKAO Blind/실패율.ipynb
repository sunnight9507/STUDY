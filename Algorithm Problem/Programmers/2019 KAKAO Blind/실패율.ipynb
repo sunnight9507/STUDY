{
 "cells": [
  {
   "cell_type": "code",
   "execution_count": 12,
   "metadata": {},
   "outputs": [],
   "source": [
    "# 23.38ms, 18.3MB\n",
    "def solution(N, stages):\n",
    "    \n",
    "    # 사람 수\n",
    "    n = len(stages)\n",
    "    \n",
    "    # 해당 stage 실패한 사람 count\n",
    "    count_stages = {_ : 0 for _ in range(0, N+1)}\n",
    "    for stage in stages:\n",
    "        stage -= 1\n",
    "        count_stages[stage] += 1\n",
    "    \n",
    "    # stage별 실패율 계산\n",
    "    result = [[stage, 0] for stage in range(1,N+1)]\n",
    "    for i in range(N):\n",
    "        # 해당 stage에 남아있는 사람이 있을 경우 확률 계산\n",
    "        if n:\n",
    "            result[i][1] = count_stages[i] / n\n",
    "            n -= count_stages[i]\n",
    "        # 해당 stage에 남아있는 사람이 없을 경우 0으로 확률 계산\n",
    "        else:\n",
    "            result[i][1] = 0\n",
    "    \n",
    "    # 실패율 기준으로 정렬\n",
    "    result = sorted(result, key = lambda x : x[1], reverse=True)\n",
    "    return [stage for stage, prob in result]"
   ]
  },
  {
   "cell_type": "code",
   "execution_count": 11,
   "metadata": {},
   "outputs": [
    {
     "data": {
      "text/plain": [
       "[3, 4, 2, 1, 5]"
      ]
     },
     "execution_count": 11,
     "metadata": {},
     "output_type": "execute_result"
    }
   ],
   "source": [
    "solution(5,[2, 1, 2, 6, 2, 4, 3, 3])"
   ]
  },
  {
   "cell_type": "code",
   "execution_count": 3,
   "metadata": {},
   "outputs": [
    {
     "data": {
      "text/plain": [
       "[4, 1, 2, 3]"
      ]
     },
     "execution_count": 3,
     "metadata": {},
     "output_type": "execute_result"
    }
   ],
   "source": [
    "def solution(N, stages):\n",
    "    \n",
    "    _dict = {_ : 0 for _ in range(0, N+1)}\n",
    "    \n",
    "    for _ in stages:\n",
    "        _dict[_-1] += 1\n",
    "    \n",
    "    n = len(stages)\n",
    "    \n",
    "    result = [[_+1, 0] for _ in range(N)]\n",
    "    \n",
    "    for _ in range(N):\n",
    "        if n:\n",
    "            result[_][1] = _dict[_] / n\n",
    "            n -= _dict[_]\n",
    "        else:\n",
    "            result[_][1] = 0\n",
    "    result = sorted(result, key = lambda x : x[1], reverse=True)\n",
    "    \n",
    "    return [_[0] for _ in result]\n",
    "\n",
    "solution(4,[4,4,4,4,4])"
   ]
  },
  {
   "cell_type": "code",
   "execution_count": 46,
   "metadata": {},
   "outputs": [
    {
     "data": {
      "text/plain": [
       "[3, 4, 2, 1, 5]"
      ]
     },
     "execution_count": 46,
     "metadata": {},
     "output_type": "execute_result"
    }
   ],
   "source": [
    "solution(5,[2, 1, 2, 6, 2, 4, 3, 3])"
   ]
  }
 ],
 "metadata": {
  "kernelspec": {
   "display_name": "Python 3",
   "language": "python",
   "name": "python3"
  },
  "language_info": {
   "codemirror_mode": {
    "name": "ipython",
    "version": 3
   },
   "file_extension": ".py",
   "mimetype": "text/x-python",
   "name": "python",
   "nbconvert_exporter": "python",
   "pygments_lexer": "ipython3",
   "version": "3.8.5"
  }
 },
 "nbformat": 4,
 "nbformat_minor": 4
}
