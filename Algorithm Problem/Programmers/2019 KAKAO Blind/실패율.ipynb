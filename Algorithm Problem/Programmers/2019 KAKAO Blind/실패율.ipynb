{
 "cells": [
  {
   "cell_type": "code",
   "execution_count": 43,
   "metadata": {},
   "outputs": [],
   "source": [
    "def solution(N, stages):\n",
    "    \n",
    "    _dict = {_ : 0 for _ in range(0, N+1)}\n",
    "    \n",
    "    for _ in stages:\n",
    "        _dict[_-1] += 1\n",
    "    \n",
    "    n = len(stages)\n",
    "    \n",
    "    result = [[_+1, 0] for _ in range(N)]\n",
    "    \n",
    "    for _ in range(N):\n",
    "        if n:\n",
    "            result[_][1] = _dict[_] / n\n",
    "            n -= _dict[_]\n",
    "        else:\n",
    "            result[_][1] = 0\n",
    "    result = sorted(result, key = lambda x : x[1], reverse=True)\n",
    "    \n",
    "    return [_[0] for _ in result]"
   ]
  },
  {
   "cell_type": "code",
   "execution_count": 45,
   "metadata": {},
   "outputs": [
    {
     "data": {
      "text/plain": [
       "[4, 1, 2, 3]"
      ]
     },
     "execution_count": 45,
     "metadata": {},
     "output_type": "execute_result"
    }
   ],
   "source": [
    "solution(4,[4,4,4,4,4])"
   ]
  },
  {
   "cell_type": "code",
   "execution_count": 46,
   "metadata": {},
   "outputs": [
    {
     "data": {
      "text/plain": [
       "[3, 4, 2, 1, 5]"
      ]
     },
     "execution_count": 46,
     "metadata": {},
     "output_type": "execute_result"
    }
   ],
   "source": [
    "solution(5,[2, 1, 2, 6, 2, 4, 3, 3])"
   ]
  }
 ],
 "metadata": {
  "kernelspec": {
   "display_name": "Python 3",
   "language": "python",
   "name": "python3"
  },
  "language_info": {
   "codemirror_mode": {
    "name": "ipython",
    "version": 3
   },
   "file_extension": ".py",
   "mimetype": "text/x-python",
   "name": "python",
   "nbconvert_exporter": "python",
   "pygments_lexer": "ipython3",
   "version": "3.8.5"
  }
 },
 "nbformat": 4,
 "nbformat_minor": 4
}
