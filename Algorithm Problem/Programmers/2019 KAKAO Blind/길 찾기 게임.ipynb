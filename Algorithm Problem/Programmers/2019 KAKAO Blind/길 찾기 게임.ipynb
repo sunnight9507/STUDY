{
 "cells": [
  {
   "cell_type": "code",
   "execution_count": 120,
   "metadata": {},
   "outputs": [],
   "source": [
    "# 96.6\n",
    "def forward(tree, x, y, _min, _max, back=False):\n",
    "    # 현재 + 왼쪽 + 오른쪽\n",
    "    \n",
    "    # 현재 index 확인\n",
    "    for tree_idx, tree_x in tree[y]:\n",
    "        if tree_x == x:\n",
    "            tmp = tree_idx\n",
    "            break\n",
    "    \n",
    "    # 자식 있는지 확인\n",
    "    for _ in range(y-1, -1, -1):\n",
    "        if _ in tree:\n",
    "            child_key = _\n",
    "            break\n",
    "    else:\n",
    "        return [tmp]\n",
    "    \n",
    "    left_child, right_child = [], []\n",
    "    \n",
    "    for tree_idx, tree_x in tree[child_key]:\n",
    "        # 왼쪽 자식\n",
    "        if _min <= tree_x < x:\n",
    "            left_child = forward(tree, tree_x, child_key, _min, x, back)\n",
    "        elif x < tree_x <= _max:\n",
    "            right_child = forward(tree, tree_x, child_key, x, _max, back)\n",
    "            \n",
    "    if back:\n",
    "        return left_child + right_child + [tmp]\n",
    "    return [tmp] + left_child + right_child\n",
    "\n",
    "def solution(nodeinfo):\n",
    "    tree = {}\n",
    "    _min, _max = 0, len(nodeinfo)\n",
    "    \n",
    "    for idx, [x, y] in enumerate(nodeinfo):\n",
    "        if y in tree:\n",
    "            tree[y].append((idx+1, x))\n",
    "        else:\n",
    "            tree[y] = [(idx+1, x)]\n",
    "            \n",
    "        _max = max(_max, x)\n",
    "        \n",
    "#     print(tree)\n",
    "        \n",
    "    root = max(tree.keys())\n",
    "\n",
    "    f = forward(tree, tree[root][0][1], root, _min, _max)\n",
    "    b = forward(tree, tree[root][0][1], root, _min, _max, back=True)\n",
    "    \n",
    "    return [f, b]"
   ]
  },
  {
   "cell_type": "code",
   "execution_count": 121,
   "metadata": {},
   "outputs": [
    {
     "data": {
      "text/plain": [
       "[[1], [1]]"
      ]
     },
     "execution_count": 121,
     "metadata": {},
     "output_type": "execute_result"
    }
   ],
   "source": [
    "solution([[0,0]])"
   ]
  },
  {
   "cell_type": "code",
   "execution_count": null,
   "metadata": {},
   "outputs": [],
   "source": []
  }
 ],
 "metadata": {
  "kernelspec": {
   "display_name": "Python 3",
   "language": "python",
   "name": "python3"
  },
  "language_info": {
   "codemirror_mode": {
    "name": "ipython",
    "version": 3
   },
   "file_extension": ".py",
   "mimetype": "text/x-python",
   "name": "python",
   "nbconvert_exporter": "python",
   "pygments_lexer": "ipython3",
   "version": "3.8.5"
  }
 },
 "nbformat": 4,
 "nbformat_minor": 4
}
