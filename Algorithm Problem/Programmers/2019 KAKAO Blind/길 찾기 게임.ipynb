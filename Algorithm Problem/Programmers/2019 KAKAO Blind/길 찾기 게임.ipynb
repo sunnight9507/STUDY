{
 "cells": [
  {
   "cell_type": "code",
   "execution_count": 1,
   "metadata": {},
   "outputs": [],
   "source": [
    "# 96.6\n",
    "def forward(tree, x, y, _min, _max, back=False):\n",
    "    # 현재 + 왼쪽 + 오른쪽\n",
    "    \n",
    "    # 현재 index 확인\n",
    "    for tree_idx, tree_x in tree[y]:\n",
    "        if tree_x == x:\n",
    "            tmp = tree_idx\n",
    "            break\n",
    "    \n",
    "    # 자식 있는지 확인\n",
    "    for _ in range(y-1, -1, -1):\n",
    "        if _ in tree:\n",
    "            child_key = _\n",
    "            break\n",
    "    else:\n",
    "        return [tmp]\n",
    "    \n",
    "    left_child, right_child = [], []\n",
    "    \n",
    "    for tree_idx, tree_x in tree[child_key]:\n",
    "        # 왼쪽 자식\n",
    "        if _min <= tree_x < x:\n",
    "            left_child = forward(tree, tree_x, child_key, _min, x, back)\n",
    "        elif x < tree_x <= _max:\n",
    "            right_child = forward(tree, tree_x, child_key, x, _max, back)\n",
    "            \n",
    "    if back:\n",
    "        return left_child + right_child + [tmp]\n",
    "    return [tmp] + left_child + right_child\n",
    "\n",
    "def solution(nodeinfo):\n",
    "    tree = {}\n",
    "    _min, _max = 0, len(nodeinfo)\n",
    "    \n",
    "    for idx, [x, y] in enumerate(nodeinfo):\n",
    "        if y in tree:\n",
    "            tree[y].append((idx+1, x))\n",
    "        else:\n",
    "            tree[y] = [(idx+1, x)]\n",
    "            \n",
    "        _max = max(_max, x)\n",
    "        \n",
    "#     print(tree)\n",
    "        \n",
    "    root = max(tree.keys())\n",
    "\n",
    "    f = forward(tree, tree[root][0][1], root, _min, _max)\n",
    "    b = forward(tree, tree[root][0][1], root, _min, _max, back=True)\n",
    "    \n",
    "    return [f, b]"
   ]
  },
  {
   "cell_type": "code",
   "execution_count": 2,
   "metadata": {},
   "outputs": [],
   "source": [
    "# 9131.18ms, 14.6MB\n",
    "import sys\n",
    "sys.setrecursionlimit(10**6) # 재귀함수 허용범위 늘리기\n",
    "\n",
    "def forward(tree, x, y, _min, _max, back=False):    \n",
    "    # 현재 index 확인\n",
    "    for tree_idx, tree_x in tree[y]:\n",
    "        if tree_x == x:\n",
    "            tmp = tree_idx\n",
    "            break\n",
    "    \n",
    "    # 자식 있는지 확인\n",
    "    for _ in range(y-1, -1, -1):\n",
    "        if _ in tree:\n",
    "            child_key = _\n",
    "            break\n",
    "    else:\n",
    "        return [tmp], [tmp]\n",
    "    \n",
    "    left_child_f, left_child_b, right_child_f, right_child_b = [], [], [], []\n",
    "    \n",
    "    for tree_idx, tree_x in tree[child_key]:\n",
    "        # 왼쪽 자식\n",
    "        if _min <= tree_x < x:\n",
    "            left_child_f, left_child_b = forward(tree, tree_x, child_key, _min, x, back)\n",
    "        # 오른쪽 자식\n",
    "        elif x < tree_x <= _max:\n",
    "            right_child_f, right_child_b = forward(tree, tree_x, child_key, x, _max, back)\n",
    "            \n",
    "    # 전위 순회(현재 + 왼 + 오), 후위 순회(왼 + 오 + 현재)\n",
    "    return [tmp] + left_child_f + right_child_f, left_child_b + right_child_b + [tmp]\n",
    "\n",
    "def solution(nodeinfo):\n",
    "    tree = {}\n",
    "    _min, _max = 0, len(nodeinfo)\n",
    "    \n",
    "    for idx, [x, y] in enumerate(nodeinfo):\n",
    "        if y in tree:\n",
    "            tree[y].append((idx+1, x))\n",
    "        else:\n",
    "            tree[y] = [(idx+1, x)]\n",
    "            \n",
    "        _max = max(_max, x)\n",
    "        \n",
    "    root = max(tree.keys())\n",
    "\n",
    "    f, b = forward(tree, tree[root][0][1], root, _min, _max)\n",
    "    \n",
    "    return [f, b]"
   ]
  },
  {
   "cell_type": "markdown",
   "metadata": {},
   "source": [
    "#### 인상 깊은 풀이"
   ]
  },
  {
   "cell_type": "code",
   "execution_count": 3,
   "metadata": {},
   "outputs": [],
   "source": [
    "import sys\n",
    "sys.setrecursionlimit(10**6)\n",
    "\n",
    "preorder = list() # 귀찮아서 전역으로\n",
    "postorder = list()\n",
    "def solution(nodeinfo):    \n",
    "    levels = sorted(list({x[1] for x in nodeinfo}),reverse=True) # 유효한 Y좌표\n",
    "    nodes = sorted(list(zip(range(1,len(nodeinfo)+1),nodeinfo)),key=lambda x:(-x[1][1],x[1][0])) # 노드 정렬\n",
    "    order(nodes,levels,0)\n",
    "    return [preorder,postorder]\n",
    "\n",
    "def order(nodes,levels,curlevel):\n",
    "    n = nodes[:] # copy\n",
    "    cur = n.pop(0) # VISIT\n",
    "    preorder.append(cur[0]) # PRE-ORDER\n",
    "    if n: # stop if leaf node\n",
    "        for i in range(len(n)): # find next floor\n",
    "            if n[i][1][1] == levels[curlevel+1]: # next floor\n",
    "                if n[i][1][0] < cur[1][0]: # LEFT CHILD\n",
    "                    order([x for x in n if x[1][0] < cur[1][0]],levels,curlevel+1)\n",
    "                else: # RIGHT CHILD\n",
    "                    order([x for x in n if x[1][0] > cur[1][0]],levels,curlevel+1)\n",
    "                    break\n",
    "    postorder.append(cur[0]) # POST-ORDER"
   ]
  },
  {
   "cell_type": "code",
   "execution_count": 4,
   "metadata": {},
   "outputs": [
    {
     "data": {
      "text/plain": [
       "[[7, 4, 6, 9, 1, 8, 5, 2, 3], [9, 6, 5, 8, 1, 4, 3, 2, 7]]"
      ]
     },
     "execution_count": 4,
     "metadata": {},
     "output_type": "execute_result"
    }
   ],
   "source": [
    "solution([[5,3],[11,5],[13,3],[3,5],[6,1],[1,3],[8,6],[7,2],[2,2]])"
   ]
  },
  {
   "cell_type": "code",
   "execution_count": null,
   "metadata": {},
   "outputs": [],
   "source": []
  }
 ],
 "metadata": {
  "kernelspec": {
   "display_name": "Python 3",
   "language": "python",
   "name": "python3"
  },
  "language_info": {
   "codemirror_mode": {
    "name": "ipython",
    "version": 3
   },
   "file_extension": ".py",
   "mimetype": "text/x-python",
   "name": "python",
   "nbconvert_exporter": "python",
   "pygments_lexer": "ipython3",
   "version": "3.8.5"
  }
 },
 "nbformat": 4,
 "nbformat_minor": 4
}
