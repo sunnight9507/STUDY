{
 "cells": [
  {
   "cell_type": "code",
   "execution_count": 19,
   "metadata": {},
   "outputs": [],
   "source": [
    "def solution(record):\n",
    "    _dict = {}\n",
    "    for _ in record:\n",
    "        lst = _.split()\n",
    "        if lst[0] != 'Leave':\n",
    "            _dict[lst[1]] = lst[2]\n",
    "    \n",
    "    result = []\n",
    "    \n",
    "    for _ in record:\n",
    "        lst = _.split()\n",
    "        if lst[0] == 'Enter':\n",
    "            result.append(_dict[lst[1]] + '님이 들어왔습니다.')\n",
    "        elif lst[0] == 'Leave':\n",
    "            result.append(_dict[lst[1]] + '님이 나갔습니다.')\n",
    "    \n",
    "    return result"
   ]
  },
  {
   "cell_type": "code",
   "execution_count": 20,
   "metadata": {},
   "outputs": [
    {
     "data": {
      "text/plain": [
       "['Prodo님이 들어왔습니다.', 'Ryan님이 들어왔습니다.', 'Prodo님이 나갔습니다.', 'Prodo님이 들어왔습니다.']"
      ]
     },
     "execution_count": 20,
     "metadata": {},
     "output_type": "execute_result"
    }
   ],
   "source": [
    "solution([\"Enter uid1234 Muzi\", \"Enter uid4567 Prodo\",\"Leave uid1234\",\"Enter uid1234 Prodo\",\"Change uid4567 Ryan\"])"
   ]
  }
 ],
 "metadata": {
  "kernelspec": {
   "display_name": "Python 3",
   "language": "python",
   "name": "python3"
  },
  "language_info": {
   "codemirror_mode": {
    "name": "ipython",
    "version": 3
   },
   "file_extension": ".py",
   "mimetype": "text/x-python",
   "name": "python",
   "nbconvert_exporter": "python",
   "pygments_lexer": "ipython3",
   "version": "3.8.5"
  }
 },
 "nbformat": 4,
 "nbformat_minor": 4
}
