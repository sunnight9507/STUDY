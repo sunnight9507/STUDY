{
 "cells": [
  {
   "cell_type": "code",
   "execution_count": 37,
   "metadata": {},
   "outputs": [],
   "source": [
    "def solution(brown, yellow):\n",
    "    lst = []\n",
    "    \n",
    "    for _ in range(yellow, round(yellow**0.5)-1, -1):\n",
    "        if yellow % _ == 0:\n",
    "            lst.append([_+2, yellow//_ + 2])\n",
    "        \n",
    "    for a,b in lst:\n",
    "        if a*2 + (b-2)*2 == brown:\n",
    "            return [a,b]"
   ]
  },
  {
   "cell_type": "code",
   "execution_count": 38,
   "metadata": {},
   "outputs": [
    {
     "name": "stdout",
     "output_type": "stream",
     "text": [
      "3 3\n",
      "8\n"
     ]
    },
    {
     "data": {
      "text/plain": [
       "[3, 3]"
      ]
     },
     "execution_count": 38,
     "metadata": {},
     "output_type": "execute_result"
    }
   ],
   "source": [
    "solution(8,1)"
   ]
  },
  {
   "cell_type": "code",
   "execution_count": 1,
   "metadata": {},
   "outputs": [],
   "source": [
    "# 문제가 개편되었습니다. 이로 인해 함수 구성이나 테스트케이스가 변경되어, 과거의 코드는 동작하지 않을 수 있습니다.\n",
    "# 새로운 함수 구성을 적용하려면 [코드 초기화] 버튼을 누르세요. 단, [코드 초기화] 버튼을 누르면 작성 중인 코드는 사라집니다.\n",
    "def solution(brown, red):\n",
    "    answer = []\n",
    "    \n",
    "    total = (red + brown)\n",
    "    \n",
    "    for i in range(1,int((red + brown)**0.5)+1):\n",
    "        if (total) % i == 0:\n",
    "            answer.append([int(total / i), i])\n",
    "    \n",
    "    #print(answer)\n",
    "    \n",
    "    for i in answer:\n",
    "        if red == (i[0]-2) * (i[1]-2):\n",
    "            return i"
   ]
  }
 ],
 "metadata": {
  "kernelspec": {
   "display_name": "Python 3",
   "language": "python",
   "name": "python3"
  },
  "language_info": {
   "codemirror_mode": {
    "name": "ipython",
    "version": 3
   },
   "file_extension": ".py",
   "mimetype": "text/x-python",
   "name": "python",
   "nbconvert_exporter": "python",
   "pygments_lexer": "ipython3",
   "version": "3.8.3"
  }
 },
 "nbformat": 4,
 "nbformat_minor": 4
}
