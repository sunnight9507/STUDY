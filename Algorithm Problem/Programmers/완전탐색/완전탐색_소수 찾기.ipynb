{
 "cells": [
  {
   "cell_type": "code",
   "execution_count": 76,
   "metadata": {},
   "outputs": [],
   "source": [
    "import itertools\n",
    "\n",
    "def isprime(num):\n",
    "    if num < 2:\n",
    "        return False\n",
    "    elif num == 2: return True\n",
    "    else:\n",
    "        for _ in range(2, round(num / 2)+1):\n",
    "            if num % _ == 0:\n",
    "                return False\n",
    "        return True\n",
    "\n",
    "def solution(numbers):\n",
    "    lst = []\n",
    "    for _ in numbers:\n",
    "        lst.append(_)\n",
    "    \n",
    "    result_lst = []\n",
    "    \n",
    "    for _ in range(1, len(lst)+1):\n",
    "        result_lst.extend(list(map(''.join, itertools.permutations(lst, _))))\n",
    "    \n",
    "    _set = set([])\n",
    "    for _ in result_lst:\n",
    "        _set.add(int(_))\n",
    "        \n",
    "    cnt = 0\n",
    "    for _ in _set:\n",
    "        if isprime(_):\n",
    "            cnt += 1\n",
    "    \n",
    "    return cnt"
   ]
  },
  {
   "cell_type": "code",
   "execution_count": 77,
   "metadata": {},
   "outputs": [
    {
     "data": {
      "text/plain": [
       "3"
      ]
     },
     "execution_count": 77,
     "metadata": {},
     "output_type": "execute_result"
    }
   ],
   "source": [
    "solution(\"17\")"
   ]
  },
  {
   "cell_type": "code",
   "execution_count": 78,
   "metadata": {},
   "outputs": [
    {
     "data": {
      "text/plain": [
       "2"
      ]
     },
     "execution_count": 78,
     "metadata": {},
     "output_type": "execute_result"
    }
   ],
   "source": [
    "solution(\"011\")"
   ]
  },
  {
   "cell_type": "code",
   "execution_count": 79,
   "metadata": {},
   "outputs": [
    {
     "data": {
      "text/plain": [
       "22"
      ]
     },
     "execution_count": 79,
     "metadata": {},
     "output_type": "execute_result"
    }
   ],
   "source": [
    "solution(\"91912\")"
   ]
  },
  {
   "cell_type": "code",
   "execution_count": null,
   "metadata": {},
   "outputs": [],
   "source": []
  },
  {
   "cell_type": "code",
   "execution_count": null,
   "metadata": {},
   "outputs": [],
   "source": []
  },
  {
   "cell_type": "code",
   "execution_count": null,
   "metadata": {},
   "outputs": [],
   "source": []
  },
  {
   "cell_type": "code",
   "execution_count": 1,
   "metadata": {},
   "outputs": [],
   "source": [
    "# 7840\n",
    "import itertools\n",
    "\n",
    "def solution(numbers):\n",
    "    \n",
    "    a = [(numbers[i]) for i in range(0, len(numbers))]\n",
    "    \n",
    "    result = set()\n",
    "    \n",
    "    # set에 저장\n",
    "    for i in range(1,len(a) + 1):\n",
    "        result.update(list(map(''.join, itertools.permutations(a, int(i)))))\n",
    "    \n",
    "    # set을 int형으로 변환\n",
    "    result = set(map(int, result))\n",
    "\n",
    "    # 소수 구하기 에라토스테네스체\n",
    "    n= int(max(result))\n",
    "    a = [False,False] + [True]*(n-1)\n",
    "    primes=[]\n",
    "\n",
    "    for i in range(2,n+1):\n",
    "        if a[i]:\n",
    "            primes.append(i)\n",
    "        for j in range(2*i, n+1, i):\n",
    "            a[j] = False\n",
    "    \n",
    "    return len([i for i in result if i in primes])"
   ]
  }
 ],
 "metadata": {
  "kernelspec": {
   "display_name": "Python 3",
   "language": "python",
   "name": "python3"
  },
  "language_info": {
   "codemirror_mode": {
    "name": "ipython",
    "version": 3
   },
   "file_extension": ".py",
   "mimetype": "text/x-python",
   "name": "python",
   "nbconvert_exporter": "python",
   "pygments_lexer": "ipython3",
   "version": "3.8.3"
  }
 },
 "nbformat": 4,
 "nbformat_minor": 4
}
