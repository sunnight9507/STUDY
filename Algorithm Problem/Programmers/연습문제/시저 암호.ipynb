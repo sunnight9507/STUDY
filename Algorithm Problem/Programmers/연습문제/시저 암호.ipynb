{
 "cells": [
  {
   "cell_type": "code",
   "execution_count": 9,
   "id": "acknowledged-original",
   "metadata": {},
   "outputs": [],
   "source": [
    "def solution(s, n):\n",
    "    small_a, big_a = ord(\"a\"), ord(\"A\")\n",
    "    len_alphabet = 26\n",
    "    result = \"\"\n",
    "    for i in s:\n",
    "        ascii_code = ord(i)\n",
    "        if i == \" \":\n",
    "            result += i\n",
    "        elif small_a <= ascii_code <= small_a + len_alphabet:\n",
    "            ascii_code -= small_a\n",
    "            ascii_code = (ascii_code + n) % 26\n",
    "            ascii_code += small_a\n",
    "            result += chr(ascii_code)\n",
    "        else:\n",
    "            ascii_code -= big_a\n",
    "            ascii_code = (ascii_code + n) % 26\n",
    "            ascii_code += big_a\n",
    "            result += chr(ascii_code)\n",
    "    return result"
   ]
  }
 ],
 "metadata": {
  "kernelspec": {
   "display_name": "Python 3",
   "language": "python",
   "name": "python3"
  },
  "language_info": {
   "codemirror_mode": {
    "name": "ipython",
    "version": 3
   },
   "file_extension": ".py",
   "mimetype": "text/x-python",
   "name": "python",
   "nbconvert_exporter": "python",
   "pygments_lexer": "ipython3",
   "version": "3.8.5"
  }
 },
 "nbformat": 4,
 "nbformat_minor": 5
}
