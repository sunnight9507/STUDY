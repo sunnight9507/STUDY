{
 "cells": [
  {
   "cell_type": "code",
   "execution_count": 1,
   "id": "conventional-blake",
   "metadata": {},
   "outputs": [],
   "source": [
    "# 0.01ms, 10.3MB\n",
    "def solution(a, b):\n",
    "    day_of_the_week = ['SUN','MON','TUE','WED','THU','FRI','SAT']\n",
    "    start_day = 4 # 15년 마지막 요일\n",
    "    month_day = [0, 31, 29, 31, 30, 31, 30, 31, 31, 30, 31, 30, 31]\n",
    "    \n",
    "    for i in range(a):\n",
    "        start_day += month_day[i]\n",
    "    start_day += b\n",
    "    \n",
    "    return day_of_the_week[start_day%7]"
   ]
  }
 ],
 "metadata": {
  "kernelspec": {
   "display_name": "Python 3",
   "language": "python",
   "name": "python3"
  },
  "language_info": {
   "codemirror_mode": {
    "name": "ipython",
    "version": 3
   },
   "file_extension": ".py",
   "mimetype": "text/x-python",
   "name": "python",
   "nbconvert_exporter": "python",
   "pygments_lexer": "ipython3",
   "version": "3.8.5"
  }
 },
 "nbformat": 4,
 "nbformat_minor": 5
}
