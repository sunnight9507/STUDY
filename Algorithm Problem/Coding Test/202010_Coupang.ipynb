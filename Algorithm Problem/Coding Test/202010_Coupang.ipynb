{
 "cells": [
  {
   "cell_type": "code",
   "execution_count": 54,
   "metadata": {},
   "outputs": [],
   "source": [
    "def solution(N):\n",
    "    _max, idx = 1, 2\n",
    "\n",
    "    for _ in range(2,10):\n",
    "        tmp = 1\n",
    "        tmp_n = N\n",
    "        for num in range(20,-1,-1): # 최소 20제곱 내의 수\n",
    "            calc = _ ** num\n",
    "            if tmp_n // calc:\n",
    "                tmp *= (tmp_n // calc)\n",
    "                tmp_n %= calc\n",
    "\n",
    "        if tmp >= _max:\n",
    "            _max, idx = tmp, _\n",
    "    return [idx, _max]"
   ]
  },
  {
   "cell_type": "code",
   "execution_count": 56,
   "metadata": {},
   "outputs": [
    {
     "name": "stdout",
     "output_type": "stream",
     "text": [
      "1\n",
      "4\n",
      "9\n",
      "4\n",
      "4\n",
      "4\n",
      "28\n",
      "36\n"
     ]
    },
    {
     "data": {
      "text/plain": [
       "[9, 36]"
      ]
     },
     "execution_count": 56,
     "metadata": {},
     "output_type": "execute_result"
    }
   ],
   "source": [
    "a(60)"
   ]
  },
  {
   "cell_type": "code",
   "execution_count": 57,
   "metadata": {},
   "outputs": [],
   "source": [
    "_dict = {1 : 31, 2 : 31+28, 3 : 31+28+31, 4: 31+28+31+30,\n",
    "        5 : 31+28+31+30+31, 6 : 31+28+31+30+31+30, 7 : 31+28+31+30+31+30+31,\n",
    "        8 : 31+28+31+30+31+30+31+31, 9 : 31+28+31+30+31+30+31+31+30,\n",
    "        10 : 31+28+31+30+31+30+31+31+30+31,11 : 31+28+31+30+31+30+31+31+30+31+30,\n",
    "        12 : 31+28+31+30+31+30+31+31+30+31+30+31}\n",
    "def solution(n, customers):\n",
    "    cnt_lst = [0] * n\n",
    "    tmp_lst = [0] * n\n",
    "\n",
    "    for _ in customers:\n",
    "        day, time, t = _.split()\n",
    "        month, day = map(int, day.split('/'))\n",
    "        hour, min, sec = map(int, time.split(':'))\n",
    "        tmp_time = (_dict[month] + day) * 24\n",
    "        tmp_time += hour\n",
    "        tmp_time = tmp_time * 60 + min\n",
    "        tmp_time = tmp_time * 60 + sec\n",
    "        t = int(t) * 60\n",
    "        # print(tmp_time, t)\n",
    "\n",
    "        _min, min_idx = 1e9, 0\n",
    "\n",
    "        for num in range(n):\n",
    "            if tmp_lst[num] < _min:\n",
    "                _min, min_idx = tmp_lst[num], num\n",
    "\n",
    "            # if tmp_lst[num] <= tmp_time:\n",
    "            #     tmp_lst[num] = tmp_time + t\n",
    "            #     cnt_lst[num] += 1\n",
    "            #     break\n",
    "        else:\n",
    "            tmp_lst[min_idx] = tmp_time + t\n",
    "            cnt_lst[min_idx] += 1\n",
    "        # print(tmp_lst, cnt_lst)\n",
    "    return max(cnt_lst)"
   ]
  },
  {
   "cell_type": "code",
   "execution_count": 58,
   "metadata": {},
   "outputs": [
    {
     "data": {
      "text/plain": [
       "4"
      ]
     },
     "execution_count": 58,
     "metadata": {},
     "output_type": "execute_result"
    }
   ],
   "source": [
    "solution(3,[\"10/01 23:20:25 30\", \"10/01 23:25:50 26\", \"10/01 23:31:00 05\", \"10/01 23:33:17 24\", \"10/01 23:50:25 13\", \"10/01 23:55:45 20\", \"10/01 23:59:39 03\", \"10/02 00:10:00 10\"])"
   ]
  },
  {
   "cell_type": "code",
   "execution_count": 62,
   "metadata": {},
   "outputs": [
    {
     "data": {
      "text/plain": [
       "31536000"
      ]
     },
     "execution_count": 62,
     "metadata": {},
     "output_type": "execute_result"
    }
   ],
   "source": [
    "(31+28+31+30+31+30+31+31+30+31+30+31) * 24 * 60 * 60"
   ]
  },
  {
   "cell_type": "code",
   "execution_count": null,
   "metadata": {},
   "outputs": [],
   "source": []
  },
  {
   "cell_type": "code",
   "execution_count": 59,
   "metadata": {},
   "outputs": [],
   "source": [
    "def solution(k, score):\n",
    "    cnt = 0\n",
    "    _dict = {}\n",
    "    _len = len(score)\n",
    "\n",
    "    for _ in range(1,_len):\n",
    "        tmp = score[_-1] - score[_]\n",
    "        if tmp not in _dict:\n",
    "            _dict[tmp] = 1\n",
    "        else: _dict[tmp] += 1\n",
    "\n",
    "    # 조작된 점수 차 확인\n",
    "    lst = []\n",
    "    for _ in _dict:\n",
    "        if _dict[_] >= k:\n",
    "            lst.append(_)\n",
    "    # print(lst)\n",
    "\n",
    "    result = 0\n",
    "    cnt = False\n",
    "    for _ in range(1,_len):\n",
    "        tmp = score[_-1] - score[_]\n",
    "        if tmp in lst:\n",
    "            if cnt:\n",
    "                result += 1\n",
    "            else:\n",
    "                result += 2\n",
    "                cnt = True\n",
    "        else:\n",
    "            cnt = False\n",
    "\n",
    "    return _len - result"
   ]
  },
  {
   "cell_type": "code",
   "execution_count": null,
   "metadata": {},
   "outputs": [],
   "source": []
  },
  {
   "cell_type": "code",
   "execution_count": null,
   "metadata": {},
   "outputs": [],
   "source": []
  },
  {
   "cell_type": "code",
   "execution_count": 60,
   "metadata": {},
   "outputs": [],
   "source": [
    "from collections import deque\n",
    "\n",
    "def solution(depar, hub, dest, roads):\n",
    "    _dict = {}\n",
    "    cnt_dict = {}\n",
    "    for s, e in roads:\n",
    "        if s not in _dict: _dict[s] = [e]\n",
    "        else: _dict[s].append(e)\n",
    "        if e not in _dict: _dict[e] = []\n",
    "\n",
    "        if s not in cnt_dict: cnt_dict[s] = 0\n",
    "        if e not in cnt_dict: cnt_dict[e] = 0\n",
    "\n",
    "    print(_dict, cnt_dict)\n",
    "\n",
    "    # depar에서 hub까지 가능 횟수\n",
    "    queue = deque([depar])\n",
    "    while queue:\n",
    "        tmp = queue.popleft()\n",
    "        for _ in _dict[tmp]:\n",
    "            cnt_dict[_] += 1\n",
    "            queue.append(_)\n",
    "    to_hub = cnt_dict[hub]\n",
    "\n",
    "    for _ in cnt_dict: \n",
    "        cnt_dict[_] = 0\n",
    "\n",
    "    # hub에서 dest까지 가능 횟수\n",
    "    queue = deque([hub])\n",
    "    while queue:\n",
    "        tmp = queue.popleft()\n",
    "        for _ in _dict[tmp]:\n",
    "            cnt_dict[_] += 1\n",
    "            queue.append(_)\n",
    "    to_dest = cnt_dict[dest]\n",
    "\n",
    "    return to_hub * to_dest"
   ]
  },
  {
   "cell_type": "code",
   "execution_count": null,
   "metadata": {},
   "outputs": [],
   "source": []
  },
  {
   "cell_type": "code",
   "execution_count": null,
   "metadata": {},
   "outputs": [],
   "source": []
  },
  {
   "cell_type": "code",
   "execution_count": null,
   "metadata": {},
   "outputs": [],
   "source": []
  },
  {
   "cell_type": "code",
   "execution_count": null,
   "metadata": {},
   "outputs": [],
   "source": []
  },
  {
   "cell_type": "code",
   "execution_count": null,
   "metadata": {},
   "outputs": [],
   "source": []
  },
  {
   "cell_type": "code",
   "execution_count": null,
   "metadata": {},
   "outputs": [],
   "source": [
    "1,000,000"
   ]
  },
  {
   "cell_type": "code",
   "execution_count": null,
   "metadata": {},
   "outputs": [],
   "source": []
  },
  {
   "cell_type": "code",
   "execution_count": 102,
   "metadata": {},
   "outputs": [],
   "source": [
    "def solution(m, k):\n",
    "    answer = ''\n",
    "    k_idx = 0\n",
    "    m_len = len(m)\n",
    "    k_len = len(k)\n",
    "    for _ in range(m_len):\n",
    "        if k_idx == k_len:\n",
    "            answer += m[_ : ]\n",
    "            break\n",
    "        if m[_] == k[k_idx]:\n",
    "            k_idx += 1\n",
    "        else:\n",
    "            answer += m[_]\n",
    "    return answer"
   ]
  },
  {
   "cell_type": "code",
   "execution_count": 110,
   "metadata": {},
   "outputs": [
    {
     "data": {
      "text/plain": [
       "'c'"
      ]
     },
     "execution_count": 110,
     "metadata": {},
     "output_type": "execute_result"
    }
   ],
   "source": [
    "solution('abc' , 'a'+'b')"
   ]
  },
  {
   "cell_type": "code",
   "execution_count": null,
   "metadata": {},
   "outputs": [],
   "source": []
  },
  {
   "cell_type": "code",
   "execution_count": 113,
   "metadata": {},
   "outputs": [],
   "source": [
    "def solution(blocks):\n",
    "    answer = []\n",
    "    _len = len(blocks)\n",
    "    lst = [[0] * _len for _ in range(_len)]\n",
    "    for i in range(_len):\n",
    "        j,value = blocks[i]\n",
    "        lst[i][j] = value\n",
    "\n",
    "    for i in range(1, _len):\n",
    "        for j in range(blocks[i][0]-1, -1, -1):\n",
    "            lst[i][j] = lst[i-1][j] - lst[i][j+1]\n",
    "        for j in range(blocks[i][0]+1, i+1):\n",
    "            lst[i][j] = lst[i-1][j-1] - lst[i][j-1]\n",
    "\n",
    "    for i in range(_len):\n",
    "        for j in range(i+1):\n",
    "            answer.append(lst[i][j])\n",
    "    return answer"
   ]
  },
  {
   "cell_type": "code",
   "execution_count": 117,
   "metadata": {},
   "outputs": [
    {
     "data": {
      "text/plain": [
       "[10, 5, 5, 2, 3, 2]"
      ]
     },
     "execution_count": 117,
     "metadata": {},
     "output_type": "execute_result"
    }
   ],
   "source": [
    "solution([[0, 10],[0, 5],[0, 2]])"
   ]
  },
  {
   "cell_type": "code",
   "execution_count": null,
   "metadata": {},
   "outputs": [],
   "source": []
  },
  {
   "cell_type": "code",
   "execution_count": null,
   "metadata": {},
   "outputs": [],
   "source": []
  },
  {
   "cell_type": "code",
   "execution_count": 120,
   "metadata": {},
   "outputs": [],
   "source": [
    "from collections import deque\n",
    "\n",
    "def bfs(_dict,cnt_lst):\n",
    "    cnt = 0\n",
    "    queue = deque([])\n",
    "    queue.append(0)\n",
    "    cnt += 1\n",
    "    while queue:\n",
    "        _max = 0\n",
    "        max_idx = 0\n",
    "        new_queue = deque([])\n",
    "        \n",
    "        for i in queue:\n",
    "            for _ in _dict[i]:\n",
    "                if cnt_lst[_] > _max: \n",
    "                    _max = cnt_lst[_]\n",
    "                    max_idx = _\n",
    "\n",
    "        for tmp in queue:\n",
    "            for _ in _dict[tmp]:\n",
    "                print(tmp, _)\n",
    "                if max_idx != _:\n",
    "                    new_queue.append(_)\n",
    "                    cnt += 1\n",
    "        queue = new_queue\n",
    "                \n",
    "    return cnt\n",
    "            \n",
    "\n",
    "def solution(n, edges):\n",
    "    print(len(edges))\n",
    "    _dict = {_ : [] for _ in range(n)}\n",
    "    for _ in edges:\n",
    "        _dict[_[0]].append(_[1])\n",
    "        \n",
    "    cnt_lst = [1] * n\n",
    "    \n",
    "    for _ in range(n-1,-1,-1):\n",
    "        tmp_sum = 0\n",
    "        tmp_max = 0\n",
    "        if len(_dict[_]) != 0:\n",
    "            for i in _dict[_]:\n",
    "                tmp = cnt_lst[i]\n",
    "                tmp_sum += tmp\n",
    "                if tmp_max < tmp: tmp_max = tmp\n",
    "            cnt_lst[_] = tmp_sum - tmp_max + 1\n",
    "        \n",
    "#     print(cnt_lst)\n",
    "        \n",
    "#     print(_dict)\n",
    "    \n",
    "    return bfs(_dict,cnt_lst)"
   ]
  },
  {
   "cell_type": "code",
   "execution_count": 129,
   "metadata": {},
   "outputs": [
    {
     "name": "stdout",
     "output_type": "stream",
     "text": [
      "5\n",
      "0 1\n",
      "0 2\n",
      "2 3\n"
     ]
    },
    {
     "data": {
      "text/plain": [
       "2"
      ]
     },
     "execution_count": 129,
     "metadata": {},
     "output_type": "execute_result"
    }
   ],
   "source": [
    "solution(17,[[0, 1], [0, 2], [2, 3], [3, 4], [4, 5]])"
   ]
  },
  {
   "cell_type": "code",
   "execution_count": null,
   "metadata": {},
   "outputs": [],
   "source": []
  },
  {
   "cell_type": "code",
   "execution_count": 93,
   "metadata": {},
   "outputs": [
    {
     "name": "stdout",
     "output_type": "stream",
     "text": [
      "9\n",
      "0 1\n",
      "0 2\n",
      "1 3\n"
     ]
    },
    {
     "data": {
      "text/plain": [
       "2"
      ]
     },
     "execution_count": 93,
     "metadata": {},
     "output_type": "execute_result"
    }
   ],
   "source": [
    "solution(10,[[0, 1], [0, 2], [1, 3], [2, 4], [2, 5], [2, 6], [3, 7], [3, 8], [3, 9]])"
   ]
  },
  {
   "cell_type": "code",
   "execution_count": 91,
   "metadata": {},
   "outputs": [
    {
     "name": "stdout",
     "output_type": "stream",
     "text": [
      "18\n",
      "0 1\n",
      "0 2\n",
      "0 3\n",
      "2 6\n",
      "3 7\n",
      "3 8\n",
      "3 9\n",
      "8 17\n",
      "8 18\n"
     ]
    },
    {
     "data": {
      "text/plain": [
       "7"
      ]
     },
     "execution_count": 91,
     "metadata": {},
     "output_type": "execute_result"
    }
   ],
   "source": [
    "solution(19,[[0, 1], [0, 2], [0, 3], [1, 4], [1, 5], [2, 6], [3, 7], [3, 8], [3, 9], [4, 10], [4, 11], [5, 12], [5, 13], [6, 14], [6, 15], [6, 16], [8, 17], [8, 18]])"
   ]
  },
  {
   "cell_type": "code",
   "execution_count": null,
   "metadata": {},
   "outputs": [],
   "source": []
  },
  {
   "cell_type": "code",
   "execution_count": null,
   "metadata": {},
   "outputs": [],
   "source": []
  },
  {
   "cell_type": "code",
   "execution_count": null,
   "metadata": {},
   "outputs": [],
   "source": []
  },
  {
   "cell_type": "code",
   "execution_count": null,
   "metadata": {},
   "outputs": [],
   "source": []
  },
  {
   "cell_type": "code",
   "execution_count": null,
   "metadata": {},
   "outputs": [],
   "source": []
  },
  {
   "cell_type": "code",
   "execution_count": null,
   "metadata": {},
   "outputs": [],
   "source": []
  }
 ],
 "metadata": {
  "kernelspec": {
   "display_name": "Python 3",
   "language": "python",
   "name": "python3"
  },
  "language_info": {
   "codemirror_mode": {
    "name": "ipython",
    "version": 3
   },
   "file_extension": ".py",
   "mimetype": "text/x-python",
   "name": "python",
   "nbconvert_exporter": "python",
   "pygments_lexer": "ipython3",
   "version": "3.8.3"
  }
 },
 "nbformat": 4,
 "nbformat_minor": 4
}
