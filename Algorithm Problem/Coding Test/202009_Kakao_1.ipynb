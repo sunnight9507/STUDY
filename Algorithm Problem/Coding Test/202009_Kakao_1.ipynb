{
 "cells": [
  {
   "cell_type": "code",
   "execution_count": 345,
   "metadata": {},
   "outputs": [],
   "source": [
    "def solution(new_id):\n",
    "    # 1\n",
    "    new_id = new_id.lower()\n",
    "    \n",
    "    \n",
    "    # 2\n",
    "    check_lst = '~!@#$%^&*()=+[{]}:?,<>/'\n",
    "    for _ in check_lst:\n",
    "        new_id = new_id.replace(_,'')\n",
    "        \n",
    "    # 3\n",
    "    cnt = 0\n",
    "    new_lst = []\n",
    "    for idx, _ in enumerate(new_id):\n",
    "        if _ == '.':\n",
    "            cnt += 1\n",
    "            if cnt < 2:\n",
    "                new_lst.append(_)\n",
    "        else:\n",
    "            cnt = 0\n",
    "            new_lst.append(_)\n",
    "\n",
    "    new_id = ''.join(new_lst)\n",
    "\n",
    "    \n",
    "    # 4\n",
    "    if new_id and new_id[0] == '.':\n",
    "        new_id = new_id[1:]\n",
    "    \n",
    "    if new_id and new_id[-1] == '.':\n",
    "        new_id = new_id[:-1]\n",
    "        \n",
    "    # 5\n",
    "    if len(new_id) == 0:\n",
    "        new_id = 'a'\n",
    "        \n",
    "    # 6\n",
    "    if len(new_id) > 15:\n",
    "        new_id = new_id[:15]\n",
    "        if new_id[-1] == '.':\n",
    "            new_id = new_id[:-1]\n",
    "    \n",
    "    # 7\n",
    "    if len(new_id) == 1:\n",
    "        new_id = new_id * 3\n",
    "    elif len(new_id) == 2:\n",
    "        new_id = new_id + new_id[-1]\n",
    "        \n",
    "    return new_id"
   ]
  },
  {
   "cell_type": "code",
   "execution_count": 346,
   "metadata": {},
   "outputs": [
    {
     "data": {
      "text/plain": [
       "'fff'"
      ]
     },
     "execution_count": 346,
     "metadata": {},
     "output_type": "execute_result"
    }
   ],
   "source": [
    "solution(\"f.\")"
   ]
  },
  {
   "cell_type": "code",
   "execution_count": 347,
   "metadata": {},
   "outputs": [
    {
     "data": {
      "text/plain": [
       "'bat.y.abcdefghi'"
      ]
     },
     "execution_count": 347,
     "metadata": {},
     "output_type": "execute_result"
    }
   ],
   "source": [
    "solution(\"...!@BaT#*..y.abcdefghijklm\")"
   ]
  },
  {
   "cell_type": "code",
   "execution_count": null,
   "metadata": {},
   "outputs": [],
   "source": []
  },
  {
   "cell_type": "code",
   "execution_count": null,
   "metadata": {},
   "outputs": [],
   "source": []
  },
  {
   "cell_type": "code",
   "execution_count": null,
   "metadata": {},
   "outputs": [],
   "source": []
  },
  {
   "cell_type": "code",
   "execution_count": 275,
   "metadata": {},
   "outputs": [],
   "source": [
    "from itertools import combinations\n",
    "\n",
    "def solution(orders, course):\n",
    "    for _ in range(len(orders)):\n",
    "        orders[_] = set(orders[_])\n",
    "    \n",
    "    result = dict()\n",
    "    \n",
    "    set_lst = set()\n",
    "    \n",
    "    \n",
    "    for idx, _ in enumerate(orders):\n",
    "        for c in course:\n",
    "            for i in combinations(_, c):\n",
    "                set_lst.add(''.join(sorted(list(i))))\n",
    "    \n",
    "    result = {_ : 0 for _ in set_lst}\n",
    "\n",
    "    for _ in set_lst:\n",
    "        _ = set(_)\n",
    "        for i in orders:\n",
    "            if _ & i == _:\n",
    "                result[''.join(sorted(list(_)))] += 1\n",
    "\n",
    "    result_lst = []\n",
    "    \n",
    "    \n",
    "    for _ in course:\n",
    "        _max = 2\n",
    "        tmp_lst = []\n",
    "        for k in result:\n",
    "            if len(k) == _:\n",
    "                if result[k] > _max:\n",
    "                    tmp_lst = [k]\n",
    "                    _max = result[k]\n",
    "                elif result[k] == _max:\n",
    "                    tmp_lst.append(k)\n",
    "        \n",
    "        result_lst.extend(tmp_lst)\n",
    "\n",
    "    \n",
    "    result_lst.sort()\n",
    "    \n",
    "    return result_lst"
   ]
  },
  {
   "cell_type": "code",
   "execution_count": 276,
   "metadata": {},
   "outputs": [
    {
     "data": {
      "text/plain": [
       "['AC', 'ACDE', 'BCFG', 'CDE']"
      ]
     },
     "execution_count": 276,
     "metadata": {},
     "output_type": "execute_result"
    }
   ],
   "source": [
    "solution([\"ABCFG\", \"AC\", \"CDE\", \"ACDE\", \"BCFG\", \"ACDEH\"],[2,3,4])"
   ]
  },
  {
   "cell_type": "code",
   "execution_count": 277,
   "metadata": {},
   "outputs": [
    {
     "data": {
      "text/plain": [
       "['WX', 'XY']"
      ]
     },
     "execution_count": 277,
     "metadata": {},
     "output_type": "execute_result"
    }
   ],
   "source": [
    "solution([\"XYZ\", \"XWY\", \"WXA\"],[2,3,4])"
   ]
  },
  {
   "cell_type": "code",
   "execution_count": 278,
   "metadata": {},
   "outputs": [
    {
     "data": {
      "text/plain": [
       "['ACD', 'AD', 'ADE', 'CD', 'XYZ']"
      ]
     },
     "execution_count": 278,
     "metadata": {},
     "output_type": "execute_result"
    }
   ],
   "source": [
    "solution([\"ABCDE\", \"AB\", \"CD\", \"ADE\", \"XYZ\", \"XYZ\", \"ACD\"],[2,3,5])"
   ]
  },
  {
   "cell_type": "code",
   "execution_count": null,
   "metadata": {},
   "outputs": [],
   "source": []
  },
  {
   "cell_type": "code",
   "execution_count": null,
   "metadata": {},
   "outputs": [],
   "source": []
  },
  {
   "cell_type": "code",
   "execution_count": 1,
   "metadata": {},
   "outputs": [],
   "source": [
    "def solution(info, query):\n",
    "    info_n = len(info)\n",
    "    \n",
    "    check_lst = ['cpp', 'java','python','frontend', 'backend','senior','junior','chicken', 'pizza']\n",
    "    _dict = {_ : set() for _ in check_lst}\n",
    "    score = [[] for _ in range(info_n)]\n",
    "    for _ in range(info_n):\n",
    "        lst = info[_].split()\n",
    "        for i in lst[:-1]:\n",
    "            _dict[i].add(_)\n",
    "        score[_] = [int(lst[-1]), _]\n",
    "    \n",
    "#     score.sort(key = lambda x : x[0], reverse = True)\n",
    "    print(score)\n",
    "    query_n = len(query)\n",
    "    \n",
    "    result = []\n",
    "    \n",
    "    for _ in range(query_n):\n",
    "        set_lst = []\n",
    "        lst = query[_].split()\n",
    "        tmp_score = lst[-1]\n",
    "        \n",
    "        cnt = 0\n",
    "        for i in [0,2,4,6]:\n",
    "            if lst[i] == '-':\n",
    "                cnt += 1\n",
    "            else:\n",
    "                set_lst.append(_dict[lst[i]])\n",
    "                \n",
    "        if tmp_score == '-':\n",
    "            cnt += 1\n",
    "            if cnt == 5:\n",
    "                result.append(info_n)\n",
    "            else:\n",
    "                _set = set(set_lst[0])\n",
    "\n",
    "                for _ in set_lst[1:]:\n",
    "                    _set = _set & set(_)\n",
    "                result.append(len(_set))\n",
    "        else:\n",
    "            tmp_score = int(tmp_score)\n",
    "            cnt = 0\n",
    "            if cnt == 4:\n",
    "                for s, idx in score:\n",
    "                    if s >= tmp_score:\n",
    "                        cnt += 1\n",
    "                set_lst.append(cnt)\n",
    "            else:\n",
    "                if set_lst:\n",
    "                    _set = set(set_lst[0])\n",
    "\n",
    "                    for _ in set_lst[1:]:\n",
    "                        _set = _set & set(_)\n",
    "                        \n",
    "                    for _ in _set:\n",
    "                        if score[_][0] >= tmp_score:\n",
    "                            cnt += 1\n",
    "                    set_lst.append(cnt)\n",
    "                else:\n",
    "                    result.append(info_n)\n",
    "    \n",
    "    return result"
   ]
  },
  {
   "cell_type": "code",
   "execution_count": 2,
   "metadata": {},
   "outputs": [
    {
     "name": "stdout",
     "output_type": "stream",
     "text": [
      "[[150, 0], [210, 1], [150, 2], [260, 3], [80, 4], [50, 5]]\n"
     ]
    },
    {
     "data": {
      "text/plain": [
       "[6]"
      ]
     },
     "execution_count": 2,
     "metadata": {},
     "output_type": "execute_result"
    }
   ],
   "source": [
    "solution([\"java backend junior pizza 150\",\"python frontend senior chicken 210\",\"python frontend senior chicken 150\",\"cpp backend senior pizza 260\",\"java backend junior chicken 80\",\"python backend senior chicken 50\"],[\"java and backend and junior and pizza 100\",\"python and frontend and senior and chicken 200\",\"cpp and - and senior and pizza 250\",\"- and backend and senior and - 150\",\"- and - and - and chicken 100\",\"- and - and - and - 150\"])"
   ]
  },
  {
   "cell_type": "code",
   "execution_count": null,
   "metadata": {},
   "outputs": [],
   "source": []
  },
  {
   "cell_type": "code",
   "execution_count": null,
   "metadata": {},
   "outputs": [],
   "source": []
  },
  {
   "cell_type": "code",
   "execution_count": 3,
   "metadata": {},
   "outputs": [],
   "source": [
    "def solution(info, query):\n",
    "    info_n = len(info)\n",
    "    \n",
    "    check_lst = ['cpp', 'java','python','frontend', 'backend','senior','junior','chicken', 'pizza']\n",
    "    _dict = {_ : set() for _ in check_lst}\n",
    "    score = [[] for _ in range(info_n)]\n",
    "    for _ in range(info_n):\n",
    "        lst = info[_].split()\n",
    "        for i in lst[:-1]:\n",
    "            _dict[i].add(_)\n",
    "        score[_] = [int(lst[-1]), _]\n",
    "    \n",
    "    score.sort(key = lambda x : x[0], reverse = True)\n",
    "    \n",
    "    query_n = len(query)\n",
    "    \n",
    "    result = []\n",
    "    \n",
    "    for _ in range(query_n):\n",
    "        set_lst = set()\n",
    "        lst = query[_].split()\n",
    "        tmp_score = lst[-1]\n",
    "        \n",
    "        cnt = 0\n",
    "        for i in [0,2,4,6]:\n",
    "            if lst[i] == '-':\n",
    "                cnt += 1\n",
    "            else:\n",
    "                if set_lst:\n",
    "                    set_lst = set_lst & _dict[lst[i]]\n",
    "                else:\n",
    "                    set_lst.update(_dict[lst[i]])\n",
    "                    \n",
    "        if tmp_score == '-':\n",
    "            cnt += 1\n",
    "        else:\n",
    "            tmp_score = int(tmp_score)\n",
    "            tmp_result = []\n",
    "            for s, idx in score:\n",
    "                if s >= tmp_score:\n",
    "                    tmp_result.append(idx)\n",
    "                else:\n",
    "                    break\n",
    "                    \n",
    "            if set_lst:\n",
    "                set_lst = set_lst & set(tmp_result)\n",
    "            else:\n",
    "                set_lst.update(set(tmp_result))\n",
    "            \n",
    "        if cnt == 5:\n",
    "            result.append(info_n)\n",
    "        else:\n",
    "            result.append(len(set_lst))\n",
    "    \n",
    "    return result"
   ]
  },
  {
   "cell_type": "code",
   "execution_count": 4,
   "metadata": {},
   "outputs": [
    {
     "data": {
      "text/plain": [
       "[1, 1, 1, 1, 2, 4]"
      ]
     },
     "execution_count": 4,
     "metadata": {},
     "output_type": "execute_result"
    }
   ],
   "source": [
    "solution([\"java backend junior pizza 150\",\"python frontend senior chicken 210\",\"python frontend senior chicken 150\",\"cpp backend senior pizza 260\",\"java backend junior chicken 80\",\"python backend senior chicken 50\"],[\"java and backend and junior and pizza 100\",\"python and frontend and senior and chicken 200\",\"cpp and - and senior and pizza 250\",\"- and backend and senior and - 150\",\"- and - and - and chicken 100\",\"- and - and - and - 150\"])"
   ]
  },
  {
   "cell_type": "code",
   "execution_count": null,
   "metadata": {},
   "outputs": [],
   "source": []
  },
  {
   "cell_type": "code",
   "execution_count": null,
   "metadata": {},
   "outputs": [],
   "source": []
  },
  {
   "cell_type": "code",
   "execution_count": null,
   "metadata": {},
   "outputs": [],
   "source": []
  },
  {
   "cell_type": "code",
   "execution_count": null,
   "metadata": {},
   "outputs": [],
   "source": []
  },
  {
   "cell_type": "code",
   "execution_count": 457,
   "metadata": {},
   "outputs": [],
   "source": [
    "def change_str_to_int(_str):\n",
    "    lst = list(map(int,_str.split(':')))\n",
    "    return lst[0]*60*60 + lst[1]*60 + lst[2]\n",
    "\n",
    "def change_int_to_str(n):\n",
    "    h = str(n // 3600)\n",
    "    if len(h) == 1: h = '0' + h\n",
    "    m = str(n % 3600 // 60)\n",
    "    if len(m) == 1: m = '0' + m\n",
    "    s = str(n % 60)\n",
    "    if len(s) == 1: s = '0' + s\n",
    "    return h + ':' + m + ':' + s\n",
    "    \n",
    "\n",
    "def solution(play_time, adv_time, logs):\n",
    "    start = 0\n",
    "    end = change_str_to_int(play_time)\n",
    "\n",
    "    adv_time = change_str_to_int(adv_time)\n",
    "    \n",
    "    print(start, end, adv_time)\n",
    "    \n",
    "    logs_lst = []\n",
    "    \n",
    "    for _ in logs:\n",
    "        s, e = _.split('-')\n",
    "        s = change_str_to_int(s)\n",
    "        e = change_str_to_int(e)\n",
    "        logs_lst.append([s,e])\n",
    "#     print(logs_lst)\n",
    "    \n",
    "    if end == adv_time:\n",
    "        return \"00:00:00\"\n",
    "    \n",
    "    logs_lst.sort(key = lambda x : x[0])\n",
    "    \n",
    "    stack = []\n",
    "    _max = 0\n",
    "    max_time = 0\n",
    "    end_time = adv_time\n",
    "    start_time = 0\n",
    "    \n",
    "    for idx, lst in enumerate(logs_lst):\n",
    "        tmp_cnt = 0\n",
    "        for s, e in logs_lst[idx+1:]:\n",
    "#             print(idx, lst, s, e)\n",
    "            if lst[0] + adv_time > s:\n",
    "                 tmp_cnt += lst[0] + adv_time - s\n",
    "            else:\n",
    "                break\n",
    "                \n",
    "#         print(_max, tmp_cnt)\n",
    "        if _max < tmp_cnt:\n",
    "            _max = tmp_cnt\n",
    "#             print(max_time, lst[0], tmp_cnt)\n",
    "            max_time = lst[0]\n",
    "    \n",
    "    return change_int_to_str(max_time)"
   ]
  },
  {
   "cell_type": "code",
   "execution_count": 458,
   "metadata": {},
   "outputs": [
    {
     "name": "stdout",
     "output_type": "stream",
     "text": [
      "0 359999 90000\n"
     ]
    },
    {
     "data": {
      "text/plain": [
       "'01:00:00'"
      ]
     },
     "execution_count": 458,
     "metadata": {},
     "output_type": "execute_result"
    }
   ],
   "source": [
    "solution(\"99:59:59\",\"25:00:00\",[\"69:59:59-89:59:59\", \"01:00:00-21:00:00\", \"79:59:59-99:59:59\", \"11:00:00-31:00:00\"])"
   ]
  },
  {
   "cell_type": "code",
   "execution_count": 459,
   "metadata": {},
   "outputs": [
    {
     "name": "stdout",
     "output_type": "stream",
     "text": [
      "0 7435 855\n"
     ]
    },
    {
     "data": {
      "text/plain": [
       "'01:30:59'"
      ]
     },
     "execution_count": 459,
     "metadata": {},
     "output_type": "execute_result"
    }
   ],
   "source": [
    "solution(\"02:03:55\",\"00:14:15\",[\"01:20:15-01:45:14\", \"00:40:31-01:00:00\", \"00:25:50-00:48:29\", \"01:30:59-01:53:29\", \"01:37:44-02:02:30\"])"
   ]
  },
  {
   "cell_type": "code",
   "execution_count": 462,
   "metadata": {},
   "outputs": [
    {
     "data": {
      "text/plain": [
       "524288"
      ]
     },
     "execution_count": 462,
     "metadata": {},
     "output_type": "execute_result"
    }
   ],
   "source": [
    "2 ** 19"
   ]
  },
  {
   "cell_type": "code",
   "execution_count": null,
   "metadata": {},
   "outputs": [],
   "source": []
  },
  {
   "cell_type": "code",
   "execution_count": null,
   "metadata": {},
   "outputs": [],
   "source": []
  },
  {
   "cell_type": "code",
   "execution_count": null,
   "metadata": {},
   "outputs": [],
   "source": []
  },
  {
   "cell_type": "code",
   "execution_count": 1,
   "metadata": {},
   "outputs": [],
   "source": [
    "import heapq\n",
    "\n",
    "def dijkstra(graph, start, end):\n",
    "    dis_lst = {_: [float('inf'), start] for _ in graph}\n",
    "    dis_lst[start] = [0, start]\n",
    "    heap = []\n",
    "\n",
    "    heapq.heappush(heap, [dis_lst[start][0], start])\n",
    "\n",
    "    while heap:\n",
    "        tmp_dis, tmp_node = heapq.heappop(heap)\n",
    "        if dis_lst[tmp_node][0] < tmp_dis:\n",
    "            continue\n",
    "        for node, w in graph[tmp_node].items():\n",
    "            dis = tmp_dis + w\n",
    "            if dis <= dis_lst[node][0]:\n",
    "                dis_lst[node] = [dis, tmp_node]\n",
    "                heapq.heappush(heap, [dis, node])\n",
    "    \n",
    "    return dis_lst[end][0]\n",
    "\n",
    "def solution(n, s, a, b, fares):\n",
    "    _set = set()\n",
    "    _dict = {}\n",
    "    \n",
    "    for start,end,f in fares:\n",
    "        _set.update([start,end])\n",
    "        if start not in _dict:\n",
    "            _dict[start] = {}\n",
    "            _dict[start][end] = f\n",
    "        else:\n",
    "            _dict[start][end] = f\n",
    "            \n",
    "        if end not in _dict:\n",
    "            _dict[end] = {}\n",
    "            _dict[end][start] = f\n",
    "        else:\n",
    "            _dict[end][start] = f\n",
    "            \n",
    "    _min = float('inf')\n",
    "    \n",
    "    print(_set)\n",
    "    \n",
    "    for _ in _set:\n",
    "        together = dijkstra(_dict, _, s)\n",
    "        if _min < together:\n",
    "            continue  \n",
    "        else:\n",
    "            to_a = dijkstra(_dict, a, _)\n",
    "            if _min < together + to_a:\n",
    "                continue\n",
    "            else:\n",
    "                to_b = dijkstra(_dict, b, _)\n",
    "                if _min > together + to_a + to_b:\n",
    "                    _min = together + to_a + to_b\n",
    "\n",
    "    return _min"
   ]
  },
  {
   "cell_type": "code",
   "execution_count": 2,
   "metadata": {},
   "outputs": [
    {
     "name": "stdout",
     "output_type": "stream",
     "text": [
      "{2, 3, 4, 5, 6}\n"
     ]
    },
    {
     "data": {
      "text/plain": [
       "14"
      ]
     },
     "execution_count": 2,
     "metadata": {},
     "output_type": "execute_result"
    }
   ],
   "source": [
    "solution(6,3,4,6,[[2,6,6], [6,3,7], [4,6,7], [6,5,11], [2,5,12], [5,3,20], [2,4,8], [4,3,9]])"
   ]
  },
  {
   "cell_type": "code",
   "execution_count": 3,
   "metadata": {},
   "outputs": [
    {
     "name": "stdout",
     "output_type": "stream",
     "text": [
      "{2, 3, 4, 5, 6}\n"
     ]
    },
    {
     "data": {
      "text/plain": [
       "0"
      ]
     },
     "execution_count": 3,
     "metadata": {},
     "output_type": "execute_result"
    }
   ],
   "source": [
    "solution(6,6,6,6,[[2,6,6], [6,3,7], [4,6,7], [6,5,11], [2,5,12], [5,3,20], [2,4,8], [4,3,9]])"
   ]
  },
  {
   "cell_type": "code",
   "execution_count": 575,
   "metadata": {},
   "outputs": [
    {
     "data": {
      "text/plain": [
       "True"
      ]
     },
     "execution_count": 575,
     "metadata": {},
     "output_type": "execute_result"
    }
   ],
   "source": [
    "float('inf') > 1"
   ]
  },
  {
   "cell_type": "code",
   "execution_count": null,
   "metadata": {},
   "outputs": [],
   "source": []
  },
  {
   "cell_type": "code",
   "execution_count": 471,
   "metadata": {},
   "outputs": [],
   "source": [
    "def solution(sales, links):\n",
    "    \n",
    "    _dict = {}\n",
    "    \n",
    "    for s,e in links:\n",
    "        if s not in _dict:\n",
    "            _dict[s] = [e]\n",
    "        else:\n",
    "            _dict[s].append(e)\n",
    "            \n",
    "    print(_dict)\n",
    "    \n",
    "    print(min(sales))\n",
    "    \n",
    "    \n",
    "    \n",
    "    answer = 0\n",
    "    return answer"
   ]
  },
  {
   "cell_type": "code",
   "execution_count": 472,
   "metadata": {},
   "outputs": [
    {
     "name": "stdout",
     "output_type": "stream",
     "text": [
      "{10: [8, 6, 2], 1: [9, 5, 3], 9: [7], 5: [4, 10]}\n",
      "13\n"
     ]
    },
    {
     "data": {
      "text/plain": [
       "0"
      ]
     },
     "execution_count": 472,
     "metadata": {},
     "output_type": "execute_result"
    }
   ],
   "source": [
    "solution([14, 17, 15, 18, 19, 14, 13, 16, 28, 17],[[10, 8], [1, 9], [9, 7], [5, 4], [1, 5], [5, 10], [10, 6], [1, 3], [10, 2]])"
   ]
  },
  {
   "cell_type": "code",
   "execution_count": null,
   "metadata": {},
   "outputs": [],
   "source": []
  }
 ],
 "metadata": {
  "kernelspec": {
   "display_name": "Python 3",
   "language": "python",
   "name": "python3"
  },
  "language_info": {
   "codemirror_mode": {
    "name": "ipython",
    "version": 3
   },
   "file_extension": ".py",
   "mimetype": "text/x-python",
   "name": "python",
   "nbconvert_exporter": "python",
   "pygments_lexer": "ipython3",
   "version": "3.8.3"
  }
 },
 "nbformat": 4,
 "nbformat_minor": 4
}
