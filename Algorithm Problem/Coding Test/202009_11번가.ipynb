{
 "cells": [
  {
   "cell_type": "code",
   "execution_count": 14,
   "metadata": {},
   "outputs": [],
   "source": [
    "# you can write to stdout for debugging purposes, e.g.\n",
    "# print(\"this is a debug message\")\n",
    "\n",
    "def solution(S):\n",
    "    a_cnt = 0\n",
    "    result = len(S)\n",
    "    \n",
    "    if 'aaa' in S: return -1\n",
    "    \n",
    "    for _ in S:\n",
    "        if _ == 'a':\n",
    "            a_cnt += 1\n",
    "            \n",
    "    return (result - a_cnt + 1) * 2 - a_cnt"
   ]
  },
  {
   "cell_type": "code",
   "execution_count": 18,
   "metadata": {},
   "outputs": [
    {
     "data": {
      "text/plain": [
       "-1"
      ]
     },
     "execution_count": 18,
     "metadata": {},
     "output_type": "execute_result"
    }
   ],
   "source": [
    "solution('baaa')"
   ]
  },
  {
   "cell_type": "code",
   "execution_count": 68,
   "metadata": {},
   "outputs": [],
   "source": [
    "# you can write to stdout for debugging purposes, e.g.\n",
    "# print(\"this is a debug message\")\n",
    "\n",
    "def solution(S):\n",
    "    _len = len(S[0])\n",
    "    len_S = len(S)\n",
    "    char_lst = 'abcdefghijklnmopqrstuvwxyz'\n",
    "    \n",
    "    char_dict = {char : [] for char in char_lst}\n",
    "    \n",
    "    _dict = {_ : {char : [] for char in char_lst} for _ in range(_len)}\n",
    "    \n",
    "    for _ in range(len_S):\n",
    "        for idx, char in enumerate(S[_]):\n",
    "            _dict[idx][char].append(_)\n",
    "    \n",
    "    result = []\n",
    "    \n",
    "    for idx in _dict:\n",
    "        for char in _dict[idx]:\n",
    "            if len(_dict[idx][char]) > 1:\n",
    "                return _dict[idx][char][:2] + [idx]\n",
    "#                 result.append(_dict[idx][char][:2] + [idx])\n",
    "            \n",
    "    return result"
   ]
  },
  {
   "cell_type": "code",
   "execution_count": 69,
   "metadata": {},
   "outputs": [
    {
     "data": {
      "text/plain": [
       "[0, 1, 4]"
      ]
     },
     "execution_count": 69,
     "metadata": {},
     "output_type": "execute_result"
    }
   ],
   "source": [
    "solution(['aaaab','ccccb','dddda'])"
   ]
  },
  {
   "cell_type": "code",
   "execution_count": 70,
   "metadata": {},
   "outputs": [
    {
     "data": {
      "text/plain": [
       "[0, 2, 1]"
      ]
     },
     "execution_count": 70,
     "metadata": {},
     "output_type": "execute_result"
    }
   ],
   "source": [
    "solution(['abc','bca','dbe'])"
   ]
  },
  {
   "cell_type": "code",
   "execution_count": null,
   "metadata": {},
   "outputs": [],
   "source": []
  },
  {
   "cell_type": "code",
   "execution_count": 89,
   "metadata": {},
   "outputs": [],
   "source": [
    "# you can write to stdout for debugging purposes, e.g.\n",
    "# print(\"this is a debug message\")\n",
    "\n",
    "def solution(A):\n",
    "    n = len(A)\n",
    "    A.sort()\n",
    "    cnt = 0\n",
    "    for _ in range(n):\n",
    "        cnt += abs(A[_] - (_+1))\n",
    "    return cnt"
   ]
  },
  {
   "cell_type": "code",
   "execution_count": 90,
   "metadata": {},
   "outputs": [
    {
     "name": "stdout",
     "output_type": "stream",
     "text": [
      "0 1 1\n",
      "0 1 2\n",
      "1 2 3\n"
     ]
    },
    {
     "data": {
      "text/plain": [
       "2"
      ]
     },
     "execution_count": 90,
     "metadata": {},
     "output_type": "execute_result"
    }
   ],
   "source": [
    "solution([1, 2, 1])"
   ]
  }
 ],
 "metadata": {
  "kernelspec": {
   "display_name": "Python 3",
   "language": "python",
   "name": "python3"
  },
  "language_info": {
   "codemirror_mode": {
    "name": "ipython",
    "version": 3
   },
   "file_extension": ".py",
   "mimetype": "text/x-python",
   "name": "python",
   "nbconvert_exporter": "python",
   "pygments_lexer": "ipython3",
   "version": "3.8.3"
  }
 },
 "nbformat": 4,
 "nbformat_minor": 4
}
