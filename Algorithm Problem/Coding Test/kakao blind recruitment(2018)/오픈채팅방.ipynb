{
 "cells": [
  {
   "cell_type": "code",
   "execution_count": 1,
   "metadata": {},
   "outputs": [],
   "source": [
    "def solution(record):\n",
    "    answer = []\n",
    "    id_name = {}\n",
    "    in_or_out = []\n",
    "    for i in record:\n",
    "        new_list = i.split()\n",
    "        if len(new_list) == 3:\n",
    "            id_name[new_list[1]] = new_list[2]\n",
    "    \n",
    "    for i in record:\n",
    "        new_list = i.split()\n",
    "        if new_list[0] == 'Enter':\n",
    "            answer.append(id_name[new_list[1]] + \"님이 들어왔습니다.\")\n",
    "        elif new_list[0] == 'Leave':\n",
    "            answer.append(id_name[new_list[1]] + \"님이 나갔습니다.\")\n",
    "    \n",
    "    return answer"
   ]
  },
  {
   "cell_type": "code",
   "execution_count": 2,
   "metadata": {},
   "outputs": [
    {
     "data": {
      "text/plain": [
       "['Prodo님이 들어왔습니다.', 'Ryan님이 들어왔습니다.', 'Prodo님이 나갔습니다.', 'Prodo님이 들어왔습니다.']"
      ]
     },
     "execution_count": 2,
     "metadata": {},
     "output_type": "execute_result"
    }
   ],
   "source": [
    "solution([\"Enter uid1234 Muzi\", \"Enter uid4567 Prodo\", \"Leave uid1234\", \"Enter uid1234 Prodo\", \"Change uid4567 Ryan\"])"
   ]
  }
 ],
 "metadata": {
  "kernelspec": {
   "display_name": "Python 3",
   "language": "python",
   "name": "python3"
  },
  "language_info": {
   "codemirror_mode": {
    "name": "ipython",
    "version": 3
   },
   "file_extension": ".py",
   "mimetype": "text/x-python",
   "name": "python",
   "nbconvert_exporter": "python",
   "pygments_lexer": "ipython3",
   "version": "3.7.3"
  }
 },
 "nbformat": 4,
 "nbformat_minor": 2
}
