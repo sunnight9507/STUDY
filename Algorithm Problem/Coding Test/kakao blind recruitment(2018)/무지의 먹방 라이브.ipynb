{
 "cells": [
  {
   "cell_type": "code",
   "execution_count": 102,
   "metadata": {},
   "outputs": [],
   "source": [
    "# 42.9\n",
    "def solution(food_times, k):\n",
    "    new_food = []\n",
    "    \n",
    "    N = len(food_times)\n",
    "    \n",
    "    if sum(food_times) <= k:\n",
    "        return -1\n",
    "    \n",
    "    \n",
    "    for i in range(0,len(food_times)):\n",
    "        new_food.append([food_times[i],(i-1)%N, (i+1)%N])\n",
    "    \n",
    "    index = 0\n",
    "    for i in range(0,k):\n",
    "        new_food[index][0] -= 1\n",
    "        \n",
    "        if(sum(food_times) == 0):\n",
    "            return -1\n",
    "        \n",
    "        if new_food[index][0] == 0:\n",
    "            new_food[new_food[index][1]][2] = new_food[index][2]\n",
    "            new_food[new_food[index][2]][1] = new_food[index][1]\n",
    "        \n",
    "        index = new_food[index][2]\n",
    "    \n",
    "    return (index)%N + 1"
   ]
  },
  {
   "cell_type": "code",
   "execution_count": 105,
   "metadata": {},
   "outputs": [
    {
     "data": {
      "text/plain": [
       "4"
      ]
     },
     "execution_count": 105,
     "metadata": {},
     "output_type": "execute_result"
    }
   ],
   "source": [
    "solution([3, 1, 1,2], 5)"
   ]
  },
  {
   "cell_type": "code",
   "execution_count": 87,
   "metadata": {},
   "outputs": [],
   "source": [
    "# 24.1\n",
    "def solution1(food_times, k):\n",
    "    \n",
    "    index = 0\n",
    "    \n",
    "    if(sum(food_times) <= k):\n",
    "        return -1\n",
    "    \n",
    "    N = len(food_times)\n",
    "    \n",
    "    for i in range(0,k):\n",
    "        while(food_times[(i+index)%N] == 0):\n",
    "            if(sum(food_times) == 0):\n",
    "                return -1\n",
    "            index += 1\n",
    "        food_times[(i+index)%N] -= 1\n",
    "        print(k)\n",
    "        print((i+index)%N)\n",
    "        print()\n",
    "    \n",
    "    return (index+i+1+1)%N"
   ]
  }
 ],
 "metadata": {
  "kernelspec": {
   "display_name": "Python 3",
   "language": "python",
   "name": "python3"
  },
  "language_info": {
   "codemirror_mode": {
    "name": "ipython",
    "version": 3
   },
   "file_extension": ".py",
   "mimetype": "text/x-python",
   "name": "python",
   "nbconvert_exporter": "python",
   "pygments_lexer": "ipython3",
   "version": "3.7.3"
  }
 },
 "nbformat": 4,
 "nbformat_minor": 2
}
