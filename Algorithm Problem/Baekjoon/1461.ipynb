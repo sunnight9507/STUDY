{
 "cells": [
  {
   "cell_type": "markdown",
   "metadata": {},
   "source": [
    "### [도서관](https://www.acmicpc.net/problem/1461)"
   ]
  },
  {
   "cell_type": "code",
   "execution_count": 48,
   "metadata": {},
   "outputs": [
    {
     "name": "stdout",
     "output_type": "stream",
     "text": [
      "3 4\n",
      "1 2 3\n"
     ]
    },
    {
     "data": {
      "text/plain": [
       "[1, 2, 3]"
      ]
     },
     "execution_count": 48,
     "metadata": {},
     "output_type": "execute_result"
    }
   ],
   "source": [
    "N, M = map(int, input().split())\n",
    "lst = list(map(int, input().split()))\n",
    "lst.sort()\n",
    "lst"
   ]
  },
  {
   "cell_type": "code",
   "execution_count": 49,
   "metadata": {},
   "outputs": [
    {
     "data": {
      "text/plain": [
       "3"
      ]
     },
     "execution_count": 49,
     "metadata": {},
     "output_type": "execute_result"
    }
   ],
   "source": [
    "for i in range(N):\n",
    "    if lst[i] > 0: break\n",
    "plus_lst = lst[i:]\n",
    "minus_lst = [-i for i in lst[:i][::-1]]\n",
    "\n",
    "if plus_lst:\n",
    "    result_plus_lst = plus_lst.copy()\n",
    "\n",
    "    for _ in range(M,len(plus_lst)):\n",
    "        result_plus_lst[_] = result_plus_lst[_-M] + plus_lst[_-M] + result_plus_lst[_]\n",
    "    result_plus = result_plus_lst[-1]\n",
    "    plus = plus_lst[-1]\n",
    "else:\n",
    "    result_plus, plus = 0, 0\n",
    "\n",
    "\n",
    "if minus_lst:    \n",
    "    result_minus_lst = minus_lst.copy()\n",
    "\n",
    "    for _ in range(M,len(minus_lst)):\n",
    "        result_minus_lst[_] = result_minus_lst[_-M] + minus_lst[_-M] + result_minus_lst[_]\n",
    "    result_minus = result_minus_lst[-1]\n",
    "    minus = minus_lst[-1]\n",
    "else:\n",
    "    result_minus, minus = 0, 0\n",
    "    \n",
    "result_minus + result_plus + min(minus, plus)"
   ]
  },
  {
   "cell_type": "code",
   "execution_count": null,
   "metadata": {},
   "outputs": [],
   "source": [
    "import heapq\n",
    "\n",
    "n, m = map(int, input().split())\n",
    "array = list(map(int, input().split()))\n",
    "positive = []\n",
    "negative = []\n",
    "\n",
    "# 가장 거리가 먼 책까지의 거리\n",
    "largest = max(max(array), - min(array))\n",
    "\n",
    "# 최대 힙(Max Heap)을 위해 원소를 음수로 구성\n",
    "for i in array:\n",
    "    # 책의 위치가 양수인 경우\n",
    "    if i > 0:\n",
    "        heapq.heappush(positive, -i)\n",
    "    # 책의 위치가 음수인 경우\n",
    "    else:\n",
    "        heapq.heappush(negative, i)\n",
    "\n",
    "result = 0\n",
    "\n",
    "while positive:\n",
    "    # 한 번에 m개씩 옮길 수 있으므로 m개씩 빼내기\n",
    "    result += heapq.heappop(positive)\n",
    "    for _ in range(m - 1):\n",
    "        if positive:\n",
    "            heapq.heappop(positive)\n",
    "\n",
    "while negative:\n",
    "    # 한 번에 m개씩 옮길 수 있으므로 m개씩 빼내기\n",
    "    result += heapq.heappop(negative)\n",
    "    for _ in range(m - 1):\n",
    "        if negative:\n",
    "            heapq.heappop(negative)\n",
    "\n",
    "# 일반적으로 왕복 거리를 계산하지만, 가장 먼 곳은 편도 거리 계산\n",
    "print(-result * 2 - largest)"
   ]
  }
 ],
 "metadata": {
  "kernelspec": {
   "display_name": "Python 3",
   "language": "python",
   "name": "python3"
  },
  "language_info": {
   "codemirror_mode": {
    "name": "ipython",
    "version": 3
   },
   "file_extension": ".py",
   "mimetype": "text/x-python",
   "name": "python",
   "nbconvert_exporter": "python",
   "pygments_lexer": "ipython3",
   "version": "3.8.3"
  }
 },
 "nbformat": 4,
 "nbformat_minor": 4
}
