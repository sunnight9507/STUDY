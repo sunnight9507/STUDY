{
 "cells": [
  {
   "cell_type": "markdown",
   "metadata": {},
   "source": [
    "### [트리의 높이와 너비](https://www.acmicpc.net/problem/2250)"
   ]
  },
  {
   "cell_type": "code",
   "execution_count": 73,
   "metadata": {
    "scrolled": true
   },
   "outputs": [
    {
     "name": "stdout",
     "output_type": "stream",
     "text": [
      "3\n",
      "1 3 2\n",
      "3 -1 -1\n",
      "2 -1 -1\n"
     ]
    }
   ],
   "source": [
    "N = int(input())\n",
    "MAX = 10001\n",
    "\n",
    "_dict = {_ : [0,0] for _ in range(1,MAX)}\n",
    "parent = [-1 for _ in range(MAX)]\n",
    "\n",
    "for _ in range(N):\n",
    "    s,left, right = map(int,input().split())\n",
    "    _dict[s] = [left,right]\n",
    "    parent[left] = s\n",
    "    parent[right] = s"
   ]
  },
  {
   "cell_type": "code",
   "execution_count": 75,
   "metadata": {},
   "outputs": [
    {
     "name": "stdout",
     "output_type": "stream",
     "text": [
      "2 3\n"
     ]
    }
   ],
   "source": [
    "for idx, value in enumerate(parent):\n",
    "    if idx == 0: continue\n",
    "    if parent[idx] == -1:\n",
    "        root = idx\n",
    "        break\n",
    "# print(root)\n",
    "level = [0 for _ in range(N+1)]\n",
    "level[root] = 1\n",
    "visited = [False for _ in range(N+1)]\n",
    "result = []\n",
    "\n",
    "def func(num, _dict, visited):\n",
    "    visited[num] = True\n",
    "    \n",
    "    a, b = _dict[num]\n",
    "    if a != -1 and not visited[a]:\n",
    "        level[a] = level[num] + 1\n",
    "        func(a, _dict, visited)\n",
    "            \n",
    "    result.append(num)\n",
    "            \n",
    "    if b != -1 and not visited[b]:\n",
    "        level[b] = level[num] + 1\n",
    "        func(b, _dict, visited)\n",
    "    \n",
    "func(root, _dict, visited)\n",
    "\n",
    "max_result = {_ : [N,0] for _ in range(1, max(level) + 1)}\n",
    "for idx, _ in enumerate(result):\n",
    "    max_result[level[_]][0] = min(max_result[level[_]][0], idx)\n",
    "    max_result[level[_]][1] = max(max_result[level[_]][1], idx)\n",
    "\n",
    "result_num = 0\n",
    "tmp_max = -1\n",
    "for _ in max_result:\n",
    "    s, e = max_result[_]\n",
    "    if tmp_max < e-s:\n",
    "        result_num = _\n",
    "        tmp_max = e-s\n",
    "        \n",
    "print(result_num, tmp_max+1)"
   ]
  }
 ],
 "metadata": {
  "kernelspec": {
   "display_name": "Python 3",
   "language": "python",
   "name": "python3"
  },
  "language_info": {
   "codemirror_mode": {
    "name": "ipython",
    "version": 3
   },
   "file_extension": ".py",
   "mimetype": "text/x-python",
   "name": "python",
   "nbconvert_exporter": "python",
   "pygments_lexer": "ipython3",
   "version": "3.8.3"
  }
 },
 "nbformat": 4,
 "nbformat_minor": 4
}
