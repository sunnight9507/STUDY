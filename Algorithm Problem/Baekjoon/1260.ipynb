{
 "cells": [
  {
   "cell_type": "markdown",
   "metadata": {},
   "source": [
    "### [DFS와 BFS](https://www.acmicpc.net/problem/1260)"
   ]
  },
  {
   "cell_type": "code",
   "execution_count": 19,
   "metadata": {},
   "outputs": [
    {
     "name": "stdout",
     "output_type": "stream",
     "text": [
      "5 5 3\n",
      "5 4\n",
      "5 2\n",
      "1 2\n",
      "3 4\n",
      "3 1\n"
     ]
    }
   ],
   "source": [
    "N, M, V = map(int,input().split())\n",
    "\n",
    "lst = [[] for _ in range(N+1)]\n",
    "\n",
    "for _ in range(M):\n",
    "    a, b = map(int, input().split())\n",
    "    lst[a].append(b)\n",
    "    lst[b].append(a)"
   ]
  },
  {
   "cell_type": "code",
   "execution_count": 27,
   "metadata": {},
   "outputs": [
    {
     "name": "stdout",
     "output_type": "stream",
     "text": [
      "3 1 2 5 4 \n",
      "3 1 4 2 5 \n"
     ]
    }
   ],
   "source": [
    "for _ in range(N+1):\n",
    "    lst[_].sort()\n",
    "\n",
    "visited = [False] * (N+1)\n",
    "result = ''\n",
    "\n",
    "def dfs(tmp,lst):\n",
    "    global result\n",
    "    result += str(tmp) + ' '\n",
    "    visited[tmp] = True\n",
    "    for _ in lst[tmp]:\n",
    "        if not visited[_]:\n",
    "            dfs(_, lst)\n",
    "\n",
    "dfs(V, lst)\n",
    "print(result)\n",
    "\n",
    "visited = [False] * (N+1)\n",
    "queue = [V]\n",
    "visited[V] = True\n",
    "result = ''\n",
    "\n",
    "def bfs(queue, lst):\n",
    "    global result\n",
    "    new_queue = []\n",
    "    while queue:\n",
    "        tmp = queue.pop(0)\n",
    "        result += str(tmp) + ' '\n",
    "        for _ in lst[tmp]:\n",
    "            if not visited[_]:\n",
    "                visited[_] = True\n",
    "                new_queue.append(_)\n",
    "    if new_queue:\n",
    "        bfs(new_queue, lst)\n",
    "            \n",
    "bfs(queue, lst)\n",
    "print(result)"
   ]
  }
 ],
 "metadata": {
  "kernelspec": {
   "display_name": "Python 3",
   "language": "python",
   "name": "python3"
  },
  "language_info": {
   "codemirror_mode": {
    "name": "ipython",
    "version": 3
   },
   "file_extension": ".py",
   "mimetype": "text/x-python",
   "name": "python",
   "nbconvert_exporter": "python",
   "pygments_lexer": "ipython3",
   "version": "3.8.3"
  }
 },
 "nbformat": 4,
 "nbformat_minor": 4
}
