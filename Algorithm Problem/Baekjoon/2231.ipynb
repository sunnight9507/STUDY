{
 "cells": [
  {
   "cell_type": "code",
   "execution_count": 16,
   "metadata": {},
   "outputs": [
    {
     "name": "stdout",
     "output_type": "stream",
     "text": [
      "5\n",
      "0\n"
     ]
    }
   ],
   "source": [
    "def insert_operation(N):   \n",
    "    \n",
    "    if (N-55 < 0):\n",
    "        start = 0\n",
    "    else:\n",
    "        start = N-55\n",
    "    \n",
    "    M = []\n",
    "        \n",
    "    for i in range(start,N):\n",
    "        temp = i\n",
    "        \n",
    "        jarisu = []\n",
    "\n",
    "        while(temp != 0):\n",
    "            jarisu.append(temp % 10)\n",
    "            temp //= 10\n",
    "\n",
    "        if (N == (i + sum(jarisu))):\n",
    "            M.append(i)\n",
    "            \n",
    "    if len(M) > 0:\n",
    "        print(min(M))\n",
    "    else:\n",
    "        print(0)\n",
    "    \n",
    "N = int(input())\n",
    "\n",
    "insert_operation(N)"
   ]
  }
 ],
 "metadata": {
  "kernelspec": {
   "display_name": "Python 3",
   "language": "python",
   "name": "python3"
  },
  "language_info": {
   "codemirror_mode": {
    "name": "ipython",
    "version": 3
   },
   "file_extension": ".py",
   "mimetype": "text/x-python",
   "name": "python",
   "nbconvert_exporter": "python",
   "pygments_lexer": "ipython3",
   "version": "3.7.3"
  }
 },
 "nbformat": 4,
 "nbformat_minor": 2
}
