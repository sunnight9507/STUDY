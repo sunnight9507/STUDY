{
 "cells": [
  {
   "cell_type": "markdown",
   "metadata": {},
   "source": [
    "### [왕복](https://www.acmicpc.net/problem/18311)"
   ]
  },
  {
   "cell_type": "code",
   "execution_count": 31,
   "metadata": {},
   "outputs": [
    {
     "name": "stdout",
     "output_type": "stream",
     "text": [
      "5 28\n",
      "7 4 2 4 5\n"
     ]
    }
   ],
   "source": [
    "N, K = map(int, input().split())\n",
    "lst = list(map(int, input().split()))"
   ]
  },
  {
   "cell_type": "code",
   "execution_count": 66,
   "metadata": {},
   "outputs": [
    {
     "name": "stdout",
     "output_type": "stream",
     "text": [
      "4\n"
     ]
    }
   ],
   "source": [
    "def func(N,K,lst):\n",
    "    num = 0\n",
    "    for _ in lst:\n",
    "        K -= _\n",
    "        num += 1\n",
    "        if K < 0:\n",
    "            return num\n",
    "        \n",
    "    num = N\n",
    "    for _ in lst[::-1]:\n",
    "        K -= _\n",
    "        if K < 0:\n",
    "            return num\n",
    "        num -= 1\n",
    "        \n",
    "print(func(N,27,lst))"
   ]
  }
 ],
 "metadata": {
  "kernelspec": {
   "display_name": "Python 3",
   "language": "python",
   "name": "python3"
  },
  "language_info": {
   "codemirror_mode": {
    "name": "ipython",
    "version": 3
   },
   "file_extension": ".py",
   "mimetype": "text/x-python",
   "name": "python",
   "nbconvert_exporter": "python",
   "pygments_lexer": "ipython3",
   "version": "3.8.3"
  }
 },
 "nbformat": 4,
 "nbformat_minor": 4
}
