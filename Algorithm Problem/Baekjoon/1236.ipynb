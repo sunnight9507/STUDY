{
 "cells": [
  {
   "cell_type": "markdown",
   "metadata": {},
   "source": [
    "### [성 지키기](https://www.acmicpc.net/problem/1236)"
   ]
  },
  {
   "cell_type": "code",
   "execution_count": 14,
   "metadata": {},
   "outputs": [
    {
     "name": "stdout",
     "output_type": "stream",
     "text": [
      "3 3\n",
      "...\n",
      "...\n",
      "...\n",
      "3\n"
     ]
    }
   ],
   "source": [
    "N, M = map(int, input().split())\n",
    "\n",
    "lst = []\n",
    "for _ in range(N):\n",
    "    lst.append(input())\n",
    "\n",
    "N_set = set()\n",
    "M_set = set()\n",
    "\n",
    "for n in range(N):\n",
    "    for m, v in enumerate(lst[n]):\n",
    "        if v == 'X':\n",
    "            N_set.add(n)\n",
    "            M_set.add(m)\n",
    "            \n",
    "# print(N_set, M_set)\n",
    "print(max(N - len(N_set), M - len(M_set)))"
   ]
  }
 ],
 "metadata": {
  "kernelspec": {
   "display_name": "Python 3",
   "language": "python",
   "name": "python3"
  },
  "language_info": {
   "codemirror_mode": {
    "name": "ipython",
    "version": 3
   },
   "file_extension": ".py",
   "mimetype": "text/x-python",
   "name": "python",
   "nbconvert_exporter": "python",
   "pygments_lexer": "ipython3",
   "version": "3.8.3"
  }
 },
 "nbformat": 4,
 "nbformat_minor": 4
}
