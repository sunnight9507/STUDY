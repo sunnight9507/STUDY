{
 "cells": [
  {
   "cell_type": "markdown",
   "metadata": {},
   "source": [
    "### [트리 순회](https://www.acmicpc.net/problem/1991)"
   ]
  },
  {
   "cell_type": "code",
   "execution_count": 47,
   "metadata": {},
   "outputs": [
    {
     "name": "stdout",
     "output_type": "stream",
     "text": [
      "7\n",
      "A B C\n",
      "B D .\n",
      "C E F\n",
      "E . .\n",
      "F . G\n",
      "D . .\n",
      "G . .\n"
     ]
    }
   ],
   "source": [
    "N = int(input())\n",
    "\n",
    "_dict = {}\n",
    "\n",
    "for _ in range(N):\n",
    "    a, b, c = input().split()\n",
    "    _dict[a] = [b,c]"
   ]
  },
  {
   "cell_type": "code",
   "execution_count": 48,
   "metadata": {},
   "outputs": [
    {
     "name": "stdout",
     "output_type": "stream",
     "text": [
      "ABDCEFG\n",
      "DBAECFG\n",
      "DBEGFCA\n"
     ]
    }
   ],
   "source": [
    "# 전위 순회\n",
    "visited = {_ : False for _ in _dict}\n",
    "result = ''\n",
    "def func(tmp, _dict, visited):\n",
    "    global result\n",
    "    a, b = _dict[tmp]\n",
    "    result += tmp\n",
    "    if a != '.' and not visited[a]:\n",
    "        visited[a] = True\n",
    "        func(a, _dict, visited)\n",
    "    \n",
    "    if b != '.' and not visited[b]:\n",
    "        visited[b] = True\n",
    "        func(b, _dict, visited)\n",
    "        \n",
    "func('A', _dict, visited)\n",
    "\n",
    "print(result)\n",
    "\n",
    "# 중위 순회\n",
    "visited = {_ : False for _ in _dict}\n",
    "result = ''\n",
    "def func(tmp, _dict, visited):\n",
    "    global result\n",
    "    a, b = _dict[tmp]\n",
    "    if a != '.' and not visited[a]:\n",
    "        visited[a] = True\n",
    "        func(a, _dict, visited)\n",
    "    \n",
    "    result += tmp\n",
    "    \n",
    "    if b != '.' and not visited[b]:\n",
    "        visited[b] = True\n",
    "        func(b, _dict, visited)\n",
    "        \n",
    "func('A', _dict, visited)\n",
    "\n",
    "print(result)\n",
    "\n",
    "# 후위 순회\n",
    "visited = {_ : False for _ in _dict}\n",
    "result = ''\n",
    "def func(tmp, _dict, visited):\n",
    "    global result\n",
    "    a, b = _dict[tmp]\n",
    "    if a != '.' and not visited[a]:\n",
    "        visited[a] = True\n",
    "        func(a, _dict, visited)\n",
    "    \n",
    "    if b != '.' and not visited[b]:\n",
    "        visited[b] = True\n",
    "        func(b, _dict, visited)\n",
    "        \n",
    "    result += tmp\n",
    "        \n",
    "func('A', _dict, visited)\n",
    "\n",
    "print(result)"
   ]
  }
 ],
 "metadata": {
  "kernelspec": {
   "display_name": "Python 3",
   "language": "python",
   "name": "python3"
  },
  "language_info": {
   "codemirror_mode": {
    "name": "ipython",
    "version": 3
   },
   "file_extension": ".py",
   "mimetype": "text/x-python",
   "name": "python",
   "nbconvert_exporter": "python",
   "pygments_lexer": "ipython3",
   "version": "3.8.3"
  }
 },
 "nbformat": 4,
 "nbformat_minor": 4
}
