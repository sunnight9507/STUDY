{
 "cells": [
  {
   "cell_type": "markdown",
   "metadata": {},
   "source": [
    "### [트로피 진열](https://www.acmicpc.net/problem/1668)"
   ]
  },
  {
   "cell_type": "code",
   "execution_count": 25,
   "metadata": {},
   "outputs": [
    {
     "name": "stdout",
     "output_type": "stream",
     "text": [
      "4\n",
      "1\n",
      "2\n",
      "3\n",
      "4\n",
      "4\n",
      "1\n"
     ]
    }
   ],
   "source": [
    "N = int(input())\n",
    "\n",
    "lst = [int(input()) for _ in range(N)]\n",
    "\n",
    "# 왼쪽\n",
    "tmp = lst[0]\n",
    "cnt = 1\n",
    "for _ in lst[1:]:\n",
    "    if tmp < _:\n",
    "        tmp = _\n",
    "        cnt += 1\n",
    "        \n",
    "# print()\n",
    "print(cnt)\n",
    "cnt = 1\n",
    "tmp = lst[-1]\n",
    "for _ in lst[::-1][1:]:\n",
    "    if tmp < _:\n",
    "        tmp = _\n",
    "        cnt += 1\n",
    "print(cnt)"
   ]
  }
 ],
 "metadata": {
  "kernelspec": {
   "display_name": "Python 3",
   "language": "python",
   "name": "python3"
  },
  "language_info": {
   "codemirror_mode": {
    "name": "ipython",
    "version": 3
   },
   "file_extension": ".py",
   "mimetype": "text/x-python",
   "name": "python",
   "nbconvert_exporter": "python",
   "pygments_lexer": "ipython3",
   "version": "3.8.3"
  }
 },
 "nbformat": 4,
 "nbformat_minor": 4
}
