{
 "cells": [
  {
   "cell_type": "markdown",
   "metadata": {},
   "source": [
    "### [친구 네트워크](https://www.acmicpc.net/problem/4195)"
   ]
  },
  {
   "cell_type": "code",
   "execution_count": 9,
   "metadata": {},
   "outputs": [
    {
     "name": "stdout",
     "output_type": "stream",
     "text": [
      "2\n",
      "3\n",
      "a b\n",
      "2\n",
      "b c\n",
      "3\n",
      "c d\n",
      "4\n",
      "5\n",
      "q b\n",
      "2\n",
      "a b\n",
      "3\n",
      "z b\n",
      "4\n",
      "d f\n",
      "2\n",
      "z d\n",
      "6\n"
     ]
    }
   ],
   "source": [
    "def find(a):\n",
    "    if a == parents[a]:\n",
    "        return a\n",
    "    \n",
    "    b = find(parents[a])\n",
    "    parents[a] = b\n",
    "    return parents[a]\n",
    "\n",
    "def union(a,b):\n",
    "    a = find(a)\n",
    "    b = find(b)\n",
    "    if a != b:\n",
    "        parents[b] = a\n",
    "        cnt[a] += cnt[b]\n",
    "\n",
    "N = int(input())\n",
    "for _ in range(N):\n",
    "    n = int(input())\n",
    "    parents = {}\n",
    "    cnt = {}\n",
    "    for i in range(n):\n",
    "        a, b = input().split()\n",
    "        if a not in parents:\n",
    "            parents[a] = a\n",
    "            cnt[a] = 1\n",
    "        if b not in parents:\n",
    "            parents[b] = b\n",
    "            cnt[b] = 1\n",
    "        \n",
    "        union(a,b)\n",
    "        print(cnt[find(a)])"
   ]
  },
  {
   "cell_type": "code",
   "execution_count": 7,
   "metadata": {},
   "outputs": [
    {
     "name": "stdout",
     "output_type": "stream",
     "text": [
      "2\n",
      "3\n",
      "a b\n",
      "2\n",
      "b c\n",
      "3\n",
      "c d\n",
      "4\n",
      "3\n",
      "a b\n",
      "2\n",
      "c d\n",
      "2\n",
      "b c\n",
      "4\n"
     ]
    }
   ],
   "source": [
    "# 시간초과\n",
    "N = int(input())\n",
    "for _ in range(N):\n",
    "    n = int(input())\n",
    "    _dict = {}\n",
    "    for i in range(n):\n",
    "        a,b = input().split()\n",
    "        if a in _dict:\n",
    "            _dict[a].append(b)\n",
    "        else:\n",
    "            _dict[a] = [b]\n",
    "            \n",
    "        if b in _dict:\n",
    "            _dict[b].append(a)\n",
    "        else:\n",
    "            _dict[b] = [a]\n",
    "            \n",
    "        queue = [a, b]\n",
    "        _set = set([a,b])\n",
    "        cnt = 0\n",
    "        while queue:\n",
    "            tmp = queue.pop()\n",
    "            cnt += 1\n",
    "            \n",
    "            for _ in _dict[tmp]:\n",
    "                if _ not in _set:\n",
    "                    queue.append(_)\n",
    "                    _set.add(_)\n",
    "        print(cnt)"
   ]
  }
 ],
 "metadata": {
  "kernelspec": {
   "display_name": "Python 3",
   "language": "python",
   "name": "python3"
  },
  "language_info": {
   "codemirror_mode": {
    "name": "ipython",
    "version": 3
   },
   "file_extension": ".py",
   "mimetype": "text/x-python",
   "name": "python",
   "nbconvert_exporter": "python",
   "pygments_lexer": "ipython3",
   "version": "3.8.3"
  }
 },
 "nbformat": 4,
 "nbformat_minor": 4
}
