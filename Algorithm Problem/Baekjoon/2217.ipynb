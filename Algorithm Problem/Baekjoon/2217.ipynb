{
 "cells": [
  {
   "cell_type": "code",
   "execution_count": 35,
   "metadata": {},
   "outputs": [
    {
     "name": "stdout",
     "output_type": "stream",
     "text": [
      "2\n",
      "10\n",
      "15\n",
      "20\n"
     ]
    }
   ],
   "source": [
    "def insert_operation(rope):    \n",
    "        \n",
    "    rope.sort(reverse = True)\n",
    "    \n",
    "    weight = []\n",
    "    \n",
    "    cnt = 1\n",
    "    \n",
    "    for i in rope:\n",
    "        weight.append(i*cnt)\n",
    "        cnt += 1\n",
    "        \n",
    "    print(max(weight))\n",
    "    \n",
    "n = int(input())\n",
    "\n",
    "rope = []\n",
    "\n",
    "for i in range(n):\n",
    "    rope.append(int(input()))\n",
    "\n",
    "insert_operation(rope)"
   ]
  }
 ],
 "metadata": {
  "kernelspec": {
   "display_name": "Python 3",
   "language": "python",
   "name": "python3"
  },
  "language_info": {
   "codemirror_mode": {
    "name": "ipython",
    "version": 3
   },
   "file_extension": ".py",
   "mimetype": "text/x-python",
   "name": "python",
   "nbconvert_exporter": "python",
   "pygments_lexer": "ipython3",
   "version": "3.7.3"
  }
 },
 "nbformat": 4,
 "nbformat_minor": 2
}
