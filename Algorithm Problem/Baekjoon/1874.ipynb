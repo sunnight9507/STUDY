{
 "cells": [
  {
   "cell_type": "markdown",
   "metadata": {},
   "source": [
    "### [스택 수열](https://www.acmicpc.net/problem/1874)"
   ]
  },
  {
   "cell_type": "code",
   "execution_count": 39,
   "metadata": {},
   "outputs": [
    {
     "name": "stdout",
     "output_type": "stream",
     "text": [
      "5\n",
      "1\n",
      "2\n",
      "5\n",
      "3\n",
      "4\n"
     ]
    }
   ],
   "source": [
    "n = int(input())\n",
    "lst = []\n",
    "for _ in range(n):\n",
    "    lst.append(int(input()))"
   ]
  },
  {
   "cell_type": "code",
   "execution_count": 40,
   "metadata": {},
   "outputs": [
    {
     "name": "stdout",
     "output_type": "stream",
     "text": [
      "1 [] [1, 2, 5, 3, 4]\n",
      "2 [] [2, 5, 3, 4]\n",
      "3 [] [5, 3, 4]\n",
      "4 [3] [5, 3, 4]\n",
      "5 [3, 4] [5, 3, 4]\n",
      "5 [3, 4] [3, 4]\n",
      "NO\n"
     ]
    }
   ],
   "source": [
    "stack = []\n",
    "result = []\n",
    "\n",
    "for _ in range(1, n+1):\n",
    "    print(_, stack, lst)\n",
    "    stack.append(_)\n",
    "    result.append('+')\n",
    "    \n",
    "    while stack[-1] == lst[0]:\n",
    "        result.append('-')\n",
    "        stack.pop()\n",
    "        lst.pop(0)\n",
    "        if len(stack) == 0:\n",
    "            break\n",
    "            \n",
    "print(_, stack, lst)\n",
    "if len(stack) == 0:\n",
    "    for _ in result:\n",
    "        print(_)\n",
    "else:\n",
    "    print('NO')"
   ]
  }
 ],
 "metadata": {
  "kernelspec": {
   "display_name": "Python 3",
   "language": "python",
   "name": "python3"
  },
  "language_info": {
   "codemirror_mode": {
    "name": "ipython",
    "version": 3
   },
   "file_extension": ".py",
   "mimetype": "text/x-python",
   "name": "python",
   "nbconvert_exporter": "python",
   "pygments_lexer": "ipython3",
   "version": "3.8.3"
  }
 },
 "nbformat": 4,
 "nbformat_minor": 4
}
