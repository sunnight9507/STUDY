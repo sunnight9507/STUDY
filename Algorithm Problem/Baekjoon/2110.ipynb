{
 "cells": [
  {
   "cell_type": "markdown",
   "metadata": {},
   "source": [
    "### [공유기 설치](https://www.acmicpc.net/problem/2110)"
   ]
  },
  {
   "cell_type": "code",
   "execution_count": 31,
   "metadata": {},
   "outputs": [
    {
     "name": "stdout",
     "output_type": "stream",
     "text": [
      "5 3\n",
      "1\n",
      "5\n",
      "7\n",
      "9\n",
      "10\n",
      "4\n"
     ]
    }
   ],
   "source": [
    "N, C = map(int, input().split())\n",
    "\n",
    "lst = [int(input()) for _ in range(N)]\n",
    "\n",
    "lst.sort()\n",
    "lst\n",
    "\n",
    "start, end = 1, lst[-1] - lst[0]\n",
    "while start <= end:\n",
    "    mid = (start + end) // 2\n",
    "#     print(start, mid, end)\n",
    "    cnt = 1\n",
    "    tmp_num = lst[0]\n",
    "    for _ in lst[1:]:\n",
    "        if tmp_num + mid <= _:\n",
    "            cnt += 1\n",
    "            tmp_num = _\n",
    "#     print(cnt)\n",
    "    if cnt >= C:\n",
    "        start = mid + 1\n",
    "    elif cnt < C:\n",
    "        end = mid - 1\n",
    "        \n",
    "print(end)"
   ]
  }
 ],
 "metadata": {
  "kernelspec": {
   "display_name": "Python 3",
   "language": "python",
   "name": "python3"
  },
  "language_info": {
   "codemirror_mode": {
    "name": "ipython",
    "version": 3
   },
   "file_extension": ".py",
   "mimetype": "text/x-python",
   "name": "python",
   "nbconvert_exporter": "python",
   "pygments_lexer": "ipython3",
   "version": "3.8.3"
  }
 },
 "nbformat": 4,
 "nbformat_minor": 4
}
