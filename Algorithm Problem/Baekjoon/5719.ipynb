{
 "cells": [
  {
   "cell_type": "markdown",
   "metadata": {},
   "source": [
    "### [거의 최단 경로](https://www.acmicpc.net/problem/5719)"
   ]
  },
  {
   "cell_type": "code",
   "execution_count": 28,
   "metadata": {},
   "outputs": [
    {
     "name": "stdout",
     "output_type": "stream",
     "text": [
      "7 9\n",
      "0 6\n",
      "0 1 1\n",
      "0 2 1\n",
      "0 3 2\n",
      "0 4 3\n",
      "1 5 2\n",
      "2 6 4\n",
      "3 6 2\n",
      "4 6 4\n",
      "5 6 1\n"
     ]
    }
   ],
   "source": [
    "import heapq\n",
    "\n",
    "# while True:\n",
    "N, M = map(int, input().split())\n",
    "# if N == 0 and M == 0: break\n",
    "\n",
    "S, D = map(int, input().split())\n",
    "dis = [float('inf') for _ in range(N)]\n",
    "lst = [[] for _ in range(N)]\n",
    "reverse = [[] for _ in range(N)]\n",
    "for _ in range(M):\n",
    "    a,b,c = map(int, input().split())\n",
    "    lst[a].append((b,c))\n",
    "    reverse[b].append((a,c))"
   ]
  },
  {
   "cell_type": "code",
   "execution_count": 40,
   "metadata": {},
   "outputs": [
    {
     "name": "stdout",
     "output_type": "stream",
     "text": [
      "5\n"
     ]
    }
   ],
   "source": [
    "import heapq\n",
    "from collections import deque\n",
    "\n",
    "heap = []\n",
    "heapq.heappush(heap, (0, S))\n",
    "dis = [float('inf') for _ in range(N)]\n",
    "dis[S] = 0\n",
    "\n",
    "while heap:\n",
    "    tmp_dis, tmp = heapq.heappop(heap)\n",
    "    if dis[tmp] < tmp_dis: continue\n",
    "    for _next, next_dis in lst[tmp]:\n",
    "        next_cost = tmp_dis + next_dis\n",
    "        if dis[_next] > next_cost:\n",
    "            dis[_next] = next_cost\n",
    "            heapq.heappush(heap, (next_cost, _next))\n",
    "            \n",
    "queue = deque([])\n",
    "queue.append(D)\n",
    "drop = [[False] * N for _ in range(N)]\n",
    "\n",
    "while queue:\n",
    "    tmp = queue.popleft()\n",
    "    for prev, prev_dis in reverse[tmp]:\n",
    "        if dis[tmp] == dis[prev] + prev_dis:\n",
    "            drop[prev][tmp] = True\n",
    "            queue.append(prev)\n",
    "\n",
    "heap = []\n",
    "heapq.heappush(heap, (0, S))\n",
    "dis = [float('inf') for _ in range(N)]\n",
    "dis[S] = 0\n",
    "\n",
    "while heap:\n",
    "    tmp_dis, tmp = heapq.heappop(heap)\n",
    "    if dis[tmp] < tmp_dis: continue\n",
    "    for _next, next_dis in lst[tmp]:\n",
    "        next_cost = tmp_dis + next_dis\n",
    "        if dis[_next] > next_cost and not drop[tmp][_next]:\n",
    "            dis[_next] = next_cost\n",
    "            heapq.heappush(heap, (next_cost, _next))\n",
    "            \n",
    "if dis[D] == float('inf'): print(-1)\n",
    "else: print(dis[D])"
   ]
  }
 ],
 "metadata": {
  "kernelspec": {
   "display_name": "Python 3",
   "language": "python",
   "name": "python3"
  },
  "language_info": {
   "codemirror_mode": {
    "name": "ipython",
    "version": 3
   },
   "file_extension": ".py",
   "mimetype": "text/x-python",
   "name": "python",
   "nbconvert_exporter": "python",
   "pygments_lexer": "ipython3",
   "version": "3.8.3"
  }
 },
 "nbformat": 4,
 "nbformat_minor": 4
}
