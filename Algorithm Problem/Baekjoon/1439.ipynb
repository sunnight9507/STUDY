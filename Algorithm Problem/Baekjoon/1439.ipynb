{
 "cells": [
  {
   "cell_type": "markdown",
   "metadata": {},
   "source": [
    "### [뒤집기](https://www.acmicpc.net/problem/1439)"
   ]
  },
  {
   "cell_type": "code",
   "execution_count": 27,
   "metadata": {},
   "outputs": [
    {
     "name": "stdout",
     "output_type": "stream",
     "text": [
      "11100111\n",
      "1\n"
     ]
    }
   ],
   "source": [
    "s = input()\n",
    "\n",
    "n = len(s)\n",
    "zero_cnt = 0\n",
    "one_cnt = 0\n",
    "if s[0] == '1': one_cnt += 1\n",
    "else: zero_cnt += 1\n",
    "\n",
    "for _ in range(1,n):\n",
    "    if s[_] != s[_-1]:\n",
    "        if s[_] == '0':\n",
    "            zero_cnt += 1\n",
    "        else:\n",
    "            one_cnt += 1\n",
    "print(min(zero_cnt, one_cnt))"
   ]
  }
 ],
 "metadata": {
  "kernelspec": {
   "display_name": "Python 3",
   "language": "python",
   "name": "python3"
  },
  "language_info": {
   "codemirror_mode": {
    "name": "ipython",
    "version": 3
   },
   "file_extension": ".py",
   "mimetype": "text/x-python",
   "name": "python",
   "nbconvert_exporter": "python",
   "pygments_lexer": "ipython3",
   "version": "3.8.3"
  }
 },
 "nbformat": 4,
 "nbformat_minor": 4
}
