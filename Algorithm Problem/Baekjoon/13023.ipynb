{
 "cells": [
  {
   "cell_type": "markdown",
   "metadata": {},
   "source": [
    "### [ABCDE](https://www.acmicpc.net/problem/13023)"
   ]
  },
  {
   "cell_type": "code",
   "execution_count": 34,
   "metadata": {},
   "outputs": [
    {
     "name": "stdout",
     "output_type": "stream",
     "text": [
      "8 8\n",
      "1 7\n",
      "3 7\n",
      "4 7\n",
      "3 4\n",
      "4 6\n",
      "3 5\n",
      "0 4\n",
      "2 7\n"
     ]
    }
   ],
   "source": [
    "def check_count(check_lst, tmp, cnt):\n",
    "    if cnt == 5:\n",
    "        return 1\n",
    "    \n",
    "    check_lst[tmp] = True\n",
    "    for i in friend[tmp]:\n",
    "        if not check_lst[i] and check_count(check_lst, i, cnt+1):\n",
    "            return 1\n",
    "    check_lst[tmp] = False\n",
    "    return 0\n",
    "\n",
    "N, M = map(int, input().split())\n",
    "friend = {_ : [] for _ in range(N)}\n",
    "for i in range(M):\n",
    "    a, b = map(int, input().split())\n",
    "    friend[a].append(b)\n",
    "    friend[b].append(a)\n",
    "\n",
    "check_lst = [False for _ in range(N)]\n",
    "for i in friend:\n",
    "    if check_count(check_lst,i, 1):\n",
    "        print('1')\n",
    "        break\n",
    "else:\n",
    "    print('0')"
   ]
  }
 ],
 "metadata": {
  "kernelspec": {
   "display_name": "Python 3",
   "language": "python",
   "name": "python3"
  },
  "language_info": {
   "codemirror_mode": {
    "name": "ipython",
    "version": 3
   },
   "file_extension": ".py",
   "mimetype": "text/x-python",
   "name": "python",
   "nbconvert_exporter": "python",
   "pygments_lexer": "ipython3",
   "version": "3.8.5"
  }
 },
 "nbformat": 4,
 "nbformat_minor": 4
}
