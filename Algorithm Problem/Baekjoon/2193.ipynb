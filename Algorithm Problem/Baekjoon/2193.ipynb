{
 "cells": [
  {
   "cell_type": "code",
   "execution_count": 34,
   "metadata": {},
   "outputs": [
    {
     "name": "stdout",
     "output_type": "stream",
     "text": [
      "30\n",
      "832040\n"
     ]
    }
   ],
   "source": [
    "def insert_operation(n,end_0,end_1):     \n",
    "    for i in range(0,n-1):\n",
    "        end_0,end_1 = end_0 + end_1,end_0\n",
    "    print(end_0+end_1)\n",
    "\n",
    "n = int(input())\n",
    "end_0,end_1 = 0,1\n",
    "insert_operation(n,end_0,end_1)"
   ]
  },
  {
   "cell_type": "code",
   "execution_count": 36,
   "metadata": {},
   "outputs": [
    {
     "name": "stdout",
     "output_type": "stream",
     "text": [
      "30\n",
      "832040\n"
     ]
    }
   ],
   "source": [
    "n = int(input())\n",
    "end_0,end_1 = 0,1\n",
    "for i in range(0,n-1):\n",
    "    end_0,end_1 = end_0 + end_1,end_0\n",
    "print(end_0+end_1)"
   ]
  }
 ],
 "metadata": {
  "kernelspec": {
   "display_name": "Python 3",
   "language": "python",
   "name": "python3"
  },
  "language_info": {
   "codemirror_mode": {
    "name": "ipython",
    "version": 3
   },
   "file_extension": ".py",
   "mimetype": "text/x-python",
   "name": "python",
   "nbconvert_exporter": "python",
   "pygments_lexer": "ipython3",
   "version": "3.7.3"
  }
 },
 "nbformat": 4,
 "nbformat_minor": 2
}
