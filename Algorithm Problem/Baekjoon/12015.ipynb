{
 "cells": [
  {
   "cell_type": "markdown",
   "metadata": {},
   "source": [
    "### [가장 긴 증가하는 부분 수열 2](https://www.acmicpc.net/problem/12015)"
   ]
  },
  {
   "cell_type": "code",
   "execution_count": 36,
   "metadata": {},
   "outputs": [
    {
     "name": "stdout",
     "output_type": "stream",
     "text": [
      "6\n",
      "1 6 2 4 3 7\n",
      "4\n"
     ]
    }
   ],
   "source": [
    "N = int(input())\n",
    "\n",
    "lst = list(map(int, input().split()))\n",
    "\n",
    "rank_lst = [0]\n",
    "len_lst = 1\n",
    "\n",
    "for _ in lst:\n",
    "#     print(rank_lst)\n",
    "    if rank_lst[-1] < _:\n",
    "        rank_lst.append(_)\n",
    "        len_lst += 1\n",
    "    else:\n",
    "        # rank_lst 탐색\n",
    "        s, e = 1, len_lst\n",
    "        \n",
    "        while s < e:\n",
    "            mid = (s + e) // 2\n",
    "            \n",
    "            if rank_lst[mid] < _:\n",
    "                s = mid + 1\n",
    "            else:\n",
    "                e = mid\n",
    "                \n",
    "#         print(s, len_lst)\n",
    "        rank_lst[e] = _\n",
    "                \n",
    "print(len_lst - 1)"
   ]
  },
  {
   "cell_type": "code",
   "execution_count": 35,
   "metadata": {},
   "outputs": [
    {
     "name": "stdout",
     "output_type": "stream",
     "text": [
      "6\n",
      "1 6 2 4 3 7\n",
      "4\n"
     ]
    }
   ],
   "source": [
    "N = int(input())\n",
    "\n",
    "lst = list(map(int, input().split()))\n",
    "\n",
    "rank_lst = [0]\n",
    "len_lst = 1\n",
    "\n",
    "for _ in lst:\n",
    "    if rank_lst[-1] < _:\n",
    "        rank_lst.append(_)\n",
    "        len_lst += 1\n",
    "    else:\n",
    "        # rank_lst 탐색\n",
    "        s, e = 1, len_lst\n",
    "        \n",
    "        while s < e:\n",
    "            mid = (s + e) // 2\n",
    "            if rank_lst[mid] < _: s = mid + 1\n",
    "            else: e = mid\n",
    "        rank_lst[e] = _\n",
    "                \n",
    "print(len_lst - 1)"
   ]
  }
 ],
 "metadata": {
  "kernelspec": {
   "display_name": "Python 3",
   "language": "python",
   "name": "python3"
  },
  "language_info": {
   "codemirror_mode": {
    "name": "ipython",
    "version": 3
   },
   "file_extension": ".py",
   "mimetype": "text/x-python",
   "name": "python",
   "nbconvert_exporter": "python",
   "pygments_lexer": "ipython3",
   "version": "3.8.3"
  }
 },
 "nbformat": 4,
 "nbformat_minor": 4
}
