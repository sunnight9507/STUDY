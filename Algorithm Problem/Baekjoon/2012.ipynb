{
 "cells": [
  {
   "cell_type": "markdown",
   "metadata": {},
   "source": [
    "### [등수 매기기](https://www.acmicpc.net/problem/2012)"
   ]
  },
  {
   "cell_type": "code",
   "execution_count": 6,
   "metadata": {},
   "outputs": [
    {
     "name": "stdout",
     "output_type": "stream",
     "text": [
      "5\n",
      "1\n",
      "5\n",
      "3\n",
      "1\n",
      "2\n"
     ]
    },
    {
     "data": {
      "text/plain": [
       "3"
      ]
     },
     "execution_count": 6,
     "metadata": {},
     "output_type": "execute_result"
    }
   ],
   "source": [
    "N = int(input())\n",
    "\n",
    "lst = [0] * N\n",
    "for _ in range(N):\n",
    "    lst[_] = int(input())\n",
    "    \n",
    "lst = sorted(lst)\n",
    "result = 0\n",
    "for idx, value in enumerate(lst):\n",
    "    result += max(idx+1, value) - min(idx+1, value)\n",
    "    \n",
    "result"
   ]
  },
  {
   "cell_type": "code",
   "execution_count": 9,
   "metadata": {},
   "outputs": [
    {
     "name": "stdout",
     "output_type": "stream",
     "text": [
      "5\n",
      "1\n",
      "5\n",
      "3\n",
      "1\n",
      "2\n",
      "3\n"
     ]
    }
   ],
   "source": [
    "import heapq\n",
    "N = int(input())\n",
    "\n",
    "heap = []\n",
    "for _ in range(N):\n",
    "    heapq.heappush(heap, int(input()))\n",
    "    \n",
    "result = 0\n",
    "for _ in range(N):\n",
    "    tmp = heapq.heappop(heap)\n",
    "    result += max(_+1, tmp) - min(_+1, tmp)\n",
    "    \n",
    "print(result)"
   ]
  }
 ],
 "metadata": {
  "kernelspec": {
   "display_name": "Python 3",
   "language": "python",
   "name": "python3"
  },
  "language_info": {
   "codemirror_mode": {
    "name": "ipython",
    "version": 3
   },
   "file_extension": ".py",
   "mimetype": "text/x-python",
   "name": "python",
   "nbconvert_exporter": "python",
   "pygments_lexer": "ipython3",
   "version": "3.8.3"
  }
 },
 "nbformat": 4,
 "nbformat_minor": 4
}
