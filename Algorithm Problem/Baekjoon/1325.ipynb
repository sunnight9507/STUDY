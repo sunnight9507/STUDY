{
 "cells": [
  {
   "cell_type": "markdown",
   "metadata": {},
   "source": [
    "### [효율적인 해킹](https://www.acmicpc.net/problem/1325)"
   ]
  },
  {
   "cell_type": "code",
   "execution_count": 65,
   "metadata": {},
   "outputs": [
    {
     "name": "stdout",
     "output_type": "stream",
     "text": [
      "5 4\n",
      "3 1\n",
      "3 2\n",
      "4 3\n",
      "5 3\n"
     ]
    }
   ],
   "source": [
    "from collections import deque\n",
    "\n",
    "def find(idx):\n",
    "    queue = deque([idx])\n",
    "    visited = [False] * (N+1)\n",
    "    visited[idx] = True\n",
    "    cnt = 1\n",
    "    while queue:\n",
    "        tmp = queue.popleft()\n",
    "        for _ in lst[tmp]:\n",
    "            if not visited[_]:\n",
    "                cnt += 1\n",
    "                visited[_] = True\n",
    "                queue.append(_)\n",
    "    return cnt\n",
    "\n",
    "N, M = map(int, input().split())\n",
    "\n",
    "lst = [[] for _ in range(N+1)]\n",
    "\n",
    "for _ in range(M):\n",
    "    a, b = map(int, input().split())\n",
    "    lst[b].append(a)"
   ]
  },
  {
   "cell_type": "code",
   "execution_count": 68,
   "metadata": {},
   "outputs": [
    {
     "name": "stdout",
     "output_type": "stream",
     "text": [
      "1 2\n"
     ]
    }
   ],
   "source": [
    "result = []\n",
    "_max = -1\n",
    "\n",
    "for idx in range(1,N+1):\n",
    "    tmp_max = find(idx)\n",
    "    if tmp_max > _max:\n",
    "        _max = tmp_max\n",
    "        result = [idx]\n",
    "    elif tmp_max == _max:\n",
    "        result.append(idx)\n",
    "            \n",
    "print(*result)"
   ]
  }
 ],
 "metadata": {
  "kernelspec": {
   "display_name": "Python 3",
   "language": "python",
   "name": "python3"
  },
  "language_info": {
   "codemirror_mode": {
    "name": "ipython",
    "version": 3
   },
   "file_extension": ".py",
   "mimetype": "text/x-python",
   "name": "python",
   "nbconvert_exporter": "python",
   "pygments_lexer": "ipython3",
   "version": "3.8.3"
  }
 },
 "nbformat": 4,
 "nbformat_minor": 4
}
