{
 "cells": [
  {
   "cell_type": "markdown",
   "metadata": {},
   "source": [
    "5,3kg의 봉지\n",
    "\n",
    "숫자가 입력되면 최소한의 봉지로 무게를 맞추기\n",
    "\n",
    "18 => 4\n",
    "\n",
    "4 => -1\n",
    "\n",
    "6 => 2"
   ]
  },
  {
   "cell_type": "code",
   "execution_count": 28,
   "metadata": {},
   "outputs": [
    {
     "name": "stdout",
     "output_type": "stream",
     "text": [
      "21\n",
      "5\n"
     ]
    }
   ],
   "source": [
    "def insert_operation(n):    \n",
    "    cnt = n // 5 + 1\n",
    "    \n",
    "    for i in range(cnt, -1,-1):\n",
    "        num = n - i*5\n",
    "        if(num < 0):\n",
    "            continue;\n",
    "        if(num % 3 == 0):\n",
    "            print(i+(num//3))\n",
    "            return\n",
    "    \n",
    "    print(-1)\n",
    "    \n",
    "    \n",
    "n = int(input())\n",
    "\n",
    "insert_operation(n)"
   ]
  }
 ],
 "metadata": {
  "kernelspec": {
   "display_name": "Python 3",
   "language": "python",
   "name": "python3"
  },
  "language_info": {
   "codemirror_mode": {
    "name": "ipython",
    "version": 3
   },
   "file_extension": ".py",
   "mimetype": "text/x-python",
   "name": "python",
   "nbconvert_exporter": "python",
   "pygments_lexer": "ipython3",
   "version": "3.7.1"
  }
 },
 "nbformat": 4,
 "nbformat_minor": 2
}
