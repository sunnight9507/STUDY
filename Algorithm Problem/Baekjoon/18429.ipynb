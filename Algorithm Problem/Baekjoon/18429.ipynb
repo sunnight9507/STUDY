{
 "cells": [
  {
   "cell_type": "markdown",
   "metadata": {},
   "source": [
    "### [근손실](https://www.acmicpc.net/problem/18429)"
   ]
  },
  {
   "cell_type": "code",
   "execution_count": 1,
   "metadata": {},
   "outputs": [
    {
     "name": "stdout",
     "output_type": "stream",
     "text": [
      "3 4\n",
      "3 7 5\n"
     ]
    }
   ],
   "source": [
    "N, K = map(int, input().split())\n",
    "lst = list(map(int, input().split()))"
   ]
  },
  {
   "cell_type": "code",
   "execution_count": 17,
   "metadata": {},
   "outputs": [
    {
     "name": "stdout",
     "output_type": "stream",
     "text": [
      "(7, 3, 5)\n",
      "(7, 5, 3)\n",
      "(5, 3, 7)\n",
      "(5, 7, 3)\n",
      "4\n"
     ]
    }
   ],
   "source": [
    "from itertools import permutations\n",
    "\n",
    "cnt = 0\n",
    "for _ in permutations(lst,N):\n",
    "    tmp = 0\n",
    "    for i in _:\n",
    "        tmp += i\n",
    "        tmp -= K\n",
    "        if tmp < 0:\n",
    "            break\n",
    "    else:\n",
    "        cnt += 1\n",
    "print(cnt)"
   ]
  }
 ],
 "metadata": {
  "kernelspec": {
   "display_name": "Python 3",
   "language": "python",
   "name": "python3"
  },
  "language_info": {
   "codemirror_mode": {
    "name": "ipython",
    "version": 3
   },
   "file_extension": ".py",
   "mimetype": "text/x-python",
   "name": "python",
   "nbconvert_exporter": "python",
   "pygments_lexer": "ipython3",
   "version": "3.8.3"
  }
 },
 "nbformat": 4,
 "nbformat_minor": 4
}
