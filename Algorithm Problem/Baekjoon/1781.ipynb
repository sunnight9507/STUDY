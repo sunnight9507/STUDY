{
 "cells": [
  {
   "cell_type": "markdown",
   "metadata": {},
   "source": [
    "### [컵라면](https://www.acmicpc.net/problem/1781)"
   ]
  },
  {
   "cell_type": "code",
   "execution_count": 3,
   "metadata": {},
   "outputs": [
    {
     "name": "stdout",
     "output_type": "stream",
     "text": [
      "7\n",
      "1 9\n",
      "1 100\n",
      "2 300\n",
      "2 99\n",
      "3 100\n",
      "5 100\n",
      "5 999\n"
     ]
    }
   ],
   "source": [
    "n = int(input())\n",
    "_dict = {_ : [] for _ in range(n+1)}\n",
    "for _ in range(n):\n",
    "    deadline, cup = map(int, input().split())\n",
    "    _dict[deadline].append(cup)"
   ]
  },
  {
   "cell_type": "code",
   "execution_count": 13,
   "metadata": {},
   "outputs": [
    {
     "name": "stdout",
     "output_type": "stream",
     "text": [
      "1599\n"
     ]
    }
   ],
   "source": [
    "import heapq\n",
    "\n",
    "queue = []\n",
    "cnt = 0\n",
    "for _ in range(n,0,-1):\n",
    "    for v in _dict[_]:\n",
    "        heapq.heappush(queue, (-v, _))\n",
    "    if queue:\n",
    "        tmp_value, tmp_deadline = heapq.heappop(queue)\n",
    "        cnt += -tmp_value\n",
    "print(cnt)"
   ]
  }
 ],
 "metadata": {
  "kernelspec": {
   "display_name": "Python 3",
   "language": "python",
   "name": "python3"
  },
  "language_info": {
   "codemirror_mode": {
    "name": "ipython",
    "version": 3
   },
   "file_extension": ".py",
   "mimetype": "text/x-python",
   "name": "python",
   "nbconvert_exporter": "python",
   "pygments_lexer": "ipython3",
   "version": "3.8.3"
  }
 },
 "nbformat": 4,
 "nbformat_minor": 4
}
