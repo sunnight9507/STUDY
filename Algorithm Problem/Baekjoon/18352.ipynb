{
 "cells": [
  {
   "cell_type": "markdown",
   "metadata": {},
   "source": [
    "### [특정 거리의 도시 찾기](https://www.acmicpc.net/problem/18352)"
   ]
  },
  {
   "cell_type": "code",
   "execution_count": 16,
   "metadata": {},
   "outputs": [
    {
     "name": "stdout",
     "output_type": "stream",
     "text": [
      "4 4 1 1\n",
      "1 2\n",
      "1 3\n",
      "2 3\n",
      "2 4\n"
     ]
    }
   ],
   "source": [
    "N, M, K, X = map(int, input().split())\n",
    "_dict = {_ : [] for _ in range(1,N+1)}\n",
    "for _ in range(M):\n",
    "    a, b = map(int, input().split())\n",
    "    _dict[a].append(b)"
   ]
  },
  {
   "cell_type": "code",
   "execution_count": 17,
   "metadata": {},
   "outputs": [
    {
     "name": "stdout",
     "output_type": "stream",
     "text": [
      "2\n",
      "3\n"
     ]
    }
   ],
   "source": [
    "import heapq\n",
    "lst = [1e9 for _ in range(N+1)]\n",
    "\n",
    "def func(X, _dict):\n",
    "    heap = []\n",
    "    heapq.heappush(heap, [0,X])\n",
    "    lst[X] = 0\n",
    "    \n",
    "    while heap:\n",
    "#         print(heap)\n",
    "        tmp_cnt, tmp = heapq.heappop(heap)\n",
    "        for nxt in _dict[tmp]:\n",
    "            if lst[nxt] >= tmp_cnt + 1:\n",
    "                lst[nxt] = tmp_cnt + 1\n",
    "                heapq.heappush(heap, (tmp_cnt + 1, nxt))\n",
    "                \n",
    "func(X, _dict)\n",
    "\n",
    "cnt = False\n",
    "for _ in range(1,N+1):\n",
    "    if lst[_] == K:\n",
    "        print(_)\n",
    "        cnt = True\n",
    "else:\n",
    "    if not cnt: print(-1)"
   ]
  }
 ],
 "metadata": {
  "kernelspec": {
   "display_name": "Python 3",
   "language": "python",
   "name": "python3"
  },
  "language_info": {
   "codemirror_mode": {
    "name": "ipython",
    "version": 3
   },
   "file_extension": ".py",
   "mimetype": "text/x-python",
   "name": "python",
   "nbconvert_exporter": "python",
   "pygments_lexer": "ipython3",
   "version": "3.8.3"
  }
 },
 "nbformat": 4,
 "nbformat_minor": 4
}
