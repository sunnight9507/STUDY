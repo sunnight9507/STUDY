{
 "cells": [
  {
   "cell_type": "markdown",
   "metadata": {},
   "source": [
    "### [선수과목](https://www.acmicpc.net/problem/14567)"
   ]
  },
  {
   "cell_type": "code",
   "execution_count": null,
   "metadata": {},
   "outputs": [],
   "source": [
    "6 4\n",
    "1 2\n",
    "1 3\n",
    "2 5\n",
    "4 5"
   ]
  },
  {
   "cell_type": "code",
   "execution_count": 43,
   "metadata": {},
   "outputs": [
    {
     "name": "stdout",
     "output_type": "stream",
     "text": [
      "3 2\n",
      "2 3\n",
      "1 2\n",
      "1 2 3\n"
     ]
    }
   ],
   "source": [
    "from collections import deque\n",
    "\n",
    "N, M = map(int, input().split())\n",
    "_dict = {}\n",
    "cnt = [0 for _ in range(N+1)]\n",
    "result = [0 for _ in range(N+1)]\n",
    "for _ in range(M):\n",
    "    A, B = map(int, input().split())\n",
    "    cnt[B] += 1\n",
    "    if A not in _dict:\n",
    "        _dict[A] = [B]\n",
    "    else:\n",
    "        _dict[A].append(B)\n",
    "\n",
    "queue = deque([])\n",
    "for _ in range(1,N+1):\n",
    "    if not cnt[_]:\n",
    "        queue.append(_)\n",
    "        \n",
    "tmp_cnt = 1\n",
    "while queue:\n",
    "#     print(queue)\n",
    "    queue_len = len(queue)\n",
    "    for _ in range(queue_len):\n",
    "        tmp = queue.popleft()\n",
    "        result[tmp] = tmp_cnt\n",
    "        if tmp in _dict:\n",
    "            for _next in _dict[tmp]:\n",
    "                cnt[_next] -= 1\n",
    "                if not cnt[_next]:\n",
    "                    queue.append(_next)\n",
    "    tmp_cnt += 1\n",
    "\n",
    "print(*result[1:])"
   ]
  }
 ],
 "metadata": {
  "kernelspec": {
   "display_name": "Python 3",
   "language": "python",
   "name": "python3"
  },
  "language_info": {
   "codemirror_mode": {
    "name": "ipython",
    "version": 3
   },
   "file_extension": ".py",
   "mimetype": "text/x-python",
   "name": "python",
   "nbconvert_exporter": "python",
   "pygments_lexer": "ipython3",
   "version": "3.8.3"
  }
 },
 "nbformat": 4,
 "nbformat_minor": 4
}
