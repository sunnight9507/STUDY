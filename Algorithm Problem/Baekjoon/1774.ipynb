{
 "cells": [
  {
   "cell_type": "markdown",
   "metadata": {},
   "source": [
    "### [우주신과의 교감](https://www.acmicpc.net/problem/1774)"
   ]
  },
  {
   "cell_type": "code",
   "execution_count": 8,
   "metadata": {},
   "outputs": [
    {
     "name": "stdout",
     "output_type": "stream",
     "text": [
      "4 1\n",
      "1 1\n",
      "3 1\n",
      "2 3\n",
      "4 3\n",
      "1 4\n"
     ]
    }
   ],
   "source": [
    "N, M = map(int, input().split())\n",
    "\n",
    "lst = {_ : list(map(int, input().split())) for _ in range(1, N+1)}\n",
    "parent = {_ : _ for _ in range(1, N+1)}\n",
    "\n",
    "for _ in range(M):\n",
    "    a, b = map(int, input().split())\n",
    "    parent[max(a,b)] = min(a,b)"
   ]
  },
  {
   "cell_type": "code",
   "execution_count": 17,
   "metadata": {},
   "outputs": [],
   "source": [
    "import math\n",
    "\n",
    "dis = [[1e5] * (N+1) for _ in range(N+1)]\n",
    "\n",
    "for i in range(1, N+1):\n",
    "    for j in range(1, i):\n",
    "        dis[i][j] = math.sqrt((lst[i][0] - lst[j][0]) ** 2 + (lst[i][1] - lst[j][1]) ** 2)"
   ]
  },
  {
   "cell_type": "code",
   "execution_count": 18,
   "metadata": {},
   "outputs": [
    {
     "data": {
      "text/plain": [
       "[[100000.0, 100000.0, 100000.0, 100000.0, 100000.0],\n",
       " [100000.0, 100000.0, 100000.0, 100000.0, 100000.0],\n",
       " [100000.0, 2.0, 100000.0, 100000.0, 100000.0],\n",
       " [100000.0, 2.23606797749979, 2.23606797749979, 100000.0, 100000.0],\n",
       " [100000.0, 3.605551275463989, 2.23606797749979, 2.0, 100000.0]]"
      ]
     },
     "execution_count": 18,
     "metadata": {},
     "output_type": "execute_result"
    }
   ],
   "source": [
    "dis"
   ]
  },
  {
   "cell_type": "code",
   "execution_count": null,
   "metadata": {},
   "outputs": [],
   "source": [
    "4 1\n",
    "1 1\n",
    "3 1\n",
    "2 3\n",
    "4 3\n",
    "1 4"
   ]
  }
 ],
 "metadata": {
  "kernelspec": {
   "display_name": "Python 3",
   "language": "python",
   "name": "python3"
  },
  "language_info": {
   "codemirror_mode": {
    "name": "ipython",
    "version": 3
   },
   "file_extension": ".py",
   "mimetype": "text/x-python",
   "name": "python",
   "nbconvert_exporter": "python",
   "pygments_lexer": "ipython3",
   "version": "3.8.3"
  }
 },
 "nbformat": 4,
 "nbformat_minor": 4
}
