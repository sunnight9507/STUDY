{
 "cells": [
  {
   "cell_type": "code",
   "execution_count": 56,
   "metadata": {},
   "outputs": [
    {
     "name": "stdout",
     "output_type": "stream",
     "text": [
      "1\n",
      "123 1 1\n",
      "36\n"
     ]
    }
   ],
   "source": [
    "import itertools\n",
    "\n",
    "def count_strike_and_ball(a,b):\n",
    "    \n",
    "    num_strike_ball = [0,0]\n",
    "    \n",
    "    for i in range(0,3):\n",
    "        for j in range(0,3):\n",
    "            if(a[i] == b[j]):\n",
    "                if i==j:\n",
    "                    num_strike_ball[0] += 1 \n",
    "                else:\n",
    "                    num_strike_ball[1] += 1\n",
    "                    \n",
    "                    \n",
    "    return num_strike_ball\n",
    "    \n",
    "\n",
    "def insert_operation(nan):   \n",
    "    num = ['1','2','3','4','5','6','7','8','9']\n",
    "    \n",
    "    num_all = list(itertools.permutations(num,3))\n",
    "    \n",
    "    num = []\n",
    "    for i in nan:\n",
    "        num.append([i[4],i[6],i[0],i[1],i[2]])\n",
    "    \n",
    "    num.sort(reverse = True)\n",
    "    \n",
    "    temp_index = 0\n",
    "    \n",
    "    len_num_all = len(num_all)\n",
    "    \n",
    "    index = 0\n",
    "    \n",
    "    for i in num:\n",
    "        for j in range(0,len(num_all)):            \n",
    "            cnt = count_strike_and_ball(i[2:],num_all[index])\n",
    "            \n",
    "            if((cnt[0] == int(i[0])) and (cnt[1] == int(i[1]))):\n",
    "                temp_index += 1\n",
    "                index += 1\n",
    "            else:\n",
    "                num_all.pop(temp_index)\n",
    "                \n",
    "        index = 0\n",
    "        temp_index = 0\n",
    "    \n",
    "    print(len(num_all))\n",
    "\n",
    "n = int(input())\n",
    "\n",
    "nan = []\n",
    "\n",
    "for i in range(0,n):\n",
    "    nan.append(input())\n",
    "\n",
    "insert_operation(nan)"
   ]
  }
 ],
 "metadata": {
  "kernelspec": {
   "display_name": "Python 3",
   "language": "python",
   "name": "python3"
  },
  "language_info": {
   "codemirror_mode": {
    "name": "ipython",
    "version": 3
   },
   "file_extension": ".py",
   "mimetype": "text/x-python",
   "name": "python",
   "nbconvert_exporter": "python",
   "pygments_lexer": "ipython3",
   "version": "3.7.3"
  }
 },
 "nbformat": 4,
 "nbformat_minor": 2
}
