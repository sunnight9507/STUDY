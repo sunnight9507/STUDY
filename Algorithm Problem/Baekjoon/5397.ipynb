{
 "cells": [
  {
   "cell_type": "markdown",
   "metadata": {},
   "source": [
    "### [키로거](https://www.acmicpc.net/problem/5397)"
   ]
  },
  {
   "cell_type": "code",
   "execution_count": 13,
   "metadata": {},
   "outputs": [],
   "source": [
    "def func(_str):\n",
    "    left_stack = []\n",
    "    right_stack = []\n",
    "    \n",
    "    for _ in _str:\n",
    "        if _ == '<':\n",
    "            if len(left_stack):\n",
    "                right_stack.append(left_stack.pop())\n",
    "        elif _ == '>':\n",
    "            if len(right_stack):\n",
    "                left_stack.append(right_stack.pop())\n",
    "        elif _ == '-':\n",
    "            if len(left_stack):\n",
    "                left_stack.pop()\n",
    "        else:\n",
    "            left_stack.append(_)            \n",
    "\n",
    "    return ''.join(left_stack + right_stack[::-1])"
   ]
  },
  {
   "cell_type": "code",
   "execution_count": 14,
   "metadata": {},
   "outputs": [
    {
     "name": "stdout",
     "output_type": "stream",
     "text": [
      "2\n",
      "<<BP<A>>Cd-\n",
      "BAPC\n",
      "ThIsIsS3Cr3t\n",
      "ThIsIsS3Cr3t\n"
     ]
    }
   ],
   "source": [
    "N = int(input())\n",
    "\n",
    "for _ in range(N):\n",
    "    print(func(input()))  "
   ]
  }
 ],
 "metadata": {
  "kernelspec": {
   "display_name": "Python 3",
   "language": "python",
   "name": "python3"
  },
  "language_info": {
   "codemirror_mode": {
    "name": "ipython",
    "version": 3
   },
   "file_extension": ".py",
   "mimetype": "text/x-python",
   "name": "python",
   "nbconvert_exporter": "python",
   "pygments_lexer": "ipython3",
   "version": "3.8.3"
  }
 },
 "nbformat": 4,
 "nbformat_minor": 4
}
