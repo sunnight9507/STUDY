{
 "cells": [
  {
   "cell_type": "markdown",
   "metadata": {},
   "source": [
    "### [함께 블록 쌓기](https://www.acmicpc.net/problem/18427)"
   ]
  },
  {
   "cell_type": "code",
   "execution_count": null,
   "metadata": {},
   "outputs": [],
   "source": [
    "1 1 2\n",
    "1"
   ]
  },
  {
   "cell_type": "code",
   "execution_count": 67,
   "metadata": {},
   "outputs": [
    {
     "name": "stdout",
     "output_type": "stream",
     "text": [
      "1 10 1000\n",
      "1 2 3 4 5 6 7 8 9 1000\n",
      "1\n"
     ]
    }
   ],
   "source": [
    "N, M, H = map(int, input().split())\n",
    "_dict = {_ : list(map(int,input().split())) + [0] for _ in range(N)}\n",
    "\n",
    "_set = set([0])\n",
    "result = {_ : 0 for _ in range(H+1)}\n",
    "result[0] = 1\n",
    "\n",
    "for _ in _dict.keys():\n",
    "    new_result = {_ : 0 for _ in range(H+1)}\n",
    "    new_set = set([])\n",
    "    for i in _dict[_]:\n",
    "        for j in _set:\n",
    "            if i+j <= H:\n",
    "                new_result[i+j] += result[j]\n",
    "                new_set.add(i+j)\n",
    "    _set = new_set\n",
    "    result = new_result\n",
    "    \n",
    "print(result[H] % 10007)"
   ]
  }
 ],
 "metadata": {
  "kernelspec": {
   "display_name": "Python 3",
   "language": "python",
   "name": "python3"
  },
  "language_info": {
   "codemirror_mode": {
    "name": "ipython",
    "version": 3
   },
   "file_extension": ".py",
   "mimetype": "text/x-python",
   "name": "python",
   "nbconvert_exporter": "python",
   "pygments_lexer": "ipython3",
   "version": "3.8.3"
  }
 },
 "nbformat": 4,
 "nbformat_minor": 4
}
