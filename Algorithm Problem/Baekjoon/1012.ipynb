{
 "cells": [
  {
   "cell_type": "markdown",
   "metadata": {},
   "source": [
    "### [유기농 배추](https://www.acmicpc.net/problem/1012)"
   ]
  },
  {
   "cell_type": "code",
   "execution_count": 63,
   "metadata": {},
   "outputs": [
    {
     "name": "stdout",
     "output_type": "stream",
     "text": [
      "1\n"
     ]
    }
   ],
   "source": [
    "T = int(input())\n",
    "\n",
    "move = [[1,0],[-1,0],[0,1],[0,-1]]\n",
    "\n",
    "def bfs(queue, lst):\n",
    "    while queue:\n",
    "        i,j = queue.pop(0)\n",
    "        if not lst[i][j]: continue\n",
    "        lst[i][j] = 0\n",
    "        \n",
    "        for _ in move:\n",
    "            tmp_i, tmp_j = i+_[0], j+_[1]\n",
    "            if 0 <= tmp_i < N and 0 <= tmp_j < M:\n",
    "                if lst[tmp_i][tmp_j]:\n",
    "                    queue.append((tmp_i,tmp_j))"
   ]
  },
  {
   "cell_type": "code",
   "execution_count": 64,
   "metadata": {},
   "outputs": [
    {
     "name": "stdout",
     "output_type": "stream",
     "text": [
      "3 3 5\n",
      "0 1\n",
      "1 0\n",
      "1 1\n",
      "1 2\n",
      "2 1\n",
      "1\n"
     ]
    }
   ],
   "source": [
    "for _ in range(T): \n",
    "    M, N, K = map(int, input().split())\n",
    "\n",
    "    lst = [[0 for i in range(M)] for _ in range(N)]\n",
    "\n",
    "    for _ in range(K):\n",
    "        j, i = map(int, input().split())\n",
    "        lst[i][j] = 1\n",
    "#     print(lst)\n",
    "    cnt = 0\n",
    "    for i in range(N):\n",
    "        for j in range(M):\n",
    "            if lst[i][j]:\n",
    "                cnt += 1\n",
    "                queue = [(i,j)]\n",
    "                bfs(queue, lst)\n",
    "    print(cnt)"
   ]
  }
 ],
 "metadata": {
  "kernelspec": {
   "display_name": "Python 3",
   "language": "python",
   "name": "python3"
  },
  "language_info": {
   "codemirror_mode": {
    "name": "ipython",
    "version": 3
   },
   "file_extension": ".py",
   "mimetype": "text/x-python",
   "name": "python",
   "nbconvert_exporter": "python",
   "pygments_lexer": "ipython3",
   "version": "3.8.3"
  }
 },
 "nbformat": 4,
 "nbformat_minor": 4
}
