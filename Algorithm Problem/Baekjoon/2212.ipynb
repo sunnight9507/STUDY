{
 "cells": [
  {
   "cell_type": "markdown",
   "metadata": {},
   "source": [
    "### [센서](https://www.acmicpc.net/problem/2212)"
   ]
  },
  {
   "cell_type": "code",
   "execution_count": 1,
   "metadata": {},
   "outputs": [
    {
     "name": "stdout",
     "output_type": "stream",
     "text": [
      "6\n",
      "2\n",
      "1 6 9 3 6 7\n"
     ]
    }
   ],
   "source": [
    "N = int(input())\n",
    "K = int(input())\n",
    "lst = list(map(int, input().split()))"
   ]
  },
  {
   "cell_type": "code",
   "execution_count": 17,
   "metadata": {},
   "outputs": [
    {
     "name": "stdout",
     "output_type": "stream",
     "text": [
      "5\n"
     ]
    }
   ],
   "source": [
    "if N <= K: print(0)\n",
    "else:\n",
    "    lst.sort()\n",
    "    dis = [lst[i+1] - lst[i] for i in range(N-1)]\n",
    "    dis.sort(reverse=True)\n",
    "    print(sum(dis[K-1:]))"
   ]
  }
 ],
 "metadata": {
  "kernelspec": {
   "display_name": "Python 3",
   "language": "python",
   "name": "python3"
  },
  "language_info": {
   "codemirror_mode": {
    "name": "ipython",
    "version": 3
   },
   "file_extension": ".py",
   "mimetype": "text/x-python",
   "name": "python",
   "nbconvert_exporter": "python",
   "pygments_lexer": "ipython3",
   "version": "3.8.3"
  }
 },
 "nbformat": 4,
 "nbformat_minor": 4
}
