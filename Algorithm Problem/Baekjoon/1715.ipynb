{
 "cells": [
  {
   "cell_type": "markdown",
   "metadata": {},
   "source": [
    "### [카드 정렬하기](https://www.acmicpc.net/problem/1715)"
   ]
  },
  {
   "cell_type": "code",
   "execution_count": 20,
   "metadata": {},
   "outputs": [
    {
     "name": "stdout",
     "output_type": "stream",
     "text": [
      "1\n",
      "10\n",
      "10\n"
     ]
    }
   ],
   "source": [
    "import heapq\n",
    "\n",
    "N = int(input())\n",
    "\n",
    "heap = []\n",
    "result = 0\n",
    "\n",
    "for _ in range(N):\n",
    "    heapq.heappush(heap, int(input()))\n",
    "    \n",
    "if len(heap) == 1: print(0)\n",
    "else:\n",
    "    while len(heap) > 1:\n",
    "        first = heapq.heappop(heap)\n",
    "        second = heapq.heappop(heap)\n",
    "        result += first + second\n",
    "        heapq.heappush(heap, first + second)\n",
    "    print(result)"
   ]
  }
 ],
 "metadata": {
  "kernelspec": {
   "display_name": "Python 3",
   "language": "python",
   "name": "python3"
  },
  "language_info": {
   "codemirror_mode": {
    "name": "ipython",
    "version": 3
   },
   "file_extension": ".py",
   "mimetype": "text/x-python",
   "name": "python",
   "nbconvert_exporter": "python",
   "pygments_lexer": "ipython3",
   "version": "3.8.3"
  }
 },
 "nbformat": 4,
 "nbformat_minor": 4
}
