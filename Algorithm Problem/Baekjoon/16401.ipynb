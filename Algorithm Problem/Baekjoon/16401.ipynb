{
 "cells": [
  {
   "cell_type": "markdown",
   "metadata": {},
   "source": [
    "3 10\n",
    "\n",
    "1 2 3 4 5 6 7 8 9 10\n",
    "\n",
    "8\n",
    "\n",
    "3명에게 가장 긴 길이의 과자를 주어야 하기 때문에 8,9,10에서 각각 8씩 준다.\n"
   ]
  },
  {
   "cell_type": "code",
   "execution_count": 50,
   "metadata": {},
   "outputs": [
    {
     "name": "stdout",
     "output_type": "stream",
     "text": [
      "5 3\n",
      "1 1 1 2\n",
      "1 1 1 2\n",
      "1\n"
     ]
    }
   ],
   "source": [
    "def insert_operation(n_m,m_len):\n",
    "    \n",
    "    m_len.sort(reverse = True)\n",
    "    \n",
    "    while(len(m_len) < n_m[0]):\n",
    "        max_m = m_len[0]\n",
    "        del m_len[0]\n",
    "        if(max_m % 2 == 0):\n",
    "            m_len.append(max_m // 2)\n",
    "            m_len.append(max_m // 2)\n",
    "        else:\n",
    "            m_len.append(max_m // 2)\n",
    "            m_len.append(max_m // 2 + 1)\n",
    "        m_len.sort(reverse = True)\n",
    "        \n",
    "    \n",
    "    max_len = m_len[n_m[0] - 1]\n",
    "    \n",
    "    while(True):\n",
    "        max_m = m_len[0]\n",
    "        del m_len[0]\n",
    "        if(max_m % 2 == 0):\n",
    "            m_len.append(max_m // 2)\n",
    "            m_len.append(max_m // 2)\n",
    "        else:\n",
    "            m_len.append(max_m // 2)\n",
    "            m_len.append(max_m // 2 + 1)\n",
    "        m_len.sort(reverse = True)\n",
    "                \n",
    "        if(max_len < m_len[n_m[0] - 1]):\n",
    "            max_len = m_len[n_m[0] - 1]\n",
    "        else:\n",
    "            break        \n",
    "    print(max_len)\n",
    "    \n",
    "n_m = [int(i) for i in input().split()]\n",
    "\n",
    "m_len = list(map(int, input().split()))\n",
    "    \n",
    "insert_operation(n_m,arr)"
   ]
  }
 ],
 "metadata": {
  "kernelspec": {
   "display_name": "Python 3",
   "language": "python",
   "name": "python3"
  },
  "language_info": {
   "codemirror_mode": {
    "name": "ipython",
    "version": 3
   },
   "file_extension": ".py",
   "mimetype": "text/x-python",
   "name": "python",
   "nbconvert_exporter": "python",
   "pygments_lexer": "ipython3",
   "version": "3.7.1"
  }
 },
 "nbformat": 4,
 "nbformat_minor": 2
}
