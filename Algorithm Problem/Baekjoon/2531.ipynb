{
 "cells": [
  {
   "cell_type": "markdown",
   "metadata": {},
   "source": [
    "### [회전 초밥](https://www.acmicpc.net/problem/2531)"
   ]
  },
  {
   "cell_type": "code",
   "execution_count": 24,
   "metadata": {},
   "outputs": [
    {
     "name": "stdout",
     "output_type": "stream",
     "text": [
      "8 30 4 30\n",
      "7\n",
      "9\n",
      "7 \n",
      "30\n",
      "2\n",
      "7\n",
      "9\n",
      "25\n"
     ]
    }
   ],
   "source": [
    "N, d, k, c = map(int, input().split())\n",
    "\n",
    "lst = [0] * N\n",
    "for _ in range(N):\n",
    "    lst[_] = int(input())"
   ]
  },
  {
   "cell_type": "code",
   "execution_count": 25,
   "metadata": {},
   "outputs": [
    {
     "name": "stdout",
     "output_type": "stream",
     "text": [
      "5\n"
     ]
    }
   ],
   "source": [
    "_dict = {}\n",
    "_max = 0\n",
    "coupon = True\n",
    "for _ in range(N + k):\n",
    "    \n",
    "    if _ < k:\n",
    "        if lst[_] not in _dict:\n",
    "            _dict[lst[_]] = 1\n",
    "        else: _dict[lst[_]] += 1\n",
    "    else:\n",
    "        tmp = _ % N\n",
    "        del_tmp = (N + tmp - k) % N\n",
    "        \n",
    "#         print(tmp, del_tmp)\n",
    "        \n",
    "        if lst[del_tmp] in _dict:\n",
    "            _dict[lst[del_tmp]] -= 1\n",
    "            if _dict[lst[del_tmp]] == 0: \n",
    "                del _dict[lst[del_tmp]]\n",
    "        \n",
    "        if lst[tmp] in _dict:\n",
    "            _dict[lst[tmp]] += 1\n",
    "        else:\n",
    "            _dict[lst[tmp]] = 1\n",
    "    \n",
    "#         print(_dict, len(_dict), c in _dict)\n",
    "        if c in _dict:\n",
    "            if _max < len(_dict):\n",
    "                _max = len(_dict)\n",
    "        else:\n",
    "            if _max < len(_dict)+1:\n",
    "                _max = len(_dict)+1\n",
    "\n",
    "print(_max)"
   ]
  },
  {
   "cell_type": "code",
   "execution_count": null,
   "metadata": {},
   "outputs": [],
   "source": []
  },
  {
   "cell_type": "code",
   "execution_count": 10,
   "metadata": {},
   "outputs": [
    {
     "name": "stdout",
     "output_type": "stream",
     "text": [
      "4\n"
     ]
    }
   ],
   "source": [
    "_max = 0\n",
    "for _ in range(N):\n",
    "    coupon = True\n",
    "    _set = set()\n",
    "    for i in range(k):\n",
    "        tmp = (_+i)%N\n",
    "        _set.add(lst[tmp])\n",
    "        if lst[tmp] == c:\n",
    "            coupon = False\n",
    "    if coupon:\n",
    "        if _max < len(_set)+1: _max = len(_set)+1\n",
    "    elif _max < len(_set): _max = len(_set)\n",
    "\n",
    "print(_max)"
   ]
  },
  {
   "cell_type": "code",
   "execution_count": null,
   "metadata": {},
   "outputs": [],
   "source": []
  }
 ],
 "metadata": {
  "kernelspec": {
   "display_name": "Python 3",
   "language": "python",
   "name": "python3"
  },
  "language_info": {
   "codemirror_mode": {
    "name": "ipython",
    "version": 3
   },
   "file_extension": ".py",
   "mimetype": "text/x-python",
   "name": "python",
   "nbconvert_exporter": "python",
   "pygments_lexer": "ipython3",
   "version": "3.8.3"
  }
 },
 "nbformat": 4,
 "nbformat_minor": 4
}
