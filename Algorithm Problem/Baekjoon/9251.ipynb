{
 "cells": [
  {
   "cell_type": "markdown",
   "metadata": {},
   "source": [
    "### [LCS](https://www.acmicpc.net/problem/9251)"
   ]
  },
  {
   "cell_type": "code",
   "execution_count": 39,
   "metadata": {},
   "outputs": [
    {
     "name": "stdout",
     "output_type": "stream",
     "text": [
      "ACAYKP\n",
      "CAPCAK\n"
     ]
    }
   ],
   "source": [
    "a = input()\n",
    "b = input()"
   ]
  },
  {
   "cell_type": "code",
   "execution_count": 43,
   "metadata": {},
   "outputs": [
    {
     "name": "stdout",
     "output_type": "stream",
     "text": [
      "[0, 0, 0, 0, 0, 0]\n",
      "[0, 1, 0, 0, 0, 0]\n",
      "[1, 1, 2, 0, 0, 0]\n",
      "[1, 1, 2, 0, 0, 3]\n",
      "[1, 2, 2, 0, 0, 3]\n",
      "[1, 2, 3, 0, 0, 3]\n",
      "[1, 2, 3, 0, 4, 3]\n",
      "4\n"
     ]
    }
   ],
   "source": [
    "n = len(a)\n",
    "lst = [0 for _ in range(n)]\n",
    "\n",
    "\n",
    "for _ in b:\n",
    "    print(lst)\n",
    "    new_lst = [0 for _ in range(n)]\n",
    "    tmp = 0\n",
    "    for idx, _str in enumerate(a):\n",
    "        if _str == _:\n",
    "            new_lst[idx] = tmp + 1\n",
    "            tmp = max(tmp, lst[idx])\n",
    "        else:\n",
    "            new_lst[idx] = lst[idx]\n",
    "            tmp = max(tmp, lst[idx])\n",
    "    lst = new_lst\n",
    "\n",
    "print(lst)\n",
    "print(max(lst))"
   ]
  }
 ],
 "metadata": {
  "kernelspec": {
   "display_name": "Python 3",
   "language": "python",
   "name": "python3"
  },
  "language_info": {
   "codemirror_mode": {
    "name": "ipython",
    "version": 3
   },
   "file_extension": ".py",
   "mimetype": "text/x-python",
   "name": "python",
   "nbconvert_exporter": "python",
   "pygments_lexer": "ipython3",
   "version": "3.8.3"
  }
 },
 "nbformat": 4,
 "nbformat_minor": 4
}
