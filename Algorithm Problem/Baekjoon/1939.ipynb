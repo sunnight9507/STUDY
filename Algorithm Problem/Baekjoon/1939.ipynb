{
 "cells": [
  {
   "cell_type": "markdown",
   "metadata": {},
   "source": [
    "### [중량제한](https://www.acmicpc.net/problem/1939)"
   ]
  },
  {
   "cell_type": "code",
   "execution_count": 35,
   "metadata": {},
   "outputs": [
    {
     "name": "stdout",
     "output_type": "stream",
     "text": [
      "3 3\n",
      "1 2 2\n",
      "3 1 3\n",
      "2 3 2\n",
      "1 3\n",
      "3\n"
     ]
    }
   ],
   "source": [
    "import heapq\n",
    "\n",
    "N, M = map(int, input().split())\n",
    "lst = [[] for _ in range(N+1)]\n",
    "\n",
    "for _ in range(M):\n",
    "    a,b,c = map(int, input().split())\n",
    "    lst[a].append((-c,b))\n",
    "    lst[b].append((-c,a))\n",
    "    \n",
    "a, b = map(int, input().split())\n",
    "\n",
    "heap = []\n",
    "heapq.heappush(heap, (0, a, float('inf')))\n",
    "_min = [float('inf')] * (N+1)\n",
    "visited = [False]*(N+1)\n",
    "\n",
    "while heap:\n",
    "    cost, start, maxcost = heapq.heappop(heap)\n",
    "    if visited[start]: continue\n",
    "    visited[start] = True\n",
    "    \n",
    "    if start == b: \n",
    "        print(maxcost)\n",
    "        break\n",
    "        \n",
    "    for v, e in lst[start]:\n",
    "        if not visited[e] and _min[e] > v:\n",
    "            _min[e] = v\n",
    "            heapq.heappush(heap, (v, e, min(maxcost, -v)))"
   ]
  },
  {
   "cell_type": "code",
   "execution_count": null,
   "metadata": {},
   "outputs": [],
   "source": []
  },
  {
   "cell_type": "code",
   "execution_count": 5,
   "metadata": {},
   "outputs": [
    {
     "name": "stdout",
     "output_type": "stream",
     "text": [
      "3 3\n",
      "1 2 2\n",
      "3 1 3\n",
      "2 3 2\n",
      "1 3\n"
     ]
    }
   ],
   "source": [
    "N, M = map(int, input().split())\n",
    "_dict = {_+1 : dict() for _ in range(N)}\n",
    "\n",
    "for _ in range(M):\n",
    "    a,b,c = map(int, input().split())\n",
    "    _dict[a][b] = c\n",
    "    _dict[b][a] = c\n",
    "    \n",
    "a, b = map(int, input().split())"
   ]
  },
  {
   "cell_type": "code",
   "execution_count": 26,
   "metadata": {},
   "outputs": [
    {
     "name": "stdout",
     "output_type": "stream",
     "text": [
      "3\n"
     ]
    }
   ],
   "source": [
    "weight = [0 for _ in range(N+1)]\n",
    "visited = [False for _ in range(N+1)]\n",
    "\n",
    "# print(_dict)\n",
    "\n",
    "\n",
    "queue = []\n",
    "for _ in _dict[a]:\n",
    "#     print(_)\n",
    "    queue.append([a,_,_dict[a][_]])\n",
    "    \n",
    "while queue:\n",
    "#     print(queue, weight)\n",
    "    s,e,v = queue.pop(0)\n",
    "    visited[s] = True\n",
    "    \n",
    "    if not visited[e] and weight[e] < v:\n",
    "        weight[e] = v\n",
    "    \n",
    "    if not visited[e]:\n",
    "        for _ in _dict[e]:\n",
    "            queue.append([e,_,_dict[e][_]])\n",
    "            \n",
    "print(weight[b])"
   ]
  }
 ],
 "metadata": {
  "kernelspec": {
   "display_name": "Python 3",
   "language": "python",
   "name": "python3"
  },
  "language_info": {
   "codemirror_mode": {
    "name": "ipython",
    "version": 3
   },
   "file_extension": ".py",
   "mimetype": "text/x-python",
   "name": "python",
   "nbconvert_exporter": "python",
   "pygments_lexer": "ipython3",
   "version": "3.8.3"
  }
 },
 "nbformat": 4,
 "nbformat_minor": 4
}
