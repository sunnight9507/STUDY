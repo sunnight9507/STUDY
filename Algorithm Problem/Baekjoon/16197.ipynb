{
 "cells": [
  {
   "cell_type": "markdown",
   "metadata": {},
   "source": [
    "### [두 동전](https://www.acmicpc.net/problem/16197)"
   ]
  },
  {
   "cell_type": "code",
   "execution_count": 60,
   "metadata": {},
   "outputs": [
    {
     "name": "stdout",
     "output_type": "stream",
     "text": [
      "5 3\n",
      "###\n",
      ".o.\n",
      "#.#\n",
      ".o.\n",
      "###\n"
     ]
    }
   ],
   "source": [
    "X, Y = map(int, input().split())\n",
    "\n",
    "lst = [input() for _ in range(X)]"
   ]
  },
  {
   "cell_type": "code",
   "execution_count": 64,
   "metadata": {},
   "outputs": [
    {
     "name": "stdout",
     "output_type": "stream",
     "text": [
      "3\n"
     ]
    }
   ],
   "source": [
    "def next_loc(lst, tmp_1, tmp_2, x, y):\n",
    "    nxt_1, nxt_2 = (tmp_1[0]+x, tmp_1[1]+y), (tmp_2[0]+x, tmp_2[1]+y)\n",
    "    \n",
    "    # 두개 다 safe한 경우\n",
    "    if 0 <= nxt_1[0] < X and  0 <= nxt_1[1] < Y and 0 <= nxt_2[0] < X and  0 <= nxt_2[1] < Y:\n",
    "        if lst[nxt_1[0]][nxt_1[1]] == '#':\n",
    "            nxt_1 = tmp_1\n",
    "        if lst[nxt_2[0]][nxt_2[1]] == '#':\n",
    "            nxt_2 = tmp_2\n",
    "        \n",
    "        return nxt_1, nxt_2, 2\n",
    "    # 둘 다 떨어진 경우\n",
    "    elif (nxt_1[0] < 0 or nxt_1[0] >= X or nxt_1[1] < 0 or nxt_1[1] >= Y) and (nxt_2[0] < 0 or nxt_2[0] >= X or nxt_2[1] < 0 or nxt_2[1] >= Y):\n",
    "        return nxt_1, nxt_2, 0\n",
    "    else:\n",
    "        return nxt_1, nxt_2, 1    \n",
    "\n",
    "def func(X, Y, lst):\n",
    "    \n",
    "    tmp_loc = []\n",
    "    start = []\n",
    "    move_lst = [[0,1],[0,-1],[1,0],[-1,0]]\n",
    "    check_set = set([])\n",
    "\n",
    "    for i in range(X):\n",
    "        for j in range(Y):\n",
    "            if lst[i][j] == 'o':\n",
    "                start.append((i,j))\n",
    "\n",
    "    tmp_loc.append(start)\n",
    "\n",
    "    cnt = 1\n",
    "    while tmp_loc:\n",
    "        tmp_len = len(tmp_loc)\n",
    "\n",
    "        for _ in range(tmp_len):\n",
    "            tmp_1, tmp_2 = tmp_loc.pop(0)\n",
    "\n",
    "            for x,y in move_lst:\n",
    "                nxt_1, nxt_2, result_cnt = next_loc(lst, tmp_1, tmp_2, x, y)\n",
    "                \n",
    "                # 두개 다 safe\n",
    "                if result_cnt == 2 and (nxt_1, nxt_2) not in check_set:\n",
    "                    tmp_loc.append((nxt_1, nxt_2))\n",
    "                    check_set.add((nxt_1, nxt_2))\n",
    "                elif result_cnt == 1:\n",
    "                    return cnt\n",
    "        cnt += 1\n",
    "        \n",
    "        if cnt > 10:\n",
    "            return -1\n",
    "    \n",
    "    return -1\n",
    "        \n",
    "print(func(X, Y, lst))"
   ]
  }
 ],
 "metadata": {
  "kernelspec": {
   "display_name": "Python 3",
   "language": "python",
   "name": "python3"
  },
  "language_info": {
   "codemirror_mode": {
    "name": "ipython",
    "version": 3
   },
   "file_extension": ".py",
   "mimetype": "text/x-python",
   "name": "python",
   "nbconvert_exporter": "python",
   "pygments_lexer": "ipython3",
   "version": "3.8.5"
  }
 },
 "nbformat": 4,
 "nbformat_minor": 4
}
