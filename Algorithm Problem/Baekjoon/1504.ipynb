{
 "cells": [
  {
   "cell_type": "markdown",
   "metadata": {},
   "source": [
    "### [특정한 최단 경로](https://www.acmicpc.net/problem/1504)"
   ]
  },
  {
   "cell_type": "code",
   "execution_count": 1,
   "metadata": {},
   "outputs": [
    {
     "name": "stdout",
     "output_type": "stream",
     "text": [
      "4 6\n",
      "1 2 3\n",
      "2 3 3\n",
      "3 4 1\n",
      "1 3 5\n",
      "2 4 5\n",
      "1 4 4\n",
      "2 3\n"
     ]
    }
   ],
   "source": [
    "N, E = map(int, input().split())\n",
    "\n",
    "edges = {_ : dict() for _ in range(1, N+1)}\n",
    "for _ in range(E):\n",
    "    a, b, c = map(int, input().split())\n",
    "    edges[a][b] = c\n",
    "    edges[b][a] = c\n",
    "    \n",
    "v1, v2 = map(int,input().split())"
   ]
  },
  {
   "cell_type": "code",
   "execution_count": 9,
   "metadata": {},
   "outputs": [
    {
     "name": "stdout",
     "output_type": "stream",
     "text": [
      "4 5\n",
      "1 2 3\n",
      "1 3 1\n",
      "1 4 1\n",
      "2 3 3\n",
      "3 4 4\n",
      "2 3\n"
     ]
    }
   ],
   "source": [
    "N, E = map(int, input().split())\n",
    "\n",
    "edges = {_ : dict() for _ in range(1, N+1)}\n",
    "for _ in range(E):\n",
    "    a, b, c = map(int, input().split())\n",
    "    edges[a][b] = c\n",
    "    edges[b][a] = c\n",
    "    \n",
    "v1, v2 = map(int,input().split())"
   ]
  },
  {
   "cell_type": "code",
   "execution_count": 11,
   "metadata": {},
   "outputs": [
    {
     "name": "stdout",
     "output_type": "stream",
     "text": [
      "4 3\n",
      "1 4 1\n",
      "2 4 2\n",
      "3 4 3\n",
      "2 3\n"
     ]
    }
   ],
   "source": [
    "N, E = map(int, input().split())\n",
    "\n",
    "edges = {_ : dict() for _ in range(1, N+1)}\n",
    "for _ in range(E):\n",
    "    a, b, c = map(int, input().split())\n",
    "    edges[a][b] = c\n",
    "    edges[b][a] = c\n",
    "    \n",
    "v1, v2 = map(int,input().split())"
   ]
  },
  {
   "cell_type": "code",
   "execution_count": 19,
   "metadata": {},
   "outputs": [
    {
     "name": "stdout",
     "output_type": "stream",
     "text": [
      "11\n"
     ]
    }
   ],
   "source": [
    "import heapq\n",
    "\n",
    "def func(start, edges):\n",
    "    lst = [1e9 for _ in range(N+1)]\n",
    "    \n",
    "    lst[start] = 0\n",
    "    \n",
    "    heap = []\n",
    "    heapq.heappush(heap, (0, start))\n",
    "    \n",
    "    while heap:\n",
    "        tmp_dist, tmp_edge = heapq.heappop(heap)\n",
    "        if lst[tmp_edge] < tmp_dist:\n",
    "            continue\n",
    "        \n",
    "        for next_edge in edges[tmp_edge]:\n",
    "            if lst[next_edge] > tmp_dist + edges[tmp_edge][next_edge]:\n",
    "                lst[next_edge] = tmp_dist + edges[tmp_edge][next_edge]\n",
    "                heapq.heappush(heap, (tmp_dist + edges[tmp_edge][next_edge], next_edge))\n",
    "                \n",
    "    return lst\n",
    "\n",
    "start_v1 = func(v1, edges)\n",
    "start_v2 = func(v2, edges)\n",
    "\n",
    "# 1) start -> v1 -> v2 -> end\n",
    "way_1 = start_v1[1] + start_v1[v2] + start_v2[N]\n",
    "# 2) start -> v2 -> v1 -> end\n",
    "way_2 = start_v2[1] + start_v2[v1] + start_v1[N]\n",
    "best_way = min(way_1, way_2)\n",
    "\n",
    "if best_way >= 1e9:\n",
    "    print(-1)\n",
    "else:\n",
    "    print(best_way)"
   ]
  },
  {
   "cell_type": "code",
   "execution_count": null,
   "metadata": {},
   "outputs": [],
   "source": []
  },
  {
   "cell_type": "code",
   "execution_count": null,
   "metadata": {},
   "outputs": [],
   "source": []
  }
 ],
 "metadata": {
  "kernelspec": {
   "display_name": "Python 3",
   "language": "python",
   "name": "python3"
  },
  "language_info": {
   "codemirror_mode": {
    "name": "ipython",
    "version": 3
   },
   "file_extension": ".py",
   "mimetype": "text/x-python",
   "name": "python",
   "nbconvert_exporter": "python",
   "pygments_lexer": "ipython3",
   "version": "3.8.5"
  }
 },
 "nbformat": 4,
 "nbformat_minor": 4
}
