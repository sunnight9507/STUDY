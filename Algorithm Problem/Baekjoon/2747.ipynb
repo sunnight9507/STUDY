{
 "cells": [
  {
   "cell_type": "markdown",
   "metadata": {},
   "source": [
    "### [피보나치 수](https://www.acmicpc.net/problem/2747)"
   ]
  },
  {
   "cell_type": "code",
   "execution_count": 10,
   "metadata": {},
   "outputs": [
    {
     "name": "stdout",
     "output_type": "stream",
     "text": [
      "10\n",
      "55\n"
     ]
    }
   ],
   "source": [
    "def func(n):\n",
    "    if n == 0: return 0\n",
    "    elif n <= 2: return 1\n",
    "    \n",
    "    lst = [0 for _ in range(n+1)]\n",
    "    lst[1], lst[2] = 1,1\n",
    "    for _ in range(3,n+1):\n",
    "        lst[_] = lst[_-1] + lst[_-2]\n",
    "    \n",
    "    return lst[n]\n",
    "\n",
    "N = int(input())\n",
    "\n",
    "print(func(N))"
   ]
  }
 ],
 "metadata": {
  "kernelspec": {
   "display_name": "Python 3",
   "language": "python",
   "name": "python3"
  },
  "language_info": {
   "codemirror_mode": {
    "name": "ipython",
    "version": 3
   },
   "file_extension": ".py",
   "mimetype": "text/x-python",
   "name": "python",
   "nbconvert_exporter": "python",
   "pygments_lexer": "ipython3",
   "version": "3.8.3"
  }
 },
 "nbformat": 4,
 "nbformat_minor": 4
}
