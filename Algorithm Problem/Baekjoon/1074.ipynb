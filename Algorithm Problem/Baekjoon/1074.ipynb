{
 "cells": [
  {
   "cell_type": "markdown",
   "metadata": {},
   "source": [
    "### [Z](https://www.acmicpc.net/problem/1074)"
   ]
  },
  {
   "cell_type": "code",
   "execution_count": 5,
   "metadata": {},
   "outputs": [
    {
     "name": "stdout",
     "output_type": "stream",
     "text": [
      "1 0 0\n",
      "0\n"
     ]
    }
   ],
   "source": [
    "N, x, y = map(int, input().split())\n",
    "\n",
    "cnt = 0\n",
    "\n",
    "while N != 0:\n",
    "    # print(x,y,cnt)\n",
    "    if x < 2**(N-1) and y < 2**(N-1):\n",
    "        #'cnt += 1\n",
    "        pass\n",
    "    elif x < 2**(N-1) and y >= 2**(N-1):\n",
    "        y -= 2**(N-1)\n",
    "        cnt += 4**(N-1)\n",
    "    elif x >= 2**(N-1) and y < 2**(N-1):\n",
    "        x -= 2**(N-1)\n",
    "        cnt += (4**(N-1)) * 2\n",
    "    else:\n",
    "        x -= 2**(N-1)\n",
    "        y -= 2**(N-1)\n",
    "        cnt += (4**(N-1)) * 3\n",
    "    \n",
    "    N -= 1\n",
    "\n",
    "print(cnt)"
   ]
  }
 ],
 "metadata": {
  "kernelspec": {
   "display_name": "Python 3",
   "language": "python",
   "name": "python3"
  },
  "language_info": {
   "codemirror_mode": {
    "name": "ipython",
    "version": 3
   },
   "file_extension": ".py",
   "mimetype": "text/x-python",
   "name": "python",
   "nbconvert_exporter": "python",
   "pygments_lexer": "ipython3",
   "version": "3.8.3"
  }
 },
 "nbformat": 4,
 "nbformat_minor": 4
}
