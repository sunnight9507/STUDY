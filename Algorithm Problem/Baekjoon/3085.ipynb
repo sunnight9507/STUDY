{
 "cells": [
  {
   "cell_type": "code",
   "execution_count": 20,
   "metadata": {},
   "outputs": [
    {
     "name": "stdout",
     "output_type": "stream",
     "text": [
      "5\n",
      "ycpzy\n",
      "cyzzp\n",
      "ccppp\n",
      "cyyzc\n",
      "cppzz\n",
      "4\n"
     ]
    }
   ],
   "source": [
    "import itertools\n",
    "\n",
    "def insert_operation(nan):    \n",
    "    max = 1\n",
    "    \n",
    "    for i in nan:\n",
    "        temp_max = 1\n",
    "        temp = i[0]\n",
    "        for j in range(1,5):\n",
    "            if(temp == i[j]):\n",
    "                temp_max += 1\n",
    "                temp = i[j]\n",
    "            else:\n",
    "                temp_max = 1\n",
    "                temp = i[j]\n",
    "           \n",
    "            if (temp_max > max):\n",
    "                max = temp_max\n",
    "    # 행을 기준으로 Max값 확인\n",
    "    \n",
    "    for i in range(0,5):\n",
    "        temp_max = 1\n",
    "        temp = nan[0][i]\n",
    "        for j in nan[1:]:\n",
    "            if(temp == j[i]):\n",
    "                temp_max += 1\n",
    "                temp = j[i]\n",
    "            else:\n",
    "                temp_max = 1\n",
    "                temp = j[i]\n",
    "           \n",
    "            if (temp_max > max):\n",
    "                max = temp_max\n",
    "    # 열을 기준으로 Max값 확인    \n",
    "    \n",
    "    list(itertools.permutations([1,2,3,4,5],2))\n",
    "    \n",
    "    \n",
    "    \n",
    "    \n",
    "    \n",
    "    \n",
    "n = int(input())\n",
    "\n",
    "nan = []\n",
    "\n",
    "for i in range(0,5):\n",
    "    nan.append(input())\n",
    "\n",
    "insert_operation(nan)"
   ]
  },
  {
   "cell_type": "code",
   "execution_count": 5,
   "metadata": {},
   "outputs": [
    {
     "data": {
      "text/plain": [
       "'\\n1) 각 열, 행 별로 최댓값 구하기\\n2) 각 행,열 총 10개의 리스트로 만듦\\n3) 바꿀수 있는 경우의 수 다 구하기\\n4) 행끼리 바꾸면 그 행, 각 열 총 3개 줄 최댓값 확인\\n   열끼리 바꾸면 그 열, 각 행 총 3개 줄 최댓값 확인\\n'"
      ]
     },
     "execution_count": 5,
     "metadata": {},
     "output_type": "execute_result"
    }
   ],
   "source": [
    "'''\n",
    "1) 각 열, 행 별로 최댓값 구하기\n",
    "2) 각 행,열 총 10개의 리스트로 만듦\n",
    "3) 바꿀수 있는 경우의 수 다 구하기\n",
    "4) 행끼리 바꾸면 그 행, 각 열 총 3개 줄 최댓값 확인\n",
    "   열끼리 바꾸면 그 열, 각 행 총 3개 줄 최댓값 확인\n",
    "'''"
   ]
  }
 ],
 "metadata": {
  "kernelspec": {
   "display_name": "Python 3",
   "language": "python",
   "name": "python3"
  },
  "language_info": {
   "codemirror_mode": {
    "name": "ipython",
    "version": 3
   },
   "file_extension": ".py",
   "mimetype": "text/x-python",
   "name": "python",
   "nbconvert_exporter": "python",
   "pygments_lexer": "ipython3",
   "version": "3.7.3"
  }
 },
 "nbformat": 4,
 "nbformat_minor": 2
}
