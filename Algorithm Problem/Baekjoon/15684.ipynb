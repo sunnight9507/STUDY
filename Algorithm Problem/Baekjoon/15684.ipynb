{
 "cells": [
  {
   "cell_type": "markdown",
   "metadata": {},
   "source": [
    "### [사다리 조작](https://www.acmicpc.net/problem/15684)"
   ]
  },
  {
   "cell_type": "code",
   "execution_count": 99,
   "metadata": {},
   "outputs": [
    {
     "name": "stdout",
     "output_type": "stream",
     "text": [
      "4 3 4\n",
      "1 1\n",
      "2 2\n",
      "1 3\n"
     ]
    }
   ],
   "source": [
    "N, M, H = map(int, input().split())\n",
    "lst = [[0] * (N+1) for _ in range(H+1)]\n",
    "for _ in range(M):\n",
    "    a,b = map(int, input().split())\n",
    "    lst[a][b] = b+1\n",
    "    lst[a][b+1] = b"
   ]
  },
  {
   "cell_type": "code",
   "execution_count": 101,
   "metadata": {},
   "outputs": [
    {
     "name": "stdout",
     "output_type": "stream",
     "text": [
      "0\n"
     ]
    }
   ],
   "source": [
    "def check(lst):\n",
    "    result = [_ for _ in range(1,N+1)]\n",
    "\n",
    "    for i in range(N):\n",
    "        tmp = result[i]\n",
    "        for _ in range(1,H+1):\n",
    "            if lst[_][tmp]:\n",
    "                tmp = lst[_][tmp]\n",
    "        result[i] = tmp\n",
    "\n",
    "    if result == [_ for _ in range(1,N+1)]:\n",
    "        return True\n",
    "    return False\n",
    "    \n",
    "\n",
    "def func():\n",
    "#     print('=================0==============')\n",
    "    # 사다리 하나도 추가하지 않을 경우\n",
    "    if check(lst): return 0\n",
    "    \n",
    "    # 사다리 추가할 리스트\n",
    "    add_lst = []\n",
    "    for i in range(1,H+1):\n",
    "        for j in range(1,N):\n",
    "            if lst[i][j] + lst[i][j+1]:\n",
    "                pass\n",
    "            else:\n",
    "                add_lst.append([i,j])\n",
    "    \n",
    "    len_add_lst = len(add_lst)\n",
    "    \n",
    "#     print('=================1==============')\n",
    "    # 사다리 하나 추가할 경우\n",
    "    for i,j in add_lst:\n",
    "#         print(i,j)\n",
    "        lst[i][j], lst[i][j+1] = j+1, j\n",
    "        if check(lst):\n",
    "            return 1\n",
    "        lst[i][j], lst[i][j+1] = 0, 0\n",
    "    \n",
    "#     print('=================2==============')\n",
    "    # 사다리 두개 추가할 경우\n",
    "    for idx_1 in range(len_add_lst-1):\n",
    "        i_1,j_1 = add_lst[idx_1]\n",
    "        lst[i_1][j_1], lst[i_1][j_1+1] = j_1+1, j_1\n",
    "        for idx_2 in range(idx_1+1, len_add_lst):\n",
    "            i_2,j_2 = add_lst[idx_2]\n",
    "            if i_1 == i_2 and j_1+1 == j_2:\n",
    "                pass\n",
    "            else:\n",
    "#                 print([i_1,j_1], [i_2,j_2])\n",
    "                lst[i_2][j_2], lst[i_2][j_2+1] = j_2+1, j_2\n",
    "                if check(lst):\n",
    "                    return 2\n",
    "                lst[i_2][j_2], lst[i_2][j_2+1] = 0,0\n",
    "        lst[i_1][j_1], lst[i_1][j_1+1] = 0,0\n",
    "        \n",
    "#     print('=================3==============')\n",
    "    # 사다리 세개 추가할 경우\n",
    "    for idx_1 in range(len_add_lst-2):\n",
    "        i_1,j_1 = add_lst[idx_1]\n",
    "        lst[i_1][j_1], lst[i_1][j_1+1] = j_1+1, j_1\n",
    "        for idx_2 in range(idx_1+1, len_add_lst-1):\n",
    "            i_2,j_2 = add_lst[idx_2]\n",
    "            if i_1 == i_2 and j_1+1 == j_2:\n",
    "                pass\n",
    "            else:\n",
    "                lst[i_2][j_2], lst[i_2][j_2+1] = j_2+1, j_2\n",
    "                for idx_3 in range(idx_2+1, len_add_lst):\n",
    "                    i_3,j_3 = add_lst[idx_3]\n",
    "                    if i_2 == i_3 and j_2+1 == j_3:\n",
    "                        pass\n",
    "                    else:\n",
    "                        lst[i_3][j_3], lst[i_3][j_3+1] = j_3+1, j_3\n",
    "                        if check(lst):\n",
    "#                             print([i_1,j_1], [i_2,j_2], [i_3,j_3])\n",
    "                            return 3\n",
    "                        lst[i_3][j_3], lst[i_3][j_3+1] = 0,0\n",
    "                lst[i_2][j_2], lst[i_2][j_2+1] = 0,0\n",
    "        lst[i_1][j_1], lst[i_1][j_1+1] = 0,0\n",
    "        \n",
    "    return -1\n",
    "    \n",
    "print(func())"
   ]
  }
 ],
 "metadata": {
  "kernelspec": {
   "display_name": "Python 3",
   "language": "python",
   "name": "python3"
  },
  "language_info": {
   "codemirror_mode": {
    "name": "ipython",
    "version": 3
   },
   "file_extension": ".py",
   "mimetype": "text/x-python",
   "name": "python",
   "nbconvert_exporter": "python",
   "pygments_lexer": "ipython3",
   "version": "3.8.3"
  }
 },
 "nbformat": 4,
 "nbformat_minor": 4
}
