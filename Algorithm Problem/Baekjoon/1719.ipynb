{
 "cells": [
  {
   "cell_type": "markdown",
   "metadata": {},
   "source": [
    "### [택배](https://www.acmicpc.net/problem/1719)"
   ]
  },
  {
   "cell_type": "code",
   "execution_count": null,
   "metadata": {},
   "outputs": [],
   "source": [
    "6 10\n",
    "1 2 2\n",
    "1 3 1\n",
    "2 4 5\n",
    "2 5 3\n",
    "2 6 7\n",
    "3 4 4\n",
    "3 5 6\n",
    "3 6 7\n",
    "4 6 4\n",
    "5 6 2"
   ]
  },
  {
   "cell_type": "code",
   "execution_count": 2,
   "metadata": {},
   "outputs": [
    {
     "name": "stdout",
     "output_type": "stream",
     "text": [
      "6 10\n",
      "1 2 2\n",
      "1 3 1\n",
      "2 4 5\n",
      "2 5 3\n",
      "2 6 7\n",
      "3 4 4\n",
      "3 5 6\n",
      "3 6 7\n",
      "4 6 4\n",
      "5 6 2\n"
     ]
    }
   ],
   "source": [
    "n, m = map(int, input().split())\n",
    "_dict = {_ : {} for _ in range(1,n+1)}\n",
    "for _ in range(m):\n",
    "    s, e, v = map(int, input().split())\n",
    "    _dict[s][e] = v\n",
    "    _dict[e][s] = v"
   ]
  },
  {
   "cell_type": "code",
   "execution_count": 3,
   "metadata": {},
   "outputs": [
    {
     "data": {
      "text/plain": [
       "{1: {2: 2, 3: 1},\n",
       " 2: {1: 2, 4: 5, 5: 3, 6: 7},\n",
       " 3: {1: 1, 4: 4, 5: 6, 6: 7},\n",
       " 4: {2: 5, 3: 4, 6: 4},\n",
       " 5: {2: 3, 3: 6, 6: 2},\n",
       " 6: {2: 7, 3: 7, 4: 4, 5: 2}}"
      ]
     },
     "execution_count": 3,
     "metadata": {},
     "output_type": "execute_result"
    }
   ],
   "source": [
    "_dict"
   ]
  },
  {
   "cell_type": "code",
   "execution_count": 7,
   "metadata": {},
   "outputs": [],
   "source": [
    "import heapq\n",
    "import pprint\n",
    "\n",
    "def check(s,e,lst):\n",
    "    tmp_dist = lst[e]\n",
    "    tmp = e\n",
    "    route = [e]\n",
    "    \n",
    "    while tmp_dist:\n",
    "        for _ in range(1,n+1):\n",
    "            if tmp == _: continue\n",
    "            if _ in _dict[tmp] and lst[_] + _dict[tmp][_] == lst[tmp]:\n",
    "                route.append(_)\n",
    "                tmp_dist = lst[_]\n",
    "                tmp = _\n",
    "                break\n",
    "        \n",
    "    return route\n",
    "    \n",
    "\n",
    "def func(s, result):\n",
    "    lst = [1e9 for _ in range(n+1)]\n",
    "    heap = []\n",
    "    heapq.heappush(heap, [0,s,0])\n",
    "    lst[s] = 0\n",
    "    \n",
    "    while heap:\n",
    "        dist, tmp, tmp_dist = heapq.heappop(heap)\n",
    "        \n",
    "        if lst[tmp] < dist: continue\n",
    "        lst[tmp] = dist\n",
    "        \n",
    "        for next_edge in _dict[tmp]:\n",
    "            next_value = _dict[tmp][next_edge]\n",
    "            if lst[tmp] + next_value <= lst[next_edge]:\n",
    "                heapq.heappush(heap, [lst[tmp] + next_value, next_edge, next_value])\n",
    "                \n",
    "    print(lst)\n",
    "        \n",
    "    for i in range(1, n+1):\n",
    "        if s == i: \n",
    "            result[i-1][i-1] = '-'\n",
    "            continue\n",
    "        \n",
    "        route = check(s,i,lst)\n",
    "        print(i, route)\n",
    "        \n",
    "        result[s-1][i-1] = route[-2]\n",
    "    \n",
    "    print(result)\n",
    "    return result"
   ]
  },
  {
   "cell_type": "code",
   "execution_count": 9,
   "metadata": {},
   "outputs": [
    {
     "name": "stdout",
     "output_type": "stream",
     "text": [
      "[1000000000.0, 0, 2, 1, 5, 5, 7]\n",
      "2 [2, 1]\n",
      "3 [3, 1]\n",
      "4 [4, 3, 1]\n",
      "5 [5, 2, 1]\n",
      "6 [6, 5, 2, 1]\n",
      "[['-', 2, 3, 3, 2, 2], [0, 0, 0, 0, 0, 0], [0, 0, 0, 0, 0, 0], [0, 0, 0, 0, 0, 0], [0, 0, 0, 0, 0, 0], [0, 0, 0, 0, 0, 0]]\n",
      "[1000000000.0, 2, 0, 3, 5, 3, 5]\n",
      "1 [1, 2]\n",
      "3 [3, 1, 2]\n",
      "4 [4, 2]\n",
      "5 [5, 2]\n",
      "6 [6, 5, 2]\n",
      "[['-', 2, 3, 3, 2, 2], [1, '-', 1, 4, 5, 5], [0, 0, 0, 0, 0, 0], [0, 0, 0, 0, 0, 0], [0, 0, 0, 0, 0, 0], [0, 0, 0, 0, 0, 0]]\n",
      "[1000000000.0, 1, 3, 0, 4, 6, 7]\n",
      "1 [1, 3]\n",
      "2 [2, 1, 3]\n",
      "4 [4, 3]\n",
      "5 [5, 2, 1, 3]\n",
      "6 [6, 3]\n",
      "[['-', 2, 3, 3, 2, 2], [1, '-', 1, 4, 5, 5], [1, 1, '-', 4, 1, 6], [0, 0, 0, 0, 0, 0], [0, 0, 0, 0, 0, 0], [0, 0, 0, 0, 0, 0]]\n",
      "[1000000000.0, 5, 5, 4, 0, 6, 4]\n",
      "1 [1, 3, 4]\n",
      "2 [2, 4]\n",
      "3 [3, 4]\n",
      "5 [5, 6, 4]\n",
      "6 [6, 4]\n",
      "[['-', 2, 3, 3, 2, 2], [1, '-', 1, 4, 5, 5], [1, 1, '-', 4, 1, 6], [3, 2, 3, '-', 6, 6], [0, 0, 0, 0, 0, 0], [0, 0, 0, 0, 0, 0]]\n",
      "[1000000000.0, 5, 3, 6, 6, 0, 2]\n",
      "1 [1, 2, 5]\n",
      "2 [2, 5]\n",
      "3 [3, 1, 2, 5]\n",
      "4 [4, 6, 5]\n",
      "6 [6, 5]\n",
      "[['-', 2, 3, 3, 2, 2], [1, '-', 1, 4, 5, 5], [1, 1, '-', 4, 1, 6], [3, 2, 3, '-', 6, 6], [2, 2, 2, 6, '-', 6], [0, 0, 0, 0, 0, 0]]\n",
      "[1000000000.0, 7, 5, 7, 4, 2, 0]\n",
      "1 [1, 2, 5, 6]\n",
      "2 [2, 5, 6]\n",
      "3 [3, 6]\n",
      "4 [4, 6]\n",
      "5 [5, 6]\n",
      "[['-', 2, 3, 3, 2, 2], [1, '-', 1, 4, 5, 5], [1, 1, '-', 4, 1, 6], [3, 2, 3, '-', 6, 6], [2, 2, 2, 6, '-', 6], [5, 5, 3, 4, 5, '-']]\n",
      "[['-', 2, 3, 3, 2, 2],\n",
      " [1, '-', 1, 4, 5, 5],\n",
      " [1, 1, '-', 4, 1, 6],\n",
      " [3, 2, 3, '-', 6, 6],\n",
      " [2, 2, 2, 6, '-', 6],\n",
      " [5, 5, 3, 4, 5, '-']]\n"
     ]
    }
   ],
   "source": [
    "result = [[0 for _ in range(n)] for _ in range(n)]\n",
    "\n",
    "for i in range(n):\n",
    "    func(i+1,result)\n",
    "\n",
    "pprint.pprint(result)"
   ]
  }
 ],
 "metadata": {
  "kernelspec": {
   "display_name": "Python 3",
   "language": "python",
   "name": "python3"
  },
  "language_info": {
   "codemirror_mode": {
    "name": "ipython",
    "version": 3
   },
   "file_extension": ".py",
   "mimetype": "text/x-python",
   "name": "python",
   "nbconvert_exporter": "python",
   "pygments_lexer": "ipython3",
   "version": "3.8.3"
  }
 },
 "nbformat": 4,
 "nbformat_minor": 4
}
