{
 "cells": [
  {
   "cell_type": "markdown",
   "metadata": {},
   "source": [
    "### [현명한 나이트](https://www.acmicpc.net/problem/18404)"
   ]
  },
  {
   "cell_type": "code",
   "execution_count": 2,
   "metadata": {},
   "outputs": [
    {
     "name": "stdout",
     "output_type": "stream",
     "text": [
      "5 3\n",
      "2 4\n",
      "3 2\n",
      "3 5\n",
      "4 5\n"
     ]
    }
   ],
   "source": [
    "N, M = map(int, input().split())\n",
    "X, Y = map(int, input().split())\n",
    "lst = [list(map(int, input().split())) for _ in range(M)]"
   ]
  },
  {
   "cell_type": "code",
   "execution_count": 31,
   "metadata": {},
   "outputs": [],
   "source": [
    "from collections import deque\n",
    "\n",
    "def bfs(s):\n",
    "    visited = [[0 for _ in range(N+1)] for _ in range(N+1)]\n",
    "    cnt = 0\n",
    "    queue = deque([s])\n",
    "    \n",
    "    while queue:\n",
    "        x,y = queue.popleft()\n",
    "        tmp_cnt = visited[x][y]\n",
    "        \n",
    "        for _x, _y in move_lst:\n",
    "            tmp_x = x + _x\n",
    "            tmp_y = y + _y\n",
    "\n",
    "            if (0 < tmp_x <= N) and (0 < tmp_y <= N) and visited[tmp_x][tmp_y] == 0:\n",
    "                visited[tmp_x][tmp_y] = tmp_cnt + 1\n",
    "                queue.append([tmp_x,tmp_y])\n",
    "                \n",
    "    return visited"
   ]
  },
  {
   "cell_type": "code",
   "execution_count": 35,
   "metadata": {},
   "outputs": [
    {
     "name": "stdout",
     "output_type": "stream",
     "text": [
      "1 2 1 "
     ]
    }
   ],
   "source": [
    "move_lst = [[-2,-1],[-2,1],[-1,-2],[-1,2],[1,-2],[1,2],[2,-1],[2,1]]\n",
    "\n",
    "result = bfs([X,Y])\n",
    "for x,y in lst:\n",
    "    print(result[x][y], end = ' ')"
   ]
  }
 ],
 "metadata": {
  "kernelspec": {
   "display_name": "Python 3",
   "language": "python",
   "name": "python3"
  },
  "language_info": {
   "codemirror_mode": {
    "name": "ipython",
    "version": 3
   },
   "file_extension": ".py",
   "mimetype": "text/x-python",
   "name": "python",
   "nbconvert_exporter": "python",
   "pygments_lexer": "ipython3",
   "version": "3.8.3"
  }
 },
 "nbformat": 4,
 "nbformat_minor": 4
}
