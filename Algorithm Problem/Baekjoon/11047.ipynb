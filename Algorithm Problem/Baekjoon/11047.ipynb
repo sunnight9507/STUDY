{
 "cells": [
  {
   "cell_type": "markdown",
   "metadata": {},
   "source": [
    "입력\n",
    "\n",
    "10 4200\n",
    "\n",
    "1\n",
    "\n",
    "5\n",
    "\n",
    "10\n",
    "\n",
    "50\n",
    "\n",
    "100\n",
    "\n",
    "500\n",
    "\n",
    "1000\n",
    "\n",
    "5000\n",
    "\n",
    "10000\n",
    "\n",
    "50000\n",
    "\n",
    "출력\n",
    "\n",
    "6"
   ]
  },
  {
   "cell_type": "code",
   "execution_count": 14,
   "metadata": {
    "scrolled": true
   },
   "outputs": [
    {
     "name": "stdout",
     "output_type": "stream",
     "text": [
      "2 5\n",
      "1\n",
      "3\n"
     ]
    },
    {
     "data": {
      "text/plain": [
       "3"
      ]
     },
     "execution_count": 14,
     "metadata": {},
     "output_type": "execute_result"
    }
   ],
   "source": [
    "def money_count(n):\n",
    "    money = []\n",
    "    cnt = 0\n",
    "    \n",
    "    for i in range(n[0]):\n",
    "        money.append(int(input()))\n",
    "\n",
    "    money.sort(reverse = True)\n",
    "    for i in money:\n",
    "        if(n[1] >= i):\n",
    "            cnt += n[1] // i\n",
    "            n[1] %= i\n",
    "            \n",
    "            \n",
    "    return cnt\n",
    "\n",
    "n = list(map(int, input().split()))\n",
    "    \n",
    "money_count(n)"
   ]
  }
 ],
 "metadata": {
  "kernelspec": {
   "display_name": "Python 3",
   "language": "python",
   "name": "python3"
  },
  "language_info": {
   "codemirror_mode": {
    "name": "ipython",
    "version": 3
   },
   "file_extension": ".py",
   "mimetype": "text/x-python",
   "name": "python",
   "nbconvert_exporter": "python",
   "pygments_lexer": "ipython3",
   "version": "3.7.1"
  }
 },
 "nbformat": 4,
 "nbformat_minor": 2
}
