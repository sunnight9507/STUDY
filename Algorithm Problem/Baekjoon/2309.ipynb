{
 "cells": [
  {
   "cell_type": "code",
   "execution_count": 23,
   "metadata": {},
   "outputs": [
    {
     "name": "stdout",
     "output_type": "stream",
     "text": [
      "20\n",
      "7\n",
      "23\n",
      "19\n",
      "10\n",
      "15\n",
      "25\n",
      "8\n",
      "13\n",
      "7\n",
      "8\n",
      "10\n",
      "13\n",
      "19\n",
      "20\n",
      "23\n"
     ]
    }
   ],
   "source": [
    "from itertools import combinations\n",
    "\n",
    "def insert_operation(nan):    \n",
    "        \n",
    "    sum_nan = sum(nan)    \n",
    "\n",
    "    for (a,b) in list(combinations(nan,2)):\n",
    "        if ((sum_nan - a - b) == 100):\n",
    "            nan.remove(a)\n",
    "            nan.remove(b)\n",
    "            break\n",
    "        \n",
    "    \n",
    "    nan.sort()\n",
    "    \n",
    "    for i in nan:\n",
    "        print(i)\n",
    "\n",
    "\n",
    "nan = []\n",
    "\n",
    "for i in range(0,9):\n",
    "    nan.append(int(input()))\n",
    "\n",
    "insert_operation(nan)"
   ]
  },
  {
   "cell_type": "code",
   "execution_count": null,
   "metadata": {},
   "outputs": [],
   "source": []
  }
 ],
 "metadata": {
  "kernelspec": {
   "display_name": "Python 3",
   "language": "python",
   "name": "python3"
  },
  "language_info": {
   "codemirror_mode": {
    "name": "ipython",
    "version": 3
   },
   "file_extension": ".py",
   "mimetype": "text/x-python",
   "name": "python",
   "nbconvert_exporter": "python",
   "pygments_lexer": "ipython3",
   "version": "3.7.3"
  }
 },
 "nbformat": 4,
 "nbformat_minor": 2
}
