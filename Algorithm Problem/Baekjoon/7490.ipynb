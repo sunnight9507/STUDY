{
 "cells": [
  {
   "cell_type": "markdown",
   "metadata": {},
   "source": [
    "### [0 만들기](https://www.acmicpc.net/problem/7490)"
   ]
  },
  {
   "cell_type": "code",
   "execution_count": 45,
   "metadata": {},
   "outputs": [
    {
     "name": "stdout",
     "output_type": "stream",
     "text": [
      "2\n",
      "3\n",
      "1+2-3\n",
      "\n",
      "7\n",
      "1+2-3+4-5-6+7\n",
      "1+2-3-4+5+6-7\n",
      "1-2 3+4+5+6+7\n",
      "1-2 3-4 5+6 7\n",
      "1-2+3+4-5+6-7\n",
      "1-2-3-4-5+6+7\n",
      "\n"
     ]
    }
   ],
   "source": [
    "from itertools import combinations\n",
    "\n",
    "def func(n):\n",
    "    lst = [str(_) for _ in range(1,n+1)]\n",
    "    \n",
    "    buho = list(('+' + '-' + ' ') * (n-1))\n",
    "    \n",
    "    buho_lst = sorted(list(combinations(buho, n-1)))\n",
    "    \n",
    "    for _ in range(len(buho_lst)-1):\n",
    "        if buho_lst[_] == buho_lst[_+1]:\n",
    "            continue\n",
    "        \n",
    "        tmp_str = lst[0]\n",
    "        for num, bu in zip(lst[1:], buho_lst[_]):\n",
    "            tmp_str += (bu + num)\n",
    "        \n",
    "        if eval(tmp_str.replace(' ','')) == 0:\n",
    "            print(tmp_str)\n",
    "\n",
    "N = int(input())\n",
    "\n",
    "for _ in range(N):\n",
    "    n = int(input())\n",
    "    \n",
    "    func(n)\n",
    "    print()"
   ]
  }
 ],
 "metadata": {
  "kernelspec": {
   "display_name": "Python 3",
   "language": "python",
   "name": "python3"
  },
  "language_info": {
   "codemirror_mode": {
    "name": "ipython",
    "version": 3
   },
   "file_extension": ".py",
   "mimetype": "text/x-python",
   "name": "python",
   "nbconvert_exporter": "python",
   "pygments_lexer": "ipython3",
   "version": "3.8.3"
  }
 },
 "nbformat": 4,
 "nbformat_minor": 4
}
