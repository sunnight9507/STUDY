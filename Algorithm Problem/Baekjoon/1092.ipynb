{
 "cells": [
  {
   "cell_type": "markdown",
   "metadata": {},
   "source": [
    "### [배](https://www.acmicpc.net/problem/1092)"
   ]
  },
  {
   "cell_type": "code",
   "execution_count": null,
   "metadata": {},
   "outputs": [],
   "source": [
    "3\n",
    "6 8 9\n",
    "5\n",
    "2 5 2 4 7"
   ]
  },
  {
   "cell_type": "code",
   "execution_count": 82,
   "metadata": {},
   "outputs": [
    {
     "name": "stdout",
     "output_type": "stream",
     "text": [
      "3\n",
      "5 3 10\n",
      "10\n",
      "1 2 3 4 5 6 7 8 9 10\n"
     ]
    }
   ],
   "source": [
    "N = int(input())\n",
    "k = list(map(int, input().split()))\n",
    "M = int(input())\n",
    "b = list(map(int, input().split()))"
   ]
  },
  {
   "cell_type": "code",
   "execution_count": 88,
   "metadata": {},
   "outputs": [
    {
     "name": "stdout",
     "output_type": "stream",
     "text": [
      "5\n"
     ]
    }
   ],
   "source": [
    "if max(b) > max(k): print(-1)\n",
    "else:\n",
    "    k.sort(reverse=True)\n",
    "    b.sort(reverse=True)\n",
    "    \n",
    "    len_k = len(k)\n",
    "    len_b = len(b)\n",
    "    k_idx = [0] * len_k\n",
    "    b_cnt = len_b\n",
    "    cnt = 0\n",
    "    \n",
    "    visited = [False] * len_b\n",
    "    \n",
    "    while b_cnt:\n",
    "        cnt += 1\n",
    "        for i in range(len_k):\n",
    "            while k_idx[i] < len_b:\n",
    "                if k[i] >= b[k_idx[i]] and not visited[k_idx[i]]:\n",
    "                    visited[k_idx[i]] = True\n",
    "                    k_idx[i] += 1\n",
    "                    b_cnt -= 1\n",
    "                    break\n",
    "                k_idx[i] += 1\n",
    "    print(cnt)"
   ]
  }
 ],
 "metadata": {
  "kernelspec": {
   "display_name": "Python 3",
   "language": "python",
   "name": "python3"
  },
  "language_info": {
   "codemirror_mode": {
    "name": "ipython",
    "version": 3
   },
   "file_extension": ".py",
   "mimetype": "text/x-python",
   "name": "python",
   "nbconvert_exporter": "python",
   "pygments_lexer": "ipython3",
   "version": "3.8.3"
  }
 },
 "nbformat": 4,
 "nbformat_minor": 4
}
