{
 "cells": [
  {
   "cell_type": "markdown",
   "metadata": {},
   "source": [
    "### [샘터](https://www.acmicpc.net/problem/18513)"
   ]
  },
  {
   "cell_type": "code",
   "execution_count": null,
   "metadata": {},
   "outputs": [],
   "source": [
    "2 5\n",
    "0 3"
   ]
  },
  {
   "cell_type": "code",
   "execution_count": 20,
   "metadata": {},
   "outputs": [
    {
     "name": "stdout",
     "output_type": "stream",
     "text": [
      "2 5\n",
      "3 0\n",
      "6\n"
     ]
    }
   ],
   "source": [
    "N, K = map(int, input().split())\n",
    "lst = list(map(int, input().split()))\n",
    "\n",
    "def func(N, K, lst):\n",
    "    MIN = -100000000\n",
    "    MAX = 100000000\n",
    "    _dict = {_ : True for _ in lst}\n",
    "    cnt = 0\n",
    "    dis = 1\n",
    "    result = 0\n",
    "    while lst:\n",
    "#         print(lst)\n",
    "        tmp_set = []\n",
    "        for _ in lst:\n",
    "            if _ - 1 >= MIN and _ - 1 not in _dict:\n",
    "                _dict[_-1] = True\n",
    "                tmp_set.append(_-1)\n",
    "                result += dis\n",
    "                cnt += 1\n",
    "                if cnt == K:\n",
    "                    return result\n",
    "            if _ + 1 <= MAX and _ + 1 not in _dict:\n",
    "                _dict[_+1] = True\n",
    "                tmp_set.append(_+1)\n",
    "                result += dis\n",
    "                cnt += 1\n",
    "                if cnt == K:\n",
    "                    return result\n",
    "        dis += 1\n",
    "\n",
    "        lst = tmp_set\n",
    "        \n",
    "print(func(N, K, lst))"
   ]
  }
 ],
 "metadata": {
  "kernelspec": {
   "display_name": "Python 3",
   "language": "python",
   "name": "python3"
  },
  "language_info": {
   "codemirror_mode": {
    "name": "ipython",
    "version": 3
   },
   "file_extension": ".py",
   "mimetype": "text/x-python",
   "name": "python",
   "nbconvert_exporter": "python",
   "pygments_lexer": "ipython3",
   "version": "3.8.3"
  }
 },
 "nbformat": 4,
 "nbformat_minor": 4
}
