{
 "cells": [
  {
   "cell_type": "markdown",
   "metadata": {},
   "source": [
    "### [경쟁적 전염](https://www.acmicpc.net/problem/18405)"
   ]
  },
  {
   "cell_type": "code",
   "execution_count": null,
   "metadata": {},
   "outputs": [],
   "source": [
    "3 3\n",
    "1 0 2\n",
    "0 0 0\n",
    "3 0 0\n",
    "1 2 2"
   ]
  },
  {
   "cell_type": "code",
   "execution_count": 1,
   "metadata": {},
   "outputs": [
    {
     "name": "stdout",
     "output_type": "stream",
     "text": [
      "3 3 \n",
      "1 0 2\n",
      "0 0 0\n",
      "3 0 0\n",
      "2 3 2\n",
      "3\n"
     ]
    }
   ],
   "source": [
    "from collections import deque\n",
    "\n",
    "N, K = map(int, input().split())\n",
    "lst = [[0] * (N+1) for _ in range(N+1)]\n",
    "for _ in range(1,N+1):\n",
    "    lst[_][1:] = list(map(int, input().split()))\n",
    "S, X, Y = map(int, input().split())\n",
    "\n",
    "queue =[]\n",
    "\n",
    "for i in range(1, N+1):\n",
    "    for j in range(1, N+1):\n",
    "        if lst[i][j]:\n",
    "            queue.append([lst[i][j], i, j])\n",
    "\n",
    "def func(queue, lst):    \n",
    "    queue = deque(sorted(queue, key = lambda x : x[0]))\n",
    "    \n",
    "    move_lst = [[1,0],[0,1],[-1,0],[0,-1]]\n",
    "\n",
    "    for i in range(S):\n",
    "        queue_len = len(queue)\n",
    "\n",
    "        for _ in range(queue_len):\n",
    "            value, x, y = queue.popleft()\n",
    "\n",
    "            for n_x, n_y in move_lst:\n",
    "                tmp_x = x + n_x\n",
    "                tmp_y = y + n_y\n",
    "                if 0 < tmp_x <= N and 0 < tmp_y <= N and not lst[tmp_x][tmp_y]:\n",
    "                    if [X, Y] == [tmp_x, tmp_y]:\n",
    "                        return value\n",
    "                    \n",
    "                    lst[tmp_x][tmp_y] = value\n",
    "                    queue.append([value, tmp_x, tmp_y])\n",
    "                    \n",
    "    return lst[X][Y]\n",
    "\n",
    "print(func(queue, lst))"
   ]
  },
  {
   "cell_type": "code",
   "execution_count": 7,
   "metadata": {},
   "outputs": [
    {
     "name": "stdout",
     "output_type": "stream",
     "text": [
      "3\n"
     ]
    }
   ],
   "source": [
    "from collections import deque\n",
    "\n",
    "_dict = {}\n",
    "visited = [[False] * (N+1) for _ in range(N+1)]\n",
    "\n",
    "for i in range(1,N+1):\n",
    "    for j in range(1,N+1):\n",
    "        if lst[i][j]:\n",
    "            visited[i][j] = True\n",
    "            if lst[i][j] not in _dict:\n",
    "                 _dict[lst[i][j]] = deque([[i,j]])\n",
    "            else:\n",
    "                 _dict[lst[i][j]].append([i,j])\n",
    "        \n",
    "def bfs(_dict, visited, lst, S, X, Y):\n",
    "    \n",
    "    move_lst = [[1,0],[0,1],[-1,0],[0,-1]]\n",
    "    \n",
    "    for _ in range(S):\n",
    "    \n",
    "        for _ in sorted(list(_dict.keys())):\n",
    "            queue = deque([])\n",
    "\n",
    "            while _dict[_]:\n",
    "                tmp_x, tmp_y = _dict[_].pop()\n",
    "\n",
    "                for x,y in move_lst:\n",
    "                    next_x = tmp_x + x\n",
    "                    next_y = tmp_y + y\n",
    "\n",
    "                    if 0 < next_x <= N and 0 < next_y <= N and not visited[next_x][next_y]:\n",
    "                        lst[next_x][next_y] = _\n",
    "                        visited[next_x][next_y] = True\n",
    "                        queue.append([next_x, next_y])\n",
    "\n",
    "            _dict[_] = queue\n",
    "        \n",
    "    print(lst[X][Y])\n",
    "    \n",
    "bfs(_dict, visited, lst, S, X, Y)"
   ]
  }
 ],
 "metadata": {
  "kernelspec": {
   "display_name": "Python 3",
   "language": "python",
   "name": "python3"
  },
  "language_info": {
   "codemirror_mode": {
    "name": "ipython",
    "version": 3
   },
   "file_extension": ".py",
   "mimetype": "text/x-python",
   "name": "python",
   "nbconvert_exporter": "python",
   "pygments_lexer": "ipython3",
   "version": "3.8.5"
  }
 },
 "nbformat": 4,
 "nbformat_minor": 4
}
