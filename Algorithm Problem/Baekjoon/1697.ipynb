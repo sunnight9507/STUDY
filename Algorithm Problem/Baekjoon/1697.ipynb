{
 "cells": [
  {
   "cell_type": "markdown",
   "metadata": {},
   "source": [
    "### [숨바꼭질](https://www.acmicpc.net/problem/1697)"
   ]
  },
  {
   "cell_type": "code",
   "execution_count": 1,
   "metadata": {},
   "outputs": [
    {
     "name": "stdout",
     "output_type": "stream",
     "text": [
      "30000 100000\n",
      "5002\n"
     ]
    }
   ],
   "source": [
    "N, K = map(int, input().split())\n",
    "\n",
    "MAX_NUM = 100001\n",
    "lst = [0] * MAX_NUM\n",
    "\n",
    "def bfs():\n",
    "    queue = [N]\n",
    "    while queue:\n",
    "        tmp = queue.pop(0)\n",
    "        if tmp == K:\n",
    "            return lst[tmp]\n",
    "        for num in (tmp+1, tmp-1, tmp*2):\n",
    "            if 0 <= num < MAX_NUM and not lst[num]:\n",
    "                lst[num] = lst[tmp] + 1\n",
    "                queue.append(num)\n",
    "                \n",
    "print(bfs())"
   ]
  },
  {
   "cell_type": "code",
   "execution_count": null,
   "metadata": {},
   "outputs": [
    {
     "name": "stdout",
     "output_type": "stream",
     "text": [
      "10000 1\n"
     ]
    }
   ],
   "source": [
    "N, K = map(int, input().split())\n",
    "\n",
    "import sys\n",
    "\n",
    "sys.setrecursionlimit(10000)\n",
    "\n",
    "MAX_NUM = min(max(K*2, N*2), 100000)\n",
    "visited = [False] * (MAX_NUM + 1)\n",
    "_set = set([N])\n",
    "cnt = 0\n",
    "\n",
    "def func(_set):\n",
    "#     print(_set)\n",
    "    global cnt\n",
    "    if K in _set: return cnt\n",
    "    new_set = set()\n",
    "    cnt += 1\n",
    "    for _ in _set:\n",
    "        if not visited[_]:\n",
    "            visited[_] = True\n",
    "            if 0 < _ < MAX_NUM:\n",
    "                if not visited[_+1]: new_set.add(_+1)\n",
    "                if not visited[_-1]: new_set.add(_-1)\n",
    "                if _ * 2 < MAX_NUM and not visited[_*2]: new_set.add(_*2)\n",
    "\n",
    "    return func(new_set)\n",
    "\n",
    "print(func(_set))"
   ]
  },
  {
   "cell_type": "code",
   "execution_count": null,
   "metadata": {},
   "outputs": [],
   "source": []
  },
  {
   "cell_type": "code",
   "execution_count": null,
   "metadata": {},
   "outputs": [],
   "source": []
  }
 ],
 "metadata": {
  "kernelspec": {
   "display_name": "Python 3",
   "language": "python",
   "name": "python3"
  },
  "language_info": {
   "codemirror_mode": {
    "name": "ipython",
    "version": 3
   },
   "file_extension": ".py",
   "mimetype": "text/x-python",
   "name": "python",
   "nbconvert_exporter": "python",
   "pygments_lexer": "ipython3",
   "version": "3.8.3"
  }
 },
 "nbformat": 4,
 "nbformat_minor": 4
}
