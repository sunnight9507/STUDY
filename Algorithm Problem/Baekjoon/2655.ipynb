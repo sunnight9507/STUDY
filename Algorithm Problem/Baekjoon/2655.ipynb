{
 "cells": [
  {
   "cell_type": "markdown",
   "metadata": {},
   "source": [
    "### [가장높은탑쌓기](https://www.acmicpc.net/problem/2655)"
   ]
  },
  {
   "cell_type": "code",
   "execution_count": 1,
   "metadata": {},
   "outputs": [
    {
     "name": "stdout",
     "output_type": "stream",
     "text": [
      "3\n",
      "3 5 10\n",
      "4 4 9\n",
      "10 3 11\n"
     ]
    }
   ],
   "source": [
    "N = int(input())\n",
    "\n",
    "lst = [[0,0,0] for _ in range(N)]\n",
    "\n",
    "for _ in range(N):\n",
    "    lst[_] = list(map(int, input().split()))"
   ]
  },
  {
   "cell_type": "code",
   "execution_count": 3,
   "metadata": {},
   "outputs": [
    {
     "name": "stdout",
     "output_type": "stream",
     "text": [
      "[5, 4, 3] [-1, -1, -1]\n",
      "[5, 4, 3] [-1, -1, -1]\n",
      "[5, 4, 3] [-1, -1, -1]\n",
      "[5, 4, 3] [-1, -1, -1]\n",
      "1\n",
      "1\n"
     ]
    }
   ],
   "source": [
    "result_height = [lst[_][1] for _ in range(N)]\n",
    "parent = [-1 for _ in range(N)]\n",
    "\n",
    "for i in range(N):\n",
    "    print(result_height, parent)\n",
    "    area, height, weight = lst[i]\n",
    "    for j in range(i):\n",
    "        a, h, w = lst[j]\n",
    "        if area < a and weight < w:\n",
    "            if result_height[j] + height > result_height[i]:\n",
    "                parent[i] = j\n",
    "                result_height[i] = result_height[j] + height\n",
    "\n",
    "print(result_height, parent)\n",
    "\n",
    "tmp = result_height.index(max(result_height))\n",
    "cnt = 0\n",
    "result = []\n",
    "while tmp != -1:\n",
    "    cnt += 1\n",
    "    result.append(tmp+1)\n",
    "    tmp = parent[tmp]\n",
    "\n",
    "print(cnt)\n",
    "print(*result, sep='\\n')"
   ]
  },
  {
   "cell_type": "code",
   "execution_count": null,
   "metadata": {},
   "outputs": [],
   "source": []
  },
  {
   "cell_type": "code",
   "execution_count": 119,
   "metadata": {},
   "outputs": [
    {
     "name": "stdout",
     "output_type": "stream",
     "text": [
      "2\n",
      "2\n",
      "1\n"
     ]
    }
   ],
   "source": [
    "result_height = [lst[_-1][1] for _ in range(N+1)]\n",
    "result_height[0] = 0\n",
    "parent = [0 for _ in range(N+1)]\n",
    "\n",
    "# print(result_height, parent)\n",
    "\n",
    "stack = []\n",
    "\n",
    "stack.append(lst[0] + [1])\n",
    "\n",
    "for _ in range(1,N):\n",
    "#     print(result_height, parent, stack)\n",
    "    area, height, weight = lst[_]\n",
    "    \n",
    "    if stack[-1][0] > area and stack[-1][2] > weight:\n",
    "        parent[_ + 1] = stack[-1][-1]\n",
    "        result_height[_ + 1] = result_height[stack[-1][-1]] + height\n",
    "        stack.append([area, height, weight, _+1])\n",
    "    else:\n",
    "        for i in range(0,len(stack),-1):\n",
    "            a,h,w = stack[i]\n",
    "            if area < a and weight < w:\n",
    "                if height < h:\n",
    "                    parent[_+1] = stack[i][-1]\n",
    "                    result_height[_ + 1] = result_height[parent[i]] + height\n",
    "                    stack[i] = area, height, weight\n",
    "                    break\n",
    "\n",
    "print(len(stack))\n",
    "for a,h,w,idx in stack[::-1]:\n",
    "    print(idx)"
   ]
  },
  {
   "cell_type": "code",
   "execution_count": null,
   "metadata": {},
   "outputs": [],
   "source": [
    "5\n",
    "25 3 4\n",
    "4 4 6\n",
    "9 2 3\n",
    "16 2 5\n",
    "1 5 2"
   ]
  }
 ],
 "metadata": {
  "kernelspec": {
   "display_name": "Python 3",
   "language": "python",
   "name": "python3"
  },
  "language_info": {
   "codemirror_mode": {
    "name": "ipython",
    "version": 3
   },
   "file_extension": ".py",
   "mimetype": "text/x-python",
   "name": "python",
   "nbconvert_exporter": "python",
   "pygments_lexer": "ipython3",
   "version": "3.8.3"
  }
 },
 "nbformat": 4,
 "nbformat_minor": 4
}
