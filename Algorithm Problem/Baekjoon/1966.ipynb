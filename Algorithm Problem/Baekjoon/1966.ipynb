{
 "cells": [
  {
   "cell_type": "markdown",
   "metadata": {},
   "source": [
    "### [프린터 큐](https://www.acmicpc.net/problem/1966)"
   ]
  },
  {
   "cell_type": "code",
   "execution_count": 18,
   "metadata": {},
   "outputs": [
    {
     "name": "stdout",
     "output_type": "stream",
     "text": [
      "1\n",
      "6 0\n",
      "1 1 9 1 1 1\n",
      "[[0, 1], [1, 1], [2, 9], [3, 1], [4, 1], [5, 1]] [1, 1, 9, 1, 1, 1]\n",
      "[[1, 1], [2, 9], [3, 1], [4, 1], [5, 1], [0, 1]] [1, 1, 9, 1, 1, 1]\n",
      "[[2, 9], [3, 1], [4, 1], [5, 1], [0, 1], [1, 1]] [1, 1, 9, 1, 1, 1]\n",
      "[[3, 1], [4, 1], [5, 1], [0, 1], [1, 1]] [1, 1, 1, 1, 1]\n",
      "[[4, 1], [5, 1], [0, 1], [1, 1]] [1, 1, 1, 1]\n",
      "[[5, 1], [0, 1], [1, 1]] [1, 1, 1]\n",
      "[[0, 1], [1, 1]] [1, 1]\n",
      "5\n"
     ]
    }
   ],
   "source": [
    "N = int(input())\n",
    "for _ in range(N):\n",
    "    n, idx = map(int, input().split())\n",
    "    lst = list(map(int, input().split()))\n",
    "    print(func(n, idx, lst))"
   ]
  },
  {
   "cell_type": "code",
   "execution_count": 13,
   "metadata": {},
   "outputs": [
    {
     "name": "stdout",
     "output_type": "stream",
     "text": [
      "[[0, 1], [1, 2], [2, 3]] [1, 2, 3]\n",
      "[[1, 2], [2, 3], [0, 1]] [1, 2, 3]\n",
      "[[2, 3], [0, 1], [1, 2]] [1, 2, 3]\n"
     ]
    },
    {
     "data": {
      "text/plain": [
       "1"
      ]
     },
     "execution_count": 13,
     "metadata": {},
     "output_type": "execute_result"
    }
   ],
   "source": [
    "def func(n, idx, lst):\n",
    "    if n == 1: return 1\n",
    "    \n",
    "    queue = []\n",
    "    for i, v in enumerate(lst):\n",
    "        queue.append([i,v])\n",
    "    cnt = 0\n",
    "    while lst:\n",
    "        _max = max(lst)\n",
    "        while True:\n",
    "#             print(queue, lst)\n",
    "            if queue[0][1] != _max:\n",
    "                a,b = queue.pop(0)\n",
    "                queue.append([a,b])\n",
    "            else:\n",
    "                cnt += 1\n",
    "                a,b = queue.pop(0)\n",
    "                if a == idx:\n",
    "                    return cnt\n",
    "                lst.remove(_max)\n",
    "                break"
   ]
  },
  {
   "cell_type": "code",
   "execution_count": null,
   "metadata": {},
   "outputs": [],
   "source": []
  },
  {
   "cell_type": "code",
   "execution_count": null,
   "metadata": {},
   "outputs": [],
   "source": [
    "3\n",
    "1 0\n",
    "5\n",
    "4 2\n",
    "1 2 3 4\n",
    "6 0\n",
    "1 1 9 1 1 1"
   ]
  }
 ],
 "metadata": {
  "kernelspec": {
   "display_name": "Python 3",
   "language": "python",
   "name": "python3"
  },
  "language_info": {
   "codemirror_mode": {
    "name": "ipython",
    "version": 3
   },
   "file_extension": ".py",
   "mimetype": "text/x-python",
   "name": "python",
   "nbconvert_exporter": "python",
   "pygments_lexer": "ipython3",
   "version": "3.8.3"
  }
 },
 "nbformat": 4,
 "nbformat_minor": 4
}
