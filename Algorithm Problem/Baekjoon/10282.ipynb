{
 "cells": [
  {
   "cell_type": "markdown",
   "metadata": {},
   "source": [
    "### [해킹](https://www.acmicpc.net/problem/10282)"
   ]
  },
  {
   "cell_type": "code",
   "execution_count": 43,
   "metadata": {},
   "outputs": [
    {
     "name": "stdout",
     "output_type": "stream",
     "text": [
      "2\n",
      "3 2 2\n",
      "2 1 5\n",
      "3 2 5\n",
      "2 5\n",
      "3 3 1\n",
      "2 1 2\n",
      "3 1 8\n",
      "3 2 4\n",
      "3 6\n"
     ]
    }
   ],
   "source": [
    "import heapq\n",
    "\n",
    "def func(c):\n",
    "    dist[c] = 0\n",
    "    queue = []\n",
    "    heapq.heappush(queue, (0,c))\n",
    "    \n",
    "    while queue:\n",
    "        tmp_dist, tmp = heapq.heappop(queue)\n",
    "        \n",
    "        if dist[tmp] < tmp_dist: continue\n",
    "            \n",
    "        for _next, next_dist in lst[tmp]:\n",
    "            dis = tmp_dist + next_dist\n",
    "            if dist[_next] > dis:\n",
    "                dist[_next] = dis\n",
    "                heapq.heappush(queue, (dis, _next))\n",
    "\n",
    "T = int(input())\n",
    "\n",
    "for _ in range(T):\n",
    "    n,d,c = map(int, input().split())\n",
    "    lst = [[] for _ in range(n+1)]\n",
    "    dist = [1e9] * (n+1)\n",
    "    for i in range(d):\n",
    "        x,y,z = map(int, input().split())\n",
    "        lst[y].append((x,z))\n",
    "            \n",
    "    func(c)\n",
    "    \n",
    "    cnt = 0\n",
    "    _max = 0\n",
    "    for _ in dist:\n",
    "        if _ != 1e9:\n",
    "            cnt += 1\n",
    "            if _max < _: _max = _\n",
    "    print(cnt, _max)"
   ]
  },
  {
   "cell_type": "code",
   "execution_count": null,
   "metadata": {},
   "outputs": [],
   "source": [
    "2\n",
    "3 2 2\n",
    "2 1 5\n",
    "3 2 5\n",
    "3 3 1\n",
    "2 1 2\n",
    "3 1 8\n",
    "3 2 4"
   ]
  }
 ],
 "metadata": {
  "kernelspec": {
   "display_name": "Python 3",
   "language": "python",
   "name": "python3"
  },
  "language_info": {
   "codemirror_mode": {
    "name": "ipython",
    "version": 3
   },
   "file_extension": ".py",
   "mimetype": "text/x-python",
   "name": "python",
   "nbconvert_exporter": "python",
   "pygments_lexer": "ipython3",
   "version": "3.8.3"
  }
 },
 "nbformat": 4,
 "nbformat_minor": 4
}
