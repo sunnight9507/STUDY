{
 "cells": [
  {
   "cell_type": "markdown",
   "metadata": {},
   "source": [
    "### [알파벳](https://www.acmicpc.net/problem/1987)"
   ]
  },
  {
   "cell_type": "code",
   "execution_count": 60,
   "metadata": {},
   "outputs": [
    {
     "name": "stdout",
     "output_type": "stream",
     "text": [
      "2 4\n",
      "CAAB\n",
      "ADCB\n"
     ]
    }
   ],
   "source": [
    "R, C = map(int, input().split())\n",
    "lst = []\n",
    "for _ in range(R):\n",
    "    lst.append(input())"
   ]
  },
  {
   "cell_type": "code",
   "execution_count": 62,
   "metadata": {},
   "outputs": [
    {
     "name": "stdout",
     "output_type": "stream",
     "text": [
      "3\n"
     ]
    }
   ],
   "source": [
    "def check(s_x,s_y,_dict):\n",
    "    if s_x < 0 or s_x >= R: return sum(_dict.values())\n",
    "    if s_y < 0 or s_y >= C: return sum(_dict.values())\n",
    "    \n",
    "    if _dict[lst[s_x][s_y]]: return sum(_dict.values())\n",
    "    \n",
    "    _dict[lst[s_x][s_y]] = True\n",
    "    tmp_lst = [0,0,0,0]\n",
    "    for idx, (x,y) in enumerate(move_lst):\n",
    "        tmp_lst[idx] = check(x+s_x, y+s_y, _dict)\n",
    "        \n",
    "    _dict[lst[s_x][s_y]] = False\n",
    "        \n",
    "    return max(tmp_lst)\n",
    "\n",
    "move_lst = [[1,0],[-1,0],[0,1],[0,-1]]\n",
    "s_x, s_y = 0,0\n",
    "_dict = {_ : False for _ in 'ABCDEFGHIJKLMNOPQRSTUVWXYZ'}\n",
    "\n",
    "print(check(s_x,s_y,_dict))"
   ]
  },
  {
   "cell_type": "code",
   "execution_count": 1,
   "metadata": {},
   "outputs": [
    {
     "name": "stdout",
     "output_type": "stream",
     "text": [
      "2 4\n",
      "abbc\n",
      "adcd\n"
     ]
    }
   ],
   "source": [
    "R, C = map(int, input().split())\n",
    "lst = []\n",
    "for _ in range(R):\n",
    "    lst.append(input())"
   ]
  },
  {
   "cell_type": "code",
   "execution_count": 3,
   "metadata": {},
   "outputs": [
    {
     "name": "stdout",
     "output_type": "stream",
     "text": [
      "4\n"
     ]
    }
   ],
   "source": [
    "def bfs(x,y):\n",
    "    global result\n",
    "    \n",
    "    q = set()\n",
    "    q.add((x,y,lst[x][y]))\n",
    "    \n",
    "    while q:\n",
    "        tmp_x, tmp_y, word = q.pop()\n",
    "        result = max(result, len(word))\n",
    "        \n",
    "        for n_x, n_y in move_lst:\n",
    "            n_x += tmp_x\n",
    "            n_y += tmp_y\n",
    "            \n",
    "            if 0 <= n_x < R and 0 <= n_y < C and lst[n_x][n_y] not in word:\n",
    "                q.add((n_x,n_y,word + lst[n_x][n_y]))\n",
    "\n",
    "move_lst = [[1,0],[-1,0],[0,1],[0,-1]]\n",
    "result = 0\n",
    "bfs(0,0)\n",
    "print(result)"
   ]
  }
 ],
 "metadata": {
  "kernelspec": {
   "display_name": "Python 3",
   "language": "python",
   "name": "python3"
  },
  "language_info": {
   "codemirror_mode": {
    "name": "ipython",
    "version": 3
   },
   "file_extension": ".py",
   "mimetype": "text/x-python",
   "name": "python",
   "nbconvert_exporter": "python",
   "pygments_lexer": "ipython3",
   "version": "3.8.3"
  }
 },
 "nbformat": 4,
 "nbformat_minor": 4
}
