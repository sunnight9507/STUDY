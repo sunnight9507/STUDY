{
 "cells": [
  {
   "cell_type": "markdown",
   "metadata": {},
   "source": [
    "### [문제집](https://www.acmicpc.net/problem/1766)"
   ]
  },
  {
   "cell_type": "code",
   "execution_count": 20,
   "metadata": {},
   "outputs": [
    {
     "name": "stdout",
     "output_type": "stream",
     "text": [
      "4 2\n",
      "4 2\n",
      "3 1\n",
      "3 1 4 2 \n"
     ]
    }
   ],
   "source": [
    "import heapq\n",
    "\n",
    "N, M = map(int, input().split())\n",
    "\n",
    "_dict = {_:[] for _ in range(1, N+1)}\n",
    "num_parents = [0 for _ in range(N+1)]\n",
    "\n",
    "for _ in range(M):\n",
    "    e, d = map(int, input().split())\n",
    "    _dict[e].append(d)\n",
    "    num_parents[d] += 1\n",
    "\n",
    "heap = []\n",
    "for _ in range(1,N+1):\n",
    "    if num_parents[_] == 0:\n",
    "        heapq.heappush(heap, _)\n",
    "\n",
    "result = ''\n",
    "while heap:\n",
    "    tmp = heapq.heappop(heap)\n",
    "    result += str(tmp) + ' '\n",
    "    \n",
    "    for _ in _dict[tmp]:\n",
    "        num_parents[_] -= 1\n",
    "        if num_parents[_] == 0:\n",
    "            heapq.heappush(heap, _)\n",
    "            \n",
    "print(result)"
   ]
  },
  {
   "cell_type": "code",
   "execution_count": 13,
   "metadata": {},
   "outputs": [
    {
     "name": "stdout",
     "output_type": "stream",
     "text": [
      "5 1\n",
      "2 1\n",
      "2 1 3 4 5 \n"
     ]
    }
   ],
   "source": [
    "import heapq\n",
    "\n",
    "N, M = map(int, input().split())\n",
    "\n",
    "_dict = {_:[] for _ in range(1, N+1)}\n",
    "\n",
    "for _ in range(M):\n",
    "    e, d = map(int, input().split())\n",
    "    _dict[d].append(e)\n",
    "\n",
    "heap = []\n",
    "for _ in _dict:\n",
    "    if len(_dict[_]) == 0:\n",
    "        heapq.heappush(heap, _)\n",
    "\n",
    "result = ''\n",
    "while heap:\n",
    "    tmp = heapq.heappop(heap)\n",
    "    result += str(tmp) + ' '\n",
    "    \n",
    "    del _dict[tmp]\n",
    "    \n",
    "    for _ in _dict:\n",
    "        if tmp in _dict[_]:\n",
    "            _dict[_].remove(tmp)\n",
    "            if len(_dict[_]) == 0:\n",
    "                heapq.heappush(heap, _)\n",
    "\n",
    "print(result)"
   ]
  }
 ],
 "metadata": {
  "kernelspec": {
   "display_name": "Python 3",
   "language": "python",
   "name": "python3"
  },
  "language_info": {
   "codemirror_mode": {
    "name": "ipython",
    "version": 3
   },
   "file_extension": ".py",
   "mimetype": "text/x-python",
   "name": "python",
   "nbconvert_exporter": "python",
   "pygments_lexer": "ipython3",
   "version": "3.8.3"
  }
 },
 "nbformat": 4,
 "nbformat_minor": 4
}
