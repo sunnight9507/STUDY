{
 "cells": [
  {
   "cell_type": "markdown",
   "metadata": {},
   "source": [
    "### [바이러스](https://www.acmicpc.net/problem/2606)"
   ]
  },
  {
   "cell_type": "code",
   "execution_count": 1,
   "metadata": {},
   "outputs": [
    {
     "name": "stdout",
     "output_type": "stream",
     "text": [
      "7\n",
      "6\n",
      "1 2\n",
      "2 3\n",
      "1 5\n",
      "5 2\n",
      "5 6\n",
      "4 7\n"
     ]
    }
   ],
   "source": [
    "N = int(input())\n",
    "n = int(input())\n",
    "\n",
    "lst = [[] for _ in range(N+1)]\n",
    "for _ in range(n):\n",
    "    a, b = map(int, input().split())\n",
    "    lst[a].append(b)\n",
    "    lst[b].append(a)"
   ]
  },
  {
   "cell_type": "code",
   "execution_count": 11,
   "metadata": {},
   "outputs": [
    {
     "name": "stdout",
     "output_type": "stream",
     "text": [
      "4\n"
     ]
    }
   ],
   "source": [
    "from collections import deque\n",
    "\n",
    "visited = [False for _ in range(N+1)]\n",
    "queue = deque([1])\n",
    "cnt = 0\n",
    "while queue:\n",
    "#     print(queue)\n",
    "    tmp = queue.popleft()\n",
    "    if visited[tmp]: continue\n",
    "    cnt += 1\n",
    "    visited[tmp] = True\n",
    "    for _ in lst[tmp]:\n",
    "        queue.append(_)\n",
    "        \n",
    "print(cnt - 1)"
   ]
  },
  {
   "cell_type": "code",
   "execution_count": 4,
   "metadata": {},
   "outputs": [
    {
     "data": {
      "text/plain": [
       "5"
      ]
     },
     "execution_count": 4,
     "metadata": {},
     "output_type": "execute_result"
    }
   ],
   "source": [
    "cnt"
   ]
  },
  {
   "cell_type": "code",
   "execution_count": 2,
   "metadata": {},
   "outputs": [
    {
     "data": {
      "text/plain": [
       "[[], [2, 5], [1, 3, 5], [2], [7], [1, 2, 6], [5], [4]]"
      ]
     },
     "execution_count": 2,
     "metadata": {},
     "output_type": "execute_result"
    }
   ],
   "source": [
    "lst"
   ]
  },
  {
   "cell_type": "code",
   "execution_count": null,
   "metadata": {},
   "outputs": [],
   "source": [
    "7\n",
    "6\n",
    "1 2\n",
    "2 3\n",
    "1 5\n",
    "5 2\n",
    "5 6\n",
    "4 7"
   ]
  }
 ],
 "metadata": {
  "kernelspec": {
   "display_name": "Python 3",
   "language": "python",
   "name": "python3"
  },
  "language_info": {
   "codemirror_mode": {
    "name": "ipython",
    "version": 3
   },
   "file_extension": ".py",
   "mimetype": "text/x-python",
   "name": "python",
   "nbconvert_exporter": "python",
   "pygments_lexer": "ipython3",
   "version": "3.8.3"
  }
 },
 "nbformat": 4,
 "nbformat_minor": 4
}
