{
 "cells": [
  {
   "cell_type": "markdown",
   "metadata": {},
   "source": [
    "### [맥주 마시면서 걸어가기](https://www.acmicpc.net/problem/9205)"
   ]
  },
  {
   "cell_type": "code",
   "execution_count": null,
   "metadata": {},
   "outputs": [],
   "source": [
    "2\n",
    "2\n",
    "0 0\n",
    "1000 0\n",
    "1000 1000\n",
    "2000 1000\n",
    "2\n",
    "0 0\n",
    "1000 0\n",
    "2000 1000\n",
    "2000 2000"
   ]
  },
  {
   "cell_type": "code",
   "execution_count": 25,
   "metadata": {},
   "outputs": [
    {
     "name": "stdout",
     "output_type": "stream",
     "text": [
      "2\n",
      "2\n",
      "0 0\n",
      "1000 1\n",
      "1000 0000\n",
      "2000 1000\n",
      "sad\n",
      "2\n",
      "0 0\n",
      "1000 0\n",
      "2000 1000\n",
      "2000 2000\n",
      "sad\n"
     ]
    }
   ],
   "source": [
    "t = int(input())\n",
    "for _ in range(t):\n",
    "    n = int(input())\n",
    "    house_x, house_y = map(int, input().split())\n",
    "    mart_lst = []\n",
    "    for i in range(n):\n",
    "        mart_lst.append(list(map(int, input().split())))\n",
    "    end_x, end_y = map(int, input().split())\n",
    "    print(check())"
   ]
  },
  {
   "cell_type": "code",
   "execution_count": 24,
   "metadata": {},
   "outputs": [
    {
     "data": {
      "text/plain": [
       "'happy'"
      ]
     },
     "execution_count": 24,
     "metadata": {},
     "output_type": "execute_result"
    }
   ],
   "source": [
    "from collections import deque\n",
    "\n",
    "def check():\n",
    "    queue = deque()\n",
    "    queue.append([house_x, house_y])\n",
    "    len_mart = len(mart_lst)\n",
    "    visited = [False] * len_mart\n",
    "\n",
    "    while queue:\n",
    "#         print(queue)\n",
    "        tmp_x, tmp_y = queue.popleft()\n",
    "        if abs(tmp_x - end_x) + abs(tmp_y - end_y) <= 1000:\n",
    "            return 'happy'\n",
    "        for _ in range(len_mart):\n",
    "            if not visited[_]:\n",
    "#                 print(mart_lst[_], max(tmp_x, end_x) - min(tmp_x, end_x) + max(tmp_y, end_y) - min(tmp_y, end_y))\n",
    "                x,y = mart_lst[_]\n",
    "                if abs(tmp_x - x) + abs(tmp_y - y) <= 1000:\n",
    "                    visited[_] = True\n",
    "                    queue.append([x,y])\n",
    "    return 'sad'\n",
    "                    \n",
    "check()"
   ]
  }
 ],
 "metadata": {
  "kernelspec": {
   "display_name": "Python 3",
   "language": "python",
   "name": "python3"
  },
  "language_info": {
   "codemirror_mode": {
    "name": "ipython",
    "version": 3
   },
   "file_extension": ".py",
   "mimetype": "text/x-python",
   "name": "python",
   "nbconvert_exporter": "python",
   "pygments_lexer": "ipython3",
   "version": "3.8.3"
  }
 },
 "nbformat": 4,
 "nbformat_minor": 4
}
