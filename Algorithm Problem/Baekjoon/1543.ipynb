{
 "cells": [
  {
   "cell_type": "markdown",
   "metadata": {},
   "source": [
    "### [문서 검색](https://www.acmicpc.net/problem/1543)"
   ]
  },
  {
   "cell_type": "code",
   "execution_count": 29,
   "metadata": {},
   "outputs": [
    {
     "name": "stdout",
     "output_type": "stream",
     "text": [
      "ababab\n",
      "ba\n",
      "2\n"
     ]
    }
   ],
   "source": [
    "_str = input()\n",
    "find = input()\n",
    "\n",
    "cnt = 0\n",
    "n = len(find)\n",
    "idx = 0\n",
    "\n",
    "while idx < len(_str) - n + 1:\n",
    "    if _str[idx:idx+n] == find:\n",
    "        cnt += 1\n",
    "        idx += n - 1\n",
    "    idx += 1\n",
    "    \n",
    "print(cnt)"
   ]
  }
 ],
 "metadata": {
  "kernelspec": {
   "display_name": "Python 3",
   "language": "python",
   "name": "python3"
  },
  "language_info": {
   "codemirror_mode": {
    "name": "ipython",
    "version": 3
   },
   "file_extension": ".py",
   "mimetype": "text/x-python",
   "name": "python",
   "nbconvert_exporter": "python",
   "pygments_lexer": "ipython3",
   "version": "3.8.3"
  }
 },
 "nbformat": 4,
 "nbformat_minor": 4
}
