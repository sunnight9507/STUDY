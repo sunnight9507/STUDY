{
 "cells": [
  {
   "cell_type": "markdown",
   "metadata": {},
   "source": [
    "### [럭키 스트레이트](https://www.acmicpc.net/problem/18406)"
   ]
  },
  {
   "cell_type": "code",
   "execution_count": 28,
   "metadata": {},
   "outputs": [
    {
     "name": "stdout",
     "output_type": "stream",
     "text": [
      "123402\n",
      "LUCKY\n"
     ]
    }
   ],
   "source": [
    "N = input()\n",
    "\n",
    "n = len(N) // 2\n",
    "left = N[:n]\n",
    "right = N[n:]\n",
    "left_sum = sum(map(int, left))\n",
    "right_sum = sum(map(int, right))\n",
    "\n",
    "if left_sum == right_sum:\n",
    "    print('LUCKY')\n",
    "else:\n",
    "    print('READY')"
   ]
  }
 ],
 "metadata": {
  "kernelspec": {
   "display_name": "Python 3",
   "language": "python",
   "name": "python3"
  },
  "language_info": {
   "codemirror_mode": {
    "name": "ipython",
    "version": 3
   },
   "file_extension": ".py",
   "mimetype": "text/x-python",
   "name": "python",
   "nbconvert_exporter": "python",
   "pygments_lexer": "ipython3",
   "version": "3.8.3"
  }
 },
 "nbformat": 4,
 "nbformat_minor": 4
}
