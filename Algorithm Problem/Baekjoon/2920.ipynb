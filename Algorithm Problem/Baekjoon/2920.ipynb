{
 "cells": [
  {
   "cell_type": "markdown",
   "metadata": {},
   "source": [
    "### [음계](https://www.acmicpc.net/problem/2920)"
   ]
  },
  {
   "cell_type": "code",
   "execution_count": 5,
   "metadata": {},
   "outputs": [
    {
     "name": "stdout",
     "output_type": "stream",
     "text": [
      "1 2 3 4 5 6 7 8\n",
      "ascending\n"
     ]
    }
   ],
   "source": [
    "lst = list(map(int, input().split()))\n",
    "\n",
    "up = False\n",
    "down = False\n",
    "for _ in range(1, len(lst)):\n",
    "    if lst[_-1] > lst[_]:\n",
    "        down = True\n",
    "    elif lst[_-1] < lst[_]:\n",
    "        up = True\n",
    "        \n",
    "if up and down: print('mixed')\n",
    "elif up: print('ascending')\n",
    "else: print('descending')"
   ]
  }
 ],
 "metadata": {
  "kernelspec": {
   "display_name": "Python 3",
   "language": "python",
   "name": "python3"
  },
  "language_info": {
   "codemirror_mode": {
    "name": "ipython",
    "version": 3
   },
   "file_extension": ".py",
   "mimetype": "text/x-python",
   "name": "python",
   "nbconvert_exporter": "python",
   "pygments_lexer": "ipython3",
   "version": "3.8.3"
  }
 },
 "nbformat": 4,
 "nbformat_minor": 4
}
