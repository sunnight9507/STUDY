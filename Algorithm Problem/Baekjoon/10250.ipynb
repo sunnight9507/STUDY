{
 "cells": [
  {
   "cell_type": "markdown",
   "metadata": {},
   "source": [
    "입력\n",
    "\n",
    "2\n",
    "\n",
    "6 12 10\n",
    "\n",
    "30 50 72\n",
    "\n",
    "출력\n",
    "\n",
    "402\n",
    "\n",
    "1203"
   ]
  },
  {
   "cell_type": "code",
   "execution_count": 39,
   "metadata": {
    "scrolled": true
   },
   "outputs": [
    {
     "name": "stdout",
     "output_type": "stream",
     "text": [
      "1\n",
      "9 9 81\n",
      "909\n"
     ]
    }
   ],
   "source": [
    "import math\n",
    "\n",
    "def hotel_room_number(n):\n",
    "    HW = []\n",
    "    \n",
    "    for i in range(0,n):\n",
    "        HW.append(list(map(int, input().split())))\n",
    "    \n",
    "    for i in range(0,n):\n",
    "        print(math.ceil(HW[i][2] / HW[i][0]) + ((HW[i][2] % HW[i][0])*100 if (HW[i][2] % HW[i][0])*100>0 else HW[i][0]*100))\n",
    "    \n",
    "n = int(input())\n",
    "    \n",
    "hotel_room_number(n)"
   ]
  }
 ],
 "metadata": {
  "kernelspec": {
   "display_name": "Python 3",
   "language": "python",
   "name": "python3"
  },
  "language_info": {
   "codemirror_mode": {
    "name": "ipython",
    "version": 3
   },
   "file_extension": ".py",
   "mimetype": "text/x-python",
   "name": "python",
   "nbconvert_exporter": "python",
   "pygments_lexer": "ipython3",
   "version": "3.7.1"
  }
 },
 "nbformat": 4,
 "nbformat_minor": 2
}
