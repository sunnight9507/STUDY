{
 "cells": [
  {
   "cell_type": "code",
   "execution_count": 138,
   "metadata": {},
   "outputs": [
    {
     "name": "stdout",
     "output_type": "stream",
     "text": [
      "3\n",
      "3 4 5\n",
      "1 0 1 0\n",
      "35\n",
      "17\n"
     ]
    }
   ],
   "source": [
    "from itertools import permutations\n",
    "a = int(input())\n",
    "num = input().split()\n",
    "cal = input().split()\n",
    "result = []\n",
    "cnt = 1\n",
    "for i in cal:\n",
    "    for j in range(0,int(i)):\n",
    "        result.append(cnt)\n",
    "    cnt += 1\n",
    "per = permutations(result,len(result))\n",
    "p = list(per)\n",
    "cnt = 0\n",
    "for i in p:\n",
    "    re = int(num[0])\n",
    "    for j in range(0,len(num)-1):\n",
    "        if i[j] == 1:\n",
    "            re += int(num[j+1])\n",
    "        elif i[j] == 2:\n",
    "            re -= int(num[j+1])\n",
    "        elif i[j] == 3:\n",
    "            re *= int(num[j+1])\n",
    "        elif i[j] == 4:\n",
    "            if(re < 0):\n",
    "                re = 0\n",
    "            else:\n",
    "                re //= int(num[j+1])\n",
    "    if(cnt == 0):\n",
    "        max_num = re\n",
    "        min_num = re\n",
    "        cnt += 1\n",
    "    else:\n",
    "        if(max_num < re):\n",
    "            max_num = re\n",
    "        if(min_num > re):\n",
    "            min_num = re\n",
    "    re = 0\n",
    "print(max_num)\n",
    "print(min_num)"
   ]
  },
  {
   "cell_type": "markdown",
   "metadata": {},
   "source": [
    "6\n",
    "\n",
    "1 2 3 4 5 6\n",
    "\n",
    "2 1 1 1\n",
    "\n",
    "54\n",
    "\n",
    "-24\n",
    "\n",
    "최댓값: 1-2÷3+4+5×6\n",
    "\n",
    "최솟값: 1+2+3÷4-5×6\n"
   ]
  },
  {
   "cell_type": "code",
   "execution_count": 137,
   "metadata": {},
   "outputs": [
    {
     "name": "stdout",
     "output_type": "stream",
     "text": [
      "6\n",
      "1 2 3 4 5 6\n",
      "2 1 1 1\n",
      "54\n",
      "-24\n"
     ]
    }
   ],
   "source": [
    "import itertools\n",
    "from functools import reduce\n",
    "def insert_operation(length, input_num, input_oper):\n",
    "    ops = {\"0\" : (lambda x,y : x+y), \"1\" :(lambda x,y: x-y), \"2\": (lambda x,y:x*y), \"3\":(lambda x,y : (x//y) if x>0 else -((-x)//y))}\n",
    "    oper_permutation = []\n",
    "    result = []\n",
    "    list(oper_permutation.extend(\n",
    "        [str(index)]*value) for index, value in enumerate(input_oper) if value>0)\n",
    "    permutation = [list(x) for x in set(itertools.permutations(oper_permutation))]\n",
    "    for i in permutation:\n",
    "        result.append(reduce(lambda x,y : ops[i.pop()](x,y), input_num))\n",
    "        \n",
    "    print(str(max(result)) + \"\\n\" + str(min(result)))\n",
    "    \n",
    "n = int(input())\n",
    "\n",
    "numbers = [int(i) for i in input().split()]\n",
    "\n",
    "arithmetics = [int (i) for i in input().split()]\n",
    "\n",
    "insert_operation(n,numbers,arithmetics)"
   ]
  }
 ],
 "metadata": {
  "kernelspec": {
   "display_name": "Python 3",
   "language": "python",
   "name": "python3"
  }
 },
 "nbformat": 4,
 "nbformat_minor": 2
}
