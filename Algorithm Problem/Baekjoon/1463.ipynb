{
 "cells": [
  {
   "cell_type": "code",
   "execution_count": 77,
   "metadata": {},
   "outputs": [
    {
     "name": "stdout",
     "output_type": "stream",
     "text": [
      "989899\n",
      "22\n"
     ]
    }
   ],
   "source": [
    "def insert_operation(n,cnt): \n",
    "    new_n = []\n",
    "    \n",
    "    if 1 in n:\n",
    "        print(cnt)\n",
    "        return\n",
    "    \n",
    "    cnt += 1\n",
    "    \n",
    "    for i in n:\n",
    "        new_n.append(i-1)\n",
    "        if i%2==0:\n",
    "            new_n.append(i//2)\n",
    "        if i%3==0:\n",
    "            new_n.append(i//3)\n",
    "    \n",
    "    insert_operation(new_n,cnt)\n",
    "\n",
    "n = []\n",
    "n.append(int(input()))\n",
    "cnt = 0\n",
    "insert_operation(n,cnt)"
   ]
  }
 ],
 "metadata": {
  "kernelspec": {
   "display_name": "Python 3",
   "language": "python",
   "name": "python3"
  },
  "language_info": {
   "codemirror_mode": {
    "name": "ipython",
    "version": 3
   },
   "file_extension": ".py",
   "mimetype": "text/x-python",
   "name": "python",
   "nbconvert_exporter": "python",
   "pygments_lexer": "ipython3",
   "version": "3.7.3"
  }
 },
 "nbformat": 4,
 "nbformat_minor": 2
}
