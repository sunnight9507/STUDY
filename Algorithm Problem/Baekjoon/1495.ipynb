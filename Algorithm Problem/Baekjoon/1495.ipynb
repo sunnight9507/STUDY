{
 "cells": [
  {
   "cell_type": "markdown",
   "metadata": {},
   "source": [
    "### [기타리스트](https://www.acmicpc.net/problem/1495)"
   ]
  },
  {
   "cell_type": "code",
   "execution_count": 15,
   "metadata": {},
   "outputs": [
    {
     "name": "stdout",
     "output_type": "stream",
     "text": [
      "4 5 100\n",
      "5 5 5 100\n",
      "100\n"
     ]
    }
   ],
   "source": [
    "N, S, M = map(int, input().split())\n",
    "\n",
    "lst = list(map(int, input().split()))\n",
    "\n",
    "_set = set([S])\n",
    "\n",
    "for _ in lst:\n",
    "    new_set = set([])\n",
    "    if len(_set) == 0:\n",
    "        break\n",
    "    for i in _set:\n",
    "        if _ + i <= M:\n",
    "            new_set.add(i+_)\n",
    "        if 0 <= i-_:\n",
    "            new_set.add(i-_)\n",
    "            \n",
    "    _set = new_set\n",
    "\n",
    "if _set: print(max(_set))\n",
    "else: print(-1)"
   ]
  }
 ],
 "metadata": {
  "kernelspec": {
   "display_name": "Python 3",
   "language": "python",
   "name": "python3"
  },
  "language_info": {
   "codemirror_mode": {
    "name": "ipython",
    "version": 3
   },
   "file_extension": ".py",
   "mimetype": "text/x-python",
   "name": "python",
   "nbconvert_exporter": "python",
   "pygments_lexer": "ipython3",
   "version": "3.8.3"
  }
 },
 "nbformat": 4,
 "nbformat_minor": 4
}
