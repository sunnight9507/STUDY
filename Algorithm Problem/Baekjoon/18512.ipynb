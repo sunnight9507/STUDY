{
 "cells": [
  {
   "cell_type": "markdown",
   "metadata": {},
   "source": [
    "### [점프 점프](https://www.acmicpc.net/problem/18512)"
   ]
  },
  {
   "cell_type": "code",
   "execution_count": 10,
   "metadata": {},
   "outputs": [
    {
     "name": "stdout",
     "output_type": "stream",
     "text": [
      "7 7 2 1\n",
      "-1\n"
     ]
    }
   ],
   "source": [
    "X, Y, P1, P2 = map(int, input().split())\n",
    "\n",
    "_max = max(P1, P2) + (X * Y)\n",
    "while P1 <= _max and P2 <= _max:\n",
    "    if P1 == P2:\n",
    "        print(P1)\n",
    "        break\n",
    "    elif P1 > P2:\n",
    "        P2 += Y\n",
    "    else:\n",
    "        P1 += X\n",
    "else:\n",
    "    print(-1)"
   ]
  }
 ],
 "metadata": {
  "kernelspec": {
   "display_name": "Python 3",
   "language": "python",
   "name": "python3"
  },
  "language_info": {
   "codemirror_mode": {
    "name": "ipython",
    "version": 3
   },
   "file_extension": ".py",
   "mimetype": "text/x-python",
   "name": "python",
   "nbconvert_exporter": "python",
   "pygments_lexer": "ipython3",
   "version": "3.8.3"
  }
 },
 "nbformat": 4,
 "nbformat_minor": 4
}
