{
 "cells": [
  {
   "cell_type": "markdown",
   "metadata": {},
   "source": [
    "### [좌표 정렬하기](https://www.acmicpc.net/problem/11650)"
   ]
  },
  {
   "cell_type": "code",
   "execution_count": 13,
   "metadata": {},
   "outputs": [
    {
     "name": "stdout",
     "output_type": "stream",
     "text": [
      "3\n",
      "1 -1\n",
      "1 -2\n",
      "0 -1\n",
      "0 -1\n",
      "1 -2\n",
      "1 -1\n"
     ]
    }
   ],
   "source": [
    "N = int(input())\n",
    "\n",
    "lst = []\n",
    "for _ in range(N):\n",
    "    lst.append(list(map(int, input().split())))\n",
    "    \n",
    "lst.sort(key = lambda x: [x[0], x[1]])\n",
    "for x,y in lst:\n",
    "    print(x, y)"
   ]
  },
  {
   "cell_type": "code",
   "execution_count": 12,
   "metadata": {},
   "outputs": [
    {
     "data": {
      "text/plain": [
       "[[-1, -1], [0, -1], [1, -1], [1, 1], [1, 2]]"
      ]
     },
     "execution_count": 12,
     "metadata": {},
     "output_type": "execute_result"
    }
   ],
   "source": [
    "lst"
   ]
  }
 ],
 "metadata": {
  "kernelspec": {
   "display_name": "Python 3",
   "language": "python",
   "name": "python3"
  },
  "language_info": {
   "codemirror_mode": {
    "name": "ipython",
    "version": 3
   },
   "file_extension": ".py",
   "mimetype": "text/x-python",
   "name": "python",
   "nbconvert_exporter": "python",
   "pygments_lexer": "ipython3",
   "version": "3.8.3"
  }
 },
 "nbformat": 4,
 "nbformat_minor": 4
}
