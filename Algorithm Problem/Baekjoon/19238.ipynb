{
 "cells": [
  {
   "cell_type": "markdown",
   "metadata": {},
   "source": [
    "### [스타트 택시](https://www.acmicpc.net/problem/19238)"
   ]
  },
  {
   "cell_type": "code",
   "execution_count": null,
   "metadata": {},
   "outputs": [],
   "source": [
    "6 3 15\n",
    "0 0 1 0 0 0\n",
    "0 0 1 0 0 0\n",
    "0 0 0 0 0 0\n",
    "0 0 0 0 0 0\n",
    "0 0 0 0 1 0\n",
    "0 0 0 1 0 0\n",
    "6 5\n",
    "2 2 5 6\n",
    "5 4 1 6\n",
    "4 2 3 5"
   ]
  },
  {
   "cell_type": "code",
   "execution_count": 15,
   "metadata": {},
   "outputs": [
    {
     "name": "stdout",
     "output_type": "stream",
     "text": [
      "6 3 15\n",
      "0 0 1 0 0 0 \n",
      "0 0 1 0 0 0 \n",
      "0 0 0 0 0 0 \n",
      "0 0 0 0 0 0 \n",
      "0 0 0 0 1 0\n",
      "0 0 0 1 0 0\n",
      "6 5\n",
      "2 2 5 6\n",
      "5 4 1 6\n",
      "4 2 3 5\n"
     ]
    }
   ],
   "source": [
    "N, M, fuel = map(int, input().split())\n",
    "lst = [[0]*(N+1) for _ in range(N+1)]\n",
    "for _ in range(1,N+1):\n",
    "    lst[_][1:] = map(int, input().split())\n",
    "start_x, start_y = map(int, input().split())\n",
    "customer_lst = [list(map(int, input().split())) for _ in range(M)]"
   ]
  },
  {
   "cell_type": "code",
   "execution_count": 27,
   "metadata": {},
   "outputs": [
    {
     "data": {
      "text/plain": [
       "15"
      ]
     },
     "execution_count": 27,
     "metadata": {},
     "output_type": "execute_result"
    }
   ],
   "source": [
    "from collections import deque\n",
    "import copy \n",
    "\n",
    "def bfs(start_x, start_y, lst, find = False):\n",
    "    tmp_lst = copy.deepcopy(lst)\n",
    "    queue = deque([[start_x, start_y]])\n",
    "    visited = [[False]*(N+1) for _ in range(N+1)]\n",
    "    move_lst = [[1,0],[0,1],[-1,0],[0,-1]]\n",
    "    \n",
    "    while queue:\n",
    "        tmp_x, tmp_y = queue.popleft()\n",
    "        visited[tmp_x][tmp_y] = True\n",
    "        \n",
    "        for x,y in move_lst:\n",
    "            next_x, next_y = tmp_x + x, tmp_y + y\n",
    "            if (0 < next_x <=N) and (0 < next_y <=N) and not visited[next_x][next_y] and (lst[next_x][next_y] == 0):\n",
    "                if find:\n",
    "                    if find == [next_x, next_y]:\n",
    "                        tmp_lst[next_x][next_y] = tmp_lst[tmp_x][tmp_y] - 1\n",
    "                        return tmp_lst\n",
    "                tmp_lst[next_x][next_y] = tmp_lst[tmp_x][tmp_y] - 1\n",
    "                queue.append([next_x, next_y])\n",
    "            \n",
    "    return tmp_lst\n",
    "\n",
    "def func(fuel, lst, start_x, start_y, customer_lst):\n",
    "    if customer_lst == []:\n",
    "        return fuel\n",
    "\n",
    "    # 1) 현재위치에서 가장 가까운 고객 선택 후 이동\n",
    "    \n",
    "    # 모든 지점 탐색\n",
    "    tmp_lst = bfs(start_x, start_y, lst)\n",
    "    \n",
    "    # 가장 가까운 고객 선택 / 시간 N^2\n",
    "    idx_x, idx_y, _min = 0,0,-(N*N)\n",
    "    find_idx = 0\n",
    "    for idx, value in enumerate(customer_lst):\n",
    "        x,y,_,_ = value\n",
    "        if (start_x, start_y) != (idx_x, idx_y) and tmp_lst[x][y] == 0:\n",
    "            continue\n",
    "        \n",
    "        if tmp_lst[x][y] != 1:\n",
    "            if tmp_lst[x][y] > _min:\n",
    "                idx_x, idx_y, _min = x,y,tmp_lst[x][y]\n",
    "                find_idx = idx\n",
    "            elif tmp_lst[x][y] == _min:\n",
    "                if x < idx_x:\n",
    "                    idx_x, idx_y, _min = x,y,tmp_lst[x][y]\n",
    "                    find_idx = idx\n",
    "                elif x == idx_x and y < idx_y:\n",
    "                    idx_x, idx_y, _min = x,y,tmp_lst[x][y]\n",
    "                    find_idx = idx\n",
    "    \n",
    "    # 해당 위치에 갈 수 없는 경우\n",
    "    if idx_x == 0: return -1\n",
    "    \n",
    "    if fuel >= -(_min):\n",
    "        fuel += _min\n",
    "    else:\n",
    "        return -1\n",
    "                \n",
    "    # 2) 고객위치에서 도착지점까지 거리 확인 후 이동\n",
    "    start_x, start_y = idx_x, idx_y\n",
    "    \n",
    "    # 도착지점까지만 탐색\n",
    "    tmp_lst = bfs(start_x, start_y, lst, find = customer_lst[find_idx][2:])\n",
    "    \n",
    "    _fuel = tmp_lst[customer_lst[find_idx][2]][customer_lst[find_idx][3]]\n",
    "    \n",
    "    if _fuel == 0:\n",
    "        return -1\n",
    "    \n",
    "    if fuel >= -(_fuel):\n",
    "        fuel -= _fuel\n",
    "    else:\n",
    "        return -1\n",
    "    \n",
    "    start_x, start_y = customer_lst[find_idx][2:]\n",
    "    \n",
    "    customer_lst.pop(find_idx)\n",
    "    \n",
    "    return func(fuel, lst, start_x, start_y, customer_lst)\n",
    "    \n",
    "func(fuel, lst, start_x, start_y, customer_lst)"
   ]
  },
  {
   "cell_type": "code",
   "execution_count": 29,
   "metadata": {},
   "outputs": [
    {
     "data": {
      "text/plain": [
       "15"
      ]
     },
     "execution_count": 29,
     "metadata": {},
     "output_type": "execute_result"
    }
   ],
   "source": [
    "fuel"
   ]
  }
 ],
 "metadata": {
  "kernelspec": {
   "display_name": "Python 3",
   "language": "python",
   "name": "python3"
  },
  "language_info": {
   "codemirror_mode": {
    "name": "ipython",
    "version": 3
   },
   "file_extension": ".py",
   "mimetype": "text/x-python",
   "name": "python",
   "nbconvert_exporter": "python",
   "pygments_lexer": "ipython3",
   "version": "3.8.3"
  }
 },
 "nbformat": 4,
 "nbformat_minor": 4
}
