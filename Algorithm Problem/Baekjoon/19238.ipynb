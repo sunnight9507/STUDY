{
 "cells": [
  {
   "cell_type": "markdown",
   "metadata": {},
   "source": [
    "### [스타트 택시](https://www.acmicpc.net/problem/19238)"
   ]
  },
  {
   "cell_type": "code",
   "execution_count": 79,
   "metadata": {},
   "outputs": [
    {
     "name": "stdout",
     "output_type": "stream",
     "text": [
      "6 3 100\n",
      "0 0 1 0 0 0\n",
      "0 0 1 0 0 0\n",
      "0 0 0 1 0 0\n",
      "0 0 0 1 0 0\n",
      "0 0 0 0 1 0\n",
      "0 0 0 1 0 0\n",
      "6 5\n",
      "2 2 5 6\n",
      "5 4 1 6\n",
      "4 2 3 5\n"
     ]
    }
   ],
   "source": [
    "N, M, fuel = map(int, input().split())\n",
    "lst = [[0]*(N+1) for _ in range(N+1)]\n",
    "for _ in range(1,N+1):\n",
    "    lst[_][1:] = map(int, input().split())\n",
    "start_x, start_y = map(int, input().split())\n",
    "customer_lst = [list(map(int, input().split())) for _ in range(M)]"
   ]
  },
  {
   "cell_type": "code",
   "execution_count": 80,
   "metadata": {
    "scrolled": true
   },
   "outputs": [
    {
     "name": "stdout",
     "output_type": "stream",
     "text": [
      "[[2, 2, 5, 6], [5, 4, 1, 6], [4, 2, 3, 5]]\n",
      "6 5 100\n",
      "False\n",
      "[[0, 0, 0, 0, 0, 0, 0],\n",
      " [0, 0, 0, 1, -8, -7, -6],\n",
      " [0, 0, 0, 1, -7, -6, -5],\n",
      " [0, 0, 0, 0, 1, -5, -4],\n",
      " [0, 0, 0, 0, 1, -4, -3],\n",
      " [0, 0, 0, 0, 0, 1, -2],\n",
      " [0, 0, 0, 0, 1, 0, -1]]\n",
      "2 2 100\n",
      "[5, 6]\n",
      "[[0, 0, 0, 0, 0, 0, 0],\n",
      " [0, -2, -1, 1, 0, 0, 0],\n",
      " [0, -1, 0, 1, 0, 0, 0],\n",
      " [0, -2, -1, -2, 1, 0, 0],\n",
      " [0, -3, -2, -3, 1, 0, 0],\n",
      " [0, -4, -3, -4, -5, 1, 0],\n",
      " [0, -5, -4, -5, 1, 0, 0]]\n"
     ]
    },
    {
     "data": {
      "text/plain": [
       "-1"
      ]
     },
     "execution_count": 80,
     "metadata": {},
     "output_type": "execute_result"
    }
   ],
   "source": [
    "from collections import deque\n",
    "import copy \n",
    "\n",
    "def bfs(start_x, start_y, lst, find = False):\n",
    "#     print(find)\n",
    "    tmp_lst = copy.deepcopy(lst)\n",
    "    queue = deque([[start_x, start_y]])\n",
    "    visited = [[False]*(N+1) for _ in range(N+1)]\n",
    "    move_lst = [[1,0],[0,1],[-1,0],[0,-1]]\n",
    "    \n",
    "    while queue:\n",
    "        tmp_x, tmp_y = queue.popleft()\n",
    "        visited[tmp_x][tmp_y] = True\n",
    "        \n",
    "        for x,y in move_lst:\n",
    "            next_x, next_y = tmp_x + x, tmp_y + y\n",
    "            if (0 < next_x <=N) and (0 < next_y <=N) and not visited[next_x][next_y] and (lst[next_x][next_y] == 0):\n",
    "                if find:\n",
    "                    if find == [next_x, next_y]:\n",
    "                        print(find, [next_x, next_y])\n",
    "                        tmp_lst[next_x][next_y] = tmp_lst[tmp_x][tmp_y] - 1\n",
    "                        return tmp_lst\n",
    "                tmp_lst[next_x][next_y] = tmp_lst[tmp_x][tmp_y] - 1\n",
    "                queue.append([next_x, next_y])\n",
    "            \n",
    "    return tmp_lst\n",
    "\n",
    "def func(fuel, lst, start_x, start_y, customer_lst):\n",
    "    if customer_lst == []:\n",
    "        return fuel\n",
    "    \n",
    "#     print(customer_lst)\n",
    "    \n",
    "#     print(start_x, start_y, fuel)\n",
    "    # 1) 현재위치에서 가장 가까운 고객 선택 후 이동\n",
    "    tmp_lst = bfs(start_x, start_y, lst)\n",
    "    pprint.pprint(tmp_lst)\n",
    "    \n",
    "    idx_x, idx_y, _min = 0,0,-(N*N)\n",
    "    find_idx = 0\n",
    "    for idx, value in enumerate(customer_lst):\n",
    "        x,y,_,_ = value\n",
    "        if (start_x, start_y) != (idx_x, idx_y) and tmp_lst[x][y] == 0:\n",
    "            pass\n",
    "        \n",
    "        \n",
    "        if tmp_lst[x][y] != 1:\n",
    "            if tmp_lst[x][y] > _min:\n",
    "                idx_x, idx_y, _min = x,y,tmp_lst[x][y]\n",
    "                find_idx = idx\n",
    "            elif tmp_lst[x][y] == _min:\n",
    "                if x < idx_x:\n",
    "                    idx_x, idx_y, _min = x,y,tmp_lst[x][y]\n",
    "                    find_idx = idx\n",
    "                elif x == idx_x and y < idx_y:\n",
    "                    idx_x, idx_y, _min = x,y,tmp_lst[x][y]\n",
    "                    find_idx = idx\n",
    "    \n",
    "    if idx_x == 0: return -1\n",
    "    \n",
    "    if fuel >= -(_min):\n",
    "        fuel += _min\n",
    "    else:\n",
    "        return -1\n",
    "                \n",
    "    # 2) 고객위치에서 도착지점까지 거리 확인 후 이동\n",
    "    start_x, start_y = idx_x, idx_y\n",
    "#     print(start_x, start_y, fuel)\n",
    "    tmp_lst = bfs(start_x, start_y, lst, find = customer_lst[find_idx][2:])\n",
    "    \n",
    "    _fuel = tmp_lst[customer_lst[find_idx][2]][customer_lst[find_idx][3]]\n",
    "    pprint.pprint(tmp_lst)\n",
    "    \n",
    "    if _fuel == 0:\n",
    "        return -1\n",
    "    \n",
    "    if fuel >= -(_fuel):\n",
    "        fuel -= _fuel\n",
    "    else:\n",
    "        return -1\n",
    "    \n",
    "    start_x, start_y = customer_lst[find_idx][2:]\n",
    "    \n",
    "    customer_lst.pop(find_idx)\n",
    "    \n",
    "    return func(fuel, lst, start_x, start_y, customer_lst)\n",
    "    \n",
    "func(fuel, lst, start_x, start_y, customer_lst)"
   ]
  }
 ],
 "metadata": {
  "kernelspec": {
   "display_name": "Python 3",
   "language": "python",
   "name": "python3"
  },
  "language_info": {
   "codemirror_mode": {
    "name": "ipython",
    "version": 3
   },
   "file_extension": ".py",
   "mimetype": "text/x-python",
   "name": "python",
   "nbconvert_exporter": "python",
   "pygments_lexer": "ipython3",
   "version": "3.8.3"
  }
 },
 "nbformat": 4,
 "nbformat_minor": 4
}
