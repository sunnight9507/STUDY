{
 "cells": [
  {
   "cell_type": "markdown",
   "metadata": {},
   "source": [
    "### [스타트 택시](https://www.acmicpc.net/problem/19238)"
   ]
  },
  {
   "cell_type": "code",
   "execution_count": null,
   "metadata": {},
   "outputs": [],
   "source": [
    "2 1 1\n",
    "0 0\n",
    "0 0\n",
    "2 2\n",
    "2 2 2 1"
   ]
  },
  {
   "cell_type": "code",
   "execution_count": 26,
   "metadata": {},
   "outputs": [
    {
     "name": "stdout",
     "output_type": "stream",
     "text": [
      "2 1 1\n",
      "0 0 \n",
      "0 0\n",
      "2 2\n",
      "2 2 2 1\n"
     ]
    }
   ],
   "source": [
    "N, M, fuel = map(int, input().split())\n",
    "lst = [[0]*(N+1) for _ in range(N+1)]\n",
    "for _ in range(1,N+1):\n",
    "    lst[_][1:] = map(int, input().split())\n",
    "start_x, start_y = map(int, input().split())\n",
    "customer_lst = [list(map(int, input().split())) for _ in range(M)]"
   ]
  },
  {
   "cell_type": "code",
   "execution_count": 29,
   "metadata": {},
   "outputs": [
    {
     "name": "stdout",
     "output_type": "stream",
     "text": [
      "2\n"
     ]
    }
   ],
   "source": [
    "from collections import deque\n",
    "import heapq\n",
    "\n",
    "def bfs_1(start_x, start_y, lst):\n",
    "    if lst[start_x][start_y] == -1:\n",
    "        return [start_x, start_y,0]\n",
    "    \n",
    "    queue = deque([[start_x, start_y, 0]])    \n",
    "    visited = [[False]*(N+1) for _ in range(N+1)]\n",
    "    visited[start_x][start_y] = True\n",
    "    move_lst = [[1,0],[0,1],[-1,0],[0,-1]]\n",
    "    result = []\n",
    "    \n",
    "    while queue:\n",
    "        q_len = len(queue)\n",
    "        for _ in range(q_len):\n",
    "            tmp_x, tmp_y, tmp_fuel = queue.popleft()\n",
    "            \n",
    "            for x,y in move_lst:\n",
    "                next_x, next_y = tmp_x + x, tmp_y + y\n",
    "                if (0 < next_x <=N) and (0 < next_y <=N) and not visited[next_x][next_y] and (lst[next_x][next_y] <= 0):\n",
    "                    visited[next_x][next_y] = True\n",
    "                    queue.append([next_x, next_y,tmp_fuel+1])\n",
    "                    \n",
    "                    if lst[next_x][next_y] == -1:\n",
    "                        heapq.heappush(result, [next_x, next_y,tmp_fuel+1])\n",
    "        \n",
    "        if result:\n",
    "            break\n",
    "    \n",
    "    if result == []:\n",
    "        return []\n",
    "    \n",
    "    return result.pop(0)\n",
    "\n",
    "def bfs_2(start_x, start_y, lst, find):\n",
    "    queue = deque([[start_x, start_y, 0]])\n",
    "    visited = [[False]*(N+1) for _ in range(N+1)]\n",
    "    visited[start_x][start_y] = True\n",
    "    move_lst = [[1,0],[0,1],[-1,0],[0,-1]]\n",
    "    \n",
    "    while queue:\n",
    "        tmp_x, tmp_y, tmp_fuel = queue.popleft()\n",
    "        visited[tmp_x][tmp_y] = True\n",
    "\n",
    "        for x,y in move_lst:\n",
    "            next_x, next_y = tmp_x + x, tmp_y + y\n",
    "            if (0 < next_x <=N) and (0 < next_y <=N) and not visited[next_x][next_y] and (lst[next_x][next_y] <= 0):\n",
    "                visited[next_x][next_y] = True\n",
    "                queue.append([next_x, next_y,tmp_fuel+1])\n",
    "                \n",
    "                if (next_x,next_y) == find:\n",
    "                    return tmp_fuel+1\n",
    "    \n",
    "    return 1e9\n",
    "\n",
    "\n",
    "def func(fuel, lst, start_x, start_y, customer_lst):\n",
    "    _dict = {}\n",
    "    \n",
    "    for s_x,s_y,e_x,e_y in customer_lst:\n",
    "        _dict[(s_x,s_y)] = (e_x,e_y)\n",
    "        \n",
    "        \n",
    "        lst[e_x][e_y] = -2\n",
    "    \n",
    "    \n",
    "    while _dict:\n",
    "        for s_x,s_y in _dict.keys():\n",
    "            lst[s_x][s_y] = -1\n",
    "        \n",
    "#         print(_dict)\n",
    "        # 1) 현재위치에서 가장 가까운 고객 선택 후 이동\n",
    "\n",
    "        # 가장 가까운 지점 탐색\n",
    "        tmp_lst = bfs_1(start_x, start_y, lst)\n",
    "\n",
    "        if tmp_lst == []: # 갈 수 있는 곳이 없을 때\n",
    "            return -1\n",
    "\n",
    "        start_x, start_y, _ = tmp_lst\n",
    "        if fuel < _: return -1\n",
    "        else: fuel -= _\n",
    "            \n",
    "#         print(start_x, start_y, _dict[(start_x, start_y)], fuel)\n",
    "\n",
    "        # 2) 고객 위치에서 도착지점까지 이동\n",
    "\n",
    "        # 도착지점까지만 탐색\n",
    "        next_fuel = bfs_2(start_x, start_y, lst, _dict[(start_x, start_y)])\n",
    "\n",
    "        if fuel < next_fuel: return -1\n",
    "        else: fuel += next_fuel\n",
    "\n",
    "        end_x, end_y = _dict[(start_x, start_y)]\n",
    "        lst[start_x][start_y] = 0\n",
    "        lst[end_x][end_y] = 0\n",
    "\n",
    "        del _dict[(start_x, start_y)]\n",
    "\n",
    "        start_x, start_y = end_x, end_y\n",
    "        \n",
    "#         print(start_x, start_y, fuel)\n",
    "    \n",
    "    return fuel\n",
    "    \n",
    "print(func(fuel, lst, start_x, start_y, customer_lst))"
   ]
  }
 ],
 "metadata": {
  "kernelspec": {
   "display_name": "Python 3",
   "language": "python",
   "name": "python3"
  },
  "language_info": {
   "codemirror_mode": {
    "name": "ipython",
    "version": 3
   },
   "file_extension": ".py",
   "mimetype": "text/x-python",
   "name": "python",
   "nbconvert_exporter": "python",
   "pygments_lexer": "ipython3",
   "version": "3.8.3"
  }
 },
 "nbformat": 4,
 "nbformat_minor": 4
}
