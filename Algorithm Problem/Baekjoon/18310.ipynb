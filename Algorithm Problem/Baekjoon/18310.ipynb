{
 "cells": [
  {
   "cell_type": "markdown",
   "metadata": {},
   "source": [
    "### [안테나](https://www.acmicpc.net/problem/18310)"
   ]
  },
  {
   "cell_type": "code",
   "execution_count": 48,
   "metadata": {},
   "outputs": [
    {
     "name": "stdout",
     "output_type": "stream",
     "text": [
      "7\n",
      "1 2 3 4 5 6 1000\n"
     ]
    }
   ],
   "source": [
    "N = int(input())\n",
    "lst = list(map(int, input().split()))"
   ]
  },
  {
   "cell_type": "code",
   "execution_count": 51,
   "metadata": {},
   "outputs": [
    {
     "name": "stdout",
     "output_type": "stream",
     "text": [
      "4\n"
     ]
    }
   ],
   "source": [
    "lst.sort()\n",
    "print(lst[(N - 1) // 2])"
   ]
  },
  {
   "cell_type": "code",
   "execution_count": 49,
   "metadata": {},
   "outputs": [
    {
     "name": "stdout",
     "output_type": "stream",
     "text": [
      "[0, 0, 0] [5, 1, 994]\n",
      "[1, 1, 1] [5, 1, 994]\n",
      "[2, 2, 3] [5, 1, 994]\n",
      "[3, 3, 6] [5, 1, 994]\n",
      "[4, 4, 10] [5, 1, 994]\n",
      "[5, 5, 15] [5, 1, 994]\n",
      "6\n"
     ]
    }
   ],
   "source": [
    "lst.sort()\n",
    "\n",
    "def func(lst):\n",
    "    left = [0,0,0] # index, cnt, total\n",
    "    right = [len(lst)-1,0,0]\n",
    "\n",
    "    while left[0] != right[0]:\n",
    "        if left[2] < right[2]:\n",
    "            left[0] += 1\n",
    "            left[1] += 1\n",
    "            left[2] = left[2] + left[1]*(lst[left[0]] - lst[left[0]-1])\n",
    "        else:\n",
    "            right[0] -= 1\n",
    "            right[1] += 1\n",
    "            right[2] = right[2] + right[1]*(lst[right[0]+1] - lst[right[0]])\n",
    "        print(left, right)\n",
    "\n",
    "    return lst[left[0]]\n",
    "\n",
    "if len(lst) == 1: print(lst[0])\n",
    "else: print(func(lst))"
   ]
  }
 ],
 "metadata": {
  "kernelspec": {
   "display_name": "Python 3",
   "language": "python",
   "name": "python3"
  },
  "language_info": {
   "codemirror_mode": {
    "name": "ipython",
    "version": 3
   },
   "file_extension": ".py",
   "mimetype": "text/x-python",
   "name": "python",
   "nbconvert_exporter": "python",
   "pygments_lexer": "ipython3",
   "version": "3.8.3"
  }
 },
 "nbformat": 4,
 "nbformat_minor": 4
}
