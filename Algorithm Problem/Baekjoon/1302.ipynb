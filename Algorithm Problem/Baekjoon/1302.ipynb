{
 "cells": [
  {
   "cell_type": "markdown",
   "metadata": {},
   "source": [
    "### [베스트 셀러](https://www.acmicpc.net/problem/1302)"
   ]
  },
  {
   "cell_type": "code",
   "execution_count": 19,
   "metadata": {},
   "outputs": [
    {
     "name": "stdout",
     "output_type": "stream",
     "text": [
      "3\n",
      "a\n",
      "a\n",
      "b\n",
      "a\n"
     ]
    }
   ],
   "source": [
    "N = int(input())\n",
    "\n",
    "_dict = {}\n",
    "\n",
    "for _ in range(N):\n",
    "    tmp = input()\n",
    "    if tmp not in _dict:\n",
    "        _dict[tmp] = 1\n",
    "    else:\n",
    "        _dict[tmp] += 1\n",
    "\n",
    "_max = max(_dict.values())\n",
    "result = []\n",
    "for _ in _dict:\n",
    "    if _dict[_] == _max:\n",
    "        result.append(_)\n",
    "        \n",
    "result.sort()\n",
    "print(result[0])"
   ]
  }
 ],
 "metadata": {
  "kernelspec": {
   "display_name": "Python 3",
   "language": "python",
   "name": "python3"
  },
  "language_info": {
   "codemirror_mode": {
    "name": "ipython",
    "version": 3
   },
   "file_extension": ".py",
   "mimetype": "text/x-python",
   "name": "python",
   "nbconvert_exporter": "python",
   "pygments_lexer": "ipython3",
   "version": "3.8.3"
  }
 },
 "nbformat": 4,
 "nbformat_minor": 4
}
