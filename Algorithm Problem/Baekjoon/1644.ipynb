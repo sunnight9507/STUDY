{
 "cells": [
  {
   "cell_type": "markdown",
   "metadata": {},
   "source": [
    "### [소수의 연속합](https://www.acmicpc.net/problem/1644)"
   ]
  },
  {
   "cell_type": "code",
   "execution_count": 27,
   "metadata": {},
   "outputs": [
    {
     "name": "stdout",
     "output_type": "stream",
     "text": [
      "41\n",
      "3\n"
     ]
    }
   ],
   "source": [
    "N = int(input())\n",
    "\n",
    "# lst = [False for _ in range(N+1)]\n",
    "# prime = []\n",
    "\n",
    "# # 소수 구하기\n",
    "# for _ in range(2,N+1):\n",
    "#     if not lst[_]:\n",
    "#         prime.append(_)\n",
    "        \n",
    "#         for i in range(_+_,N+1,_):\n",
    "#             lst[i] = True\n",
    "            \n",
    "def primes(n):\n",
    "    result = [False,False] + [True]*(n-1)\n",
    "    for i in range(2, int(n**0.5+1.5)):\n",
    "        if result[i]:\n",
    "            result[2*i::i] = [False]*((n-i)//i)\n",
    "    return [x for x in range(n+1) if result[x]]\n",
    "\n",
    "prime = primes(N)\n",
    "cnt = 0\n",
    "idx_start = 0\n",
    "idx_end = 1\n",
    "n = len(prime)\n",
    "\n",
    "while idx_end != n+1:\n",
    "    tmp_sum = sum(prime[idx_start:idx_end])\n",
    "    if tmp_sum < N:\n",
    "        idx_end += 1\n",
    "    elif tmp_sum == N:\n",
    "        cnt += 1\n",
    "        idx_end += 1\n",
    "    else:\n",
    "        idx_start += 1\n",
    "    \n",
    "print(cnt)"
   ]
  },
  {
   "cell_type": "code",
   "execution_count": 22,
   "metadata": {},
   "outputs": [
    {
     "data": {
      "text/plain": [
       "[2, 3, 5, 7, 11, 13, 17, 19, 23, 29, 31, 37, 41]"
      ]
     },
     "execution_count": 22,
     "metadata": {},
     "output_type": "execute_result"
    }
   ],
   "source": [
    "prime"
   ]
  },
  {
   "cell_type": "code",
   "execution_count": null,
   "metadata": {},
   "outputs": [],
   "source": []
  }
 ],
 "metadata": {
  "kernelspec": {
   "display_name": "Python 3",
   "language": "python",
   "name": "python3"
  },
  "language_info": {
   "codemirror_mode": {
    "name": "ipython",
    "version": 3
   },
   "file_extension": ".py",
   "mimetype": "text/x-python",
   "name": "python",
   "nbconvert_exporter": "python",
   "pygments_lexer": "ipython3",
   "version": "3.8.3"
  }
 },
 "nbformat": 4,
 "nbformat_minor": 4
}
