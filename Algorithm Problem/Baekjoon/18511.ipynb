{
 "cells": [
  {
   "cell_type": "markdown",
   "metadata": {},
   "source": [
    "### [큰 수 구성하기](https://www.acmicpc.net/problem/18511)"
   ]
  },
  {
   "cell_type": "code",
   "execution_count": 66,
   "metadata": {},
   "outputs": [
    {
     "name": "stdout",
     "output_type": "stream",
     "text": [
      "657 3\n",
      "1 5 7\n"
     ]
    }
   ],
   "source": [
    "N, K = input().split()\n",
    "lst = input().split()"
   ]
  },
  {
   "cell_type": "code",
   "execution_count": 67,
   "metadata": {},
   "outputs": [
    {
     "name": "stdout",
     "output_type": "stream",
     "text": [
      "6 7\n",
      "6 5\n",
      "65 57\n",
      "657 577\n",
      "577\n"
     ]
    }
   ],
   "source": [
    "result = ''\n",
    "lst.sort(reverse = True)\n",
    "for _ in range(1,len(N)+1):\n",
    "    for i in range(len(lst)):\n",
    "        print(N[:_], result + lst[i])\n",
    "        if int(N[:_]) >= int(result + lst[i]):\n",
    "            result += lst[i]\n",
    "            break\n",
    "            \n",
    "print(result)"
   ]
  },
  {
   "cell_type": "code",
   "execution_count": 70,
   "metadata": {},
   "outputs": [
    {
     "name": "stdout",
     "output_type": "stream",
     "text": [
      "577\n"
     ]
    }
   ],
   "source": [
    "lst.sort(reverse = True)\n",
    "_set = set([''])\n",
    "for _ in range(1,len(N)+1):\n",
    "    \n",
    "    new_set = set([''])\n",
    "    for s in _set:\n",
    "        for i in lst:\n",
    "            if int(N[:_]) >= int(s + i):\n",
    "                new_set.add(s + i)\n",
    "    _set = new_set\n",
    "    \n",
    "print(max(map(int, list(_set)[1:])))"
   ]
  }
 ],
 "metadata": {
  "kernelspec": {
   "display_name": "Python 3",
   "language": "python",
   "name": "python3"
  },
  "language_info": {
   "codemirror_mode": {
    "name": "ipython",
    "version": 3
   },
   "file_extension": ".py",
   "mimetype": "text/x-python",
   "name": "python",
   "nbconvert_exporter": "python",
   "pygments_lexer": "ipython3",
   "version": "3.8.3"
  }
 },
 "nbformat": 4,
 "nbformat_minor": 4
}
