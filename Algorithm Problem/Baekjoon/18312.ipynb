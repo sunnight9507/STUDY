{
 "cells": [
  {
   "cell_type": "markdown",
   "metadata": {},
   "source": [
    "### [시각](https://www.acmicpc.net/problem/18312)"
   ]
  },
  {
   "cell_type": "code",
   "execution_count": 25,
   "metadata": {},
   "outputs": [
    {
     "name": "stdout",
     "output_type": "stream",
     "text": [
      "1 0\n"
     ]
    }
   ],
   "source": [
    "N, K = map(int, input().split())\n",
    "\n",
    "_dict = {_ : 0 for _ in range(10)}\n",
    "K = str(K)\n",
    "result = 0\n",
    "\n",
    "# 초 단위 계산\n",
    "for _ in range(60):\n",
    "    if _ < 10:\n",
    "        _ *= 10\n",
    "    for i in range(10):\n",
    "        if str(i) in str(_):\n",
    "            _dict[i] += 1\n",
    "            \n",
    "for time in range(N+1):\n",
    "    if time < 10:\n",
    "        time *= 10\n",
    "    if K in str(time):\n",
    "        result += 60*60\n",
    "    else:\n",
    "        for _ in range(60):\n",
    "            if _ < 10:\n",
    "                _ *= 10\n",
    "            if K in str(_):\n",
    "                result += 60\n",
    "            else:\n",
    "                result += _dict[int(K)]"
   ]
  },
  {
   "cell_type": "code",
   "execution_count": 26,
   "metadata": {},
   "outputs": [
    {
     "data": {
      "text/plain": [
       "7200"
      ]
     },
     "execution_count": 26,
     "metadata": {},
     "output_type": "execute_result"
    }
   ],
   "source": [
    "result"
   ]
  }
 ],
 "metadata": {
  "kernelspec": {
   "display_name": "Python 3",
   "language": "python",
   "name": "python3"
  },
  "language_info": {
   "codemirror_mode": {
    "name": "ipython",
    "version": 3
   },
   "file_extension": ".py",
   "mimetype": "text/x-python",
   "name": "python",
   "nbconvert_exporter": "python",
   "pygments_lexer": "ipython3",
   "version": "3.8.3"
  }
 },
 "nbformat": 4,
 "nbformat_minor": 4
}
