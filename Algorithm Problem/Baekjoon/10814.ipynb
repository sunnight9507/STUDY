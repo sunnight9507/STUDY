{
 "cells": [
  {
   "cell_type": "markdown",
   "metadata": {},
   "source": [
    "### [나이순 정렬](https://www.acmicpc.net/problem/10814)"
   ]
  },
  {
   "cell_type": "code",
   "execution_count": 8,
   "metadata": {},
   "outputs": [
    {
     "name": "stdout",
     "output_type": "stream",
     "text": [
      "3\n",
      "21 jj\n",
      "21 dd\n",
      "20 sun\n",
      "20 sun\n",
      "21 jj\n",
      "21 dd\n"
     ]
    }
   ],
   "source": [
    "N = int(input())\n",
    "\n",
    "_dict = {_ : [] for _ in range(1,201)}\n",
    "for _ in range(N):\n",
    "    a, b = input().split()\n",
    "    _dict[int(a)].append(b)\n",
    "\n",
    "for _ in _dict:\n",
    "    for v in _dict[_]:\n",
    "        print(_, v)"
   ]
  }
 ],
 "metadata": {
  "kernelspec": {
   "display_name": "Python 3",
   "language": "python",
   "name": "python3"
  },
  "language_info": {
   "codemirror_mode": {
    "name": "ipython",
    "version": 3
   },
   "file_extension": ".py",
   "mimetype": "text/x-python",
   "name": "python",
   "nbconvert_exporter": "python",
   "pygments_lexer": "ipython3",
   "version": "3.8.3"
  }
 },
 "nbformat": 4,
 "nbformat_minor": 4
}
