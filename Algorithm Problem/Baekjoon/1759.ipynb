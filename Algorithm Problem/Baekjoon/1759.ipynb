{
 "cells": [
  {
   "cell_type": "code",
   "execution_count": 18,
   "metadata": {},
   "outputs": [
    {
     "name": "stdout",
     "output_type": "stream",
     "text": [
      "4 6\n",
      "a s d f g h\n"
     ]
    }
   ],
   "source": [
    "L, C = map(int, input().split())\n",
    "lst = input().split()"
   ]
  },
  {
   "cell_type": "code",
   "execution_count": 19,
   "metadata": {},
   "outputs": [
    {
     "name": "stdout",
     "output_type": "stream",
     "text": [
      "adfg\n",
      "adfh\n",
      "adfs\n",
      "adgh\n",
      "adgs\n",
      "adhs\n",
      "afgh\n",
      "afgs\n",
      "afhs\n",
      "aghs\n"
     ]
    }
   ],
   "source": [
    "from collections import deque\n",
    "\n",
    "def check(_str):\n",
    "    cnt = 0\n",
    "    for _ in _str:\n",
    "        if _ in 'aeiou':\n",
    "            cnt += 1\n",
    "    \n",
    "    if cnt > 0 and L - cnt > 1:\n",
    "        return True\n",
    "    return False\n",
    "\n",
    "def func(_str):\n",
    "    q = deque([_str])\n",
    "    \n",
    "    while q:\n",
    "        tmp = q.popleft()\n",
    "        for _ in lst:\n",
    "            if _ > tmp[-1] and _ not in tmp:\n",
    "                _tmp = tmp + _\n",
    "                if len(_tmp) == L:\n",
    "                    if check(_tmp):\n",
    "                        result.append(_tmp)\n",
    "                else:\n",
    "                    q.append(_tmp)\n",
    "\n",
    "lst.sort()\n",
    "result = []\n",
    "for _ in range(C):\n",
    "    func(lst[_])\n",
    "    \n",
    "print(*result, sep = '\\n')"
   ]
  }
 ],
 "metadata": {
  "kernelspec": {
   "display_name": "Python 3",
   "language": "python",
   "name": "python3"
  },
  "language_info": {
   "codemirror_mode": {
    "name": "ipython",
    "version": 3
   },
   "file_extension": ".py",
   "mimetype": "text/x-python",
   "name": "python",
   "nbconvert_exporter": "python",
   "pygments_lexer": "ipython3",
   "version": "3.8.3"
  }
 },
 "nbformat": 4,
 "nbformat_minor": 4
}
