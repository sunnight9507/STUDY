{
 "cells": [
  {
   "cell_type": "code",
   "execution_count": 9,
   "metadata": {},
   "outputs": [
    {
     "name": "stdout",
     "output_type": "stream",
     "text": [
      "5\n",
      "3 1 4 3 2\n"
     ]
    },
    {
     "data": {
      "text/plain": [
       "32"
      ]
     },
     "execution_count": 9,
     "metadata": {},
     "output_type": "execute_result"
    }
   ],
   "source": [
    "def insert_operation(n,person):    \n",
    "        \n",
    "    person.sort()\n",
    "    \n",
    "    P = 0\n",
    "    cnt = 0\n",
    "\n",
    "    for i in person:\n",
    "        P += i*(len(person) - cnt)\n",
    "        cnt += 1\n",
    "        \n",
    "    print(P)\n",
    "    \n",
    "n = int(input())\n",
    "\n",
    "person = list(map(int, input().split()))\n",
    "\n",
    "insert_operation(n,person)"
   ]
  }
 ],
 "metadata": {
  "kernelspec": {
   "display_name": "Python 3",
   "language": "python",
   "name": "python3"
  },
  "language_info": {
   "codemirror_mode": {
    "name": "ipython",
    "version": 3
   },
   "file_extension": ".py",
   "mimetype": "text/x-python",
   "name": "python",
   "nbconvert_exporter": "python",
   "pygments_lexer": "ipython3",
   "version": "3.7.3"
  }
 },
 "nbformat": 4,
 "nbformat_minor": 2
}
